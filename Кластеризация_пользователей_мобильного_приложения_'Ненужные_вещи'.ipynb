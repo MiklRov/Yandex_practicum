{
  "cells": [
    {
      "cell_type": "markdown",
      "metadata": {
        "id": "view-in-github",
        "colab_type": "text"
      },
      "source": [
        "<a href=\"https://colab.research.google.com/github/MiklRov/Yandex_practicum/blob/main/%D0%9A%D0%BB%D0%B0%D1%81%D1%82%D0%B5%D1%80%D0%B8%D0%B7%D0%B0%D1%86%D0%B8%D1%8F_%D0%BF%D0%BE%D0%BB%D1%8C%D0%B7%D0%BE%D0%B2%D0%B0%D1%82%D0%B5%D0%BB%D0%B5%D0%B9_%D0%BC%D0%BE%D0%B1%D0%B8%D0%BB%D1%8C%D0%BD%D0%BE%D0%B3%D0%BE_%D0%BF%D1%80%D0%B8%D0%BB%D0%BE%D0%B6%D0%B5%D0%BD%D0%B8%D1%8F_'%D0%9D%D0%B5%D0%BD%D1%83%D0%B6%D0%BD%D1%8B%D0%B5_%D0%B2%D0%B5%D1%89%D0%B8'.ipynb\" target=\"_parent\"><img src=\"https://colab.research.google.com/assets/colab-badge.svg\" alt=\"Open In Colab\"/></a>"
      ]
    },
    {
      "cell_type": "markdown",
      "metadata": {
        "pycharm": {
          "name": "#%% md\n"
        },
        "id": "DB4kM2mEucqA"
      },
      "source": [
        "## Выпускной проект. Кластеризация пользователей мобильного приложения \"Ненужные вещи\""
      ]
    },
    {
      "cell_type": "markdown",
      "metadata": {
        "pycharm": {
          "name": "#%% md\n"
        },
        "id": "LUOn3SJ_ucqI"
      },
      "source": [
        "### Описание проекта\n",
        "Дерзкая и амбициозная команда сервиса «Ненужные вещи» жаждет увидеть в своём составе крутого аналитика, который возьмёт огромное количество наших данных и сотворит из них чудо. Конкретнее про чудо: наши пользователи совершают много действий в приложении, и мы уверены, что в этих данных есть инсайты, которые позволят нам стать лучшим приложением для продажи ненужных вещей. В рамках работы необходимо проанализировать поведение пользователей в мобильном приложениии \"Ненужные вещи\" и сегментировать их на разные группы для того, чтобы наладить более точный механизм взаимодействия с пользователями и повысить вовлеченность групп пользователей с низкими показателями."
      ]
    },
    {
      "cell_type": "markdown",
      "metadata": {
        "pycharm": {
          "name": "#%% md\n"
        },
        "id": "bNcCnchMucqJ"
      },
      "source": [
        "### Материалы\n",
        "- Дашборд - https://public.tableau.com/profile/sokolymba#!/vizhome/YandexPraktikum/sheet2?publish=yes"
      ]
    },
    {
      "cell_type": "markdown",
      "metadata": {
        "pycharm": {
          "name": "#%% md\n"
        },
        "id": "yVV_mFr7ucqK"
      },
      "source": [
        "---\n",
        "\n",
        "### <a id=\"stepend\"> Оглавление</a>\n",
        "\n",
        "- [Импорт библиотек, данных и получение первичной информации](#step1)\n",
        "- [Предобработка данных](#step2)\n",
        "- [Исследовательский анализ данных](#step3)\n",
        "- [Кластеризация пользователей](#step4)\n",
        "- [Проверка статистических гипотез](#step5)\n",
        "- [Общий вывод и рекомендации](#step6)\n",
        "\n",
        "---"
      ]
    },
    {
      "cell_type": "markdown",
      "metadata": {
        "pycharm": {
          "name": "#%% md\n"
        },
        "id": "56ArhqNfucqL"
      },
      "source": [
        "### План исследования\n",
        "- Загрузить данные и получить первичное представление о структуре и наполнении.\n",
        "\n",
        "---\n",
        "\n",
        "- Исследовать и обработать дубликаты;\n",
        "- Исследовать и заменить пропущенные значения;\n",
        "- В тех случаях, где необходимо, привести данные к соответствующим типам;\n",
        "- Если необходимо, то изменить и привести названия столбцов к нижнему регистру;\n",
        "- Объединить события show_contacts и contacts_show;\n",
        "- Объединить события search_1 - search_7;\n",
        "- Выделить из столбца с датой необходимые временные промежутки.\n",
        "\n",
        "---\n",
        "\n",
        "- Определить, сколько всего пользователей воспользовались приложением;\n",
        "- Определить, сколько пользователей приносят нам наши источники;\n",
        "- Построить график распределения событий по дням за исследуемый период;\n",
        "- Построить график распредления событий по дням с разбивкой по источникам;\n",
        "- Посчитать конверсию пользователей в целевое событие - просмотр контактов;\n",
        "- Определить время начала и конца события для каждого пользователя в приложении;\n",
        "- Сформировать таблицу с признаками, необходимыми для кластеризации;\n",
        "- Произвести рассчет показателей: продолжительность каждого сеанса пользователя, количество совершения пользователем целевого действия, определить количество просмотров рекомендованных объявлений и добавлений объявления в избранное, посчитать общее время использования приложения для каждого пользователя;\n",
        "- Построить графики распределения признаков и написать вывод;\n",
        "- Построить матрицу корреляции признаков и написать вывод;\n",
        "- На основании получившихся признаков разобить пользователей на группы при помощи ML;\n",
        "- Построить графики распределения признаков для кластеров и описать получившиеся кластеры.\n",
        "\n",
        "---\n",
        "\n",
        "- Проверить гипотезу: Конверсия в просмотр контактов между пользователями, установившими приложение по ссылке из yandex и пользователями, установившими приложение по ссылке из google, различается;\n",
        "- Проверить гипотезу: Конверсия в добавление объявления в избранное между пользователями, установшими приложение по ссылке из yandex, отличается от конверсии пользователей, установивших приложение по ссылке из google.\n",
        "\n",
        "---\n",
        "\n",
        "- Написать общий вывод и подготовить рекомендации для маркетологов по увеличению показателя вовлеченности пользователей в приложение;\n",
        "- Подготовить презентацию с результатами исследования;\n",
        "- Подготовить дашборд в Tableau."
      ]
    },
    {
      "cell_type": "markdown",
      "metadata": {
        "pycharm": {
          "name": "#%% md\n"
        },
        "id": "NkzNG6NGucqM"
      },
      "source": [
        "### <a id='step1'>Импорт библиотек, данных и получение первичной информации</a>"
      ]
    },
    {
      "cell_type": "code",
      "execution_count": null,
      "metadata": {
        "pycharm": {
          "name": "#%%\n"
        },
        "id": "gcQ84VH6ucqN"
      },
      "outputs": [],
      "source": [
        "# импортируем библиотеки\n",
        "import pandas as pd\n",
        "import datetime as dt\n",
        "import numpy as np\n",
        "import math as mth\n",
        "import scipy.stats as stats\n",
        "import seaborn as sns\n",
        "import matplotlib.pyplot as plt\n",
        "import warnings\n",
        "from matplotlib import rcParams\n",
        "from sklearn.model_selection import train_test_split\n",
        "from sklearn.linear_model import LogisticRegression\n",
        "from sklearn.ensemble import RandomForestClassifier\n",
        "from sklearn.metrics import confusion_matrix\n",
        "from sklearn.metrics import accuracy_score, precision_score, recall_score, f1_score\n",
        "from sklearn.preprocessing import StandardScaler\n",
        "from scipy.cluster.hierarchy import dendrogram, linkage\n",
        "from sklearn.cluster import KMeans"
      ]
    },
    {
      "cell_type": "code",
      "execution_count": null,
      "metadata": {
        "pycharm": {
          "name": "#%%\n"
        },
        "id": "nCbA85-_ucqQ"
      },
      "outputs": [],
      "source": [
        "# отключим предупреждения об ошибках\n",
        "warnings.filterwarnings('ignore')"
      ]
    },
    {
      "cell_type": "code",
      "execution_count": null,
      "metadata": {
        "pycharm": {
          "name": "#%%\n"
        },
        "id": "Di_B6ChuucqR"
      },
      "outputs": [],
      "source": [
        "# seabron-style\n",
        "sns.set_style('whitegrid')"
      ]
    },
    {
      "cell_type": "code",
      "execution_count": null,
      "metadata": {
        "pycharm": {
          "name": "#%%\n"
        },
        "id": "AVcKXqqPucqS"
      },
      "outputs": [],
      "source": [
        "# импортируем датасет data\n",
        "data = pd.read_csv('https://code.s3.yandex.net/datasets/mobile_soures.csv', sep = ',')"
      ]
    },
    {
      "cell_type": "code",
      "execution_count": null,
      "metadata": {
        "pycharm": {
          "name": "#%%\n"
        },
        "id": "L0vPfo7xucqV"
      },
      "outputs": [],
      "source": [
        "# импортируем датасет sources\n",
        "sources = pd.read_csv('https://code.s3.yandex.net/datasets/mobile_dataset.csv', sep = ',')"
      ]
    },
    {
      "cell_type": "code",
      "execution_count": null,
      "metadata": {
        "pycharm": {
          "name": "#%%\n"
        },
        "id": "JH2weaRTucqW",
        "outputId": "2ff18cc9-8fcd-4184-9c3c-ab06a63a0130"
      },
      "outputs": [
        {
          "name": "stdout",
          "output_type": "stream",
          "text": [
            "<class 'pandas.core.frame.DataFrame'>\n",
            "RangeIndex: 4293 entries, 0 to 4292\n",
            "Data columns (total 2 columns):\n",
            " #   Column  Non-Null Count  Dtype \n",
            "---  ------  --------------  ----- \n",
            " 0   userId  4293 non-null   object\n",
            " 1   source  4293 non-null   object\n",
            "dtypes: object(2)\n",
            "memory usage: 67.2+ KB\n",
            "None\n",
            "<class 'pandas.core.frame.DataFrame'>\n",
            "RangeIndex: 74197 entries, 0 to 74196\n",
            "Data columns (total 3 columns):\n",
            " #   Column      Non-Null Count  Dtype \n",
            "---  ------      --------------  ----- \n",
            " 0   event.time  74197 non-null  object\n",
            " 1   event.name  74197 non-null  object\n",
            " 2   user.id     74197 non-null  object\n",
            "dtypes: object(3)\n",
            "memory usage: 1.7+ MB\n",
            "None\n"
          ]
        }
      ],
      "source": [
        "# первичное представление о данных \n",
        "for df in [data, sources]:\n",
        "    print(df.info())"
      ]
    },
    {
      "cell_type": "code",
      "execution_count": null,
      "metadata": {
        "pycharm": {
          "name": "#%%\n"
        },
        "id": "zIaMcCh7ucqY",
        "outputId": "4bb7f571-604a-412f-ed35-994105ff2836"
      },
      "outputs": [
        {
          "name": "stdout",
          "output_type": "stream",
          "text": [
            "userId    0\n",
            "source    0\n",
            "dtype: int64\n",
            "event.time    0\n",
            "event.name    0\n",
            "user.id       0\n",
            "dtype: int64\n"
          ]
        }
      ],
      "source": [
        "# проверим на пропуски\n",
        "for df in [data, sources]:\n",
        "    print(df.isna().sum())"
      ]
    },
    {
      "cell_type": "code",
      "execution_count": null,
      "metadata": {
        "pycharm": {
          "name": "#%%\n"
        },
        "id": "DuPeYJdIucqY",
        "outputId": "f2f036d0-c60f-4b03-8326-cc3a429aef9b"
      },
      "outputs": [
        {
          "name": "stdout",
          "output_type": "stream",
          "text": [
            "0\n",
            "0\n"
          ]
        }
      ],
      "source": [
        "# проверим на дубликаты\n",
        "for df in [data, sources]:\n",
        "    print(df.duplicated().sum())"
      ]
    },
    {
      "cell_type": "code",
      "execution_count": null,
      "metadata": {
        "pycharm": {
          "name": "#%%\n"
        },
        "id": "X4s1QPWsucqZ",
        "outputId": "4e683582-dec6-4e23-9bff-004dd0539a3c"
      },
      "outputs": [
        {
          "data": {
            "text/plain": "                                 userId  source\n0  020292ab-89bc-4156-9acf-68bc2783f894   other\n1  cf7eda61-9349-469f-ac27-e5b6f5ec475c  yandex\n2  8c356c42-3ba9-4cb6-80b8-3f868d0192c3  yandex\n3  d9b06b47-0f36-419b-bbb0-3533e582a6cb   other\n4  f32e1e2a-3027-4693-b793-b7b3ff274439  google",
            "text/html": "<div>\n<style scoped>\n    .dataframe tbody tr th:only-of-type {\n        vertical-align: middle;\n    }\n\n    .dataframe tbody tr th {\n        vertical-align: top;\n    }\n\n    .dataframe thead th {\n        text-align: right;\n    }\n</style>\n<table border=\"1\" class=\"dataframe\">\n  <thead>\n    <tr style=\"text-align: right;\">\n      <th></th>\n      <th>userId</th>\n      <th>source</th>\n    </tr>\n  </thead>\n  <tbody>\n    <tr>\n      <th>0</th>\n      <td>020292ab-89bc-4156-9acf-68bc2783f894</td>\n      <td>other</td>\n    </tr>\n    <tr>\n      <th>1</th>\n      <td>cf7eda61-9349-469f-ac27-e5b6f5ec475c</td>\n      <td>yandex</td>\n    </tr>\n    <tr>\n      <th>2</th>\n      <td>8c356c42-3ba9-4cb6-80b8-3f868d0192c3</td>\n      <td>yandex</td>\n    </tr>\n    <tr>\n      <th>3</th>\n      <td>d9b06b47-0f36-419b-bbb0-3533e582a6cb</td>\n      <td>other</td>\n    </tr>\n    <tr>\n      <th>4</th>\n      <td>f32e1e2a-3027-4693-b793-b7b3ff274439</td>\n      <td>google</td>\n    </tr>\n  </tbody>\n</table>\n</div>"
          },
          "metadata": {},
          "output_type": "display_data"
        },
        {
          "data": {
            "text/plain": "                   event.time   event.name  \\\n0  2019-10-07 00:00:00.431357  advert_open   \n1  2019-10-07 00:00:01.236320    tips_show   \n2  2019-10-07 00:00:02.245341    tips_show   \n3  2019-10-07 00:00:07.039334    tips_show   \n4  2019-10-07 00:00:56.319813  advert_open   \n\n                                user.id  \n0  020292ab-89bc-4156-9acf-68bc2783f894  \n1  020292ab-89bc-4156-9acf-68bc2783f894  \n2  cf7eda61-9349-469f-ac27-e5b6f5ec475c  \n3  020292ab-89bc-4156-9acf-68bc2783f894  \n4  cf7eda61-9349-469f-ac27-e5b6f5ec475c  ",
            "text/html": "<div>\n<style scoped>\n    .dataframe tbody tr th:only-of-type {\n        vertical-align: middle;\n    }\n\n    .dataframe tbody tr th {\n        vertical-align: top;\n    }\n\n    .dataframe thead th {\n        text-align: right;\n    }\n</style>\n<table border=\"1\" class=\"dataframe\">\n  <thead>\n    <tr style=\"text-align: right;\">\n      <th></th>\n      <th>event.time</th>\n      <th>event.name</th>\n      <th>user.id</th>\n    </tr>\n  </thead>\n  <tbody>\n    <tr>\n      <th>0</th>\n      <td>2019-10-07 00:00:00.431357</td>\n      <td>advert_open</td>\n      <td>020292ab-89bc-4156-9acf-68bc2783f894</td>\n    </tr>\n    <tr>\n      <th>1</th>\n      <td>2019-10-07 00:00:01.236320</td>\n      <td>tips_show</td>\n      <td>020292ab-89bc-4156-9acf-68bc2783f894</td>\n    </tr>\n    <tr>\n      <th>2</th>\n      <td>2019-10-07 00:00:02.245341</td>\n      <td>tips_show</td>\n      <td>cf7eda61-9349-469f-ac27-e5b6f5ec475c</td>\n    </tr>\n    <tr>\n      <th>3</th>\n      <td>2019-10-07 00:00:07.039334</td>\n      <td>tips_show</td>\n      <td>020292ab-89bc-4156-9acf-68bc2783f894</td>\n    </tr>\n    <tr>\n      <th>4</th>\n      <td>2019-10-07 00:00:56.319813</td>\n      <td>advert_open</td>\n      <td>cf7eda61-9349-469f-ac27-e5b6f5ec475c</td>\n    </tr>\n  </tbody>\n</table>\n</div>"
          },
          "metadata": {},
          "output_type": "display_data"
        }
      ],
      "source": [
        "# первые 5 строк\n",
        "for df in [data, sources]:\n",
        "    display(df.head())"
      ]
    },
    {
      "cell_type": "markdown",
      "metadata": {
        "pycharm": {
          "name": "#%% md\n"
        },
        "id": "8pxq8yyZucqZ"
      },
      "source": [
        "### <a id='step2'>Предобработка данных</a>"
      ]
    },
    {
      "cell_type": "code",
      "execution_count": null,
      "metadata": {
        "pycharm": {
          "name": "#%%\n"
        },
        "id": "hEVs9xTbucqa"
      },
      "outputs": [],
      "source": [
        "# изменим названия столбцов data\n",
        "data.columns = ['user_id', 'source']"
      ]
    },
    {
      "cell_type": "code",
      "execution_count": null,
      "metadata": {
        "pycharm": {
          "name": "#%%\n"
        },
        "id": "v4peO4uzucqa",
        "outputId": "8ce91ea2-eff5-454a-fa62-6839dcc6aaf3"
      },
      "outputs": [
        {
          "data": {
            "text/plain": "                                user_id  source\n0  020292ab-89bc-4156-9acf-68bc2783f894   other\n1  cf7eda61-9349-469f-ac27-e5b6f5ec475c  yandex\n2  8c356c42-3ba9-4cb6-80b8-3f868d0192c3  yandex\n3  d9b06b47-0f36-419b-bbb0-3533e582a6cb   other\n4  f32e1e2a-3027-4693-b793-b7b3ff274439  google",
            "text/html": "<div>\n<style scoped>\n    .dataframe tbody tr th:only-of-type {\n        vertical-align: middle;\n    }\n\n    .dataframe tbody tr th {\n        vertical-align: top;\n    }\n\n    .dataframe thead th {\n        text-align: right;\n    }\n</style>\n<table border=\"1\" class=\"dataframe\">\n  <thead>\n    <tr style=\"text-align: right;\">\n      <th></th>\n      <th>user_id</th>\n      <th>source</th>\n    </tr>\n  </thead>\n  <tbody>\n    <tr>\n      <th>0</th>\n      <td>020292ab-89bc-4156-9acf-68bc2783f894</td>\n      <td>other</td>\n    </tr>\n    <tr>\n      <th>1</th>\n      <td>cf7eda61-9349-469f-ac27-e5b6f5ec475c</td>\n      <td>yandex</td>\n    </tr>\n    <tr>\n      <th>2</th>\n      <td>8c356c42-3ba9-4cb6-80b8-3f868d0192c3</td>\n      <td>yandex</td>\n    </tr>\n    <tr>\n      <th>3</th>\n      <td>d9b06b47-0f36-419b-bbb0-3533e582a6cb</td>\n      <td>other</td>\n    </tr>\n    <tr>\n      <th>4</th>\n      <td>f32e1e2a-3027-4693-b793-b7b3ff274439</td>\n      <td>google</td>\n    </tr>\n  </tbody>\n</table>\n</div>"
          },
          "execution_count": 38,
          "metadata": {},
          "output_type": "execute_result"
        }
      ],
      "source": [
        "data.head()"
      ]
    },
    {
      "cell_type": "code",
      "execution_count": null,
      "metadata": {
        "pycharm": {
          "name": "#%%\n"
        },
        "id": "DDKueR6Gucqb"
      },
      "outputs": [],
      "source": [
        "# изменим названия столбцов sources\n",
        "sources.columns = ['event_time', 'event_name', 'user_id']"
      ]
    },
    {
      "cell_type": "code",
      "execution_count": null,
      "metadata": {
        "pycharm": {
          "name": "#%%\n"
        },
        "id": "T461iTTLucqb",
        "outputId": "413245ba-37e3-42de-ba2d-9ba021bc6920"
      },
      "outputs": [
        {
          "data": {
            "text/plain": "                   event_time   event_name  \\\n0  2019-10-07 00:00:00.431357  advert_open   \n1  2019-10-07 00:00:01.236320    tips_show   \n2  2019-10-07 00:00:02.245341    tips_show   \n3  2019-10-07 00:00:07.039334    tips_show   \n4  2019-10-07 00:00:56.319813  advert_open   \n\n                                user_id  \n0  020292ab-89bc-4156-9acf-68bc2783f894  \n1  020292ab-89bc-4156-9acf-68bc2783f894  \n2  cf7eda61-9349-469f-ac27-e5b6f5ec475c  \n3  020292ab-89bc-4156-9acf-68bc2783f894  \n4  cf7eda61-9349-469f-ac27-e5b6f5ec475c  ",
            "text/html": "<div>\n<style scoped>\n    .dataframe tbody tr th:only-of-type {\n        vertical-align: middle;\n    }\n\n    .dataframe tbody tr th {\n        vertical-align: top;\n    }\n\n    .dataframe thead th {\n        text-align: right;\n    }\n</style>\n<table border=\"1\" class=\"dataframe\">\n  <thead>\n    <tr style=\"text-align: right;\">\n      <th></th>\n      <th>event_time</th>\n      <th>event_name</th>\n      <th>user_id</th>\n    </tr>\n  </thead>\n  <tbody>\n    <tr>\n      <th>0</th>\n      <td>2019-10-07 00:00:00.431357</td>\n      <td>advert_open</td>\n      <td>020292ab-89bc-4156-9acf-68bc2783f894</td>\n    </tr>\n    <tr>\n      <th>1</th>\n      <td>2019-10-07 00:00:01.236320</td>\n      <td>tips_show</td>\n      <td>020292ab-89bc-4156-9acf-68bc2783f894</td>\n    </tr>\n    <tr>\n      <th>2</th>\n      <td>2019-10-07 00:00:02.245341</td>\n      <td>tips_show</td>\n      <td>cf7eda61-9349-469f-ac27-e5b6f5ec475c</td>\n    </tr>\n    <tr>\n      <th>3</th>\n      <td>2019-10-07 00:00:07.039334</td>\n      <td>tips_show</td>\n      <td>020292ab-89bc-4156-9acf-68bc2783f894</td>\n    </tr>\n    <tr>\n      <th>4</th>\n      <td>2019-10-07 00:00:56.319813</td>\n      <td>advert_open</td>\n      <td>cf7eda61-9349-469f-ac27-e5b6f5ec475c</td>\n    </tr>\n  </tbody>\n</table>\n</div>"
          },
          "execution_count": 40,
          "metadata": {},
          "output_type": "execute_result"
        }
      ],
      "source": [
        "sources.head()"
      ]
    },
    {
      "cell_type": "code",
      "execution_count": null,
      "metadata": {
        "pycharm": {
          "name": "#%%\n"
        },
        "id": "F3uijPdYucqb"
      },
      "outputs": [],
      "source": [
        "# приведем столбец event_time датасета data к формату даты и округлим данные до 1 секунды\n",
        "sources['event_time'] = pd.to_datetime(sources['event_time'], format='%Y.%m.%d %H:%M:%S').dt.round('1S')"
      ]
    },
    {
      "cell_type": "code",
      "execution_count": null,
      "metadata": {
        "pycharm": {
          "name": "#%%\n"
        },
        "id": "ARkuL_6Uucqc",
        "outputId": "fcf23e40-ce91-4c83-999a-1dfd5696d0c4"
      },
      "outputs": [
        {
          "data": {
            "text/plain": "           event_time   event_name                               user_id\n0 2019-10-07 00:00:00  advert_open  020292ab-89bc-4156-9acf-68bc2783f894\n1 2019-10-07 00:00:01    tips_show  020292ab-89bc-4156-9acf-68bc2783f894\n2 2019-10-07 00:00:02    tips_show  cf7eda61-9349-469f-ac27-e5b6f5ec475c\n3 2019-10-07 00:00:07    tips_show  020292ab-89bc-4156-9acf-68bc2783f894\n4 2019-10-07 00:00:56  advert_open  cf7eda61-9349-469f-ac27-e5b6f5ec475c",
            "text/html": "<div>\n<style scoped>\n    .dataframe tbody tr th:only-of-type {\n        vertical-align: middle;\n    }\n\n    .dataframe tbody tr th {\n        vertical-align: top;\n    }\n\n    .dataframe thead th {\n        text-align: right;\n    }\n</style>\n<table border=\"1\" class=\"dataframe\">\n  <thead>\n    <tr style=\"text-align: right;\">\n      <th></th>\n      <th>event_time</th>\n      <th>event_name</th>\n      <th>user_id</th>\n    </tr>\n  </thead>\n  <tbody>\n    <tr>\n      <th>0</th>\n      <td>2019-10-07 00:00:00</td>\n      <td>advert_open</td>\n      <td>020292ab-89bc-4156-9acf-68bc2783f894</td>\n    </tr>\n    <tr>\n      <th>1</th>\n      <td>2019-10-07 00:00:01</td>\n      <td>tips_show</td>\n      <td>020292ab-89bc-4156-9acf-68bc2783f894</td>\n    </tr>\n    <tr>\n      <th>2</th>\n      <td>2019-10-07 00:00:02</td>\n      <td>tips_show</td>\n      <td>cf7eda61-9349-469f-ac27-e5b6f5ec475c</td>\n    </tr>\n    <tr>\n      <th>3</th>\n      <td>2019-10-07 00:00:07</td>\n      <td>tips_show</td>\n      <td>020292ab-89bc-4156-9acf-68bc2783f894</td>\n    </tr>\n    <tr>\n      <th>4</th>\n      <td>2019-10-07 00:00:56</td>\n      <td>advert_open</td>\n      <td>cf7eda61-9349-469f-ac27-e5b6f5ec475c</td>\n    </tr>\n  </tbody>\n</table>\n</div>"
          },
          "execution_count": 42,
          "metadata": {},
          "output_type": "execute_result"
        }
      ],
      "source": [
        "sources.head()"
      ]
    },
    {
      "cell_type": "code",
      "execution_count": null,
      "metadata": {
        "pycharm": {
          "name": "#%%\n"
        },
        "id": "6F1z_DrGucqc",
        "outputId": "51654784-df45-40e3-f6ae-ef200db9d00b"
      },
      "outputs": [
        {
          "data": {
            "text/plain": "4293"
          },
          "execution_count": 43,
          "metadata": {},
          "output_type": "execute_result"
        }
      ],
      "source": [
        "# проверим количество пользователей в data\n",
        "len(data['user_id'].unique())"
      ]
    },
    {
      "cell_type": "code",
      "execution_count": null,
      "metadata": {
        "pycharm": {
          "name": "#%%\n"
        },
        "id": "1Jo3l9uducqd",
        "outputId": "de431798-6fa2-4152-e2c3-2f233ffe937a"
      },
      "outputs": [
        {
          "data": {
            "text/plain": "4293"
          },
          "execution_count": 44,
          "metadata": {},
          "output_type": "execute_result"
        }
      ],
      "source": [
        "# проверим количество пользователей в sources\n",
        "len(sources['user_id'].unique())"
      ]
    },
    {
      "cell_type": "markdown",
      "metadata": {
        "pycharm": {
          "name": "#%% md\n"
        },
        "id": "Qmzu_EzGucqd"
      },
      "source": [
        "#### Количество пользователей в обоих датасетах совпадает, можно склеить их в один."
      ]
    },
    {
      "cell_type": "code",
      "execution_count": null,
      "metadata": {
        "pycharm": {
          "name": "#%%\n"
        },
        "id": "QG5kwpGtucqe"
      },
      "outputs": [],
      "source": [
        "# объединим data и sources\n",
        "df = data.merge(sources, on='user_id', how = 'right')"
      ]
    },
    {
      "cell_type": "code",
      "execution_count": null,
      "metadata": {
        "pycharm": {
          "name": "#%%\n"
        },
        "id": "bHv7w88Yucqe",
        "outputId": "c8021805-2640-4245-9e39-d2fa7abe0231"
      },
      "outputs": [
        {
          "data": {
            "text/plain": "                                user_id  source          event_time  \\\n0  020292ab-89bc-4156-9acf-68bc2783f894   other 2019-10-07 00:00:00   \n1  020292ab-89bc-4156-9acf-68bc2783f894   other 2019-10-07 00:00:01   \n2  cf7eda61-9349-469f-ac27-e5b6f5ec475c  yandex 2019-10-07 00:00:02   \n3  020292ab-89bc-4156-9acf-68bc2783f894   other 2019-10-07 00:00:07   \n4  cf7eda61-9349-469f-ac27-e5b6f5ec475c  yandex 2019-10-07 00:00:56   \n\n    event_name  \n0  advert_open  \n1    tips_show  \n2    tips_show  \n3    tips_show  \n4  advert_open  ",
            "text/html": "<div>\n<style scoped>\n    .dataframe tbody tr th:only-of-type {\n        vertical-align: middle;\n    }\n\n    .dataframe tbody tr th {\n        vertical-align: top;\n    }\n\n    .dataframe thead th {\n        text-align: right;\n    }\n</style>\n<table border=\"1\" class=\"dataframe\">\n  <thead>\n    <tr style=\"text-align: right;\">\n      <th></th>\n      <th>user_id</th>\n      <th>source</th>\n      <th>event_time</th>\n      <th>event_name</th>\n    </tr>\n  </thead>\n  <tbody>\n    <tr>\n      <th>0</th>\n      <td>020292ab-89bc-4156-9acf-68bc2783f894</td>\n      <td>other</td>\n      <td>2019-10-07 00:00:00</td>\n      <td>advert_open</td>\n    </tr>\n    <tr>\n      <th>1</th>\n      <td>020292ab-89bc-4156-9acf-68bc2783f894</td>\n      <td>other</td>\n      <td>2019-10-07 00:00:01</td>\n      <td>tips_show</td>\n    </tr>\n    <tr>\n      <th>2</th>\n      <td>cf7eda61-9349-469f-ac27-e5b6f5ec475c</td>\n      <td>yandex</td>\n      <td>2019-10-07 00:00:02</td>\n      <td>tips_show</td>\n    </tr>\n    <tr>\n      <th>3</th>\n      <td>020292ab-89bc-4156-9acf-68bc2783f894</td>\n      <td>other</td>\n      <td>2019-10-07 00:00:07</td>\n      <td>tips_show</td>\n    </tr>\n    <tr>\n      <th>4</th>\n      <td>cf7eda61-9349-469f-ac27-e5b6f5ec475c</td>\n      <td>yandex</td>\n      <td>2019-10-07 00:00:56</td>\n      <td>advert_open</td>\n    </tr>\n  </tbody>\n</table>\n</div>"
          },
          "execution_count": 46,
          "metadata": {},
          "output_type": "execute_result"
        }
      ],
      "source": [
        "df.head()"
      ]
    },
    {
      "cell_type": "code",
      "execution_count": null,
      "metadata": {
        "pycharm": {
          "name": "#%%\n"
        },
        "id": "zvRik6gFucqe"
      },
      "outputs": [],
      "source": [
        "# выделим из столбцов с датоами час, неделю, месяц, год и полную дату в отдельные столбцы\n",
        "\n",
        "# час\n",
        "df['event_hour'] = df['event_time'].dt.hour\n",
        "\n",
        "# неделя\n",
        "df['event_week'] = df['event_time'].astype('datetime64[W]')\n",
        "\n",
        "# месяц\n",
        "df['event_month'] = df['event_time'].astype('datetime64[M]')\n",
        "\n",
        "# год\n",
        "df['event_year'] = df['event_time'].astype('datetime64[Y]')\n",
        "\n",
        "# полная дата\n",
        "df['event_date'] = df['event_time'].astype('datetime64[D]')"
      ]
    },
    {
      "cell_type": "code",
      "execution_count": null,
      "metadata": {
        "pycharm": {
          "name": "#%%\n"
        },
        "id": "JxOLMdVvucqf",
        "outputId": "a82d7198-063f-43ca-efbf-c7dd87a8d533"
      },
      "outputs": [
        {
          "data": {
            "text/plain": "                                user_id  source          event_time  \\\n0  020292ab-89bc-4156-9acf-68bc2783f894   other 2019-10-07 00:00:00   \n1  020292ab-89bc-4156-9acf-68bc2783f894   other 2019-10-07 00:00:01   \n2  cf7eda61-9349-469f-ac27-e5b6f5ec475c  yandex 2019-10-07 00:00:02   \n3  020292ab-89bc-4156-9acf-68bc2783f894   other 2019-10-07 00:00:07   \n4  cf7eda61-9349-469f-ac27-e5b6f5ec475c  yandex 2019-10-07 00:00:56   \n\n    event_name  event_hour event_week event_month event_year event_date  \n0  advert_open           0 2019-10-03  2019-10-01 2019-01-01 2019-10-07  \n1    tips_show           0 2019-10-03  2019-10-01 2019-01-01 2019-10-07  \n2    tips_show           0 2019-10-03  2019-10-01 2019-01-01 2019-10-07  \n3    tips_show           0 2019-10-03  2019-10-01 2019-01-01 2019-10-07  \n4  advert_open           0 2019-10-03  2019-10-01 2019-01-01 2019-10-07  ",
            "text/html": "<div>\n<style scoped>\n    .dataframe tbody tr th:only-of-type {\n        vertical-align: middle;\n    }\n\n    .dataframe tbody tr th {\n        vertical-align: top;\n    }\n\n    .dataframe thead th {\n        text-align: right;\n    }\n</style>\n<table border=\"1\" class=\"dataframe\">\n  <thead>\n    <tr style=\"text-align: right;\">\n      <th></th>\n      <th>user_id</th>\n      <th>source</th>\n      <th>event_time</th>\n      <th>event_name</th>\n      <th>event_hour</th>\n      <th>event_week</th>\n      <th>event_month</th>\n      <th>event_year</th>\n      <th>event_date</th>\n    </tr>\n  </thead>\n  <tbody>\n    <tr>\n      <th>0</th>\n      <td>020292ab-89bc-4156-9acf-68bc2783f894</td>\n      <td>other</td>\n      <td>2019-10-07 00:00:00</td>\n      <td>advert_open</td>\n      <td>0</td>\n      <td>2019-10-03</td>\n      <td>2019-10-01</td>\n      <td>2019-01-01</td>\n      <td>2019-10-07</td>\n    </tr>\n    <tr>\n      <th>1</th>\n      <td>020292ab-89bc-4156-9acf-68bc2783f894</td>\n      <td>other</td>\n      <td>2019-10-07 00:00:01</td>\n      <td>tips_show</td>\n      <td>0</td>\n      <td>2019-10-03</td>\n      <td>2019-10-01</td>\n      <td>2019-01-01</td>\n      <td>2019-10-07</td>\n    </tr>\n    <tr>\n      <th>2</th>\n      <td>cf7eda61-9349-469f-ac27-e5b6f5ec475c</td>\n      <td>yandex</td>\n      <td>2019-10-07 00:00:02</td>\n      <td>tips_show</td>\n      <td>0</td>\n      <td>2019-10-03</td>\n      <td>2019-10-01</td>\n      <td>2019-01-01</td>\n      <td>2019-10-07</td>\n    </tr>\n    <tr>\n      <th>3</th>\n      <td>020292ab-89bc-4156-9acf-68bc2783f894</td>\n      <td>other</td>\n      <td>2019-10-07 00:00:07</td>\n      <td>tips_show</td>\n      <td>0</td>\n      <td>2019-10-03</td>\n      <td>2019-10-01</td>\n      <td>2019-01-01</td>\n      <td>2019-10-07</td>\n    </tr>\n    <tr>\n      <th>4</th>\n      <td>cf7eda61-9349-469f-ac27-e5b6f5ec475c</td>\n      <td>yandex</td>\n      <td>2019-10-07 00:00:56</td>\n      <td>advert_open</td>\n      <td>0</td>\n      <td>2019-10-03</td>\n      <td>2019-10-01</td>\n      <td>2019-01-01</td>\n      <td>2019-10-07</td>\n    </tr>\n  </tbody>\n</table>\n</div>"
          },
          "execution_count": 48,
          "metadata": {},
          "output_type": "execute_result"
        }
      ],
      "source": [
        "# первые 5 строк\n",
        "df.head()"
      ]
    },
    {
      "cell_type": "markdown",
      "metadata": {
        "pycharm": {
          "name": "#%% md\n"
        },
        "id": "KF3ppbmQucqf"
      },
      "source": [
        "#### Так как события contacts_show и show_contacts обозначают одно и то же событие - пользователь нажал на кнопку \"Показать номер телефона\", то можно склеить их в одно. Аналогично можно поступить с событиями search_n, т.к в нашем исследовании неважно, что именно ищут пользователи."
      ]
    },
    {
      "cell_type": "code",
      "execution_count": null,
      "metadata": {
        "pycharm": {
          "name": "#%%\n"
        },
        "id": "p1RlwHTqucqf"
      },
      "outputs": [],
      "source": [
        "# объединим события contacts_show и show_contacts, а также seacrh_n\n",
        "\n",
        "# функция для замены\n",
        "def events_type(i):\n",
        "    if i == 'show_contacts':\n",
        "        new_name = 'contacts_show'\n",
        "        return new_name\n",
        "    elif 'search' in i:\n",
        "        new_name = 'search'\n",
        "        return new_name\n",
        "    return i\n",
        "\n",
        "# применим фукнцию\n",
        "df['event_name'] = df['event_name'].apply(events_type)"
      ]
    },
    {
      "cell_type": "code",
      "execution_count": null,
      "metadata": {
        "pycharm": {
          "name": "#%%\n"
        },
        "id": "DSDLt_Mtucqf",
        "outputId": "c568651a-6323-471b-a3a2-484f55a4e58b"
      },
      "outputs": [
        {
          "data": {
            "text/plain": "array(['advert_open', 'tips_show', 'map', 'contacts_show', 'search',\n       'tips_click', 'photos_show', 'favorites_add', 'contacts_call'],\n      dtype=object)"
          },
          "execution_count": 52,
          "metadata": {},
          "output_type": "execute_result"
        }
      ],
      "source": [
        "# проверим\n",
        "df['event_name'].unique()"
      ]
    },
    {
      "cell_type": "code",
      "execution_count": null,
      "metadata": {
        "pycharm": {
          "name": "#%%\n"
        },
        "id": "qB_rWy6wucqf",
        "outputId": "d437d4fe-058f-4b40-f8a7-3809eacd2f44"
      },
      "outputs": [
        {
          "data": {
            "text/plain": "                                user_id  source          event_time  \\\n0  020292ab-89bc-4156-9acf-68bc2783f894   other 2019-10-07 00:00:00   \n1  020292ab-89bc-4156-9acf-68bc2783f894   other 2019-10-07 00:00:01   \n2  cf7eda61-9349-469f-ac27-e5b6f5ec475c  yandex 2019-10-07 00:00:02   \n3  020292ab-89bc-4156-9acf-68bc2783f894   other 2019-10-07 00:00:07   \n4  cf7eda61-9349-469f-ac27-e5b6f5ec475c  yandex 2019-10-07 00:00:56   \n\n    event_name  event_hour event_week event_month event_year event_date  \n0  advert_open           0 2019-10-03  2019-10-01 2019-01-01 2019-10-07  \n1    tips_show           0 2019-10-03  2019-10-01 2019-01-01 2019-10-07  \n2    tips_show           0 2019-10-03  2019-10-01 2019-01-01 2019-10-07  \n3    tips_show           0 2019-10-03  2019-10-01 2019-01-01 2019-10-07  \n4  advert_open           0 2019-10-03  2019-10-01 2019-01-01 2019-10-07  ",
            "text/html": "<div>\n<style scoped>\n    .dataframe tbody tr th:only-of-type {\n        vertical-align: middle;\n    }\n\n    .dataframe tbody tr th {\n        vertical-align: top;\n    }\n\n    .dataframe thead th {\n        text-align: right;\n    }\n</style>\n<table border=\"1\" class=\"dataframe\">\n  <thead>\n    <tr style=\"text-align: right;\">\n      <th></th>\n      <th>user_id</th>\n      <th>source</th>\n      <th>event_time</th>\n      <th>event_name</th>\n      <th>event_hour</th>\n      <th>event_week</th>\n      <th>event_month</th>\n      <th>event_year</th>\n      <th>event_date</th>\n    </tr>\n  </thead>\n  <tbody>\n    <tr>\n      <th>0</th>\n      <td>020292ab-89bc-4156-9acf-68bc2783f894</td>\n      <td>other</td>\n      <td>2019-10-07 00:00:00</td>\n      <td>advert_open</td>\n      <td>0</td>\n      <td>2019-10-03</td>\n      <td>2019-10-01</td>\n      <td>2019-01-01</td>\n      <td>2019-10-07</td>\n    </tr>\n    <tr>\n      <th>1</th>\n      <td>020292ab-89bc-4156-9acf-68bc2783f894</td>\n      <td>other</td>\n      <td>2019-10-07 00:00:01</td>\n      <td>tips_show</td>\n      <td>0</td>\n      <td>2019-10-03</td>\n      <td>2019-10-01</td>\n      <td>2019-01-01</td>\n      <td>2019-10-07</td>\n    </tr>\n    <tr>\n      <th>2</th>\n      <td>cf7eda61-9349-469f-ac27-e5b6f5ec475c</td>\n      <td>yandex</td>\n      <td>2019-10-07 00:00:02</td>\n      <td>tips_show</td>\n      <td>0</td>\n      <td>2019-10-03</td>\n      <td>2019-10-01</td>\n      <td>2019-01-01</td>\n      <td>2019-10-07</td>\n    </tr>\n    <tr>\n      <th>3</th>\n      <td>020292ab-89bc-4156-9acf-68bc2783f894</td>\n      <td>other</td>\n      <td>2019-10-07 00:00:07</td>\n      <td>tips_show</td>\n      <td>0</td>\n      <td>2019-10-03</td>\n      <td>2019-10-01</td>\n      <td>2019-01-01</td>\n      <td>2019-10-07</td>\n    </tr>\n    <tr>\n      <th>4</th>\n      <td>cf7eda61-9349-469f-ac27-e5b6f5ec475c</td>\n      <td>yandex</td>\n      <td>2019-10-07 00:00:56</td>\n      <td>advert_open</td>\n      <td>0</td>\n      <td>2019-10-03</td>\n      <td>2019-10-01</td>\n      <td>2019-01-01</td>\n      <td>2019-10-07</td>\n    </tr>\n  </tbody>\n</table>\n</div>"
          },
          "execution_count": 53,
          "metadata": {},
          "output_type": "execute_result"
        }
      ],
      "source": [
        "df.head()"
      ]
    },
    {
      "cell_type": "markdown",
      "metadata": {
        "pycharm": {
          "name": "#%% md\n"
        },
        "id": "1oYmtkVbucqf"
      },
      "source": [
        "### <a id='step3'>Исследовательский анализ данных</a>"
      ]
    },
    {
      "cell_type": "code",
      "execution_count": null,
      "metadata": {
        "pycharm": {
          "name": "#%%\n"
        },
        "id": "xQxS-f_Vucqg",
        "outputId": "7a60cb58-b54b-4dff-ec00-e3d24f4ab199"
      },
      "outputs": [
        {
          "data": {
            "text/plain": "        user_id\nsource         \ngoogle     1129\nother      1230\nyandex     1934",
            "text/html": "<div>\n<style scoped>\n    .dataframe tbody tr th:only-of-type {\n        vertical-align: middle;\n    }\n\n    .dataframe tbody tr th {\n        vertical-align: top;\n    }\n\n    .dataframe thead th {\n        text-align: right;\n    }\n</style>\n<table border=\"1\" class=\"dataframe\">\n  <thead>\n    <tr style=\"text-align: right;\">\n      <th></th>\n      <th>user_id</th>\n    </tr>\n    <tr>\n      <th>source</th>\n      <th></th>\n    </tr>\n  </thead>\n  <tbody>\n    <tr>\n      <th>google</th>\n      <td>1129</td>\n    </tr>\n    <tr>\n      <th>other</th>\n      <td>1230</td>\n    </tr>\n    <tr>\n      <th>yandex</th>\n      <td>1934</td>\n    </tr>\n  </tbody>\n</table>\n</div>"
          },
          "execution_count": 54,
          "metadata": {},
          "output_type": "execute_result"
        }
      ],
      "source": [
        "# посчитаем количество пользователей, пришедших из каждого источников\n",
        "df.groupby('source').agg({'user_id' : 'nunique'})"
      ]
    },
    {
      "cell_type": "code",
      "execution_count": null,
      "metadata": {
        "pycharm": {
          "name": "#%%\n"
        },
        "id": "oTVZumHxucqg",
        "outputId": "f697ddf5-bfad-4672-9f39-4383a14e7fad"
      },
      "outputs": [
        {
          "data": {
            "text/plain": "               user_id\nevent_name            \ntips_show        40055\nphotos_show      10012\nsearch            6784\nadvert_open       6164\ncontacts_show     4529\nmap               3881\nfavorites_add     1417\ntips_click         814\ncontacts_call      541",
            "text/html": "<div>\n<style scoped>\n    .dataframe tbody tr th:only-of-type {\n        vertical-align: middle;\n    }\n\n    .dataframe tbody tr th {\n        vertical-align: top;\n    }\n\n    .dataframe thead th {\n        text-align: right;\n    }\n</style>\n<table border=\"1\" class=\"dataframe\">\n  <thead>\n    <tr style=\"text-align: right;\">\n      <th></th>\n      <th>user_id</th>\n    </tr>\n    <tr>\n      <th>event_name</th>\n      <th></th>\n    </tr>\n  </thead>\n  <tbody>\n    <tr>\n      <th>tips_show</th>\n      <td>40055</td>\n    </tr>\n    <tr>\n      <th>photos_show</th>\n      <td>10012</td>\n    </tr>\n    <tr>\n      <th>search</th>\n      <td>6784</td>\n    </tr>\n    <tr>\n      <th>advert_open</th>\n      <td>6164</td>\n    </tr>\n    <tr>\n      <th>contacts_show</th>\n      <td>4529</td>\n    </tr>\n    <tr>\n      <th>map</th>\n      <td>3881</td>\n    </tr>\n    <tr>\n      <th>favorites_add</th>\n      <td>1417</td>\n    </tr>\n    <tr>\n      <th>tips_click</th>\n      <td>814</td>\n    </tr>\n    <tr>\n      <th>contacts_call</th>\n      <td>541</td>\n    </tr>\n  </tbody>\n</table>\n</div>"
          },
          "execution_count": 55,
          "metadata": {},
          "output_type": "execute_result"
        }
      ],
      "source": [
        "# посчитаем, сколько раз было совершено каждое действие\n",
        "df.groupby('event_name').agg({'user_id' : 'count'}).sort_values(by='user_id', ascending=False)"
      ]
    },
    {
      "cell_type": "code",
      "execution_count": null,
      "metadata": {
        "pycharm": {
          "name": "#%%\n"
        },
        "id": "vrfiigXOucqg",
        "outputId": "a4376f23-ecbd-42ab-f0bb-9e7a1c21c22e"
      },
      "outputs": [
        {
          "name": "stdout",
          "output_type": "stream",
          "text": [
            "В логе представлены события за период с 2019-10-07 по 2019-11-03\n"
          ]
        }
      ],
      "source": [
        "# посмотрим, за какой период у нас есть данные\n",
        "print(f'В логе представлены события за период с {df[\"event_date\"].min().date()} по {df[\"event_date\"].max().date()}')"
      ]
    },
    {
      "cell_type": "code",
      "execution_count": null,
      "metadata": {
        "pycharm": {
          "name": "#%%\n"
        },
        "id": "yyISHSHkucqg"
      },
      "outputs": [],
      "source": [
        "# посчитаем количество событий по дням для каждого пользователя\n",
        "events_by_day = df.groupby('event_date', as_index=False).agg({'user_id':'count'})"
      ]
    },
    {
      "cell_type": "code",
      "execution_count": null,
      "metadata": {
        "pycharm": {
          "name": "#%%\n"
        },
        "id": "xxjLp2GXucqg",
        "outputId": "5fbe7a24-56b6-4a42-9ed0-db84926c7af5"
      },
      "outputs": [
        {
          "data": {
            "text/plain": "  event_date  user_id\n0 2019-10-07     2545\n1 2019-10-08     2499\n2 2019-10-09     2027\n3 2019-10-10     2243\n4 2019-10-11     2030",
            "text/html": "<div>\n<style scoped>\n    .dataframe tbody tr th:only-of-type {\n        vertical-align: middle;\n    }\n\n    .dataframe tbody tr th {\n        vertical-align: top;\n    }\n\n    .dataframe thead th {\n        text-align: right;\n    }\n</style>\n<table border=\"1\" class=\"dataframe\">\n  <thead>\n    <tr style=\"text-align: right;\">\n      <th></th>\n      <th>event_date</th>\n      <th>user_id</th>\n    </tr>\n  </thead>\n  <tbody>\n    <tr>\n      <th>0</th>\n      <td>2019-10-07</td>\n      <td>2545</td>\n    </tr>\n    <tr>\n      <th>1</th>\n      <td>2019-10-08</td>\n      <td>2499</td>\n    </tr>\n    <tr>\n      <th>2</th>\n      <td>2019-10-09</td>\n      <td>2027</td>\n    </tr>\n    <tr>\n      <th>3</th>\n      <td>2019-10-10</td>\n      <td>2243</td>\n    </tr>\n    <tr>\n      <th>4</th>\n      <td>2019-10-11</td>\n      <td>2030</td>\n    </tr>\n  </tbody>\n</table>\n</div>"
          },
          "execution_count": 58,
          "metadata": {},
          "output_type": "execute_result"
        }
      ],
      "source": [
        "events_by_day.head()"
      ]
    },
    {
      "cell_type": "code",
      "execution_count": null,
      "metadata": {
        "pycharm": {
          "name": "#%%\n"
        },
        "id": "jdIrSyDEucqh",
        "outputId": "deb6624a-2b00-4bb8-dcc4-0a3d6b461324"
      },
      "outputs": [
        {
          "data": {
            "text/plain": "<Figure size 1080x576 with 1 Axes>",
            "image/png": "[encoded data removed]"
          },
          "metadata": {},
          "output_type": "display_data"
        }
      ],
      "source": [
        "# нарисуем график распределения событий по дням\n",
        "plt.figure(figsize=(15, 8))\n",
        "with plt.style.context('seaborn-pastel'):\n",
        "    plt.bar(events_by_day['event_date'], events_by_day['user_id'])\n",
        "plt.xlabel('Дата')\n",
        "plt.ylabel('Количество событий')\n",
        "plt.title('Распределение событий по дням')\n",
        "plt.xticks(rotation=45)\n",
        "plt.grid(True)\n",
        "plt.show();"
      ]
    },
    {
      "cell_type": "markdown",
      "metadata": {
        "pycharm": {
          "name": "#%% md\n"
        },
        "id": "xLm0iA2cucqh"
      },
      "source": [
        "- Нам доступны данные за период с 07.10.2019 по 03.11.2019;\n",
        "- Условно данные можно разбить на несколько небольших периодов: 1 неделя - с 07.10.2019 по 12.10.2019, 2 неделя - с 13.10.2019 по 20.10.2019, 3 неделя - с 21.10.2019 по 27.10.2019, 4 неделя - с 28.10.2019 по 03.11.2019; \n",
        "- Больше всего событий совершено 23.10.2019 - ~ 3500;\n",
        "- Меньше всего событий совершено 12.12.2019 - ~ 2000;\n",
        "- Наименьшее количество событий и самые заметные просадки происходят в выходные дни - 12.10.2019 и 02.11.2019 - оба эти дня приходятся на субботу. Однако стоит отметить, что в последние выходные дни октября активность больше, чем в остальные выходные. Скорее всего, это может быть связано с получением пользователями зарплаты или премии, и желанием приобрести новые вещи.\n",
        "- В целом, данные распределены равномерно. Нет аномалий."
      ]
    },
    {
      "cell_type": "code",
      "execution_count": null,
      "outputs": [
        {
          "data": {
            "text/plain": "   source  user_id\n0  google    20445\n1   other    19466\n2  yandex    34286",
            "text/html": "<div>\n<style scoped>\n    .dataframe tbody tr th:only-of-type {\n        vertical-align: middle;\n    }\n\n    .dataframe tbody tr th {\n        vertical-align: top;\n    }\n\n    .dataframe thead th {\n        text-align: right;\n    }\n</style>\n<table border=\"1\" class=\"dataframe\">\n  <thead>\n    <tr style=\"text-align: right;\">\n      <th></th>\n      <th>source</th>\n      <th>user_id</th>\n    </tr>\n  </thead>\n  <tbody>\n    <tr>\n      <th>0</th>\n      <td>google</td>\n      <td>20445</td>\n    </tr>\n    <tr>\n      <th>1</th>\n      <td>other</td>\n      <td>19466</td>\n    </tr>\n    <tr>\n      <th>2</th>\n      <td>yandex</td>\n      <td>34286</td>\n    </tr>\n  </tbody>\n</table>\n</div>"
          },
          "execution_count": 71,
          "metadata": {},
          "output_type": "execute_result"
        }
      ],
      "source": [
        "df.groupby(['source'],as_index=False).agg({'user_id':'count'})"
      ],
      "metadata": {
        "pycharm": {
          "name": "#%%\n"
        },
        "id": "heJautwFucqh",
        "outputId": "a5170b17-bbac-4812-ee4b-67054f52bf47"
      }
    },
    {
      "cell_type": "code",
      "execution_count": null,
      "metadata": {
        "pycharm": {
          "name": "#%%\n"
        },
        "id": "uOVCKjhNucqh"
      },
      "outputs": [],
      "source": [
        "# количество событий по каждому источнику вынесем в отидельные датасеты\n",
        "\n",
        "yandex_by_day = df.query('source == \"yandex\"')\\\n",
        ".groupby('event_date', as_index=False).agg({'user_id':'count'})\n",
        "\n",
        "google_by_day = df.query('source == \"google\"')\\\n",
        ".groupby('event_date', as_index=False).agg({'user_id':'count'})\n",
        "\n",
        "other_by_day = df.query('source == \"other\"')\\\n",
        ".groupby('event_date', as_index=False).agg({'user_id':'count'})"
      ]
    },
    {
      "cell_type": "code",
      "execution_count": null,
      "metadata": {
        "pycharm": {
          "name": "#%%\n"
        },
        "id": "Oex2hZXiucqh",
        "outputId": "e4372e82-b6f9-434b-a964-abb354a77225"
      },
      "outputs": [
        {
          "data": {
            "text/plain": "<Figure size 1080x576 with 1 Axes>",
            "image/png": "[encoded data removed]"
          },
          "metadata": {},
          "output_type": "display_data"
        }
      ],
      "source": [
        "# нарисуем график распределения количества событий по дням для каждого источника\n",
        "plt.figure(figsize=(15, 8))\n",
        "with plt.style.context('seaborn-pastel'):\n",
        "    plt.bar(yandex_by_day['event_date'], yandex_by_day['user_id'], alpha=.5)\n",
        "    plt.bar(google_by_day['event_date'], google_by_day['user_id'], alpha=.5)\n",
        "    plt.bar(other_by_day['event_date'], other_by_day['user_id'], alpha=.5)\n",
        "plt.title('Распеределение событий по каждому источнику')\n",
        "plt.xlabel('Дата')\n",
        "plt.ylabel('Количество событий')\n",
        "plt.legend(['Яндекс', 'Гугл', 'Другие'])\n",
        "plt.xticks(rotation=45)\n",
        "plt.show();"
      ]
    },
    {
      "cell_type": "markdown",
      "metadata": {
        "pycharm": {
          "name": "#%% md\n"
        },
        "id": "Wzi8EvnHucqh"
      },
      "source": [
        "- Больше всего событий совершают пользователи, пришедшие через Яндекс;\n",
        "- В основном, распределение данные полностью повторяет общий график без разбивки по источникам."
      ]
    },
    {
      "cell_type": "code",
      "execution_count": null,
      "metadata": {
        "pycharm": {
          "name": "#%%\n"
        },
        "id": "fnzJ7QUuucqh"
      },
      "outputs": [],
      "source": [
        "import calendar"
      ]
    },
    {
      "cell_type": "code",
      "execution_count": null,
      "metadata": {
        "pycharm": {
          "name": "#%%\n"
        },
        "id": "lnt3XnzTucqi"
      },
      "outputs": [],
      "source": [
        "# добавим в датасет информацию с текстовой датой совершения событий\n",
        "df['week_day'] = df['event_date'].apply(lambda x: calendar.day_name[x.weekday()])"
      ]
    },
    {
      "cell_type": "code",
      "execution_count": null,
      "metadata": {
        "pycharm": {
          "name": "#%%\n"
        },
        "id": "vgBsboMhucqi",
        "outputId": "3d519c0e-bcfa-459c-a309-e8fc92401c81"
      },
      "outputs": [
        {
          "data": {
            "text/plain": "    week_day  event_time\n1     Monday       11671\n5    Tuesday       11145\n6  Wednesday       10994\n4   Thursday       10763\n3     Sunday       10501\n0     Friday        9969\n2   Saturday        9154",
            "text/html": "<div>\n<style scoped>\n    .dataframe tbody tr th:only-of-type {\n        vertical-align: middle;\n    }\n\n    .dataframe tbody tr th {\n        vertical-align: top;\n    }\n\n    .dataframe thead th {\n        text-align: right;\n    }\n</style>\n<table border=\"1\" class=\"dataframe\">\n  <thead>\n    <tr style=\"text-align: right;\">\n      <th></th>\n      <th>week_day</th>\n      <th>event_time</th>\n    </tr>\n  </thead>\n  <tbody>\n    <tr>\n      <th>1</th>\n      <td>Monday</td>\n      <td>11671</td>\n    </tr>\n    <tr>\n      <th>5</th>\n      <td>Tuesday</td>\n      <td>11145</td>\n    </tr>\n    <tr>\n      <th>6</th>\n      <td>Wednesday</td>\n      <td>10994</td>\n    </tr>\n    <tr>\n      <th>4</th>\n      <td>Thursday</td>\n      <td>10763</td>\n    </tr>\n    <tr>\n      <th>3</th>\n      <td>Sunday</td>\n      <td>10501</td>\n    </tr>\n    <tr>\n      <th>0</th>\n      <td>Friday</td>\n      <td>9969</td>\n    </tr>\n    <tr>\n      <th>2</th>\n      <td>Saturday</td>\n      <td>9154</td>\n    </tr>\n  </tbody>\n</table>\n</div>"
          },
          "execution_count": 65,
          "metadata": {},
          "output_type": "execute_result"
        }
      ],
      "source": [
        "# посчиатем, сколько событий происходит с разбивкой по дням недели\n",
        "events_per_week = df.groupby('week_day', as_index=False).agg({'event_time':'count'}).sort_values(by='event_time', ascending=False)\n",
        "\n",
        "events_per_week"
      ]
    },
    {
      "cell_type": "code",
      "execution_count": null,
      "metadata": {
        "pycharm": {
          "name": "#%%\n"
        },
        "id": "ow2AhSPBucqi"
      },
      "outputs": [],
      "source": [
        "# нарисуем график с количеством событий по дням недели\n",
        "plt.figure(figsize=(15, 8))\n",
        "with plt.style.context('seaborn-pastel'):\n",
        "    plt.bar(events_per_week['week_day'], events_per_week['event_time'], alpha=.5)\n",
        "plt.title('Распеределение событий по каждому источнику')\n",
        "plt.xlabel('День недели')\n",
        "plt.ylabel('Количество событий')\n",
        "plt.legend(['Яндекс', 'Гугл', 'Другие'])\n",
        "plt.xticks(rotation=45)\n",
        "plt.show();"
      ]
    },
    {
      "cell_type": "markdown",
      "metadata": {
        "pycharm": {
          "name": "#%% md\n"
        },
        "id": "XkuFISgjucqi"
      },
      "source": [
        "- Больше всего событий происходит по понедельникам;\n",
        "- Меньше всего событий происходит по субботам;"
      ]
    },
    {
      "cell_type": "code",
      "execution_count": null,
      "metadata": {
        "pycharm": {
          "name": "#%%\n"
        },
        "id": "3xI1Zyx3ucqi"
      },
      "outputs": [],
      "source": [
        "# посчитаем количество событий на одного пользователя\n",
        "events_per_user = (df\\\n",
        "                   .groupby(['user_id'], as_index=False)\\\n",
        "                   .agg({'event_time':'count'})\\\n",
        "                   .rename(columns={'event_time':'event_count'}))"
      ]
    },
    {
      "cell_type": "code",
      "execution_count": null,
      "metadata": {
        "pycharm": {
          "name": "#%%\n"
        },
        "id": "AJXRSlFxucqi",
        "outputId": "89d67974-cb58-4717-abc4-5242c7074809"
      },
      "outputs": [
        {
          "data": {
            "text/plain": "                                user_id  event_count\n0  0001b1d5-b74a-4cbf-aeb0-7df5947bf349           35\n1  00157779-810c-4498-9e05-a1e9e3cedf93           71\n2  00463033-5717-4bf1-91b4-09183923b9df           10\n3  004690c3-5a84-4bb7-a8af-e0c8f8fca64e           32\n4  00551e79-152e-4441-9cf7-565d7eb04090            8",
            "text/html": "<div>\n<style scoped>\n    .dataframe tbody tr th:only-of-type {\n        vertical-align: middle;\n    }\n\n    .dataframe tbody tr th {\n        vertical-align: top;\n    }\n\n    .dataframe thead th {\n        text-align: right;\n    }\n</style>\n<table border=\"1\" class=\"dataframe\">\n  <thead>\n    <tr style=\"text-align: right;\">\n      <th></th>\n      <th>user_id</th>\n      <th>event_count</th>\n    </tr>\n  </thead>\n  <tbody>\n    <tr>\n      <th>0</th>\n      <td>0001b1d5-b74a-4cbf-aeb0-7df5947bf349</td>\n      <td>35</td>\n    </tr>\n    <tr>\n      <th>1</th>\n      <td>00157779-810c-4498-9e05-a1e9e3cedf93</td>\n      <td>71</td>\n    </tr>\n    <tr>\n      <th>2</th>\n      <td>00463033-5717-4bf1-91b4-09183923b9df</td>\n      <td>10</td>\n    </tr>\n    <tr>\n      <th>3</th>\n      <td>004690c3-5a84-4bb7-a8af-e0c8f8fca64e</td>\n      <td>32</td>\n    </tr>\n    <tr>\n      <th>4</th>\n      <td>00551e79-152e-4441-9cf7-565d7eb04090</td>\n      <td>8</td>\n    </tr>\n  </tbody>\n</table>\n</div>"
          },
          "execution_count": 74,
          "metadata": {},
          "output_type": "execute_result"
        }
      ],
      "source": [
        "events_per_user.head()"
      ]
    },
    {
      "cell_type": "code",
      "execution_count": null,
      "metadata": {
        "pycharm": {
          "name": "#%%\n"
        },
        "id": "V-bpgMybucqj",
        "outputId": "038af07f-816f-462d-f056-1f3ec5a6c2ec"
      },
      "outputs": [
        {
          "name": "stdout",
          "output_type": "stream",
          "text": [
            "Минимум событий на одного пользователя: 1\n"
          ]
        }
      ],
      "source": [
        "# выведем минимум событий на одного пользователя\n",
        "print('Минимум событий на одного пользователя:', events_per_user['event_count'].min())"
      ]
    },
    {
      "cell_type": "code",
      "execution_count": null,
      "metadata": {
        "pycharm": {
          "name": "#%%\n"
        },
        "id": "7J5pRSc7ucqj",
        "outputId": "5d6394f8-6d52-4e59-b1a6-73fd30174fc8"
      },
      "outputs": [
        {
          "name": "stdout",
          "output_type": "stream",
          "text": [
            "Максимум событий на одного пользователя: 478\n"
          ]
        }
      ],
      "source": [
        "# выведем максимум событий на одного пользователя\n",
        "print('Максимум событий на одного пользователя:', events_per_user['event_count'].max())"
      ]
    },
    {
      "cell_type": "code",
      "execution_count": null,
      "metadata": {
        "pycharm": {
          "name": "#%%\n"
        },
        "id": "krzAXLR5ucqj",
        "outputId": "47aa628b-fbc0-43ea-e12e-79d4338835a2"
      },
      "outputs": [
        {
          "data": {
            "text/plain": "<Figure size 1152x720 with 2 Axes>",
            "image/png": "[encoded data removed]"
          },
          "metadata": {},
          "output_type": "display_data"
        }
      ],
      "source": [
        "# нарисуем график распределения количества событий на пользователя\n",
        "fig = plt.figure(figsize=(16, 10))\n",
        "grid = plt.GridSpec(4, 4, hspace=0.8)\n",
        "\n",
        "# оси для графиков\n",
        "ax_main = fig.add_subplot(grid[:-1, :-1])\n",
        "plt.grid(True)\n",
        "\n",
        "ax_bottom = fig.add_subplot(grid[-1, 0:-1], xticklabels=[])\n",
        "plt.grid(True)\n",
        "\n",
        "# снчала будет гистограмма\n",
        "ax_main.hist(events_per_user['event_count'], bins=50)\n",
        "\n",
        "# потом боксплот\n",
        "sns.boxplot(events_per_user['event_count'], ax=ax_bottom, orient='h')\n",
        "ax_bottom.set(xlabel='')\n",
        "\n",
        "ax_main.set(title='Распределение количества событий на одного пользователя',\\\n",
        "            xlabel='Количество событий на одного пользователя',\\\n",
        "            ylabel='Количество пользователей')\n",
        "\n",
        "plt.show();"
      ]
    },
    {
      "cell_type": "code",
      "execution_count": null,
      "metadata": {
        "pycharm": {
          "name": "#%%\n"
        },
        "id": "Ex6CBQWsucqj",
        "outputId": "81dd3de2-140f-4d11-9252-5c7adae16e9a"
      },
      "outputs": [
        {
          "data": {
            "text/plain": "<Figure size 432x288 with 1 Axes>",
            "image/png": "[encoded data removed]"
          },
          "metadata": {},
          "output_type": "display_data"
        }
      ],
      "source": [
        "# масштабируем боксплот\n",
        "sns.boxplot(events_per_user['event_count'], showfliers=False)\n",
        "plt.title('Распределение количества событий на одного пользователя (боксплот)')\n",
        "plt.xlabel('Количество событий на одного пользователя')\n",
        "plt.ylabel('')\n",
        "plt.show();"
      ]
    },
    {
      "cell_type": "markdown",
      "metadata": {
        "pycharm": {
          "name": "#%% md\n"
        },
        "id": "gReu-xrZucqj"
      },
      "source": [
        "- В распределении количества событий на пользователя есть выбросы. В основном, каждый пользователь совершает от 5 до 12 событий. Все, что лежит дальше - примем за аномальные значения."
      ]
    },
    {
      "cell_type": "code",
      "execution_count": null,
      "metadata": {
        "pycharm": {
          "name": "#%%\n"
        },
        "id": "dSbIR_rcucqj",
        "outputId": "ca25063f-2c3b-48e2-d5a9-faf3b11b2c69"
      },
      "outputs": [
        {
          "name": "stdout",
          "output_type": "stream",
          "text": [
            "Количество событий на одного пользователя:\n",
            "\n",
            "Среднее: 17.3\n",
            "Медиана: 9.0\n"
          ]
        }
      ],
      "source": [
        "# на всякий случай, проверим среднее и медиану\n",
        "print('Количество событий на одного пользователя:\\n')\n",
        "print('Среднее: {:.1f}'.format(events_per_user['event_count'].mean()))\n",
        "print('Медиана: {:.1f}'.format(events_per_user['event_count'].median()))"
      ]
    },
    {
      "cell_type": "code",
      "execution_count": null,
      "metadata": {
        "pycharm": {
          "name": "#%%\n"
        },
        "id": "XWLJ3BPmucqk"
      },
      "outputs": [],
      "source": [
        "# удалим аномальные значения через срез по правому перцентилю\n",
        "right_cut = events_per_user.event_count.quantile(0.95)\n",
        "events_per_user_filtered = events_per_user.query('event_count <= @right_cut')"
      ]
    },
    {
      "cell_type": "code",
      "execution_count": null,
      "metadata": {
        "pycharm": {
          "name": "#%%\n"
        },
        "id": "2VZ0ZaHvucqk",
        "outputId": "d4f8c84d-c160-4fed-89fe-80a11334ef7a"
      },
      "outputs": [
        {
          "data": {
            "text/plain": "<Figure size 1152x720 with 1 Axes>",
            "image/png": "[encoded data removed]"
          },
          "metadata": {},
          "output_type": "display_data"
        }
      ],
      "source": [
        "# нарисуем график распределения количества событий на пользователя по очищенным данным\n",
        "plt.figure(figsize=(16, 10))\n",
        "events_per_user_filtered['event_count'].hist(bins=50)\n",
        "plt.title('Распределение количества событий на одного пользователя')\n",
        "plt.xlabel('Количество событий на одного пользователя')\n",
        "plt.ylabel('Количество пользователей')\n",
        "plt.show();"
      ]
    },
    {
      "cell_type": "code",
      "execution_count": null,
      "metadata": {
        "pycharm": {
          "name": "#%%\n"
        },
        "id": "iYBvqqpkucqk",
        "outputId": "8e2a671f-28f9-4bab-822f-42984bb15fc7"
      },
      "outputs": [
        {
          "name": "stdout",
          "output_type": "stream",
          "text": [
            "Количество событий на одного пользователя (очищенные данные):\n",
            "\n",
            "Среднее: 12.4\n",
            "Медиана: 8.0\n"
          ]
        }
      ],
      "source": [
        "# посчитаем среднее и медиану по очищенным данным\n",
        "print('Количество событий на одного пользователя (очищенные данные):\\n')\n",
        "print('Среднее: {:.1f}'.format(events_per_user_filtered['event_count'].mean()))\n",
        "print('Медиана: {:.1f}'.format(events_per_user_filtered['event_count'].median()))"
      ]
    },
    {
      "cell_type": "markdown",
      "metadata": {
        "pycharm": {
          "name": "#%% md\n"
        },
        "id": "upwYos8cucqk"
      },
      "source": [
        "#### По-хорошему, аномальные значения можно было бы удалить, но так мы потеряем почти 20% всех данных, поэтому оставим как есть."
      ]
    },
    {
      "cell_type": "markdown",
      "metadata": {
        "pycharm": {
          "name": "#%% md\n"
        },
        "id": "pvphMqkRucqk"
      },
      "source": [
        "#### Посчитаем продолжительность сеанса каждого пользователя в приложении."
      ]
    },
    {
      "cell_type": "code",
      "execution_count": null,
      "metadata": {
        "pycharm": {
          "name": "#%%\n"
        },
        "id": "-4d2PS-nucqk"
      },
      "outputs": [],
      "source": [
        "# определим начало и конец каждого сеанса каждого пользователя в приложении\n",
        "\n",
        "# начало сеанса\n",
        "user_time_min = df.groupby(['user_id', 'event_date', 'event_hour'], as_index=False)\\\n",
        ".agg({'event_time':'min'})\\\n",
        ".rename(columns={'event_time':'event_time_start'})\n",
        "\n",
        "# конец сеанса\n",
        "user_time_max = df.groupby(['user_id', 'event_date', 'event_hour'], as_index=False)\\\n",
        ".agg({'event_time':'max'})\\\n",
        ".rename(columns={'event_time':'event_time_stop'})"
      ]
    },
    {
      "cell_type": "code",
      "execution_count": null,
      "metadata": {
        "pycharm": {
          "name": "#%%\n"
        },
        "id": "Pzq3J-ltucqk"
      },
      "outputs": [],
      "source": [
        "# объединим столбцы с временем начала и окончания сеанса для пользователей\n",
        "user_time =  pd.merge(user_time_min, user_time_max, on=['user_id', 'event_date', 'event_hour'])"
      ]
    },
    {
      "cell_type": "code",
      "execution_count": null,
      "metadata": {
        "pycharm": {
          "name": "#%%\n"
        },
        "id": "pZefjMenucql"
      },
      "outputs": [],
      "source": [
        "# посчитаем, cколько длился сеанс и переведем в минуты\n",
        "user_time['time_spent'] = (user_time['event_time_stop'] - user_time['event_time_start'])\\\n",
        ".astype('timedelta64[s]') / 60"
      ]
    },
    {
      "cell_type": "code",
      "execution_count": null,
      "metadata": {
        "pycharm": {
          "name": "#%%\n"
        },
        "id": "vLXmyAJCucql",
        "outputId": "8b6ac066-cd7c-4135-cc4e-c7913f5c5257"
      },
      "outputs": [
        {
          "data": {
            "text/plain": "                                user_id event_date  event_hour  \\\n0  0001b1d5-b74a-4cbf-aeb0-7df5947bf349 2019-10-07          13   \n1  0001b1d5-b74a-4cbf-aeb0-7df5947bf349 2019-10-09          18   \n2  0001b1d5-b74a-4cbf-aeb0-7df5947bf349 2019-10-21          19   \n3  0001b1d5-b74a-4cbf-aeb0-7df5947bf349 2019-10-21          20   \n4  0001b1d5-b74a-4cbf-aeb0-7df5947bf349 2019-10-22          11   \n\n     event_time_start     event_time_stop  time_spent  \n0 2019-10-07 13:39:46 2019-10-07 13:49:42    9.933333  \n1 2019-10-09 18:33:56 2019-10-09 18:42:23    8.450000  \n2 2019-10-21 19:52:31 2019-10-21 19:57:49    5.300000  \n3 2019-10-21 20:00:00 2019-10-21 20:07:30    7.500000  \n4 2019-10-22 11:18:15 2019-10-22 11:30:53   12.633333  ",
            "text/html": "<div>\n<style scoped>\n    .dataframe tbody tr th:only-of-type {\n        vertical-align: middle;\n    }\n\n    .dataframe tbody tr th {\n        vertical-align: top;\n    }\n\n    .dataframe thead th {\n        text-align: right;\n    }\n</style>\n<table border=\"1\" class=\"dataframe\">\n  <thead>\n    <tr style=\"text-align: right;\">\n      <th></th>\n      <th>user_id</th>\n      <th>event_date</th>\n      <th>event_hour</th>\n      <th>event_time_start</th>\n      <th>event_time_stop</th>\n      <th>time_spent</th>\n    </tr>\n  </thead>\n  <tbody>\n    <tr>\n      <th>0</th>\n      <td>0001b1d5-b74a-4cbf-aeb0-7df5947bf349</td>\n      <td>2019-10-07</td>\n      <td>13</td>\n      <td>2019-10-07 13:39:46</td>\n      <td>2019-10-07 13:49:42</td>\n      <td>9.933333</td>\n    </tr>\n    <tr>\n      <th>1</th>\n      <td>0001b1d5-b74a-4cbf-aeb0-7df5947bf349</td>\n      <td>2019-10-09</td>\n      <td>18</td>\n      <td>2019-10-09 18:33:56</td>\n      <td>2019-10-09 18:42:23</td>\n      <td>8.450000</td>\n    </tr>\n    <tr>\n      <th>2</th>\n      <td>0001b1d5-b74a-4cbf-aeb0-7df5947bf349</td>\n      <td>2019-10-21</td>\n      <td>19</td>\n      <td>2019-10-21 19:52:31</td>\n      <td>2019-10-21 19:57:49</td>\n      <td>5.300000</td>\n    </tr>\n    <tr>\n      <th>3</th>\n      <td>0001b1d5-b74a-4cbf-aeb0-7df5947bf349</td>\n      <td>2019-10-21</td>\n      <td>20</td>\n      <td>2019-10-21 20:00:00</td>\n      <td>2019-10-21 20:07:30</td>\n      <td>7.500000</td>\n    </tr>\n    <tr>\n      <th>4</th>\n      <td>0001b1d5-b74a-4cbf-aeb0-7df5947bf349</td>\n      <td>2019-10-22</td>\n      <td>11</td>\n      <td>2019-10-22 11:18:15</td>\n      <td>2019-10-22 11:30:53</td>\n      <td>12.633333</td>\n    </tr>\n  </tbody>\n</table>\n</div>"
          },
          "execution_count": 86,
          "metadata": {},
          "output_type": "execute_result"
        }
      ],
      "source": [
        "# проверим\n",
        "user_time.head()"
      ]
    },
    {
      "cell_type": "code",
      "execution_count": null,
      "metadata": {
        "pycharm": {
          "name": "#%%\n"
        },
        "id": "PTR1N1n1ucql"
      },
      "outputs": [],
      "source": [
        "# округлим time_spent\n",
        "user_time['time_spent'] = round(user_time['time_spent'], 1)"
      ]
    },
    {
      "cell_type": "code",
      "execution_count": null,
      "metadata": {
        "pycharm": {
          "name": "#%%\n"
        },
        "id": "0gmYOn2mucql",
        "outputId": "f0d76c10-afd8-44ea-ab37-37ea520896d4"
      },
      "outputs": [
        {
          "data": {
            "text/plain": "                                user_id event_date  event_hour  \\\n0  0001b1d5-b74a-4cbf-aeb0-7df5947bf349 2019-10-07          13   \n1  0001b1d5-b74a-4cbf-aeb0-7df5947bf349 2019-10-09          18   \n2  0001b1d5-b74a-4cbf-aeb0-7df5947bf349 2019-10-21          19   \n3  0001b1d5-b74a-4cbf-aeb0-7df5947bf349 2019-10-21          20   \n4  0001b1d5-b74a-4cbf-aeb0-7df5947bf349 2019-10-22          11   \n\n     event_time_start     event_time_stop  time_spent  \n0 2019-10-07 13:39:46 2019-10-07 13:49:42         9.9  \n1 2019-10-09 18:33:56 2019-10-09 18:42:23         8.4  \n2 2019-10-21 19:52:31 2019-10-21 19:57:49         5.3  \n3 2019-10-21 20:00:00 2019-10-21 20:07:30         7.5  \n4 2019-10-22 11:18:15 2019-10-22 11:30:53        12.6  ",
            "text/html": "<div>\n<style scoped>\n    .dataframe tbody tr th:only-of-type {\n        vertical-align: middle;\n    }\n\n    .dataframe tbody tr th {\n        vertical-align: top;\n    }\n\n    .dataframe thead th {\n        text-align: right;\n    }\n</style>\n<table border=\"1\" class=\"dataframe\">\n  <thead>\n    <tr style=\"text-align: right;\">\n      <th></th>\n      <th>user_id</th>\n      <th>event_date</th>\n      <th>event_hour</th>\n      <th>event_time_start</th>\n      <th>event_time_stop</th>\n      <th>time_spent</th>\n    </tr>\n  </thead>\n  <tbody>\n    <tr>\n      <th>0</th>\n      <td>0001b1d5-b74a-4cbf-aeb0-7df5947bf349</td>\n      <td>2019-10-07</td>\n      <td>13</td>\n      <td>2019-10-07 13:39:46</td>\n      <td>2019-10-07 13:49:42</td>\n      <td>9.9</td>\n    </tr>\n    <tr>\n      <th>1</th>\n      <td>0001b1d5-b74a-4cbf-aeb0-7df5947bf349</td>\n      <td>2019-10-09</td>\n      <td>18</td>\n      <td>2019-10-09 18:33:56</td>\n      <td>2019-10-09 18:42:23</td>\n      <td>8.4</td>\n    </tr>\n    <tr>\n      <th>2</th>\n      <td>0001b1d5-b74a-4cbf-aeb0-7df5947bf349</td>\n      <td>2019-10-21</td>\n      <td>19</td>\n      <td>2019-10-21 19:52:31</td>\n      <td>2019-10-21 19:57:49</td>\n      <td>5.3</td>\n    </tr>\n    <tr>\n      <th>3</th>\n      <td>0001b1d5-b74a-4cbf-aeb0-7df5947bf349</td>\n      <td>2019-10-21</td>\n      <td>20</td>\n      <td>2019-10-21 20:00:00</td>\n      <td>2019-10-21 20:07:30</td>\n      <td>7.5</td>\n    </tr>\n    <tr>\n      <th>4</th>\n      <td>0001b1d5-b74a-4cbf-aeb0-7df5947bf349</td>\n      <td>2019-10-22</td>\n      <td>11</td>\n      <td>2019-10-22 11:18:15</td>\n      <td>2019-10-22 11:30:53</td>\n      <td>12.6</td>\n    </tr>\n  </tbody>\n</table>\n</div>"
          },
          "execution_count": 88,
          "metadata": {},
          "output_type": "execute_result"
        }
      ],
      "source": [
        "user_time.head()"
      ]
    },
    {
      "cell_type": "markdown",
      "metadata": {
        "pycharm": {
          "name": "#%% md\n"
        },
        "id": "GZRxrvwKucql"
      },
      "source": [
        "#### Сформируем таблицу с признаками для кластеризации пользователей."
      ]
    },
    {
      "cell_type": "code",
      "execution_count": null,
      "metadata": {
        "pycharm": {
          "name": "#%%\n"
        },
        "id": "1F62P5xlucql"
      },
      "outputs": [],
      "source": [
        "# features - таблица с признаками\\\n",
        "# добавим в нее время продолжительности сеанса для каждого пользователя и \\\n",
        "# число сессий для каждого пользователя\n",
        "features = user_time.groupby('user_id', as_index=False)\\\n",
        ".agg({'time_spent':'sum', 'event_date':'count'})\\\n",
        ".rename(columns={'event_date':'visits'})"
      ]
    },
    {
      "cell_type": "code",
      "execution_count": null,
      "metadata": {
        "pycharm": {
          "name": "#%%\n"
        },
        "id": "nh3fLxUHucqm",
        "outputId": "b600d377-d212-4676-bad3-63965a3a6555"
      },
      "outputs": [
        {
          "data": {
            "text/plain": "                                user_id  time_spent  visits\n0  0001b1d5-b74a-4cbf-aeb0-7df5947bf349        43.7       5\n1  00157779-810c-4498-9e05-a1e9e3cedf93       177.8      10\n2  00463033-5717-4bf1-91b4-09183923b9df        21.2       2\n3  004690c3-5a84-4bb7-a8af-e0c8f8fca64e        87.5       7\n4  00551e79-152e-4441-9cf7-565d7eb04090         9.4       3",
            "text/html": "<div>\n<style scoped>\n    .dataframe tbody tr th:only-of-type {\n        vertical-align: middle;\n    }\n\n    .dataframe tbody tr th {\n        vertical-align: top;\n    }\n\n    .dataframe thead th {\n        text-align: right;\n    }\n</style>\n<table border=\"1\" class=\"dataframe\">\n  <thead>\n    <tr style=\"text-align: right;\">\n      <th></th>\n      <th>user_id</th>\n      <th>time_spent</th>\n      <th>visits</th>\n    </tr>\n  </thead>\n  <tbody>\n    <tr>\n      <th>0</th>\n      <td>0001b1d5-b74a-4cbf-aeb0-7df5947bf349</td>\n      <td>43.7</td>\n      <td>5</td>\n    </tr>\n    <tr>\n      <th>1</th>\n      <td>00157779-810c-4498-9e05-a1e9e3cedf93</td>\n      <td>177.8</td>\n      <td>10</td>\n    </tr>\n    <tr>\n      <th>2</th>\n      <td>00463033-5717-4bf1-91b4-09183923b9df</td>\n      <td>21.2</td>\n      <td>2</td>\n    </tr>\n    <tr>\n      <th>3</th>\n      <td>004690c3-5a84-4bb7-a8af-e0c8f8fca64e</td>\n      <td>87.5</td>\n      <td>7</td>\n    </tr>\n    <tr>\n      <th>4</th>\n      <td>00551e79-152e-4441-9cf7-565d7eb04090</td>\n      <td>9.4</td>\n      <td>3</td>\n    </tr>\n  </tbody>\n</table>\n</div>"
          },
          "execution_count": 90,
          "metadata": {},
          "output_type": "execute_result"
        }
      ],
      "source": [
        "features.head()"
      ]
    },
    {
      "cell_type": "code",
      "execution_count": null,
      "metadata": {
        "pycharm": {
          "name": "#%%\n"
        },
        "id": "FNnevBSMucqm"
      },
      "outputs": [],
      "source": [
        "# посчитаем, сколько раз пользователи совершили целевое действие - просмотр контактов\n",
        "conversion = df.query('event_name==\"contacts_show\"')\\\n",
        ".groupby('user_id', as_index=False)\\\n",
        ".agg({'event_name':'count'})\\\n",
        ".rename(columns={'event_name':'conversions'})"
      ]
    },
    {
      "cell_type": "code",
      "execution_count": null,
      "metadata": {
        "pycharm": {
          "name": "#%%\n"
        },
        "id": "BOX8yTQPucqm",
        "outputId": "73d4d821-40eb-402b-9d73-d7c7013bb5e9"
      },
      "outputs": [
        {
          "data": {
            "text/plain": "                                user_id  conversions\n0  00157779-810c-4498-9e05-a1e9e3cedf93           11\n1  00551e79-152e-4441-9cf7-565d7eb04090            3\n2  005fbea5-2678-406f-88a6-fbe9787e2268            3\n3  00753c79-ea81-4456-acd0-a47a23ca2fb9            1\n4  007d031d-5018-4e02-b7ee-72a30609173f            2",
            "text/html": "<div>\n<style scoped>\n    .dataframe tbody tr th:only-of-type {\n        vertical-align: middle;\n    }\n\n    .dataframe tbody tr th {\n        vertical-align: top;\n    }\n\n    .dataframe thead th {\n        text-align: right;\n    }\n</style>\n<table border=\"1\" class=\"dataframe\">\n  <thead>\n    <tr style=\"text-align: right;\">\n      <th></th>\n      <th>user_id</th>\n      <th>conversions</th>\n    </tr>\n  </thead>\n  <tbody>\n    <tr>\n      <th>0</th>\n      <td>00157779-810c-4498-9e05-a1e9e3cedf93</td>\n      <td>11</td>\n    </tr>\n    <tr>\n      <th>1</th>\n      <td>00551e79-152e-4441-9cf7-565d7eb04090</td>\n      <td>3</td>\n    </tr>\n    <tr>\n      <th>2</th>\n      <td>005fbea5-2678-406f-88a6-fbe9787e2268</td>\n      <td>3</td>\n    </tr>\n    <tr>\n      <th>3</th>\n      <td>00753c79-ea81-4456-acd0-a47a23ca2fb9</td>\n      <td>1</td>\n    </tr>\n    <tr>\n      <th>4</th>\n      <td>007d031d-5018-4e02-b7ee-72a30609173f</td>\n      <td>2</td>\n    </tr>\n  </tbody>\n</table>\n</div>"
          },
          "execution_count": 93,
          "metadata": {},
          "output_type": "execute_result"
        }
      ],
      "source": [
        "conversion.head()"
      ]
    },
    {
      "cell_type": "code",
      "execution_count": null,
      "metadata": {
        "pycharm": {
          "name": "#%%\n"
        },
        "id": "zjgolzO-ucqm"
      },
      "outputs": [],
      "source": [
        "# добавим столбец conversions в датасет с признаками\n",
        "features = pd.merge(features, conversion, on='user_id', how='left')"
      ]
    },
    {
      "cell_type": "code",
      "execution_count": null,
      "metadata": {
        "pycharm": {
          "name": "#%%\n"
        },
        "id": "7TyBQnvgucqn"
      },
      "outputs": [],
      "source": [
        "# заменим пропуски нулями\n",
        "features['conversions'] = features['conversions'].fillna(0)"
      ]
    },
    {
      "cell_type": "code",
      "execution_count": null,
      "metadata": {
        "pycharm": {
          "name": "#%%\n"
        },
        "id": "35EkjCDGucqn",
        "outputId": "079d7c18-85a5-4401-b332-edac329fb5ca"
      },
      "outputs": [
        {
          "data": {
            "text/plain": "                                user_id  time_spent  visits  conversions\n0  0001b1d5-b74a-4cbf-aeb0-7df5947bf349        43.7       5          0.0\n1  00157779-810c-4498-9e05-a1e9e3cedf93       177.8      10         11.0\n2  00463033-5717-4bf1-91b4-09183923b9df        21.2       2          0.0\n3  004690c3-5a84-4bb7-a8af-e0c8f8fca64e        87.5       7          0.0\n4  00551e79-152e-4441-9cf7-565d7eb04090         9.4       3          3.0",
            "text/html": "<div>\n<style scoped>\n    .dataframe tbody tr th:only-of-type {\n        vertical-align: middle;\n    }\n\n    .dataframe tbody tr th {\n        vertical-align: top;\n    }\n\n    .dataframe thead th {\n        text-align: right;\n    }\n</style>\n<table border=\"1\" class=\"dataframe\">\n  <thead>\n    <tr style=\"text-align: right;\">\n      <th></th>\n      <th>user_id</th>\n      <th>time_spent</th>\n      <th>visits</th>\n      <th>conversions</th>\n    </tr>\n  </thead>\n  <tbody>\n    <tr>\n      <th>0</th>\n      <td>0001b1d5-b74a-4cbf-aeb0-7df5947bf349</td>\n      <td>43.7</td>\n      <td>5</td>\n      <td>0.0</td>\n    </tr>\n    <tr>\n      <th>1</th>\n      <td>00157779-810c-4498-9e05-a1e9e3cedf93</td>\n      <td>177.8</td>\n      <td>10</td>\n      <td>11.0</td>\n    </tr>\n    <tr>\n      <th>2</th>\n      <td>00463033-5717-4bf1-91b4-09183923b9df</td>\n      <td>21.2</td>\n      <td>2</td>\n      <td>0.0</td>\n    </tr>\n    <tr>\n      <th>3</th>\n      <td>004690c3-5a84-4bb7-a8af-e0c8f8fca64e</td>\n      <td>87.5</td>\n      <td>7</td>\n      <td>0.0</td>\n    </tr>\n    <tr>\n      <th>4</th>\n      <td>00551e79-152e-4441-9cf7-565d7eb04090</td>\n      <td>9.4</td>\n      <td>3</td>\n      <td>3.0</td>\n    </tr>\n  </tbody>\n</table>\n</div>"
          },
          "execution_count": 96,
          "metadata": {},
          "output_type": "execute_result"
        }
      ],
      "source": [
        "features.head()"
      ]
    },
    {
      "cell_type": "markdown",
      "metadata": {
        "pycharm": {
          "name": "#%% md\n"
        },
        "id": "J27UJNTLucqn"
      },
      "source": [
        "#### События tips_click и favorites_add примем за метрики вовлеченности пользователей в приложение."
      ]
    },
    {
      "cell_type": "code",
      "execution_count": null,
      "metadata": {
        "pycharm": {
          "name": "#%%\n"
        },
        "id": "KQVaTG_ducqn"
      },
      "outputs": [],
      "source": [
        "# посчитаем, сколько раз пользователи просмотрели рекомендованные объявления и сколько раз добавили объявления в избранное\n",
        "\n",
        "# промотр рекомендованного объявления\n",
        "tips = df.query('event_name==\"tips_click\"')\\\n",
        ".groupby('user_id', as_index=False)\\\n",
        ".agg({'event_name':'count'})\\\n",
        ".rename(columns={'event_name':'tips'})\n",
        "\n",
        "# добавление в избранное \n",
        "favorites = df.query('event_name==\"favorites_add\"')\\\n",
        ".groupby('user_id', as_index=False)\\\n",
        ".agg({'event_name':'count'})\\\n",
        ".rename(columns={'event_name':'favorites'})"
      ]
    },
    {
      "cell_type": "code",
      "execution_count": null,
      "metadata": {
        "pycharm": {
          "name": "#%%\n"
        },
        "id": "Ibgnajxhucqn"
      },
      "outputs": [],
      "source": [
        "# добавим столбцы с метриками в датасет\n",
        "\n",
        "# просмотры\n",
        "features = pd.merge(features, tips, on=['user_id'], how='left')\n",
        "\n",
        "# добавления в избранное\n",
        "features = pd.merge(features, favorites, on=['user_id'], how='left')"
      ]
    },
    {
      "cell_type": "code",
      "execution_count": null,
      "metadata": {
        "pycharm": {
          "name": "#%%\n"
        },
        "id": "Dx7FpsGWucqn"
      },
      "outputs": [],
      "source": [
        "# заменим пропуски нулями\n",
        "features[['tips', 'favorites']] = features[['tips', 'favorites']].fillna(0)"
      ]
    },
    {
      "cell_type": "code",
      "execution_count": null,
      "metadata": {
        "pycharm": {
          "name": "#%%\n"
        },
        "id": "nYR3ugMQucqn",
        "outputId": "14aad2b0-7290-44a8-948a-2155fc2558a7"
      },
      "outputs": [
        {
          "data": {
            "text/plain": "                                user_id  time_spent  visits  conversions  \\\n0  0001b1d5-b74a-4cbf-aeb0-7df5947bf349        43.7       5          0.0   \n1  00157779-810c-4498-9e05-a1e9e3cedf93       177.8      10         11.0   \n2  00463033-5717-4bf1-91b4-09183923b9df        21.2       2          0.0   \n3  004690c3-5a84-4bb7-a8af-e0c8f8fca64e        87.5       7          0.0   \n4  00551e79-152e-4441-9cf7-565d7eb04090         9.4       3          3.0   \n\n   tips  favorites  \n0   0.0        0.0  \n1   0.0        2.0  \n2   0.0        0.0  \n3   0.0        0.0  \n4   0.0        0.0  ",
            "text/html": "<div>\n<style scoped>\n    .dataframe tbody tr th:only-of-type {\n        vertical-align: middle;\n    }\n\n    .dataframe tbody tr th {\n        vertical-align: top;\n    }\n\n    .dataframe thead th {\n        text-align: right;\n    }\n</style>\n<table border=\"1\" class=\"dataframe\">\n  <thead>\n    <tr style=\"text-align: right;\">\n      <th></th>\n      <th>user_id</th>\n      <th>time_spent</th>\n      <th>visits</th>\n      <th>conversions</th>\n      <th>tips</th>\n      <th>favorites</th>\n    </tr>\n  </thead>\n  <tbody>\n    <tr>\n      <th>0</th>\n      <td>0001b1d5-b74a-4cbf-aeb0-7df5947bf349</td>\n      <td>43.7</td>\n      <td>5</td>\n      <td>0.0</td>\n      <td>0.0</td>\n      <td>0.0</td>\n    </tr>\n    <tr>\n      <th>1</th>\n      <td>00157779-810c-4498-9e05-a1e9e3cedf93</td>\n      <td>177.8</td>\n      <td>10</td>\n      <td>11.0</td>\n      <td>0.0</td>\n      <td>2.0</td>\n    </tr>\n    <tr>\n      <th>2</th>\n      <td>00463033-5717-4bf1-91b4-09183923b9df</td>\n      <td>21.2</td>\n      <td>2</td>\n      <td>0.0</td>\n      <td>0.0</td>\n      <td>0.0</td>\n    </tr>\n    <tr>\n      <th>3</th>\n      <td>004690c3-5a84-4bb7-a8af-e0c8f8fca64e</td>\n      <td>87.5</td>\n      <td>7</td>\n      <td>0.0</td>\n      <td>0.0</td>\n      <td>0.0</td>\n    </tr>\n    <tr>\n      <th>4</th>\n      <td>00551e79-152e-4441-9cf7-565d7eb04090</td>\n      <td>9.4</td>\n      <td>3</td>\n      <td>3.0</td>\n      <td>0.0</td>\n      <td>0.0</td>\n    </tr>\n  </tbody>\n</table>\n</div>"
          },
          "execution_count": 103,
          "metadata": {},
          "output_type": "execute_result"
        }
      ],
      "source": [
        "features.head()"
      ]
    },
    {
      "cell_type": "markdown",
      "metadata": {
        "pycharm": {
          "name": "#%% md\n"
        },
        "id": "02aMcAESucqn"
      },
      "source": [
        "#### Посчитаем суммарное время, проведенное каждым пользователем в приложении."
      ]
    },
    {
      "cell_type": "code",
      "execution_count": null,
      "metadata": {
        "pycharm": {
          "name": "#%%\n"
        },
        "id": "u98Eq8aHucqo"
      },
      "outputs": [],
      "source": [
        "# определим начало и конец сеанса каждого пользователя\n",
        "\n",
        "# начало сеанса\n",
        "user_start_time = df.groupby(['user_id'], as_index=False).agg({'event_time':'min'})\n",
        "user_start_time = user_start_time.rename(columns={'event_time':'user_start_time'})\n",
        "\n",
        "# конец сеанса\n",
        "user_stop_time = df.groupby(['user_id'], as_index=False).agg({'event_time':'max'})\n",
        "user_stop_time = user_stop_time.rename(columns={'event_time':'user_stop_time'})"
      ]
    },
    {
      "cell_type": "code",
      "execution_count": null,
      "metadata": {
        "pycharm": {
          "name": "#%%\n"
        },
        "id": "hBWEXSznucqo"
      },
      "outputs": [],
      "source": [
        "# объединим столбцы\n",
        "total_user_time =  pd.merge(user_start_time, user_stop_time, on=['user_id'])"
      ]
    },
    {
      "cell_type": "code",
      "execution_count": null,
      "metadata": {
        "pycharm": {
          "name": "#%%\n"
        },
        "id": "9o18YR0Fucqo"
      },
      "outputs": [],
      "source": [
        "# найдем суммарное время, проведенное каждым пользователем в приложении\n",
        "total_user_time['total_time_spent'] = total_user_time['user_stop_time'] - total_user_time['user_start_time']"
      ]
    },
    {
      "cell_type": "code",
      "execution_count": null,
      "metadata": {
        "pycharm": {
          "name": "#%%\n"
        },
        "id": "bBTqskYfucqo"
      },
      "outputs": [],
      "source": [
        "# удалим ненужные столбцы \n",
        "total_user_time = total_user_time.drop(['user_start_time', 'user_stop_time'], axis=1)"
      ]
    },
    {
      "cell_type": "code",
      "execution_count": null,
      "metadata": {
        "pycharm": {
          "name": "#%%\n"
        },
        "id": "sRZ3f5HJucqo"
      },
      "outputs": [],
      "source": [
        "# переведем значения в минуты\n",
        "total_user_time['total_time_spent'] = total_user_time['total_time_spent'].astype('timedelta64[s]') / 60"
      ]
    },
    {
      "cell_type": "code",
      "execution_count": null,
      "metadata": {
        "pycharm": {
          "name": "#%%\n"
        },
        "id": "rlfWJTUUucqo",
        "outputId": "f606ba32-d9ee-4ce4-89d8-fe4355154066"
      },
      "outputs": [
        {
          "data": {
            "text/plain": "                                user_id  total_time_spent\n0  0001b1d5-b74a-4cbf-aeb0-7df5947bf349      21471.116667\n1  00157779-810c-4498-9e05-a1e9e3cedf93      21337.600000\n2  00463033-5717-4bf1-91b4-09183923b9df         24.716667\n3  004690c3-5a84-4bb7-a8af-e0c8f8fca64e      18688.166667\n4  00551e79-152e-4441-9cf7-565d7eb04090       4892.516667",
            "text/html": "<div>\n<style scoped>\n    .dataframe tbody tr th:only-of-type {\n        vertical-align: middle;\n    }\n\n    .dataframe tbody tr th {\n        vertical-align: top;\n    }\n\n    .dataframe thead th {\n        text-align: right;\n    }\n</style>\n<table border=\"1\" class=\"dataframe\">\n  <thead>\n    <tr style=\"text-align: right;\">\n      <th></th>\n      <th>user_id</th>\n      <th>total_time_spent</th>\n    </tr>\n  </thead>\n  <tbody>\n    <tr>\n      <th>0</th>\n      <td>0001b1d5-b74a-4cbf-aeb0-7df5947bf349</td>\n      <td>21471.116667</td>\n    </tr>\n    <tr>\n      <th>1</th>\n      <td>00157779-810c-4498-9e05-a1e9e3cedf93</td>\n      <td>21337.600000</td>\n    </tr>\n    <tr>\n      <th>2</th>\n      <td>00463033-5717-4bf1-91b4-09183923b9df</td>\n      <td>24.716667</td>\n    </tr>\n    <tr>\n      <th>3</th>\n      <td>004690c3-5a84-4bb7-a8af-e0c8f8fca64e</td>\n      <td>18688.166667</td>\n    </tr>\n    <tr>\n      <th>4</th>\n      <td>00551e79-152e-4441-9cf7-565d7eb04090</td>\n      <td>4892.516667</td>\n    </tr>\n  </tbody>\n</table>\n</div>"
          },
          "execution_count": 110,
          "metadata": {},
          "output_type": "execute_result"
        }
      ],
      "source": [
        "# первые 5 строк\n",
        "total_user_time.head()"
      ]
    },
    {
      "cell_type": "code",
      "execution_count": null,
      "metadata": {
        "pycharm": {
          "name": "#%%\n"
        },
        "id": "2MiZ-HIeucqp"
      },
      "outputs": [],
      "source": [
        "# округлим total_time_spent\n",
        "total_user_time['total_time_spent'] = round(total_user_time['total_time_spent'], 1)"
      ]
    },
    {
      "cell_type": "code",
      "execution_count": null,
      "metadata": {
        "pycharm": {
          "name": "#%%\n"
        },
        "id": "cccnMXphucqp",
        "outputId": "c7a5c78b-f057-419f-8055-26567719c12f"
      },
      "outputs": [
        {
          "data": {
            "text/plain": "                                user_id  total_time_spent\n0  0001b1d5-b74a-4cbf-aeb0-7df5947bf349           21471.1\n1  00157779-810c-4498-9e05-a1e9e3cedf93           21337.6\n2  00463033-5717-4bf1-91b4-09183923b9df              24.7\n3  004690c3-5a84-4bb7-a8af-e0c8f8fca64e           18688.2\n4  00551e79-152e-4441-9cf7-565d7eb04090            4892.5",
            "text/html": "<div>\n<style scoped>\n    .dataframe tbody tr th:only-of-type {\n        vertical-align: middle;\n    }\n\n    .dataframe tbody tr th {\n        vertical-align: top;\n    }\n\n    .dataframe thead th {\n        text-align: right;\n    }\n</style>\n<table border=\"1\" class=\"dataframe\">\n  <thead>\n    <tr style=\"text-align: right;\">\n      <th></th>\n      <th>user_id</th>\n      <th>total_time_spent</th>\n    </tr>\n  </thead>\n  <tbody>\n    <tr>\n      <th>0</th>\n      <td>0001b1d5-b74a-4cbf-aeb0-7df5947bf349</td>\n      <td>21471.1</td>\n    </tr>\n    <tr>\n      <th>1</th>\n      <td>00157779-810c-4498-9e05-a1e9e3cedf93</td>\n      <td>21337.6</td>\n    </tr>\n    <tr>\n      <th>2</th>\n      <td>00463033-5717-4bf1-91b4-09183923b9df</td>\n      <td>24.7</td>\n    </tr>\n    <tr>\n      <th>3</th>\n      <td>004690c3-5a84-4bb7-a8af-e0c8f8fca64e</td>\n      <td>18688.2</td>\n    </tr>\n    <tr>\n      <th>4</th>\n      <td>00551e79-152e-4441-9cf7-565d7eb04090</td>\n      <td>4892.5</td>\n    </tr>\n  </tbody>\n</table>\n</div>"
          },
          "execution_count": 112,
          "metadata": {},
          "output_type": "execute_result"
        }
      ],
      "source": [
        "total_user_time.head()"
      ]
    },
    {
      "cell_type": "code",
      "execution_count": null,
      "metadata": {
        "pycharm": {
          "name": "#%%\n"
        },
        "id": "lZolOo2Nucqp"
      },
      "outputs": [],
      "source": [
        "# добавим столбец total_time_spent в датасет с признаками\n",
        "features = pd.merge(features, total_user_time, on='user_id', how='left')"
      ]
    },
    {
      "cell_type": "code",
      "execution_count": null,
      "metadata": {
        "pycharm": {
          "name": "#%%\n"
        },
        "id": "JU-jaUSpucqp",
        "outputId": "2a05443b-ff07-4761-9026-c00a5b846c55"
      },
      "outputs": [
        {
          "data": {
            "text/plain": "                                user_id  time_spent  visits  conversions  \\\n0  0001b1d5-b74a-4cbf-aeb0-7df5947bf349        43.7       5          0.0   \n1  00157779-810c-4498-9e05-a1e9e3cedf93       177.8      10         11.0   \n2  00463033-5717-4bf1-91b4-09183923b9df        21.2       2          0.0   \n3  004690c3-5a84-4bb7-a8af-e0c8f8fca64e        87.5       7          0.0   \n4  00551e79-152e-4441-9cf7-565d7eb04090         9.4       3          3.0   \n\n   tips  favorites  total_time_spent  \n0   0.0        0.0           21471.1  \n1   0.0        2.0           21337.6  \n2   0.0        0.0              24.7  \n3   0.0        0.0           18688.2  \n4   0.0        0.0            4892.5  ",
            "text/html": "<div>\n<style scoped>\n    .dataframe tbody tr th:only-of-type {\n        vertical-align: middle;\n    }\n\n    .dataframe tbody tr th {\n        vertical-align: top;\n    }\n\n    .dataframe thead th {\n        text-align: right;\n    }\n</style>\n<table border=\"1\" class=\"dataframe\">\n  <thead>\n    <tr style=\"text-align: right;\">\n      <th></th>\n      <th>user_id</th>\n      <th>time_spent</th>\n      <th>visits</th>\n      <th>conversions</th>\n      <th>tips</th>\n      <th>favorites</th>\n      <th>total_time_spent</th>\n    </tr>\n  </thead>\n  <tbody>\n    <tr>\n      <th>0</th>\n      <td>0001b1d5-b74a-4cbf-aeb0-7df5947bf349</td>\n      <td>43.7</td>\n      <td>5</td>\n      <td>0.0</td>\n      <td>0.0</td>\n      <td>0.0</td>\n      <td>21471.1</td>\n    </tr>\n    <tr>\n      <th>1</th>\n      <td>00157779-810c-4498-9e05-a1e9e3cedf93</td>\n      <td>177.8</td>\n      <td>10</td>\n      <td>11.0</td>\n      <td>0.0</td>\n      <td>2.0</td>\n      <td>21337.6</td>\n    </tr>\n    <tr>\n      <th>2</th>\n      <td>00463033-5717-4bf1-91b4-09183923b9df</td>\n      <td>21.2</td>\n      <td>2</td>\n      <td>0.0</td>\n      <td>0.0</td>\n      <td>0.0</td>\n      <td>24.7</td>\n    </tr>\n    <tr>\n      <th>3</th>\n      <td>004690c3-5a84-4bb7-a8af-e0c8f8fca64e</td>\n      <td>87.5</td>\n      <td>7</td>\n      <td>0.0</td>\n      <td>0.0</td>\n      <td>0.0</td>\n      <td>18688.2</td>\n    </tr>\n    <tr>\n      <th>4</th>\n      <td>00551e79-152e-4441-9cf7-565d7eb04090</td>\n      <td>9.4</td>\n      <td>3</td>\n      <td>3.0</td>\n      <td>0.0</td>\n      <td>0.0</td>\n      <td>4892.5</td>\n    </tr>\n  </tbody>\n</table>\n</div>"
          },
          "execution_count": 114,
          "metadata": {},
          "output_type": "execute_result"
        }
      ],
      "source": [
        "features.head()"
      ]
    },
    {
      "cell_type": "code",
      "execution_count": null,
      "metadata": {
        "pycharm": {
          "name": "#%%\n"
        },
        "id": "JqMmhim4ucqp",
        "outputId": "5dd79efa-9d67-44ff-e544-931e589e4c0a"
      },
      "outputs": [
        {
          "name": "stdout",
          "output_type": "stream",
          "text": [
            "favorites\n",
            "[0. 1. 9.]\n",
            "conversions\n",
            "[ 2.  5. 15.]\n",
            "tips\n",
            "[0. 1. 4.]\n",
            "visits\n",
            "[ 5.  8. 19.]\n"
          ]
        },
        {
          "data": {
            "text/plain": "<Figure size 1080x432 with 1 Axes>",
            "image/png": "[encoded data removed]"
          },
          "metadata": {},
          "output_type": "display_data"
        },
        {
          "data": {
            "text/plain": "<Figure size 1080x432 with 1 Axes>",
            "image/png": "[encoded data removed]"
          },
          "metadata": {},
          "output_type": "display_data"
        },
        {
          "data": {
            "text/plain": "<Figure size 1080x432 with 1 Axes>",
            "image/png": "[encoded data removed]"
          },
          "metadata": {},
          "output_type": "display_data"
        },
        {
          "data": {
            "text/plain": "<Figure size 1080x432 with 1 Axes>",
            "image/png": "[encoded data removed]"
          },
          "metadata": {},
          "output_type": "display_data"
        }
      ],
      "source": [
        "# нарисуем графики распределения для каждого признака\n",
        "for i in {'visits', 'conversions', 'tips', 'favorites'}:\n",
        "    str = 'Распределение признака '+ i\n",
        "    \n",
        "    plt.figure(figsize=(15, 6))\n",
        "    sns.histplot(features[i], bins=20, color='pink')\n",
        "    plt.title(str)\n",
        "    plt.ylabel('Количество событий')\n",
        "    plt.xlim(0, 30)\n",
        "    plt.show\n",
        "    print(i)\n",
        "    print(np.percentile(features[i], [90, 95, 99]));"
      ]
    },
    {
      "cell_type": "markdown",
      "metadata": {
        "pycharm": {
          "name": "#%% md\n"
        },
        "id": "MkeaXgYZucqq"
      },
      "source": [
        "- На каждого пользователя приходится от одной до 5 сессий;\n",
        "- Пользователи крайне редко добавляют объявления в избранное;\n",
        "- Пользователи крайне редко просматривают рекомендованные объявления;\n",
        "- Большая часть пользователей не совершает целевое действие - просмотр контактов."
      ]
    },
    {
      "cell_type": "code",
      "execution_count": null,
      "metadata": {
        "pycharm": {
          "name": "#%%\n"
        },
        "id": "P0aybFmFucqq",
        "outputId": "e883d707-e1ab-401d-b0ea-5f448708bc25"
      },
      "outputs": [
        {
          "data": {
            "text/plain": "<Figure size 1080x576 with 1 Axes>",
            "image/png": "[encoded data removed]"
          },
          "metadata": {},
          "output_type": "display_data"
        },
        {
          "name": "stdout",
          "output_type": "stream",
          "text": [
            "[ 62.2   102.3   241.336]\n"
          ]
        },
        {
          "data": {
            "text/plain": "<Figure size 1080x576 with 1 Axes>",
            "image/png": "[encoded data removed]"
          },
          "metadata": {},
          "output_type": "display_data"
        },
        {
          "name": "stdout",
          "output_type": "stream",
          "text": [
            "[14115.    21850.24  33106.252]\n"
          ]
        }
      ],
      "source": [
        "# нарисуем графики распределений для значений \"продолжительность события\" и\\\n",
        "# суммарное время, проведенное пользователем в приложении\n",
        "\n",
        "# продолжительность события\n",
        "plt.figure(figsize=(15, 8))\n",
        "sns.histplot(features['time_spent'], bins=100)\n",
        "plt.title('Распределение признака time_spent')\n",
        "plt.xlabel('Время в секундах')\n",
        "plt.ylabel('Количество пользователей')\n",
        "plt.xlim(0, 500)\n",
        "plt.show()\n",
        "print(np.percentile(features['time_spent'], [90, 95, 99]))\n",
        "\n",
        "# суммарное время пользователя в приложении\n",
        "plt.figure(figsize=(15, 8))\n",
        "sns.histplot(features['total_time_spent'], bins=100)\n",
        "plt.title('Распределение признака total_time_spent')\n",
        "plt.xlabel('Время в секундах')\n",
        "plt.ylabel('Количество пользователей')\n",
        "plt.xlim(0, 3000)\n",
        "plt.show()\n",
        "print(np.percentile(features['total_time_spent'], [90, 95, 99]));"
      ]
    },
    {
      "cell_type": "markdown",
      "metadata": {
        "pycharm": {
          "name": "#%% md\n"
        },
        "id": "ra6LL3tSucqq"
      },
      "source": [
        "- В основном, сеансы пользователей быстро начинаются и быстро заканчиваются. Мало какие пользователи проводят в приложении больше 100 секунд;\n",
        "- Общее время, проведенное пользователем в приложении, в основном не превышает 500 секунд. Есть те, кто проводит больше времени в приложении, но их меньшинство.\n",
        "- В целом, очень высок процент пользователей, которые открывают и закрывают приложение, так и не успев толком им попользоваться."
      ]
    },
    {
      "cell_type": "code",
      "execution_count": null,
      "metadata": {
        "pycharm": {
          "name": "#%%\n"
        },
        "id": "aPDwIan8ucqq",
        "outputId": "8257b6c4-a548-4738-930d-4e8f4f6fed53"
      },
      "outputs": [
        {
          "data": {
            "text/plain": "<Figure size 1080x720 with 2 Axes>",
            "image/png": "[encoded data removed]"
          },
          "metadata": {},
          "output_type": "display_data"
        }
      ],
      "source": [
        "# матрица корреляций для таблицы с признаками\n",
        "cm = features.corr() \n",
        "\n",
        "# нарисуем тепловую карту для матрицы корреляций\n",
        "plt.figure(figsize=(15, 10))\n",
        "sns.heatmap(cm, annot = True, square = True,\\\n",
        "            vmin = -1, vmax = 1, center = 0, fmt='.1g', cmap= 'coolwarm')\n",
        "plt.title('Тепловая карта для матрицы корреляций')\n",
        "plt.show();"
      ]
    },
    {
      "cell_type": "markdown",
      "metadata": {
        "pycharm": {
          "name": "#%% md\n"
        },
        "id": "iRtDz1RQucqr"
      },
      "source": [
        "- Сильная положительная корреляция между time_spent и visits - 0.8. Очевидно, что чем чаще пользователи посещают наше приложении, тем больше времени они в нем проводят;\n",
        "- Идентичная ситуация с переменными total_time_spent и visits - 0.6;\n",
        "- Выраженная положительная корреляция между time_spent и conversions - 0.6. Чем дольше длится сеанс пользователя, тем больше пользователь \"вовлекается\" в приложение и совершает покупку;\n",
        "- Выраженная положительная корреляция между visits и conversions - 0.5. Чем чаще пользователи заходят в приложение, тем с большей вероятностью они совершают покупку."
      ]
    },
    {
      "cell_type": "markdown",
      "metadata": {
        "pycharm": {
          "name": "#%% md\n"
        },
        "id": "p6pkBAfSucqr"
      },
      "source": [
        "### <a id='step4'>Кластеризация пользователей</a>"
      ]
    },
    {
      "cell_type": "code",
      "execution_count": null,
      "metadata": {
        "pycharm": {
          "name": "#%%\n"
        },
        "id": "xLeMSRRXucqr",
        "outputId": "82dca353-c63f-48bd-f6ee-f8d645b13fa3"
      },
      "outputs": [
        {
          "data": {
            "text/plain": "<Figure size 1440x1080 with 1 Axes>",
            "image/png": "[encoded data removed]"
          },
          "metadata": {},
          "output_type": "display_data"
        }
      ],
      "source": [
        "# построим дендограмму\n",
        "\n",
        "# отбросим ненужный столбец с id пользователей и целевую переменную, чтобы исключить подглядывание модели\n",
        "X = features.drop(['user_id', 'conversions'], axis=1)\n",
        "\n",
        "# стандартизируем данные\n",
        "sc = StandardScaler()\n",
        "X_sc = sc.fit_transform(X)\n",
        "\n",
        "linked = linkage(X_sc, method = 'ward')\n",
        "plt.figure(figsize=(20, 15))  \n",
        "dendrogram(linked, orientation='top')\n",
        "plt.title('Иерархическая кластеризация пользователей мобильного приложения \"Ненужные вещи\"')\n",
        "plt.show();"
      ]
    },
    {
      "cell_type": "markdown",
      "metadata": {
        "pycharm": {
          "name": "#%% md\n"
        },
        "id": "dnH4PjHvucqr"
      },
      "source": [
        "#### Оптимальное количество кластеров - 3."
      ]
    },
    {
      "cell_type": "code",
      "execution_count": null,
      "metadata": {
        "pycharm": {
          "name": "#%%\n"
        },
        "id": "Tb83FgwTucqs"
      },
      "outputs": [],
      "source": [
        "# произведем кластеризацию\n",
        "\n",
        "# обучим модель кластеризации через k-means\n",
        "km = KMeans(n_clusters=3, random_state = 0)\n",
        "labels = km.fit_predict(X_sc)\n",
        "\n",
        "# сохраним кластеры в датасет с признаками\n",
        "features['cluster_km'] = labels"
      ]
    },
    {
      "cell_type": "code",
      "execution_count": null,
      "metadata": {
        "pycharm": {
          "name": "#%%\n"
        },
        "id": "R3dqs3Thucqs",
        "outputId": "3e6a4170-be30-4bee-9fb8-500317ac905e"
      },
      "outputs": [
        {
          "data": {
            "text/plain": "                                user_id  time_spent  visits  conversions  \\\n0  0001b1d5-b74a-4cbf-aeb0-7df5947bf349        43.7       5          0.0   \n1  00157779-810c-4498-9e05-a1e9e3cedf93       177.8      10         11.0   \n2  00463033-5717-4bf1-91b4-09183923b9df        21.2       2          0.0   \n3  004690c3-5a84-4bb7-a8af-e0c8f8fca64e        87.5       7          0.0   \n4  00551e79-152e-4441-9cf7-565d7eb04090         9.4       3          3.0   \n\n   tips  favorites  total_time_spent  cluster_km  \n0   0.0        0.0           21471.1           1  \n1   0.0        2.0           21337.6           1  \n2   0.0        0.0              24.7           0  \n3   0.0        0.0           18688.2           1  \n4   0.0        0.0            4892.5           0  ",
            "text/html": "<div>\n<style scoped>\n    .dataframe tbody tr th:only-of-type {\n        vertical-align: middle;\n    }\n\n    .dataframe tbody tr th {\n        vertical-align: top;\n    }\n\n    .dataframe thead th {\n        text-align: right;\n    }\n</style>\n<table border=\"1\" class=\"dataframe\">\n  <thead>\n    <tr style=\"text-align: right;\">\n      <th></th>\n      <th>user_id</th>\n      <th>time_spent</th>\n      <th>visits</th>\n      <th>conversions</th>\n      <th>tips</th>\n      <th>favorites</th>\n      <th>total_time_spent</th>\n      <th>cluster_km</th>\n    </tr>\n  </thead>\n  <tbody>\n    <tr>\n      <th>0</th>\n      <td>0001b1d5-b74a-4cbf-aeb0-7df5947bf349</td>\n      <td>43.7</td>\n      <td>5</td>\n      <td>0.0</td>\n      <td>0.0</td>\n      <td>0.0</td>\n      <td>21471.1</td>\n      <td>1</td>\n    </tr>\n    <tr>\n      <th>1</th>\n      <td>00157779-810c-4498-9e05-a1e9e3cedf93</td>\n      <td>177.8</td>\n      <td>10</td>\n      <td>11.0</td>\n      <td>0.0</td>\n      <td>2.0</td>\n      <td>21337.6</td>\n      <td>1</td>\n    </tr>\n    <tr>\n      <th>2</th>\n      <td>00463033-5717-4bf1-91b4-09183923b9df</td>\n      <td>21.2</td>\n      <td>2</td>\n      <td>0.0</td>\n      <td>0.0</td>\n      <td>0.0</td>\n      <td>24.7</td>\n      <td>0</td>\n    </tr>\n    <tr>\n      <th>3</th>\n      <td>004690c3-5a84-4bb7-a8af-e0c8f8fca64e</td>\n      <td>87.5</td>\n      <td>7</td>\n      <td>0.0</td>\n      <td>0.0</td>\n      <td>0.0</td>\n      <td>18688.2</td>\n      <td>1</td>\n    </tr>\n    <tr>\n      <th>4</th>\n      <td>00551e79-152e-4441-9cf7-565d7eb04090</td>\n      <td>9.4</td>\n      <td>3</td>\n      <td>3.0</td>\n      <td>0.0</td>\n      <td>0.0</td>\n      <td>4892.5</td>\n      <td>0</td>\n    </tr>\n  </tbody>\n</table>\n</div>"
          },
          "execution_count": 120,
          "metadata": {},
          "output_type": "execute_result"
        }
      ],
      "source": [
        "# проверим. что все получилось\n",
        "features.head()"
      ]
    },
    {
      "cell_type": "code",
      "execution_count": null,
      "metadata": {
        "pycharm": {
          "name": "#%%\n"
        },
        "id": "eMy1dvr0ucqt"
      },
      "outputs": [],
      "source": [
        "# посчитаем количество пользователей в каждом кластере\n",
        "clusters_users = features.groupby('cluster_km', as_index=False)\\\n",
        ".count()[['cluster_km', 'user_id']]\\\n",
        ".rename(columns={'user_id': 'clusters_value'})"
      ]
    },
    {
      "cell_type": "code",
      "execution_count": null,
      "metadata": {
        "pycharm": {
          "name": "#%%\n"
        },
        "id": "FeHujubHucqt"
      },
      "outputs": [],
      "source": [
        "# посчитаем процентное соотношение\n",
        "clusters_users['pies'] = round((clusters_users['clusters_value'] / features['user_id'].nunique()) * 100, 2)"
      ]
    },
    {
      "cell_type": "code",
      "execution_count": null,
      "metadata": {
        "pycharm": {
          "name": "#%%\n"
        },
        "id": "m-mv7oSHucqt",
        "outputId": "194ce361-b4d5-480b-e2d8-d85ce01dc6c7"
      },
      "outputs": [
        {
          "data": {
            "text/plain": "   cluster_km  clusters_value   pies\n0           0            3649  85.00\n1           1             602  14.02\n2           2              42   0.98",
            "text/html": "<div>\n<style scoped>\n    .dataframe tbody tr th:only-of-type {\n        vertical-align: middle;\n    }\n\n    .dataframe tbody tr th {\n        vertical-align: top;\n    }\n\n    .dataframe thead th {\n        text-align: right;\n    }\n</style>\n<table border=\"1\" class=\"dataframe\">\n  <thead>\n    <tr style=\"text-align: right;\">\n      <th></th>\n      <th>cluster_km</th>\n      <th>clusters_value</th>\n      <th>pies</th>\n    </tr>\n  </thead>\n  <tbody>\n    <tr>\n      <th>0</th>\n      <td>0</td>\n      <td>3649</td>\n      <td>85.00</td>\n    </tr>\n    <tr>\n      <th>1</th>\n      <td>1</td>\n      <td>602</td>\n      <td>14.02</td>\n    </tr>\n    <tr>\n      <th>2</th>\n      <td>2</td>\n      <td>42</td>\n      <td>0.98</td>\n    </tr>\n  </tbody>\n</table>\n</div>"
          },
          "execution_count": 123,
          "metadata": {},
          "output_type": "execute_result"
        }
      ],
      "source": [
        "# проверим\n",
        "clusters_users.head()"
      ]
    },
    {
      "cell_type": "code",
      "execution_count": null,
      "metadata": {
        "pycharm": {
          "name": "#%%\n"
        },
        "id": "4LU7JXhqucqt"
      },
      "outputs": [],
      "source": [
        "# посчитаем средние значения для признаков\n",
        "clusters_mean = features.groupby('cluster_km').mean()"
      ]
    },
    {
      "cell_type": "code",
      "execution_count": null,
      "metadata": {
        "pycharm": {
          "name": "#%%\n"
        },
        "id": "Qzjo-8Efucqu"
      },
      "outputs": [],
      "source": [
        "# добавим процентное соотношение\n",
        "clusters_mean['pies'] = clusters_users['pies']"
      ]
    },
    {
      "cell_type": "code",
      "execution_count": null,
      "metadata": {
        "pycharm": {
          "name": "#%%\n"
        },
        "id": "2UW8iqqaucqu"
      },
      "outputs": [],
      "source": [
        "# переведем time_spent в часы\n",
        "clusters_mean['time_spent'] = round(clusters_mean['time_spent'] / 60, 2)"
      ]
    },
    {
      "cell_type": "code",
      "execution_count": null,
      "metadata": {
        "pycharm": {
          "name": "#%%\n"
        },
        "id": "gnt9MZWeucqu"
      },
      "outputs": [],
      "source": [
        "# переведем total_time_spent в часы\n",
        "clusters_mean['total_time_spent'] = round(clusters_mean['total_time_spent'] / 60, 2)"
      ]
    },
    {
      "cell_type": "code",
      "execution_count": null,
      "metadata": {
        "pycharm": {
          "name": "#%%\n"
        },
        "id": "REozeJPIucqu",
        "outputId": "5bda3782-533a-4daf-bd5b-cf58685615e0"
      },
      "outputs": [
        {
          "data": {
            "text/plain": "            time_spent     visits  conversions      tips  favorites  \\\ncluster_km                                                            \n0                 0.32   1.949849     0.682653  0.102220   0.175116   \n1                 1.03   6.837209     1.905316  0.473422   0.803987   \n2                 6.71  28.547619    21.214286  3.714286   7.000000   \n\n            total_time_spent   pies  \ncluster_km                           \n0                      18.98  85.00  \n1                     310.66  14.02  \n2                     361.62   0.98  ",
            "text/html": "<div>\n<style scoped>\n    .dataframe tbody tr th:only-of-type {\n        vertical-align: middle;\n    }\n\n    .dataframe tbody tr th {\n        vertical-align: top;\n    }\n\n    .dataframe thead th {\n        text-align: right;\n    }\n</style>\n<table border=\"1\" class=\"dataframe\">\n  <thead>\n    <tr style=\"text-align: right;\">\n      <th></th>\n      <th>time_spent</th>\n      <th>visits</th>\n      <th>conversions</th>\n      <th>tips</th>\n      <th>favorites</th>\n      <th>total_time_spent</th>\n      <th>pies</th>\n    </tr>\n    <tr>\n      <th>cluster_km</th>\n      <th></th>\n      <th></th>\n      <th></th>\n      <th></th>\n      <th></th>\n      <th></th>\n      <th></th>\n    </tr>\n  </thead>\n  <tbody>\n    <tr>\n      <th>0</th>\n      <td>0.32</td>\n      <td>1.949849</td>\n      <td>0.682653</td>\n      <td>0.102220</td>\n      <td>0.175116</td>\n      <td>18.98</td>\n      <td>85.00</td>\n    </tr>\n    <tr>\n      <th>1</th>\n      <td>1.03</td>\n      <td>6.837209</td>\n      <td>1.905316</td>\n      <td>0.473422</td>\n      <td>0.803987</td>\n      <td>310.66</td>\n      <td>14.02</td>\n    </tr>\n    <tr>\n      <th>2</th>\n      <td>6.71</td>\n      <td>28.547619</td>\n      <td>21.214286</td>\n      <td>3.714286</td>\n      <td>7.000000</td>\n      <td>361.62</td>\n      <td>0.98</td>\n    </tr>\n  </tbody>\n</table>\n</div>"
          },
          "execution_count": 128,
          "metadata": {},
          "output_type": "execute_result"
        }
      ],
      "source": [
        "# проверим\n",
        "clusters_mean.head()"
      ]
    },
    {
      "cell_type": "markdown",
      "metadata": {
        "pycharm": {
          "name": "#%% md\n"
        },
        "id": "oiPTPs_pucqu"
      },
      "source": [
        "- Самым большим получился первый кластер - в него попало 85% пользователей, однако по остальным метрикам у него значения хуже остальных кластеров. Среднее время продолжительности событий - 32 минуты, а суммарное время, проведенное в приложении 19 часов. Пользователи, попавшие в первый кластер, почти не просматривают рекомендованные объявления и также не добавляют объявления в избранное. Конверсия практически на нуле - 0.68%. В среднем, на одного пользователя приходится два посещения.\n",
        "\n",
        "---\n",
        "\n",
        "- Во второй кластер попало 14% пользователей. По всем метрикам он лучше первого кластера, но всегда есть, куда расти. Среднее время сеанса пользователя - 62 минуты, а суммарное время, проведенное пользователями в приложении - 310 часов. Пользователи в этом кластере охотнее добавляют объявления в избранные и просматривают рекомендованные. В среднем, на одного пользователя приходится 7 посещений.\n",
        "\n",
        "---\n",
        "\n",
        "- В третий кластер попал 1% пользователей, однако по всем метрикам он лучше, чем два предыдущий. Среднее время сеанса составило почти 7 часов, а суммарное время, проведенное пользователями в приложении - 360 часов. Конверсия в целевое действие - просмотр контактов - 21%. Также самые высокие значения добавления объявлений в избранное и просмотр рекомендованных объявлений. Очевидно, что самые активные пользователи собрались здесь."
      ]
    },
    {
      "cell_type": "code",
      "execution_count": null,
      "metadata": {
        "pycharm": {
          "name": "#%%\n"
        },
        "id": "QT2fq5-yucqu",
        "outputId": "21cd5851-1945-403c-b052-8594a1d76db2"
      },
      "outputs": [
        {
          "data": {
            "text/plain": "<Figure size 1584x1440 with 5 Axes>",
            "image/png": "[encoded data removed]"
          },
          "metadata": {},
          "output_type": "display_data"
        }
      ],
      "source": [
        "# нарисуем графики распределения признаков для каждого кластера\n",
        "count=1\n",
        "plt.subplots(figsize=(22, 20))\n",
        "for column in {'visits', 'total_time_spent', 'time_spent', 'tips', 'favorites'}:\n",
        "    plt.suptitle('Распределение признаков для кластеров', fontsize=36)\n",
        "    plt.subplot(3, 2, count)\n",
        "    sns.boxplot(x='cluster_km', y=column,  data=features)\n",
        "    count+=1\n",
        "\n",
        "plt.show();"
      ]
    },
    {
      "cell_type": "code",
      "execution_count": null,
      "metadata": {
        "pycharm": {
          "name": "#%%\n"
        },
        "id": "2_Fro3Ujucqv",
        "outputId": "b483c165-d722-47b3-dae7-2dd8cc087688"
      },
      "outputs": [
        {
          "data": {
            "text/plain": "<Figure size 864x720 with 1 Axes>",
            "image/png": "[encoded data removed]"
          },
          "metadata": {},
          "output_type": "display_data"
        }
      ],
      "source": [
        "# нарисуем график распределения целевой переменной\n",
        "plt.figure(figsize=(12, 10))\n",
        "sns.boxplot(x='cluster_km', y='conversions',  data=features)\n",
        "plt.title('Распределение признака целевой переменной для кластеров', fontsize=20)\n",
        "plt.show();"
      ]
    },
    {
      "cell_type": "markdown",
      "metadata": {
        "pycharm": {
          "name": "#%% md\n"
        },
        "id": "IaS4E3l0ucqv"
      },
      "source": [
        "- В целом, графики распределения признаков подтверждают ранее сделанные выводы."
      ]
    },
    {
      "cell_type": "markdown",
      "metadata": {
        "pycharm": {
          "name": "#%% md\n"
        },
        "id": "afGY7gLlucqv"
      },
      "source": [
        "### <a id='step5'>Проверка статистических гипотез</a>"
      ]
    },
    {
      "cell_type": "code",
      "execution_count": null,
      "metadata": {
        "pycharm": {
          "name": "#%%\n"
        },
        "id": "bCgqMcAjucqv"
      },
      "outputs": [],
      "source": [
        "# сформируем таблицу с общим количеством пользователей по источникам\n",
        "total_users = sources.groupby('source', as_index=False)\\\n",
        ".count()\\\n",
        ".rename(columns={'user_id':'total_users'})"
      ]
    },
    {
      "cell_type": "code",
      "execution_count": null,
      "metadata": {
        "pycharm": {
          "name": "#%%\n"
        },
        "id": "NvrapGdAucqv"
      },
      "outputs": [],
      "source": [
        "total_users.head()"
      ]
    },
    {
      "cell_type": "code",
      "execution_count": null,
      "metadata": {
        "pycharm": {
          "name": "#%%\n"
        },
        "id": "exOB4j9Yucqv"
      },
      "outputs": [],
      "source": [
        "# сформируем таблицу с пользователями, совершившими целевое действие - просмотр контактов\n",
        "goal_users = data.query('event_name==\"contacts_show\"')\\\n",
        ".groupby(['source'], as_index=False)\\\n",
        ".agg({'user_id':'nunique'})\\\n",
        ".rename(columns={'user_id':'goal_users'})"
      ]
    },
    {
      "cell_type": "code",
      "execution_count": null,
      "metadata": {
        "pycharm": {
          "name": "#%%\n"
        },
        "id": "7XMtz_yVucqv"
      },
      "outputs": [],
      "source": [
        "# объединим датасеты\n",
        "conversion_users = pd.merge(goal_users, total_users, on='source')"
      ]
    },
    {
      "cell_type": "code",
      "execution_count": null,
      "metadata": {
        "pycharm": {
          "name": "#%%\n"
        },
        "id": "kKFLJybCucqw"
      },
      "outputs": [],
      "source": [
        "# рассчиатем CR\n",
        "conversion_users['cr'] = round(conversion_users['goal_users'] / conversion_users['total_users'], 2)"
      ]
    },
    {
      "cell_type": "code",
      "execution_count": null,
      "metadata": {
        "pycharm": {
          "name": "#%%\n"
        },
        "id": "r6PRfKJfucqw"
      },
      "outputs": [],
      "source": [
        "# проверим\n",
        "conversion_users"
      ]
    },
    {
      "cell_type": "code",
      "execution_count": null,
      "metadata": {
        "pycharm": {
          "name": "#%%\n"
        },
        "id": "ZuWnwgchucqw"
      },
      "outputs": [],
      "source": [
        "# сформируем таблицу с пользователями, добавившими объявление в избранное\n",
        "fav_users = data.query('event_name==\"favorites_add\"')\\\n",
        ".groupby(['source'], as_index=False).agg({'user_id':'nunique'})\\\n",
        ".rename(columns={'user_id':'favorites_users'})"
      ]
    },
    {
      "cell_type": "code",
      "execution_count": null,
      "metadata": {
        "pycharm": {
          "name": "#%%\n"
        },
        "id": "dvaGcpyoucqw"
      },
      "outputs": [],
      "source": [
        "# объединим датасеты\n",
        "fav_users_1 = pd.merge(fav_users, total_users, on='source')"
      ]
    },
    {
      "cell_type": "code",
      "execution_count": null,
      "metadata": {
        "pycharm": {
          "name": "#%%\n"
        },
        "id": "tYAH3jnyucqx"
      },
      "outputs": [],
      "source": [
        "# рассчитаем CR\n",
        "fav_users_1['cr'] = round(fav_users_1['favorites_users'] / fav_users_1['total_users'], 2)"
      ]
    },
    {
      "cell_type": "code",
      "execution_count": null,
      "metadata": {
        "pycharm": {
          "name": "#%%\n"
        },
        "id": "9FXA-9JTucqx"
      },
      "outputs": [],
      "source": [
        "# проверим\n",
        "fav_users_1"
      ]
    },
    {
      "cell_type": "markdown",
      "metadata": {
        "pycharm": {
          "name": "#%% md\n"
        },
        "id": "0j9K0WAeucqx"
      },
      "source": [
        "#### Проведем проверку первый пары статистических гипотез.\n",
        "\n",
        "#### H0 - Конверсия в просмотр контактов между пользователями, установшими приложение по ссылке из yandex и пользователями, установшими приложение по ссылке из google, одинаковая;\n",
        "#### H1 - Конверсия в просмотр контактов между пользователями, установившими приложение по ссылке из yandex и пользователями, установившими приложение по ссылке из google, различается."
      ]
    },
    {
      "cell_type": "code",
      "execution_count": null,
      "metadata": {
        "pycharm": {
          "name": "#%%\n"
        },
        "id": "B8ISp3w_ucqx"
      },
      "outputs": [],
      "source": [
        "alpha = .05 # критический уровень статистической значимости\n",
        "\n",
        "purchases = np.array([275, 478])\n",
        "leads = np.array([1129, 1934])\n",
        "\n",
        "p1 = purchases[0] / leads[0]\n",
        "p2 = purchases[1] / leads[1]\n",
        "p_combined = (purchases[0] + purchases[1]) / (leads[0] + leads[1])\n",
        "z_value = (p1 - p2) / mth.sqrt(p_combined * (1 - p_combined) * (1/leads[0] + 1/leads[1]))\n",
        "distr = stats.norm(0, 1)\n",
        "p_value = (1 - distr.cdf(abs(z_value))) * 2\n",
        "print('z_value =', z_value)\n",
        "\n",
        "if (p_value < alpha):\n",
        "    print(\"Отвергаем нулевую гипотезу: между долями есть значимая разница\")\n",
        "else:\n",
        "    print(\"Не получилось отвергнуть нулевую гипотезу, нет оснований считать доли разными\")"
      ]
    },
    {
      "cell_type": "markdown",
      "metadata": {
        "pycharm": {
          "name": "#%% md\n"
        },
        "id": "omXA4F3bucqx"
      },
      "source": [
        "#### Проведем проверку второй пары статистических гипотез.\n",
        "\n",
        "#### H0 - Конверсия в добавление объявления в избранное между пользователями, установившими приложение по ссылке из yandex не отличается от конверсии пользователей, установивших приложение по ссылке из google;\n",
        "#### H1 - Конверсия в добавление объявления в избранное между пользователями, установшими приложение по ссылке из yandex отличается от конверсии пользователей, установивших приложение по ссылке из google."
      ]
    },
    {
      "cell_type": "code",
      "execution_count": null,
      "metadata": {
        "pycharm": {
          "name": "#%%\n"
        },
        "id": "wHaC33V3ucqy"
      },
      "outputs": [],
      "source": [
        "alpha = .05 # критический уровень статистической значимости\n",
        "\n",
        "purchases = np.array([114, 160])\n",
        "leads = np.array([1129, 1934])\n",
        "\n",
        "p1 = purchases[0] / leads[0]\n",
        "p2 = purchases[1] / leads[1]\n",
        "p_combined = (purchases[0] + purchases[1]) / (leads[0] + leads[1])\n",
        "z_value = (p1 - p2) / mth.sqrt(p_combined * (1 - p_combined) * (1/leads[0] + 1/leads[1]))\n",
        "distr = stats.norm(0, 1)\n",
        "p_value = (1 - distr.cdf(abs(z_value))) * 2\n",
        "print('z_value =', z_value)\n",
        "\n",
        "if (p_value < alpha):\n",
        "    print(\"Отвергаем нулевую гипотезу: между долями есть значимая разница\")\n",
        "else:\n",
        "    print(\"Не получилось отвергнуть нулевую гипотезу, нет оснований считать доли разными\")"
      ]
    },
    {
      "cell_type": "markdown",
      "metadata": {
        "pycharm": {
          "name": "#%% md\n"
        },
        "id": "0bIL9thIucqy"
      },
      "source": [
        "- Разницы в конверсии в просмотр контактов между пользователями, пришедшими из yandex и пользователями, пришедшими из google, нет. Не отвергаем нулевую гипотезу;\n",
        "- Разницы в конверсии в добавлении объявления в избранноое между пользователями, пришедшими из yandex и пользователями, пришедшими из google, нет. Не отвергаем нулевое гипотезу.\n",
        "- Обе нулевые гипотезы подтверждены."
      ]
    },
    {
      "cell_type": "markdown",
      "metadata": {
        "pycharm": {
          "name": "#%% md\n"
        },
        "id": "xuKFHJKLucqz"
      },
      "source": [
        "### <a id='step6'>Общий вывод и рекомендации</a>"
      ]
    },
    {
      "cell_type": "markdown",
      "metadata": {
        "pycharm": {
          "name": "#%% md\n"
        },
        "id": "erHhLKIAucqz"
      },
      "source": [
        "- Приложением в период исследования воспользовалось 4239 пользователя;\n",
        "- Больше трафика приходит через Яндекс 1934, а меньше всего через Google - 1129 пользователей;\n",
        "- Наибольшая активность в будние дни;\n",
        "- Конверсия в целовое действие - просмотр контактов - 23%.\n",
        "\n",
        "---\n",
        "\n",
        "#### Пользователи разделены на три кластера:\n",
        "\n",
        "#### Кластер 1 \n",
        "- 85% всех пользователей. Среднее время продолжительности пользовательского сеанса - 32 минуты. Суммарное время, проведенное в приложении - 19 часов. Пользователи редко просматривают рекомендованные объявления и не добавляют объявления в избранное. Конверсия в целевое действие - 68%. На одного пользователя приходится 2 посещения.\n",
        "\n",
        "---\n",
        "\n",
        "#### Кластер 2\n",
        "- 14% всех пользователей. Среднее время сеанса - 62 минуты. Суммарное время, проведенное в приложении - 310 часов. Пользователи охотнее добавляют объявления в избранное и просматривают рекомендованные объявления. На одного пользователся приходится 7 посещений.\n",
        "\n",
        "---\n",
        "\n",
        "#### Кластер 3\n",
        "- 1% пользователей. Среднее время сеанса - 7 часов. Суммарное время, проведенное в приложении - 360 часов. Эти пользователи активнее всех добавляют объявления в избранное и просматривают рекомендованные объявления. Самая высокая конверсия в целевое действие - 21 %. Наши лучшие пользователи!\n",
        "\n",
        "---\n",
        "\n",
        "#### В процессе исследования проверены две пары статистчиских гипотез:\n",
        "\n",
        "#### H0 - Конверсия в просмотр контактов между пользователями, установшими приложение по ссылке из yandex и пользователями, установшими приложение по ссылке из google, одинаковая;\n",
        "#### H1 - Конверсия в просмотр контактов между пользователями, установившими приложение по ссылке из yandex и пользователями, установившими приложение по ссылке из google, различается.\n",
        "\n",
        "---\n",
        "\n",
        "#### H0 - Конверсия в добавление объявления в избранное между пользователями, установившими приложение по ссылке из yandex не отличается от конверсии пользователей, установивших приложение по ссылке из google;\n",
        "#### H1 - Конверсия в добавление объявления в избранное между пользователями, установшими приложение по ссылке из yandex отличается от конверсии пользователей, установивших приложение по ссылке из google.\n",
        "\n",
        "---\n",
        "\n",
        "#### Исходя из результатов статистической проверки гипотез, можно сделать вывод, что между долями в конверсии отсутствует статистически значимая разница, следовательно, обе гипотезы H0 подтверждены. Разницы в конверсии в просмотр контактов между пользователями, пришедшими из yandex и пользователями, пришедшими из google, нет. Разницы в конверсии в добавлении объявления в избранноое между пользователями, пришедшими из yandex и пользователями, пришедшими из google, нет.\n",
        "\n",
        "---\n",
        "\n",
        "#### Рекомендации для привлечения и увеличения показателя вовлеченности пользователей в мобильном приложении \"Ненужные вещи\".\n",
        "- Необходимо развивать маркетинговые активности не только в Яндекс, но в Google и в других источниках. Хорошо, конечно, что Яндекс приводит столько пользователей, но желательно диверсифицировать каналы. Особенно стоит изучить канал other, через него приходит много пользователей, а мы даже, незнаем, что это за источники;\n",
        "- Усовершенствовать алгоритм подбора рекомендованных объявлений. Вполне вероятно, что сейчас пользователи не просматриват рекомендованные объявления и не добавляют объявления в избранное из-за того, что алгоритмы предлагают нерелеванты объявления;\n",
        "- Для увеличения количества покупок можно ввести систему доставки, чтобы пользователи могли совершать покупки на всей территории страны, как это сейчас реализовано в Авито."
      ]
    }
  ],
  "metadata": {
    "kernelspec": {
      "display_name": "Python 3",
      "language": "python",
      "name": "python3"
    },
    "language_info": {
      "codemirror_mode": {
        "name": "ipython",
        "version": 3
      },
      "file_extension": ".py",
      "mimetype": "text/x-python",
      "name": "python",
      "nbconvert_exporter": "python",
      "pygments_lexer": "ipython3",
      "version": "3.7.6"
    },
    "colab": {
      "name": "Кластеризация пользователей мобильного приложения 'Ненужные вещи'.ipynb",
      "provenance": [],
      "toc_visible": true,
      "include_colab_link": true
    }
  },
  "nbformat": 4,
  "nbformat_minor": 0
}