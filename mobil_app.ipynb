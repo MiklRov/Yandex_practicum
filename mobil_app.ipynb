{
  "cells": [
    {
      "cell_type": "markdown",
      "metadata": {
        "id": "view-in-github",
        "colab_type": "text"
      },
      "source": [
        "<a href=\"https://colab.research.google.com/github/MiklRov/Yandex_practicum/blob/main/mobil_app.ipynb\" target=\"_parent\"><img src=\"https://colab.research.google.com/assets/colab-badge.svg\" alt=\"Open In Colab\"/></a>"
      ]
    },
    {
      "cell_type": "markdown",
      "metadata": {
        "id": "DB4kM2mEucqA",
        "pycharm": {
          "name": "#%% md\n"
        }
      },
      "source": [
        "# Выпускной проект. Выделение групп пользователей на основе поведения"
      ]
    },
    {
      "cell_type": "markdown",
      "metadata": {
        "id": "LUOn3SJ_ucqI",
        "pycharm": {
          "name": "#%% md\n"
        }
      },
      "source": [
        "### Описание проекта\n",
        "Дерзкая и амбициозная команда сервиса «Ненужные вещи» жаждет увидеть в своём составе крутого аналитика, который возьмёт огромное количество наших данных и сотворит из них чудо. Конкретнее про чудо: наши пользователи совершают много действий в приложении, и мы уверены, что в этих данных есть инсайты, которые позволят нам стать лучшим приложением для продажи ненужных вещей. В рамках работы необходимо проанализировать поведение пользователей в мобильном приложениии \"Ненужные вещи\" и сегментировать их на разные группы для того, чтобы наладить более точный механизм взаимодействия с пользователями и повысить вовлеченность групп пользователей с низкими показателями."
      ]
    },
    {
      "cell_type": "markdown",
      "metadata": {
        "id": "56ArhqNfucqL",
        "pycharm": {
          "name": "#%% md\n"
        }
      },
      "source": [
        "### План исследования\n",
        " Загрузить данные и получить первичное представление о структуре и наполнении.\n",
        "\n",
        "---\n",
        "1. Предобработка\n",
        "- Исследовать и обработать дубликаты;\n",
        "- Исследовать и заменить пропущенные значения;\n",
        "- В тех случаях, где необходимо, привести данные к соответствующим типам;\n",
        "- Если необходимо, то изменить и привести названия столбцов к нижнему регистру;\n",
        "- Выделить из столбца с датой необходимые временные промежутки.\n",
        "\n",
        "---\n",
        "\n",
        "2. Исследовательский анализ EDA  \n",
        "\n",
        "-  Retantion Rate («коэффициент удержания»)  \n",
        "-  Время, проведенное в приложении  \n",
        "-  Частота действий  \n",
        "-  Конверсия в целевое действие — просмотр контактов   \n",
        "-  Вывод  \n",
        "3. Сегментировать пользователей на основе событий   \n",
        "-  По источнику, с которого пользователь установил приложение  \n",
        "-  По пользователям, позвонившим по номеру телефона на карточке объявления  \n",
        "-  По пользователям, которые пользовались поиском  \n",
        "-  По пользователям, кликнувшим по рекомендованным объявлениям  \n",
        "-  По пользователям, открывшим карточки объявления  \n",
        "-  По пользователям, просмотревшим рекомендации  \n",
        "-  По пользователям, открывшим карту размещенных объявлений  \n",
        "-  Вывод  \n",
        "4. Проверить статистические гипотезы\n",
        "- Проверьте гипотезу различия конверсии в просмотры контактов между теми пользователями, которые совершили установку приложения, прийдя с источника yandex и пользователя, совершившими установки, из источника google.\n",
        "-  Среднее время, проведенное в приложении, у групп пользователей ,совершивших целевое действие(просмотр контактов) и не совершивших его, различается\n",
        "Шаг 5. Общие выводы и рекомендации\n",
        "6. На основании проведенного исследования создать презентацию\n",
        " Ссылка на презентацию https://1drv.ms/b/s!AoLRG1AO867xy2VFn3RJcJej0iIt\n",
        "7. Сделать дашборд в Табло"
      ]
    },
    {
      "cell_type": "markdown",
      "metadata": {
        "id": "NkzNG6NGucqM",
        "pycharm": {
          "name": "#%% md\n"
        }
      },
      "source": [
        "### Импорт библиотек, данных и получение первичной информации"
      ]
    },
    {
      "cell_type": "code",
      "execution_count": 1,
      "metadata": {
        "id": "gcQ84VH6ucqN",
        "pycharm": {
          "name": "#%%\n"
        }
      },
      "outputs": [],
      "source": [
        "import pandas as pd\n",
        "import datetime as dt\n",
        "import numpy as np\n",
        "import math as mth\n",
        "import scipy.stats as stats\n",
        "import seaborn as sns\n",
        "import matplotlib.pyplot as plt\n",
        "import warnings\n",
        "import calendar\n",
        "from plotly.offline import download_plotlyjs, init_notebook_mode, plot, iplot\n",
        "import plotly.graph_objs as go\n",
        "\n",
        "from datetime import datetime, timedelta\n",
        "from matplotlib import rcParams\n",
        "from sklearn.model_selection import train_test_split\n",
        "from sklearn.linear_model import LogisticRegression\n",
        "from sklearn.ensemble import RandomForestClassifier\n",
        "from sklearn.metrics import confusion_matrix\n",
        "from sklearn.metrics import accuracy_score, precision_score, recall_score, f1_score\n",
        "from sklearn.preprocessing import StandardScaler\n",
        "from scipy.cluster.hierarchy import dendrogram, linkage\n",
        "from sklearn.cluster import KMeans\n",
        "from scipy import stats as st\n",
        "pd.set_option('display.max_colwidth', 150)\n",
        "pd.options.display.float_format = '{:,.2f}'.format\n",
        "plt.style.use('dark_background')\n",
        "sns.set_style(\"dark\")\n",
        "warnings.filterwarnings('ignore')\n"
      ]
    },
    {
      "cell_type": "markdown",
      "source": [
        "Данные предоставлены Яндекс.Практикумом"
      ],
      "metadata": {
        "id": "AVcKXqqPucqS"
      }
    },
    {
      "cell_type": "code",
      "execution_count": 4,
      "metadata": {
        "colab": {
          "base_uri": "https://localhost:8080/",
          "height": 405
        },
        "id": "JH2weaRTucqW",
        "outputId": "ff7b585e-c480-4a9a-9024-d3d2df66f547",
        "pycharm": {
          "name": "#%%\n"
        }
      },
      "outputs": [
        {
          "output_type": "stream",
          "name": "stdout",
          "text": [
            "<class 'pandas.core.frame.DataFrame'>\n",
            "RangeIndex: 74197 entries, 0 to 74196\n",
            "Data columns (total 3 columns):\n",
            " #   Column      Non-Null Count  Dtype \n",
            "---  ------      --------------  ----- \n",
            " 0   event.time  74197 non-null  object\n",
            " 1   event.name  74197 non-null  object\n",
            " 2   user.id     74197 non-null  object\n",
            "dtypes: object(3)\n",
            "memory usage: 1.7+ MB\n"
          ]
        },
        {
          "output_type": "display_data",
          "data": {
            "text/plain": [
              "None"
            ]
          },
          "metadata": {}
        },
        {
          "output_type": "stream",
          "name": "stdout",
          "text": [
            "<class 'pandas.core.frame.DataFrame'>\n",
            "RangeIndex: 4293 entries, 0 to 4292\n",
            "Data columns (total 2 columns):\n",
            " #   Column  Non-Null Count  Dtype \n",
            "---  ------  --------------  ----- \n",
            " 0   userId  4293 non-null   object\n",
            " 1   source  4293 non-null   object\n",
            "dtypes: object(2)\n",
            "memory usage: 67.2+ KB\n"
          ]
        },
        {
          "output_type": "display_data",
          "data": {
            "text/plain": [
              "None"
            ]
          },
          "metadata": {}
        }
      ],
      "source": [
        "for df in [data, sources]:\n",
        "    display(df.info())"
      ]
    },
    {
      "cell_type": "code",
      "execution_count": 5,
      "metadata": {
        "colab": {
          "base_uri": "https://localhost:8080/",
          "height": 146
        },
        "id": "zIaMcCh7ucqY",
        "outputId": "930f01b7-5964-4e7a-e653-2f62478f6257",
        "pycharm": {
          "name": "#%%\n"
        }
      },
      "outputs": [
        {
          "output_type": "display_data",
          "data": {
            "text/plain": [
              "event.time    0\n",
              "event.name    0\n",
              "user.id       0\n",
              "dtype: int64"
            ]
          },
          "metadata": {}
        },
        {
          "output_type": "display_data",
          "data": {
            "text/plain": [
              "userId    0\n",
              "source    0\n",
              "dtype: int64"
            ]
          },
          "metadata": {}
        }
      ],
      "source": [
        "for df in [data, sources]:\n",
        "    display(df.isna().sum())"
      ]
    },
    {
      "cell_type": "code",
      "execution_count": 6,
      "metadata": {
        "colab": {
          "base_uri": "https://localhost:8080/",
          "height": 54
        },
        "id": "DuPeYJdIucqY",
        "outputId": "92c6507f-1925-42da-f5aa-1a60370eee47",
        "pycharm": {
          "name": "#%%\n"
        }
      },
      "outputs": [
        {
          "output_type": "display_data",
          "data": {
            "text/plain": [
              "0"
            ]
          },
          "metadata": {}
        },
        {
          "output_type": "display_data",
          "data": {
            "text/plain": [
              "0"
            ]
          },
          "metadata": {}
        }
      ],
      "source": [
        "for df in [data, sources]:\n",
        "    display(df.duplicated().sum())"
      ]
    },
    {
      "cell_type": "code",
      "execution_count": 7,
      "metadata": {
        "colab": {
          "base_uri": "https://localhost:8080/",
          "height": 395
        },
        "id": "X4s1QPWsucqZ",
        "outputId": "3c712ce1-9523-47b4-bc71-a2c895b902c5",
        "pycharm": {
          "name": "#%%\n"
        }
      },
      "outputs": [
        {
          "output_type": "display_data",
          "data": {
            "text/plain": [
              "                   event.time   event.name  \\\n",
              "0  2019-10-07 00:00:00.431357  advert_open   \n",
              "1  2019-10-07 00:00:01.236320    tips_show   \n",
              "2  2019-10-07 00:00:02.245341    tips_show   \n",
              "3  2019-10-07 00:00:07.039334    tips_show   \n",
              "4  2019-10-07 00:00:56.319813  advert_open   \n",
              "\n",
              "                                user.id  \n",
              "0  020292ab-89bc-4156-9acf-68bc2783f894  \n",
              "1  020292ab-89bc-4156-9acf-68bc2783f894  \n",
              "2  cf7eda61-9349-469f-ac27-e5b6f5ec475c  \n",
              "3  020292ab-89bc-4156-9acf-68bc2783f894  \n",
              "4  cf7eda61-9349-469f-ac27-e5b6f5ec475c  "
            ],
            "text/html": [
              "\n",
              "  <div id=\"df-48a1836d-81f2-4f06-bf9e-ac42b244286c\">\n",
              "    <div class=\"colab-df-container\">\n",
              "      <div>\n",
              "<style scoped>\n",
              "    .dataframe tbody tr th:only-of-type {\n",
              "        vertical-align: middle;\n",
              "    }\n",
              "\n",
              "    .dataframe tbody tr th {\n",
              "        vertical-align: top;\n",
              "    }\n",
              "\n",
              "    .dataframe thead th {\n",
              "        text-align: right;\n",
              "    }\n",
              "</style>\n",
              "<table border=\"1\" class=\"dataframe\">\n",
              "  <thead>\n",
              "    <tr style=\"text-align: right;\">\n",
              "      <th></th>\n",
              "      <th>event.time</th>\n",
              "      <th>event.name</th>\n",
              "      <th>user.id</th>\n",
              "    </tr>\n",
              "  </thead>\n",
              "  <tbody>\n",
              "    <tr>\n",
              "      <th>0</th>\n",
              "      <td>2019-10-07 00:00:00.431357</td>\n",
              "      <td>advert_open</td>\n",
              "      <td>020292ab-89bc-4156-9acf-68bc2783f894</td>\n",
              "    </tr>\n",
              "    <tr>\n",
              "      <th>1</th>\n",
              "      <td>2019-10-07 00:00:01.236320</td>\n",
              "      <td>tips_show</td>\n",
              "      <td>020292ab-89bc-4156-9acf-68bc2783f894</td>\n",
              "    </tr>\n",
              "    <tr>\n",
              "      <th>2</th>\n",
              "      <td>2019-10-07 00:00:02.245341</td>\n",
              "      <td>tips_show</td>\n",
              "      <td>cf7eda61-9349-469f-ac27-e5b6f5ec475c</td>\n",
              "    </tr>\n",
              "    <tr>\n",
              "      <th>3</th>\n",
              "      <td>2019-10-07 00:00:07.039334</td>\n",
              "      <td>tips_show</td>\n",
              "      <td>020292ab-89bc-4156-9acf-68bc2783f894</td>\n",
              "    </tr>\n",
              "    <tr>\n",
              "      <th>4</th>\n",
              "      <td>2019-10-07 00:00:56.319813</td>\n",
              "      <td>advert_open</td>\n",
              "      <td>cf7eda61-9349-469f-ac27-e5b6f5ec475c</td>\n",
              "    </tr>\n",
              "  </tbody>\n",
              "</table>\n",
              "</div>\n",
              "      <button class=\"colab-df-convert\" onclick=\"convertToInteractive('df-48a1836d-81f2-4f06-bf9e-ac42b244286c')\"\n",
              "              title=\"Convert this dataframe to an interactive table.\"\n",
              "              style=\"display:none;\">\n",
              "        \n",
              "  <svg xmlns=\"http://www.w3.org/2000/svg\" height=\"24px\"viewBox=\"0 0 24 24\"\n",
              "       width=\"24px\">\n",
              "    <path d=\"M0 0h24v24H0V0z\" fill=\"none\"/>\n",
              "    <path d=\"M18.56 5.44l.94 2.06.94-2.06 2.06-.94-2.06-.94-.94-2.06-.94 2.06-2.06.94zm-11 1L8.5 8.5l.94-2.06 2.06-.94-2.06-.94L8.5 2.5l-.94 2.06-2.06.94zm10 10l.94 2.06.94-2.06 2.06-.94-2.06-.94-.94-2.06-.94 2.06-2.06.94z\"/><path d=\"M17.41 7.96l-1.37-1.37c-.4-.4-.92-.59-1.43-.59-.52 0-1.04.2-1.43.59L10.3 9.45l-7.72 7.72c-.78.78-.78 2.05 0 2.83L4 21.41c.39.39.9.59 1.41.59.51 0 1.02-.2 1.41-.59l7.78-7.78 2.81-2.81c.8-.78.8-2.07 0-2.86zM5.41 20L4 18.59l7.72-7.72 1.47 1.35L5.41 20z\"/>\n",
              "  </svg>\n",
              "      </button>\n",
              "      \n",
              "  <style>\n",
              "    .colab-df-container {\n",
              "      display:flex;\n",
              "      flex-wrap:wrap;\n",
              "      gap: 12px;\n",
              "    }\n",
              "\n",
              "    .colab-df-convert {\n",
              "      background-color: #E8F0FE;\n",
              "      border: none;\n",
              "      border-radius: 50%;\n",
              "      cursor: pointer;\n",
              "      display: none;\n",
              "      fill: #1967D2;\n",
              "      height: 32px;\n",
              "      padding: 0 0 0 0;\n",
              "      width: 32px;\n",
              "    }\n",
              "\n",
              "    .colab-df-convert:hover {\n",
              "      background-color: #E2EBFA;\n",
              "      box-shadow: 0px 1px 2px rgba(60, 64, 67, 0.3), 0px 1px 3px 1px rgba(60, 64, 67, 0.15);\n",
              "      fill: #174EA6;\n",
              "    }\n",
              "\n",
              "    [theme=dark] .colab-df-convert {\n",
              "      background-color: #3B4455;\n",
              "      fill: #D2E3FC;\n",
              "    }\n",
              "\n",
              "    [theme=dark] .colab-df-convert:hover {\n",
              "      background-color: #434B5C;\n",
              "      box-shadow: 0px 1px 3px 1px rgba(0, 0, 0, 0.15);\n",
              "      filter: drop-shadow(0px 1px 2px rgba(0, 0, 0, 0.3));\n",
              "      fill: #FFFFFF;\n",
              "    }\n",
              "  </style>\n",
              "\n",
              "      <script>\n",
              "        const buttonEl =\n",
              "          document.querySelector('#df-48a1836d-81f2-4f06-bf9e-ac42b244286c button.colab-df-convert');\n",
              "        buttonEl.style.display =\n",
              "          google.colab.kernel.accessAllowed ? 'block' : 'none';\n",
              "\n",
              "        async function convertToInteractive(key) {\n",
              "          const element = document.querySelector('#df-48a1836d-81f2-4f06-bf9e-ac42b244286c');\n",
              "          const dataTable =\n",
              "            await google.colab.kernel.invokeFunction('convertToInteractive',\n",
              "                                                     [key], {});\n",
              "          if (!dataTable) return;\n",
              "\n",
              "          const docLinkHtml = 'Like what you see? Visit the ' +\n",
              "            '<a target=\"_blank\" href=https://colab.research.google.com/notebooks/data_table.ipynb>data table notebook</a>'\n",
              "            + ' to learn more about interactive tables.';\n",
              "          element.innerHTML = '';\n",
              "          dataTable['output_type'] = 'display_data';\n",
              "          await google.colab.output.renderOutput(dataTable, element);\n",
              "          const docLink = document.createElement('div');\n",
              "          docLink.innerHTML = docLinkHtml;\n",
              "          element.appendChild(docLink);\n",
              "        }\n",
              "      </script>\n",
              "    </div>\n",
              "  </div>\n",
              "  "
            ]
          },
          "metadata": {}
        },
        {
          "output_type": "display_data",
          "data": {
            "text/plain": [
              "                                 userId  source\n",
              "0  020292ab-89bc-4156-9acf-68bc2783f894   other\n",
              "1  cf7eda61-9349-469f-ac27-e5b6f5ec475c  yandex\n",
              "2  8c356c42-3ba9-4cb6-80b8-3f868d0192c3  yandex\n",
              "3  d9b06b47-0f36-419b-bbb0-3533e582a6cb   other\n",
              "4  f32e1e2a-3027-4693-b793-b7b3ff274439  google"
            ],
            "text/html": [
              "\n",
              "  <div id=\"df-f0803fd5-20b9-4765-bed3-4edb3a4245c0\">\n",
              "    <div class=\"colab-df-container\">\n",
              "      <div>\n",
              "<style scoped>\n",
              "    .dataframe tbody tr th:only-of-type {\n",
              "        vertical-align: middle;\n",
              "    }\n",
              "\n",
              "    .dataframe tbody tr th {\n",
              "        vertical-align: top;\n",
              "    }\n",
              "\n",
              "    .dataframe thead th {\n",
              "        text-align: right;\n",
              "    }\n",
              "</style>\n",
              "<table border=\"1\" class=\"dataframe\">\n",
              "  <thead>\n",
              "    <tr style=\"text-align: right;\">\n",
              "      <th></th>\n",
              "      <th>userId</th>\n",
              "      <th>source</th>\n",
              "    </tr>\n",
              "  </thead>\n",
              "  <tbody>\n",
              "    <tr>\n",
              "      <th>0</th>\n",
              "      <td>020292ab-89bc-4156-9acf-68bc2783f894</td>\n",
              "      <td>other</td>\n",
              "    </tr>\n",
              "    <tr>\n",
              "      <th>1</th>\n",
              "      <td>cf7eda61-9349-469f-ac27-e5b6f5ec475c</td>\n",
              "      <td>yandex</td>\n",
              "    </tr>\n",
              "    <tr>\n",
              "      <th>2</th>\n",
              "      <td>8c356c42-3ba9-4cb6-80b8-3f868d0192c3</td>\n",
              "      <td>yandex</td>\n",
              "    </tr>\n",
              "    <tr>\n",
              "      <th>3</th>\n",
              "      <td>d9b06b47-0f36-419b-bbb0-3533e582a6cb</td>\n",
              "      <td>other</td>\n",
              "    </tr>\n",
              "    <tr>\n",
              "      <th>4</th>\n",
              "      <td>f32e1e2a-3027-4693-b793-b7b3ff274439</td>\n",
              "      <td>google</td>\n",
              "    </tr>\n",
              "  </tbody>\n",
              "</table>\n",
              "</div>\n",
              "      <button class=\"colab-df-convert\" onclick=\"convertToInteractive('df-f0803fd5-20b9-4765-bed3-4edb3a4245c0')\"\n",
              "              title=\"Convert this dataframe to an interactive table.\"\n",
              "              style=\"display:none;\">\n",
              "        \n",
              "  <svg xmlns=\"http://www.w3.org/2000/svg\" height=\"24px\"viewBox=\"0 0 24 24\"\n",
              "       width=\"24px\">\n",
              "    <path d=\"M0 0h24v24H0V0z\" fill=\"none\"/>\n",
              "    <path d=\"M18.56 5.44l.94 2.06.94-2.06 2.06-.94-2.06-.94-.94-2.06-.94 2.06-2.06.94zm-11 1L8.5 8.5l.94-2.06 2.06-.94-2.06-.94L8.5 2.5l-.94 2.06-2.06.94zm10 10l.94 2.06.94-2.06 2.06-.94-2.06-.94-.94-2.06-.94 2.06-2.06.94z\"/><path d=\"M17.41 7.96l-1.37-1.37c-.4-.4-.92-.59-1.43-.59-.52 0-1.04.2-1.43.59L10.3 9.45l-7.72 7.72c-.78.78-.78 2.05 0 2.83L4 21.41c.39.39.9.59 1.41.59.51 0 1.02-.2 1.41-.59l7.78-7.78 2.81-2.81c.8-.78.8-2.07 0-2.86zM5.41 20L4 18.59l7.72-7.72 1.47 1.35L5.41 20z\"/>\n",
              "  </svg>\n",
              "      </button>\n",
              "      \n",
              "  <style>\n",
              "    .colab-df-container {\n",
              "      display:flex;\n",
              "      flex-wrap:wrap;\n",
              "      gap: 12px;\n",
              "    }\n",
              "\n",
              "    .colab-df-convert {\n",
              "      background-color: #E8F0FE;\n",
              "      border: none;\n",
              "      border-radius: 50%;\n",
              "      cursor: pointer;\n",
              "      display: none;\n",
              "      fill: #1967D2;\n",
              "      height: 32px;\n",
              "      padding: 0 0 0 0;\n",
              "      width: 32px;\n",
              "    }\n",
              "\n",
              "    .colab-df-convert:hover {\n",
              "      background-color: #E2EBFA;\n",
              "      box-shadow: 0px 1px 2px rgba(60, 64, 67, 0.3), 0px 1px 3px 1px rgba(60, 64, 67, 0.15);\n",
              "      fill: #174EA6;\n",
              "    }\n",
              "\n",
              "    [theme=dark] .colab-df-convert {\n",
              "      background-color: #3B4455;\n",
              "      fill: #D2E3FC;\n",
              "    }\n",
              "\n",
              "    [theme=dark] .colab-df-convert:hover {\n",
              "      background-color: #434B5C;\n",
              "      box-shadow: 0px 1px 3px 1px rgba(0, 0, 0, 0.15);\n",
              "      filter: drop-shadow(0px 1px 2px rgba(0, 0, 0, 0.3));\n",
              "      fill: #FFFFFF;\n",
              "    }\n",
              "  </style>\n",
              "\n",
              "      <script>\n",
              "        const buttonEl =\n",
              "          document.querySelector('#df-f0803fd5-20b9-4765-bed3-4edb3a4245c0 button.colab-df-convert');\n",
              "        buttonEl.style.display =\n",
              "          google.colab.kernel.accessAllowed ? 'block' : 'none';\n",
              "\n",
              "        async function convertToInteractive(key) {\n",
              "          const element = document.querySelector('#df-f0803fd5-20b9-4765-bed3-4edb3a4245c0');\n",
              "          const dataTable =\n",
              "            await google.colab.kernel.invokeFunction('convertToInteractive',\n",
              "                                                     [key], {});\n",
              "          if (!dataTable) return;\n",
              "\n",
              "          const docLinkHtml = 'Like what you see? Visit the ' +\n",
              "            '<a target=\"_blank\" href=https://colab.research.google.com/notebooks/data_table.ipynb>data table notebook</a>'\n",
              "            + ' to learn more about interactive tables.';\n",
              "          element.innerHTML = '';\n",
              "          dataTable['output_type'] = 'display_data';\n",
              "          await google.colab.output.renderOutput(dataTable, element);\n",
              "          const docLink = document.createElement('div');\n",
              "          docLink.innerHTML = docLinkHtml;\n",
              "          element.appendChild(docLink);\n",
              "        }\n",
              "      </script>\n",
              "    </div>\n",
              "  </div>\n",
              "  "
            ]
          },
          "metadata": {}
        }
      ],
      "source": [
        "for df in [data, sources]:\n",
        "    display(df.head())"
      ]
    },
    {
      "cell_type": "code",
      "execution_count": 8,
      "metadata": {
        "colab": {
          "base_uri": "https://localhost:8080/",
          "height": 333
        },
        "id": "RkRuD3kdi2oE",
        "outputId": "bf5ce7fd-1a19-46c5-cfd5-282b1ba6c92e"
      },
      "outputs": [
        {
          "output_type": "display_data",
          "data": {
            "text/plain": [
              "                        event.time event.name  \\\n",
              "count                        74197      74197   \n",
              "unique                       74197         16   \n",
              "top     2019-10-07 00:00:00.431357  tips_show   \n",
              "freq                             1      40055   \n",
              "\n",
              "                                     user.id  \n",
              "count                                  74197  \n",
              "unique                                  4293  \n",
              "top     cb36854f-570a-41f4-baa8-36680b396370  \n",
              "freq                                     478  "
            ],
            "text/html": [
              "\n",
              "  <div id=\"df-1ba743d4-4c1d-47db-9bd3-3b85a9c0964b\">\n",
              "    <div class=\"colab-df-container\">\n",
              "      <div>\n",
              "<style scoped>\n",
              "    .dataframe tbody tr th:only-of-type {\n",
              "        vertical-align: middle;\n",
              "    }\n",
              "\n",
              "    .dataframe tbody tr th {\n",
              "        vertical-align: top;\n",
              "    }\n",
              "\n",
              "    .dataframe thead th {\n",
              "        text-align: right;\n",
              "    }\n",
              "</style>\n",
              "<table border=\"1\" class=\"dataframe\">\n",
              "  <thead>\n",
              "    <tr style=\"text-align: right;\">\n",
              "      <th></th>\n",
              "      <th>event.time</th>\n",
              "      <th>event.name</th>\n",
              "      <th>user.id</th>\n",
              "    </tr>\n",
              "  </thead>\n",
              "  <tbody>\n",
              "    <tr>\n",
              "      <th>count</th>\n",
              "      <td>74197</td>\n",
              "      <td>74197</td>\n",
              "      <td>74197</td>\n",
              "    </tr>\n",
              "    <tr>\n",
              "      <th>unique</th>\n",
              "      <td>74197</td>\n",
              "      <td>16</td>\n",
              "      <td>4293</td>\n",
              "    </tr>\n",
              "    <tr>\n",
              "      <th>top</th>\n",
              "      <td>2019-10-07 00:00:00.431357</td>\n",
              "      <td>tips_show</td>\n",
              "      <td>cb36854f-570a-41f4-baa8-36680b396370</td>\n",
              "    </tr>\n",
              "    <tr>\n",
              "      <th>freq</th>\n",
              "      <td>1</td>\n",
              "      <td>40055</td>\n",
              "      <td>478</td>\n",
              "    </tr>\n",
              "  </tbody>\n",
              "</table>\n",
              "</div>\n",
              "      <button class=\"colab-df-convert\" onclick=\"convertToInteractive('df-1ba743d4-4c1d-47db-9bd3-3b85a9c0964b')\"\n",
              "              title=\"Convert this dataframe to an interactive table.\"\n",
              "              style=\"display:none;\">\n",
              "        \n",
              "  <svg xmlns=\"http://www.w3.org/2000/svg\" height=\"24px\"viewBox=\"0 0 24 24\"\n",
              "       width=\"24px\">\n",
              "    <path d=\"M0 0h24v24H0V0z\" fill=\"none\"/>\n",
              "    <path d=\"M18.56 5.44l.94 2.06.94-2.06 2.06-.94-2.06-.94-.94-2.06-.94 2.06-2.06.94zm-11 1L8.5 8.5l.94-2.06 2.06-.94-2.06-.94L8.5 2.5l-.94 2.06-2.06.94zm10 10l.94 2.06.94-2.06 2.06-.94-2.06-.94-.94-2.06-.94 2.06-2.06.94z\"/><path d=\"M17.41 7.96l-1.37-1.37c-.4-.4-.92-.59-1.43-.59-.52 0-1.04.2-1.43.59L10.3 9.45l-7.72 7.72c-.78.78-.78 2.05 0 2.83L4 21.41c.39.39.9.59 1.41.59.51 0 1.02-.2 1.41-.59l7.78-7.78 2.81-2.81c.8-.78.8-2.07 0-2.86zM5.41 20L4 18.59l7.72-7.72 1.47 1.35L5.41 20z\"/>\n",
              "  </svg>\n",
              "      </button>\n",
              "      \n",
              "  <style>\n",
              "    .colab-df-container {\n",
              "      display:flex;\n",
              "      flex-wrap:wrap;\n",
              "      gap: 12px;\n",
              "    }\n",
              "\n",
              "    .colab-df-convert {\n",
              "      background-color: #E8F0FE;\n",
              "      border: none;\n",
              "      border-radius: 50%;\n",
              "      cursor: pointer;\n",
              "      display: none;\n",
              "      fill: #1967D2;\n",
              "      height: 32px;\n",
              "      padding: 0 0 0 0;\n",
              "      width: 32px;\n",
              "    }\n",
              "\n",
              "    .colab-df-convert:hover {\n",
              "      background-color: #E2EBFA;\n",
              "      box-shadow: 0px 1px 2px rgba(60, 64, 67, 0.3), 0px 1px 3px 1px rgba(60, 64, 67, 0.15);\n",
              "      fill: #174EA6;\n",
              "    }\n",
              "\n",
              "    [theme=dark] .colab-df-convert {\n",
              "      background-color: #3B4455;\n",
              "      fill: #D2E3FC;\n",
              "    }\n",
              "\n",
              "    [theme=dark] .colab-df-convert:hover {\n",
              "      background-color: #434B5C;\n",
              "      box-shadow: 0px 1px 3px 1px rgba(0, 0, 0, 0.15);\n",
              "      filter: drop-shadow(0px 1px 2px rgba(0, 0, 0, 0.3));\n",
              "      fill: #FFFFFF;\n",
              "    }\n",
              "  </style>\n",
              "\n",
              "      <script>\n",
              "        const buttonEl =\n",
              "          document.querySelector('#df-1ba743d4-4c1d-47db-9bd3-3b85a9c0964b button.colab-df-convert');\n",
              "        buttonEl.style.display =\n",
              "          google.colab.kernel.accessAllowed ? 'block' : 'none';\n",
              "\n",
              "        async function convertToInteractive(key) {\n",
              "          const element = document.querySelector('#df-1ba743d4-4c1d-47db-9bd3-3b85a9c0964b');\n",
              "          const dataTable =\n",
              "            await google.colab.kernel.invokeFunction('convertToInteractive',\n",
              "                                                     [key], {});\n",
              "          if (!dataTable) return;\n",
              "\n",
              "          const docLinkHtml = 'Like what you see? Visit the ' +\n",
              "            '<a target=\"_blank\" href=https://colab.research.google.com/notebooks/data_table.ipynb>data table notebook</a>'\n",
              "            + ' to learn more about interactive tables.';\n",
              "          element.innerHTML = '';\n",
              "          dataTable['output_type'] = 'display_data';\n",
              "          await google.colab.output.renderOutput(dataTable, element);\n",
              "          const docLink = document.createElement('div');\n",
              "          docLink.innerHTML = docLinkHtml;\n",
              "          element.appendChild(docLink);\n",
              "        }\n",
              "      </script>\n",
              "    </div>\n",
              "  </div>\n",
              "  "
            ]
          },
          "metadata": {}
        },
        {
          "output_type": "display_data",
          "data": {
            "text/plain": [
              "                                      userId  source\n",
              "count                                   4293    4293\n",
              "unique                                  4293       3\n",
              "top     020292ab-89bc-4156-9acf-68bc2783f894  yandex\n",
              "freq                                       1    1934"
            ],
            "text/html": [
              "\n",
              "  <div id=\"df-bd97979f-7124-4fd0-b8c5-fdd34fe91626\">\n",
              "    <div class=\"colab-df-container\">\n",
              "      <div>\n",
              "<style scoped>\n",
              "    .dataframe tbody tr th:only-of-type {\n",
              "        vertical-align: middle;\n",
              "    }\n",
              "\n",
              "    .dataframe tbody tr th {\n",
              "        vertical-align: top;\n",
              "    }\n",
              "\n",
              "    .dataframe thead th {\n",
              "        text-align: right;\n",
              "    }\n",
              "</style>\n",
              "<table border=\"1\" class=\"dataframe\">\n",
              "  <thead>\n",
              "    <tr style=\"text-align: right;\">\n",
              "      <th></th>\n",
              "      <th>userId</th>\n",
              "      <th>source</th>\n",
              "    </tr>\n",
              "  </thead>\n",
              "  <tbody>\n",
              "    <tr>\n",
              "      <th>count</th>\n",
              "      <td>4293</td>\n",
              "      <td>4293</td>\n",
              "    </tr>\n",
              "    <tr>\n",
              "      <th>unique</th>\n",
              "      <td>4293</td>\n",
              "      <td>3</td>\n",
              "    </tr>\n",
              "    <tr>\n",
              "      <th>top</th>\n",
              "      <td>020292ab-89bc-4156-9acf-68bc2783f894</td>\n",
              "      <td>yandex</td>\n",
              "    </tr>\n",
              "    <tr>\n",
              "      <th>freq</th>\n",
              "      <td>1</td>\n",
              "      <td>1934</td>\n",
              "    </tr>\n",
              "  </tbody>\n",
              "</table>\n",
              "</div>\n",
              "      <button class=\"colab-df-convert\" onclick=\"convertToInteractive('df-bd97979f-7124-4fd0-b8c5-fdd34fe91626')\"\n",
              "              title=\"Convert this dataframe to an interactive table.\"\n",
              "              style=\"display:none;\">\n",
              "        \n",
              "  <svg xmlns=\"http://www.w3.org/2000/svg\" height=\"24px\"viewBox=\"0 0 24 24\"\n",
              "       width=\"24px\">\n",
              "    <path d=\"M0 0h24v24H0V0z\" fill=\"none\"/>\n",
              "    <path d=\"M18.56 5.44l.94 2.06.94-2.06 2.06-.94-2.06-.94-.94-2.06-.94 2.06-2.06.94zm-11 1L8.5 8.5l.94-2.06 2.06-.94-2.06-.94L8.5 2.5l-.94 2.06-2.06.94zm10 10l.94 2.06.94-2.06 2.06-.94-2.06-.94-.94-2.06-.94 2.06-2.06.94z\"/><path d=\"M17.41 7.96l-1.37-1.37c-.4-.4-.92-.59-1.43-.59-.52 0-1.04.2-1.43.59L10.3 9.45l-7.72 7.72c-.78.78-.78 2.05 0 2.83L4 21.41c.39.39.9.59 1.41.59.51 0 1.02-.2 1.41-.59l7.78-7.78 2.81-2.81c.8-.78.8-2.07 0-2.86zM5.41 20L4 18.59l7.72-7.72 1.47 1.35L5.41 20z\"/>\n",
              "  </svg>\n",
              "      </button>\n",
              "      \n",
              "  <style>\n",
              "    .colab-df-container {\n",
              "      display:flex;\n",
              "      flex-wrap:wrap;\n",
              "      gap: 12px;\n",
              "    }\n",
              "\n",
              "    .colab-df-convert {\n",
              "      background-color: #E8F0FE;\n",
              "      border: none;\n",
              "      border-radius: 50%;\n",
              "      cursor: pointer;\n",
              "      display: none;\n",
              "      fill: #1967D2;\n",
              "      height: 32px;\n",
              "      padding: 0 0 0 0;\n",
              "      width: 32px;\n",
              "    }\n",
              "\n",
              "    .colab-df-convert:hover {\n",
              "      background-color: #E2EBFA;\n",
              "      box-shadow: 0px 1px 2px rgba(60, 64, 67, 0.3), 0px 1px 3px 1px rgba(60, 64, 67, 0.15);\n",
              "      fill: #174EA6;\n",
              "    }\n",
              "\n",
              "    [theme=dark] .colab-df-convert {\n",
              "      background-color: #3B4455;\n",
              "      fill: #D2E3FC;\n",
              "    }\n",
              "\n",
              "    [theme=dark] .colab-df-convert:hover {\n",
              "      background-color: #434B5C;\n",
              "      box-shadow: 0px 1px 3px 1px rgba(0, 0, 0, 0.15);\n",
              "      filter: drop-shadow(0px 1px 2px rgba(0, 0, 0, 0.3));\n",
              "      fill: #FFFFFF;\n",
              "    }\n",
              "  </style>\n",
              "\n",
              "      <script>\n",
              "        const buttonEl =\n",
              "          document.querySelector('#df-bd97979f-7124-4fd0-b8c5-fdd34fe91626 button.colab-df-convert');\n",
              "        buttonEl.style.display =\n",
              "          google.colab.kernel.accessAllowed ? 'block' : 'none';\n",
              "\n",
              "        async function convertToInteractive(key) {\n",
              "          const element = document.querySelector('#df-bd97979f-7124-4fd0-b8c5-fdd34fe91626');\n",
              "          const dataTable =\n",
              "            await google.colab.kernel.invokeFunction('convertToInteractive',\n",
              "                                                     [key], {});\n",
              "          if (!dataTable) return;\n",
              "\n",
              "          const docLinkHtml = 'Like what you see? Visit the ' +\n",
              "            '<a target=\"_blank\" href=https://colab.research.google.com/notebooks/data_table.ipynb>data table notebook</a>'\n",
              "            + ' to learn more about interactive tables.';\n",
              "          element.innerHTML = '';\n",
              "          dataTable['output_type'] = 'display_data';\n",
              "          await google.colab.output.renderOutput(dataTable, element);\n",
              "          const docLink = document.createElement('div');\n",
              "          docLink.innerHTML = docLinkHtml;\n",
              "          element.appendChild(docLink);\n",
              "        }\n",
              "      </script>\n",
              "    </div>\n",
              "  </div>\n",
              "  "
            ]
          },
          "metadata": {}
        }
      ],
      "source": [
        "for df in [data, sources]:\n",
        "    display(df.describe())\n",
        "    "
      ]
    },
    {
      "cell_type": "markdown",
      "metadata": {
        "id": "8pxq8yyZucqZ",
        "pycharm": {
          "name": "#%% md\n"
        }
      },
      "source": [
        "## Предобработка данных"
      ]
    },
    {
      "cell_type": "markdown",
      "metadata": {
        "id": "AGdErr8mHuPN"
      },
      "source": [
        "Изменим названия столбцов data"
      ]
    },
    {
      "cell_type": "code",
      "execution_count": 9,
      "metadata": {
        "id": "hEVs9xTbucqa",
        "pycharm": {
          "name": "#%%\n"
        }
      },
      "outputs": [],
      "source": [
        "data.columns = ['event_time', 'event_name', 'user_id']"
      ]
    },
    {
      "cell_type": "code",
      "execution_count": 10,
      "metadata": {
        "colab": {
          "base_uri": "https://localhost:8080/",
          "height": 206
        },
        "id": "v4peO4uzucqa",
        "outputId": "dc17d431-7524-4f6f-9b14-84fc67e9a988",
        "pycharm": {
          "name": "#%%\n"
        }
      },
      "outputs": [
        {
          "output_type": "execute_result",
          "data": {
            "text/plain": [
              "                   event_time   event_name  \\\n",
              "0  2019-10-07 00:00:00.431357  advert_open   \n",
              "1  2019-10-07 00:00:01.236320    tips_show   \n",
              "2  2019-10-07 00:00:02.245341    tips_show   \n",
              "3  2019-10-07 00:00:07.039334    tips_show   \n",
              "4  2019-10-07 00:00:56.319813  advert_open   \n",
              "\n",
              "                                user_id  \n",
              "0  020292ab-89bc-4156-9acf-68bc2783f894  \n",
              "1  020292ab-89bc-4156-9acf-68bc2783f894  \n",
              "2  cf7eda61-9349-469f-ac27-e5b6f5ec475c  \n",
              "3  020292ab-89bc-4156-9acf-68bc2783f894  \n",
              "4  cf7eda61-9349-469f-ac27-e5b6f5ec475c  "
            ],
            "text/html": [
              "\n",
              "  <div id=\"df-103c383a-7a32-4b1c-8721-d32c11daf823\">\n",
              "    <div class=\"colab-df-container\">\n",
              "      <div>\n",
              "<style scoped>\n",
              "    .dataframe tbody tr th:only-of-type {\n",
              "        vertical-align: middle;\n",
              "    }\n",
              "\n",
              "    .dataframe tbody tr th {\n",
              "        vertical-align: top;\n",
              "    }\n",
              "\n",
              "    .dataframe thead th {\n",
              "        text-align: right;\n",
              "    }\n",
              "</style>\n",
              "<table border=\"1\" class=\"dataframe\">\n",
              "  <thead>\n",
              "    <tr style=\"text-align: right;\">\n",
              "      <th></th>\n",
              "      <th>event_time</th>\n",
              "      <th>event_name</th>\n",
              "      <th>user_id</th>\n",
              "    </tr>\n",
              "  </thead>\n",
              "  <tbody>\n",
              "    <tr>\n",
              "      <th>0</th>\n",
              "      <td>2019-10-07 00:00:00.431357</td>\n",
              "      <td>advert_open</td>\n",
              "      <td>020292ab-89bc-4156-9acf-68bc2783f894</td>\n",
              "    </tr>\n",
              "    <tr>\n",
              "      <th>1</th>\n",
              "      <td>2019-10-07 00:00:01.236320</td>\n",
              "      <td>tips_show</td>\n",
              "      <td>020292ab-89bc-4156-9acf-68bc2783f894</td>\n",
              "    </tr>\n",
              "    <tr>\n",
              "      <th>2</th>\n",
              "      <td>2019-10-07 00:00:02.245341</td>\n",
              "      <td>tips_show</td>\n",
              "      <td>cf7eda61-9349-469f-ac27-e5b6f5ec475c</td>\n",
              "    </tr>\n",
              "    <tr>\n",
              "      <th>3</th>\n",
              "      <td>2019-10-07 00:00:07.039334</td>\n",
              "      <td>tips_show</td>\n",
              "      <td>020292ab-89bc-4156-9acf-68bc2783f894</td>\n",
              "    </tr>\n",
              "    <tr>\n",
              "      <th>4</th>\n",
              "      <td>2019-10-07 00:00:56.319813</td>\n",
              "      <td>advert_open</td>\n",
              "      <td>cf7eda61-9349-469f-ac27-e5b6f5ec475c</td>\n",
              "    </tr>\n",
              "  </tbody>\n",
              "</table>\n",
              "</div>\n",
              "      <button class=\"colab-df-convert\" onclick=\"convertToInteractive('df-103c383a-7a32-4b1c-8721-d32c11daf823')\"\n",
              "              title=\"Convert this dataframe to an interactive table.\"\n",
              "              style=\"display:none;\">\n",
              "        \n",
              "  <svg xmlns=\"http://www.w3.org/2000/svg\" height=\"24px\"viewBox=\"0 0 24 24\"\n",
              "       width=\"24px\">\n",
              "    <path d=\"M0 0h24v24H0V0z\" fill=\"none\"/>\n",
              "    <path d=\"M18.56 5.44l.94 2.06.94-2.06 2.06-.94-2.06-.94-.94-2.06-.94 2.06-2.06.94zm-11 1L8.5 8.5l.94-2.06 2.06-.94-2.06-.94L8.5 2.5l-.94 2.06-2.06.94zm10 10l.94 2.06.94-2.06 2.06-.94-2.06-.94-.94-2.06-.94 2.06-2.06.94z\"/><path d=\"M17.41 7.96l-1.37-1.37c-.4-.4-.92-.59-1.43-.59-.52 0-1.04.2-1.43.59L10.3 9.45l-7.72 7.72c-.78.78-.78 2.05 0 2.83L4 21.41c.39.39.9.59 1.41.59.51 0 1.02-.2 1.41-.59l7.78-7.78 2.81-2.81c.8-.78.8-2.07 0-2.86zM5.41 20L4 18.59l7.72-7.72 1.47 1.35L5.41 20z\"/>\n",
              "  </svg>\n",
              "      </button>\n",
              "      \n",
              "  <style>\n",
              "    .colab-df-container {\n",
              "      display:flex;\n",
              "      flex-wrap:wrap;\n",
              "      gap: 12px;\n",
              "    }\n",
              "\n",
              "    .colab-df-convert {\n",
              "      background-color: #E8F0FE;\n",
              "      border: none;\n",
              "      border-radius: 50%;\n",
              "      cursor: pointer;\n",
              "      display: none;\n",
              "      fill: #1967D2;\n",
              "      height: 32px;\n",
              "      padding: 0 0 0 0;\n",
              "      width: 32px;\n",
              "    }\n",
              "\n",
              "    .colab-df-convert:hover {\n",
              "      background-color: #E2EBFA;\n",
              "      box-shadow: 0px 1px 2px rgba(60, 64, 67, 0.3), 0px 1px 3px 1px rgba(60, 64, 67, 0.15);\n",
              "      fill: #174EA6;\n",
              "    }\n",
              "\n",
              "    [theme=dark] .colab-df-convert {\n",
              "      background-color: #3B4455;\n",
              "      fill: #D2E3FC;\n",
              "    }\n",
              "\n",
              "    [theme=dark] .colab-df-convert:hover {\n",
              "      background-color: #434B5C;\n",
              "      box-shadow: 0px 1px 3px 1px rgba(0, 0, 0, 0.15);\n",
              "      filter: drop-shadow(0px 1px 2px rgba(0, 0, 0, 0.3));\n",
              "      fill: #FFFFFF;\n",
              "    }\n",
              "  </style>\n",
              "\n",
              "      <script>\n",
              "        const buttonEl =\n",
              "          document.querySelector('#df-103c383a-7a32-4b1c-8721-d32c11daf823 button.colab-df-convert');\n",
              "        buttonEl.style.display =\n",
              "          google.colab.kernel.accessAllowed ? 'block' : 'none';\n",
              "\n",
              "        async function convertToInteractive(key) {\n",
              "          const element = document.querySelector('#df-103c383a-7a32-4b1c-8721-d32c11daf823');\n",
              "          const dataTable =\n",
              "            await google.colab.kernel.invokeFunction('convertToInteractive',\n",
              "                                                     [key], {});\n",
              "          if (!dataTable) return;\n",
              "\n",
              "          const docLinkHtml = 'Like what you see? Visit the ' +\n",
              "            '<a target=\"_blank\" href=https://colab.research.google.com/notebooks/data_table.ipynb>data table notebook</a>'\n",
              "            + ' to learn more about interactive tables.';\n",
              "          element.innerHTML = '';\n",
              "          dataTable['output_type'] = 'display_data';\n",
              "          await google.colab.output.renderOutput(dataTable, element);\n",
              "          const docLink = document.createElement('div');\n",
              "          docLink.innerHTML = docLinkHtml;\n",
              "          element.appendChild(docLink);\n",
              "        }\n",
              "      </script>\n",
              "    </div>\n",
              "  </div>\n",
              "  "
            ]
          },
          "metadata": {},
          "execution_count": 10
        }
      ],
      "source": [
        "data.head()"
      ]
    },
    {
      "cell_type": "markdown",
      "metadata": {
        "id": "C2HHHWaGHkgg"
      },
      "source": [
        "Изменим названия столбцов sources"
      ]
    },
    {
      "cell_type": "code",
      "execution_count": 11,
      "metadata": {
        "id": "DDKueR6Gucqb",
        "pycharm": {
          "name": "#%%\n"
        }
      },
      "outputs": [],
      "source": [
        "sources.columns = ['user_id', 'source']"
      ]
    },
    {
      "cell_type": "code",
      "execution_count": 12,
      "metadata": {
        "colab": {
          "base_uri": "https://localhost:8080/",
          "height": 206
        },
        "id": "T461iTTLucqb",
        "outputId": "67dd50fc-0285-4d26-9dfe-155ddd7977b7",
        "pycharm": {
          "name": "#%%\n"
        }
      },
      "outputs": [
        {
          "output_type": "execute_result",
          "data": {
            "text/plain": [
              "                                user_id  source\n",
              "0  020292ab-89bc-4156-9acf-68bc2783f894   other\n",
              "1  cf7eda61-9349-469f-ac27-e5b6f5ec475c  yandex\n",
              "2  8c356c42-3ba9-4cb6-80b8-3f868d0192c3  yandex\n",
              "3  d9b06b47-0f36-419b-bbb0-3533e582a6cb   other\n",
              "4  f32e1e2a-3027-4693-b793-b7b3ff274439  google"
            ],
            "text/html": [
              "\n",
              "  <div id=\"df-13436f79-bb1f-4b6a-be48-e7b01ef399f2\">\n",
              "    <div class=\"colab-df-container\">\n",
              "      <div>\n",
              "<style scoped>\n",
              "    .dataframe tbody tr th:only-of-type {\n",
              "        vertical-align: middle;\n",
              "    }\n",
              "\n",
              "    .dataframe tbody tr th {\n",
              "        vertical-align: top;\n",
              "    }\n",
              "\n",
              "    .dataframe thead th {\n",
              "        text-align: right;\n",
              "    }\n",
              "</style>\n",
              "<table border=\"1\" class=\"dataframe\">\n",
              "  <thead>\n",
              "    <tr style=\"text-align: right;\">\n",
              "      <th></th>\n",
              "      <th>user_id</th>\n",
              "      <th>source</th>\n",
              "    </tr>\n",
              "  </thead>\n",
              "  <tbody>\n",
              "    <tr>\n",
              "      <th>0</th>\n",
              "      <td>020292ab-89bc-4156-9acf-68bc2783f894</td>\n",
              "      <td>other</td>\n",
              "    </tr>\n",
              "    <tr>\n",
              "      <th>1</th>\n",
              "      <td>cf7eda61-9349-469f-ac27-e5b6f5ec475c</td>\n",
              "      <td>yandex</td>\n",
              "    </tr>\n",
              "    <tr>\n",
              "      <th>2</th>\n",
              "      <td>8c356c42-3ba9-4cb6-80b8-3f868d0192c3</td>\n",
              "      <td>yandex</td>\n",
              "    </tr>\n",
              "    <tr>\n",
              "      <th>3</th>\n",
              "      <td>d9b06b47-0f36-419b-bbb0-3533e582a6cb</td>\n",
              "      <td>other</td>\n",
              "    </tr>\n",
              "    <tr>\n",
              "      <th>4</th>\n",
              "      <td>f32e1e2a-3027-4693-b793-b7b3ff274439</td>\n",
              "      <td>google</td>\n",
              "    </tr>\n",
              "  </tbody>\n",
              "</table>\n",
              "</div>\n",
              "      <button class=\"colab-df-convert\" onclick=\"convertToInteractive('df-13436f79-bb1f-4b6a-be48-e7b01ef399f2')\"\n",
              "              title=\"Convert this dataframe to an interactive table.\"\n",
              "              style=\"display:none;\">\n",
              "        \n",
              "  <svg xmlns=\"http://www.w3.org/2000/svg\" height=\"24px\"viewBox=\"0 0 24 24\"\n",
              "       width=\"24px\">\n",
              "    <path d=\"M0 0h24v24H0V0z\" fill=\"none\"/>\n",
              "    <path d=\"M18.56 5.44l.94 2.06.94-2.06 2.06-.94-2.06-.94-.94-2.06-.94 2.06-2.06.94zm-11 1L8.5 8.5l.94-2.06 2.06-.94-2.06-.94L8.5 2.5l-.94 2.06-2.06.94zm10 10l.94 2.06.94-2.06 2.06-.94-2.06-.94-.94-2.06-.94 2.06-2.06.94z\"/><path d=\"M17.41 7.96l-1.37-1.37c-.4-.4-.92-.59-1.43-.59-.52 0-1.04.2-1.43.59L10.3 9.45l-7.72 7.72c-.78.78-.78 2.05 0 2.83L4 21.41c.39.39.9.59 1.41.59.51 0 1.02-.2 1.41-.59l7.78-7.78 2.81-2.81c.8-.78.8-2.07 0-2.86zM5.41 20L4 18.59l7.72-7.72 1.47 1.35L5.41 20z\"/>\n",
              "  </svg>\n",
              "      </button>\n",
              "      \n",
              "  <style>\n",
              "    .colab-df-container {\n",
              "      display:flex;\n",
              "      flex-wrap:wrap;\n",
              "      gap: 12px;\n",
              "    }\n",
              "\n",
              "    .colab-df-convert {\n",
              "      background-color: #E8F0FE;\n",
              "      border: none;\n",
              "      border-radius: 50%;\n",
              "      cursor: pointer;\n",
              "      display: none;\n",
              "      fill: #1967D2;\n",
              "      height: 32px;\n",
              "      padding: 0 0 0 0;\n",
              "      width: 32px;\n",
              "    }\n",
              "\n",
              "    .colab-df-convert:hover {\n",
              "      background-color: #E2EBFA;\n",
              "      box-shadow: 0px 1px 2px rgba(60, 64, 67, 0.3), 0px 1px 3px 1px rgba(60, 64, 67, 0.15);\n",
              "      fill: #174EA6;\n",
              "    }\n",
              "\n",
              "    [theme=dark] .colab-df-convert {\n",
              "      background-color: #3B4455;\n",
              "      fill: #D2E3FC;\n",
              "    }\n",
              "\n",
              "    [theme=dark] .colab-df-convert:hover {\n",
              "      background-color: #434B5C;\n",
              "      box-shadow: 0px 1px 3px 1px rgba(0, 0, 0, 0.15);\n",
              "      filter: drop-shadow(0px 1px 2px rgba(0, 0, 0, 0.3));\n",
              "      fill: #FFFFFF;\n",
              "    }\n",
              "  </style>\n",
              "\n",
              "      <script>\n",
              "        const buttonEl =\n",
              "          document.querySelector('#df-13436f79-bb1f-4b6a-be48-e7b01ef399f2 button.colab-df-convert');\n",
              "        buttonEl.style.display =\n",
              "          google.colab.kernel.accessAllowed ? 'block' : 'none';\n",
              "\n",
              "        async function convertToInteractive(key) {\n",
              "          const element = document.querySelector('#df-13436f79-bb1f-4b6a-be48-e7b01ef399f2');\n",
              "          const dataTable =\n",
              "            await google.colab.kernel.invokeFunction('convertToInteractive',\n",
              "                                                     [key], {});\n",
              "          if (!dataTable) return;\n",
              "\n",
              "          const docLinkHtml = 'Like what you see? Visit the ' +\n",
              "            '<a target=\"_blank\" href=https://colab.research.google.com/notebooks/data_table.ipynb>data table notebook</a>'\n",
              "            + ' to learn more about interactive tables.';\n",
              "          element.innerHTML = '';\n",
              "          dataTable['output_type'] = 'display_data';\n",
              "          await google.colab.output.renderOutput(dataTable, element);\n",
              "          const docLink = document.createElement('div');\n",
              "          docLink.innerHTML = docLinkHtml;\n",
              "          element.appendChild(docLink);\n",
              "        }\n",
              "      </script>\n",
              "    </div>\n",
              "  </div>\n",
              "  "
            ]
          },
          "metadata": {},
          "execution_count": 12
        }
      ],
      "source": [
        "sources.head()"
      ]
    },
    {
      "cell_type": "markdown",
      "metadata": {
        "id": "TENZFA6tHdTa"
      },
      "source": [
        "Приведем столбец event_time датасета data к формату даты и округлим данные до 1 секунды"
      ]
    },
    {
      "cell_type": "code",
      "execution_count": 13,
      "metadata": {
        "id": "F3uijPdYucqb",
        "pycharm": {
          "name": "#%%\n"
        }
      },
      "outputs": [],
      "source": [
        "data['event_time'] = pd.to_datetime(data['event_time'], format='%Y.%m.%d %H:%M:%S').dt.round('1S')"
      ]
    },
    {
      "cell_type": "code",
      "execution_count": 14,
      "metadata": {
        "colab": {
          "base_uri": "https://localhost:8080/",
          "height": 206
        },
        "id": "ARkuL_6Uucqc",
        "outputId": "d0db83c0-fa11-44f4-9251-c5a0d744d652",
        "pycharm": {
          "name": "#%%\n"
        }
      },
      "outputs": [
        {
          "output_type": "execute_result",
          "data": {
            "text/plain": [
              "           event_time   event_name                               user_id\n",
              "0 2019-10-07 00:00:00  advert_open  020292ab-89bc-4156-9acf-68bc2783f894\n",
              "1 2019-10-07 00:00:01    tips_show  020292ab-89bc-4156-9acf-68bc2783f894\n",
              "2 2019-10-07 00:00:02    tips_show  cf7eda61-9349-469f-ac27-e5b6f5ec475c\n",
              "3 2019-10-07 00:00:07    tips_show  020292ab-89bc-4156-9acf-68bc2783f894\n",
              "4 2019-10-07 00:00:56  advert_open  cf7eda61-9349-469f-ac27-e5b6f5ec475c"
            ],
            "text/html": [
              "\n",
              "  <div id=\"df-270ba2f3-e6f0-444c-8b7f-12c15e2abcbc\">\n",
              "    <div class=\"colab-df-container\">\n",
              "      <div>\n",
              "<style scoped>\n",
              "    .dataframe tbody tr th:only-of-type {\n",
              "        vertical-align: middle;\n",
              "    }\n",
              "\n",
              "    .dataframe tbody tr th {\n",
              "        vertical-align: top;\n",
              "    }\n",
              "\n",
              "    .dataframe thead th {\n",
              "        text-align: right;\n",
              "    }\n",
              "</style>\n",
              "<table border=\"1\" class=\"dataframe\">\n",
              "  <thead>\n",
              "    <tr style=\"text-align: right;\">\n",
              "      <th></th>\n",
              "      <th>event_time</th>\n",
              "      <th>event_name</th>\n",
              "      <th>user_id</th>\n",
              "    </tr>\n",
              "  </thead>\n",
              "  <tbody>\n",
              "    <tr>\n",
              "      <th>0</th>\n",
              "      <td>2019-10-07 00:00:00</td>\n",
              "      <td>advert_open</td>\n",
              "      <td>020292ab-89bc-4156-9acf-68bc2783f894</td>\n",
              "    </tr>\n",
              "    <tr>\n",
              "      <th>1</th>\n",
              "      <td>2019-10-07 00:00:01</td>\n",
              "      <td>tips_show</td>\n",
              "      <td>020292ab-89bc-4156-9acf-68bc2783f894</td>\n",
              "    </tr>\n",
              "    <tr>\n",
              "      <th>2</th>\n",
              "      <td>2019-10-07 00:00:02</td>\n",
              "      <td>tips_show</td>\n",
              "      <td>cf7eda61-9349-469f-ac27-e5b6f5ec475c</td>\n",
              "    </tr>\n",
              "    <tr>\n",
              "      <th>3</th>\n",
              "      <td>2019-10-07 00:00:07</td>\n",
              "      <td>tips_show</td>\n",
              "      <td>020292ab-89bc-4156-9acf-68bc2783f894</td>\n",
              "    </tr>\n",
              "    <tr>\n",
              "      <th>4</th>\n",
              "      <td>2019-10-07 00:00:56</td>\n",
              "      <td>advert_open</td>\n",
              "      <td>cf7eda61-9349-469f-ac27-e5b6f5ec475c</td>\n",
              "    </tr>\n",
              "  </tbody>\n",
              "</table>\n",
              "</div>\n",
              "      <button class=\"colab-df-convert\" onclick=\"convertToInteractive('df-270ba2f3-e6f0-444c-8b7f-12c15e2abcbc')\"\n",
              "              title=\"Convert this dataframe to an interactive table.\"\n",
              "              style=\"display:none;\">\n",
              "        \n",
              "  <svg xmlns=\"http://www.w3.org/2000/svg\" height=\"24px\"viewBox=\"0 0 24 24\"\n",
              "       width=\"24px\">\n",
              "    <path d=\"M0 0h24v24H0V0z\" fill=\"none\"/>\n",
              "    <path d=\"M18.56 5.44l.94 2.06.94-2.06 2.06-.94-2.06-.94-.94-2.06-.94 2.06-2.06.94zm-11 1L8.5 8.5l.94-2.06 2.06-.94-2.06-.94L8.5 2.5l-.94 2.06-2.06.94zm10 10l.94 2.06.94-2.06 2.06-.94-2.06-.94-.94-2.06-.94 2.06-2.06.94z\"/><path d=\"M17.41 7.96l-1.37-1.37c-.4-.4-.92-.59-1.43-.59-.52 0-1.04.2-1.43.59L10.3 9.45l-7.72 7.72c-.78.78-.78 2.05 0 2.83L4 21.41c.39.39.9.59 1.41.59.51 0 1.02-.2 1.41-.59l7.78-7.78 2.81-2.81c.8-.78.8-2.07 0-2.86zM5.41 20L4 18.59l7.72-7.72 1.47 1.35L5.41 20z\"/>\n",
              "  </svg>\n",
              "      </button>\n",
              "      \n",
              "  <style>\n",
              "    .colab-df-container {\n",
              "      display:flex;\n",
              "      flex-wrap:wrap;\n",
              "      gap: 12px;\n",
              "    }\n",
              "\n",
              "    .colab-df-convert {\n",
              "      background-color: #E8F0FE;\n",
              "      border: none;\n",
              "      border-radius: 50%;\n",
              "      cursor: pointer;\n",
              "      display: none;\n",
              "      fill: #1967D2;\n",
              "      height: 32px;\n",
              "      padding: 0 0 0 0;\n",
              "      width: 32px;\n",
              "    }\n",
              "\n",
              "    .colab-df-convert:hover {\n",
              "      background-color: #E2EBFA;\n",
              "      box-shadow: 0px 1px 2px rgba(60, 64, 67, 0.3), 0px 1px 3px 1px rgba(60, 64, 67, 0.15);\n",
              "      fill: #174EA6;\n",
              "    }\n",
              "\n",
              "    [theme=dark] .colab-df-convert {\n",
              "      background-color: #3B4455;\n",
              "      fill: #D2E3FC;\n",
              "    }\n",
              "\n",
              "    [theme=dark] .colab-df-convert:hover {\n",
              "      background-color: #434B5C;\n",
              "      box-shadow: 0px 1px 3px 1px rgba(0, 0, 0, 0.15);\n",
              "      filter: drop-shadow(0px 1px 2px rgba(0, 0, 0, 0.3));\n",
              "      fill: #FFFFFF;\n",
              "    }\n",
              "  </style>\n",
              "\n",
              "      <script>\n",
              "        const buttonEl =\n",
              "          document.querySelector('#df-270ba2f3-e6f0-444c-8b7f-12c15e2abcbc button.colab-df-convert');\n",
              "        buttonEl.style.display =\n",
              "          google.colab.kernel.accessAllowed ? 'block' : 'none';\n",
              "\n",
              "        async function convertToInteractive(key) {\n",
              "          const element = document.querySelector('#df-270ba2f3-e6f0-444c-8b7f-12c15e2abcbc');\n",
              "          const dataTable =\n",
              "            await google.colab.kernel.invokeFunction('convertToInteractive',\n",
              "                                                     [key], {});\n",
              "          if (!dataTable) return;\n",
              "\n",
              "          const docLinkHtml = 'Like what you see? Visit the ' +\n",
              "            '<a target=\"_blank\" href=https://colab.research.google.com/notebooks/data_table.ipynb>data table notebook</a>'\n",
              "            + ' to learn more about interactive tables.';\n",
              "          element.innerHTML = '';\n",
              "          dataTable['output_type'] = 'display_data';\n",
              "          await google.colab.output.renderOutput(dataTable, element);\n",
              "          const docLink = document.createElement('div');\n",
              "          docLink.innerHTML = docLinkHtml;\n",
              "          element.appendChild(docLink);\n",
              "        }\n",
              "      </script>\n",
              "    </div>\n",
              "  </div>\n",
              "  "
            ]
          },
          "metadata": {},
          "execution_count": 14
        }
      ],
      "source": [
        "data.head()"
      ]
    },
    {
      "cell_type": "markdown",
      "metadata": {
        "id": "0mcHJlqbIpAe"
      },
      "source": [
        "Проверим количество пользователей в data"
      ]
    },
    {
      "cell_type": "code",
      "execution_count": 15,
      "metadata": {
        "colab": {
          "base_uri": "https://localhost:8080/"
        },
        "id": "6F1z_DrGucqc",
        "outputId": "efe8e688-4c20-49b5-f001-2604a2b4bde7",
        "pycharm": {
          "name": "#%%\n"
        }
      },
      "outputs": [
        {
          "output_type": "execute_result",
          "data": {
            "text/plain": [
              "4293"
            ]
          },
          "metadata": {},
          "execution_count": 15
        }
      ],
      "source": [
        "len(data['user_id'].unique())"
      ]
    },
    {
      "cell_type": "markdown",
      "metadata": {
        "id": "tS3BN6djIu1X"
      },
      "source": [
        "Проверим количество пользователей в sources"
      ]
    },
    {
      "cell_type": "code",
      "execution_count": 16,
      "metadata": {
        "colab": {
          "base_uri": "https://localhost:8080/"
        },
        "id": "1Jo3l9uducqd",
        "outputId": "460c498a-b51c-40e2-db0c-4916f27095a0",
        "pycharm": {
          "name": "#%%\n"
        }
      },
      "outputs": [
        {
          "output_type": "execute_result",
          "data": {
            "text/plain": [
              "4293"
            ]
          },
          "metadata": {},
          "execution_count": 16
        }
      ],
      "source": [
        "len(sources['user_id'].unique())"
      ]
    },
    {
      "cell_type": "code",
      "execution_count": 17,
      "metadata": {
        "colab": {
          "base_uri": "https://localhost:8080/"
        },
        "id": "vsWRIi02HE3F",
        "outputId": "4f1273d8-cc93-4c3c-9857-8d90c487c8a3"
      },
      "outputs": [
        {
          "output_type": "execute_result",
          "data": {
            "text/plain": [
              "True"
            ]
          },
          "metadata": {},
          "execution_count": 17
        }
      ],
      "source": [
        "set(sources['user_id']) == set(data['user_id'])"
      ]
    },
    {
      "cell_type": "markdown",
      "metadata": {
        "id": "Qmzu_EzGucqd",
        "pycharm": {
          "name": "#%% md\n"
        }
      },
      "source": [
        "Количество пользователей в обоих датасетах совпадает, можно склеить их в один."
      ]
    },
    {
      "cell_type": "code",
      "execution_count": 18,
      "metadata": {
        "id": "QG5kwpGtucqe",
        "pycharm": {
          "name": "#%%\n"
        }
      },
      "outputs": [],
      "source": [
        "df = data.merge(sources, on='user_id', how = 'right')"
      ]
    },
    {
      "cell_type": "code",
      "execution_count": 19,
      "metadata": {
        "colab": {
          "base_uri": "https://localhost:8080/",
          "height": 206
        },
        "id": "bHv7w88Yucqe",
        "outputId": "371926a9-c350-43e6-c13c-8d024c07e4aa",
        "pycharm": {
          "name": "#%%\n"
        }
      },
      "outputs": [
        {
          "output_type": "execute_result",
          "data": {
            "text/plain": [
              "               event_time event_name                               user_id  \\\n",
              "73323 2019-11-03 13:18:56   search_6  a3dd3738-52be-4fb5-8b02-36704f6b6cbe   \n",
              "7732  2019-10-08 14:32:23  tips_show  3bf5d145-80f5-48cf-ac3c-0c45111b9999   \n",
              "56929 2019-10-28 14:21:17        map  369f958d-9749-4bd3-aa74-41d7bdee46c4   \n",
              "16222 2019-10-11 09:58:08   search_6  e51888e5-fe1e-4ac3-b5bc-8656f37943d6   \n",
              "47610 2019-10-31 08:57:12  tips_show  5eaab80f-1bf9-4094-8b07-c4b04ae87cbc   \n",
              "\n",
              "       source  \n",
              "73323  google  \n",
              "7732   yandex  \n",
              "56929  google  \n",
              "16222  google  \n",
              "47610   other  "
            ],
            "text/html": [
              "\n",
              "  <div id=\"df-048e9e73-d19f-4507-bdf7-1483c929ae19\">\n",
              "    <div class=\"colab-df-container\">\n",
              "      <div>\n",
              "<style scoped>\n",
              "    .dataframe tbody tr th:only-of-type {\n",
              "        vertical-align: middle;\n",
              "    }\n",
              "\n",
              "    .dataframe tbody tr th {\n",
              "        vertical-align: top;\n",
              "    }\n",
              "\n",
              "    .dataframe thead th {\n",
              "        text-align: right;\n",
              "    }\n",
              "</style>\n",
              "<table border=\"1\" class=\"dataframe\">\n",
              "  <thead>\n",
              "    <tr style=\"text-align: right;\">\n",
              "      <th></th>\n",
              "      <th>event_time</th>\n",
              "      <th>event_name</th>\n",
              "      <th>user_id</th>\n",
              "      <th>source</th>\n",
              "    </tr>\n",
              "  </thead>\n",
              "  <tbody>\n",
              "    <tr>\n",
              "      <th>73323</th>\n",
              "      <td>2019-11-03 13:18:56</td>\n",
              "      <td>search_6</td>\n",
              "      <td>a3dd3738-52be-4fb5-8b02-36704f6b6cbe</td>\n",
              "      <td>google</td>\n",
              "    </tr>\n",
              "    <tr>\n",
              "      <th>7732</th>\n",
              "      <td>2019-10-08 14:32:23</td>\n",
              "      <td>tips_show</td>\n",
              "      <td>3bf5d145-80f5-48cf-ac3c-0c45111b9999</td>\n",
              "      <td>yandex</td>\n",
              "    </tr>\n",
              "    <tr>\n",
              "      <th>56929</th>\n",
              "      <td>2019-10-28 14:21:17</td>\n",
              "      <td>map</td>\n",
              "      <td>369f958d-9749-4bd3-aa74-41d7bdee46c4</td>\n",
              "      <td>google</td>\n",
              "    </tr>\n",
              "    <tr>\n",
              "      <th>16222</th>\n",
              "      <td>2019-10-11 09:58:08</td>\n",
              "      <td>search_6</td>\n",
              "      <td>e51888e5-fe1e-4ac3-b5bc-8656f37943d6</td>\n",
              "      <td>google</td>\n",
              "    </tr>\n",
              "    <tr>\n",
              "      <th>47610</th>\n",
              "      <td>2019-10-31 08:57:12</td>\n",
              "      <td>tips_show</td>\n",
              "      <td>5eaab80f-1bf9-4094-8b07-c4b04ae87cbc</td>\n",
              "      <td>other</td>\n",
              "    </tr>\n",
              "  </tbody>\n",
              "</table>\n",
              "</div>\n",
              "      <button class=\"colab-df-convert\" onclick=\"convertToInteractive('df-048e9e73-d19f-4507-bdf7-1483c929ae19')\"\n",
              "              title=\"Convert this dataframe to an interactive table.\"\n",
              "              style=\"display:none;\">\n",
              "        \n",
              "  <svg xmlns=\"http://www.w3.org/2000/svg\" height=\"24px\"viewBox=\"0 0 24 24\"\n",
              "       width=\"24px\">\n",
              "    <path d=\"M0 0h24v24H0V0z\" fill=\"none\"/>\n",
              "    <path d=\"M18.56 5.44l.94 2.06.94-2.06 2.06-.94-2.06-.94-.94-2.06-.94 2.06-2.06.94zm-11 1L8.5 8.5l.94-2.06 2.06-.94-2.06-.94L8.5 2.5l-.94 2.06-2.06.94zm10 10l.94 2.06.94-2.06 2.06-.94-2.06-.94-.94-2.06-.94 2.06-2.06.94z\"/><path d=\"M17.41 7.96l-1.37-1.37c-.4-.4-.92-.59-1.43-.59-.52 0-1.04.2-1.43.59L10.3 9.45l-7.72 7.72c-.78.78-.78 2.05 0 2.83L4 21.41c.39.39.9.59 1.41.59.51 0 1.02-.2 1.41-.59l7.78-7.78 2.81-2.81c.8-.78.8-2.07 0-2.86zM5.41 20L4 18.59l7.72-7.72 1.47 1.35L5.41 20z\"/>\n",
              "  </svg>\n",
              "      </button>\n",
              "      \n",
              "  <style>\n",
              "    .colab-df-container {\n",
              "      display:flex;\n",
              "      flex-wrap:wrap;\n",
              "      gap: 12px;\n",
              "    }\n",
              "\n",
              "    .colab-df-convert {\n",
              "      background-color: #E8F0FE;\n",
              "      border: none;\n",
              "      border-radius: 50%;\n",
              "      cursor: pointer;\n",
              "      display: none;\n",
              "      fill: #1967D2;\n",
              "      height: 32px;\n",
              "      padding: 0 0 0 0;\n",
              "      width: 32px;\n",
              "    }\n",
              "\n",
              "    .colab-df-convert:hover {\n",
              "      background-color: #E2EBFA;\n",
              "      box-shadow: 0px 1px 2px rgba(60, 64, 67, 0.3), 0px 1px 3px 1px rgba(60, 64, 67, 0.15);\n",
              "      fill: #174EA6;\n",
              "    }\n",
              "\n",
              "    [theme=dark] .colab-df-convert {\n",
              "      background-color: #3B4455;\n",
              "      fill: #D2E3FC;\n",
              "    }\n",
              "\n",
              "    [theme=dark] .colab-df-convert:hover {\n",
              "      background-color: #434B5C;\n",
              "      box-shadow: 0px 1px 3px 1px rgba(0, 0, 0, 0.15);\n",
              "      filter: drop-shadow(0px 1px 2px rgba(0, 0, 0, 0.3));\n",
              "      fill: #FFFFFF;\n",
              "    }\n",
              "  </style>\n",
              "\n",
              "      <script>\n",
              "        const buttonEl =\n",
              "          document.querySelector('#df-048e9e73-d19f-4507-bdf7-1483c929ae19 button.colab-df-convert');\n",
              "        buttonEl.style.display =\n",
              "          google.colab.kernel.accessAllowed ? 'block' : 'none';\n",
              "\n",
              "        async function convertToInteractive(key) {\n",
              "          const element = document.querySelector('#df-048e9e73-d19f-4507-bdf7-1483c929ae19');\n",
              "          const dataTable =\n",
              "            await google.colab.kernel.invokeFunction('convertToInteractive',\n",
              "                                                     [key], {});\n",
              "          if (!dataTable) return;\n",
              "\n",
              "          const docLinkHtml = 'Like what you see? Visit the ' +\n",
              "            '<a target=\"_blank\" href=https://colab.research.google.com/notebooks/data_table.ipynb>data table notebook</a>'\n",
              "            + ' to learn more about interactive tables.';\n",
              "          element.innerHTML = '';\n",
              "          dataTable['output_type'] = 'display_data';\n",
              "          await google.colab.output.renderOutput(dataTable, element);\n",
              "          const docLink = document.createElement('div');\n",
              "          docLink.innerHTML = docLinkHtml;\n",
              "          element.appendChild(docLink);\n",
              "        }\n",
              "      </script>\n",
              "    </div>\n",
              "  </div>\n",
              "  "
            ]
          },
          "metadata": {},
          "execution_count": 19
        }
      ],
      "source": [
        "df.sample(5)"
      ]
    },
    {
      "cell_type": "markdown",
      "metadata": {
        "id": "dx9oGwU-JBVs"
      },
      "source": [
        "Выделим из столбцов с датоами час, неделю, месяц, год и полную дату в отдельные столбцы"
      ]
    },
    {
      "cell_type": "code",
      "execution_count": 20,
      "metadata": {
        "id": "zvRik6gFucqe",
        "pycharm": {
          "name": "#%%\n"
        }
      },
      "outputs": [],
      "source": [
        "df['event_hour'] = df['event_time'].dt.hour\n",
        "df['event_week'] = df['event_time'].astype('datetime64[W]')\n",
        "df['event_month'] = df['event_time'].astype('datetime64[M]')\n",
        "df['event_year'] = df['event_time'].astype('datetime64[Y]')\n",
        "df['event_date'] = df['event_time'].astype('datetime64[D]')"
      ]
    },
    {
      "cell_type": "code",
      "execution_count": 21,
      "metadata": {
        "colab": {
          "base_uri": "https://localhost:8080/",
          "height": 363
        },
        "id": "JxOLMdVvucqf",
        "outputId": "909c4ae6-8f3b-4e7c-d117-aebd5074e62d",
        "pycharm": {
          "name": "#%%\n"
        }
      },
      "outputs": [
        {
          "output_type": "execute_result",
          "data": {
            "text/plain": [
              "               event_time     event_name  \\\n",
              "31913 2019-10-26 09:11:13      tips_show   \n",
              "57808 2019-10-25 21:56:02      tips_show   \n",
              "27858 2019-10-24 22:19:46       search_1   \n",
              "42760 2019-11-03 20:44:10  contacts_show   \n",
              "58622 2019-10-26 12:45:23  contacts_show   \n",
              "52533 2019-10-30 08:24:24      tips_show   \n",
              "35831 2019-10-28 13:28:04      tips_show   \n",
              "47886 2019-10-21 22:31:25      tips_show   \n",
              "60231 2019-10-26 21:20:59      tips_show   \n",
              "20183 2019-10-13 23:48:38            map   \n",
              "\n",
              "                                    user_id  source  event_hour event_week  \\\n",
              "31913  28fccdf4-7b9e-42f5-bc73-439a265f20e9  google           9 2019-10-24   \n",
              "57808  e907d8e4-1cd7-4579-bbad-cb0fe6a51a0c  yandex          21 2019-10-24   \n",
              "27858  22fbd020-1f72-483a-b452-ef13563a622e   other          22 2019-10-24   \n",
              "42760  cb32ff37-9d3e-4150-aff1-ca640731e342  yandex          20 2019-10-31   \n",
              "58622  fee3ba1c-16f4-46f7-bf56-4bf80cc4e2f5  google          12 2019-10-24   \n",
              "52533  c4667906-ed8a-48a8-adfd-602b25d22244   other           8 2019-10-24   \n",
              "35831  e4f99a9d-3c13-4972-ae47-690dad667749   other          13 2019-10-24   \n",
              "47886  9c2e88e9-ee5a-4309-9943-4865ca0e7539  yandex          22 2019-10-17   \n",
              "60231  3b6a7676-92b6-400d-b946-a221199c89a0   other          21 2019-10-24   \n",
              "20183  84557d6b-7887-4baf-9281-97c2e0f76e98  yandex          23 2019-10-10   \n",
              "\n",
              "      event_month event_year event_date  \n",
              "31913  2019-10-01 2019-01-01 2019-10-26  \n",
              "57808  2019-10-01 2019-01-01 2019-10-25  \n",
              "27858  2019-10-01 2019-01-01 2019-10-24  \n",
              "42760  2019-11-01 2019-01-01 2019-11-03  \n",
              "58622  2019-10-01 2019-01-01 2019-10-26  \n",
              "52533  2019-10-01 2019-01-01 2019-10-30  \n",
              "35831  2019-10-01 2019-01-01 2019-10-28  \n",
              "47886  2019-10-01 2019-01-01 2019-10-21  \n",
              "60231  2019-10-01 2019-01-01 2019-10-26  \n",
              "20183  2019-10-01 2019-01-01 2019-10-13  "
            ],
            "text/html": [
              "\n",
              "  <div id=\"df-5c695226-fdbe-4661-85ba-54dbc7b4c8fb\">\n",
              "    <div class=\"colab-df-container\">\n",
              "      <div>\n",
              "<style scoped>\n",
              "    .dataframe tbody tr th:only-of-type {\n",
              "        vertical-align: middle;\n",
              "    }\n",
              "\n",
              "    .dataframe tbody tr th {\n",
              "        vertical-align: top;\n",
              "    }\n",
              "\n",
              "    .dataframe thead th {\n",
              "        text-align: right;\n",
              "    }\n",
              "</style>\n",
              "<table border=\"1\" class=\"dataframe\">\n",
              "  <thead>\n",
              "    <tr style=\"text-align: right;\">\n",
              "      <th></th>\n",
              "      <th>event_time</th>\n",
              "      <th>event_name</th>\n",
              "      <th>user_id</th>\n",
              "      <th>source</th>\n",
              "      <th>event_hour</th>\n",
              "      <th>event_week</th>\n",
              "      <th>event_month</th>\n",
              "      <th>event_year</th>\n",
              "      <th>event_date</th>\n",
              "    </tr>\n",
              "  </thead>\n",
              "  <tbody>\n",
              "    <tr>\n",
              "      <th>31913</th>\n",
              "      <td>2019-10-26 09:11:13</td>\n",
              "      <td>tips_show</td>\n",
              "      <td>28fccdf4-7b9e-42f5-bc73-439a265f20e9</td>\n",
              "      <td>google</td>\n",
              "      <td>9</td>\n",
              "      <td>2019-10-24</td>\n",
              "      <td>2019-10-01</td>\n",
              "      <td>2019-01-01</td>\n",
              "      <td>2019-10-26</td>\n",
              "    </tr>\n",
              "    <tr>\n",
              "      <th>57808</th>\n",
              "      <td>2019-10-25 21:56:02</td>\n",
              "      <td>tips_show</td>\n",
              "      <td>e907d8e4-1cd7-4579-bbad-cb0fe6a51a0c</td>\n",
              "      <td>yandex</td>\n",
              "      <td>21</td>\n",
              "      <td>2019-10-24</td>\n",
              "      <td>2019-10-01</td>\n",
              "      <td>2019-01-01</td>\n",
              "      <td>2019-10-25</td>\n",
              "    </tr>\n",
              "    <tr>\n",
              "      <th>27858</th>\n",
              "      <td>2019-10-24 22:19:46</td>\n",
              "      <td>search_1</td>\n",
              "      <td>22fbd020-1f72-483a-b452-ef13563a622e</td>\n",
              "      <td>other</td>\n",
              "      <td>22</td>\n",
              "      <td>2019-10-24</td>\n",
              "      <td>2019-10-01</td>\n",
              "      <td>2019-01-01</td>\n",
              "      <td>2019-10-24</td>\n",
              "    </tr>\n",
              "    <tr>\n",
              "      <th>42760</th>\n",
              "      <td>2019-11-03 20:44:10</td>\n",
              "      <td>contacts_show</td>\n",
              "      <td>cb32ff37-9d3e-4150-aff1-ca640731e342</td>\n",
              "      <td>yandex</td>\n",
              "      <td>20</td>\n",
              "      <td>2019-10-31</td>\n",
              "      <td>2019-11-01</td>\n",
              "      <td>2019-01-01</td>\n",
              "      <td>2019-11-03</td>\n",
              "    </tr>\n",
              "    <tr>\n",
              "      <th>58622</th>\n",
              "      <td>2019-10-26 12:45:23</td>\n",
              "      <td>contacts_show</td>\n",
              "      <td>fee3ba1c-16f4-46f7-bf56-4bf80cc4e2f5</td>\n",
              "      <td>google</td>\n",
              "      <td>12</td>\n",
              "      <td>2019-10-24</td>\n",
              "      <td>2019-10-01</td>\n",
              "      <td>2019-01-01</td>\n",
              "      <td>2019-10-26</td>\n",
              "    </tr>\n",
              "    <tr>\n",
              "      <th>52533</th>\n",
              "      <td>2019-10-30 08:24:24</td>\n",
              "      <td>tips_show</td>\n",
              "      <td>c4667906-ed8a-48a8-adfd-602b25d22244</td>\n",
              "      <td>other</td>\n",
              "      <td>8</td>\n",
              "      <td>2019-10-24</td>\n",
              "      <td>2019-10-01</td>\n",
              "      <td>2019-01-01</td>\n",
              "      <td>2019-10-30</td>\n",
              "    </tr>\n",
              "    <tr>\n",
              "      <th>35831</th>\n",
              "      <td>2019-10-28 13:28:04</td>\n",
              "      <td>tips_show</td>\n",
              "      <td>e4f99a9d-3c13-4972-ae47-690dad667749</td>\n",
              "      <td>other</td>\n",
              "      <td>13</td>\n",
              "      <td>2019-10-24</td>\n",
              "      <td>2019-10-01</td>\n",
              "      <td>2019-01-01</td>\n",
              "      <td>2019-10-28</td>\n",
              "    </tr>\n",
              "    <tr>\n",
              "      <th>47886</th>\n",
              "      <td>2019-10-21 22:31:25</td>\n",
              "      <td>tips_show</td>\n",
              "      <td>9c2e88e9-ee5a-4309-9943-4865ca0e7539</td>\n",
              "      <td>yandex</td>\n",
              "      <td>22</td>\n",
              "      <td>2019-10-17</td>\n",
              "      <td>2019-10-01</td>\n",
              "      <td>2019-01-01</td>\n",
              "      <td>2019-10-21</td>\n",
              "    </tr>\n",
              "    <tr>\n",
              "      <th>60231</th>\n",
              "      <td>2019-10-26 21:20:59</td>\n",
              "      <td>tips_show</td>\n",
              "      <td>3b6a7676-92b6-400d-b946-a221199c89a0</td>\n",
              "      <td>other</td>\n",
              "      <td>21</td>\n",
              "      <td>2019-10-24</td>\n",
              "      <td>2019-10-01</td>\n",
              "      <td>2019-01-01</td>\n",
              "      <td>2019-10-26</td>\n",
              "    </tr>\n",
              "    <tr>\n",
              "      <th>20183</th>\n",
              "      <td>2019-10-13 23:48:38</td>\n",
              "      <td>map</td>\n",
              "      <td>84557d6b-7887-4baf-9281-97c2e0f76e98</td>\n",
              "      <td>yandex</td>\n",
              "      <td>23</td>\n",
              "      <td>2019-10-10</td>\n",
              "      <td>2019-10-01</td>\n",
              "      <td>2019-01-01</td>\n",
              "      <td>2019-10-13</td>\n",
              "    </tr>\n",
              "  </tbody>\n",
              "</table>\n",
              "</div>\n",
              "      <button class=\"colab-df-convert\" onclick=\"convertToInteractive('df-5c695226-fdbe-4661-85ba-54dbc7b4c8fb')\"\n",
              "              title=\"Convert this dataframe to an interactive table.\"\n",
              "              style=\"display:none;\">\n",
              "        \n",
              "  <svg xmlns=\"http://www.w3.org/2000/svg\" height=\"24px\"viewBox=\"0 0 24 24\"\n",
              "       width=\"24px\">\n",
              "    <path d=\"M0 0h24v24H0V0z\" fill=\"none\"/>\n",
              "    <path d=\"M18.56 5.44l.94 2.06.94-2.06 2.06-.94-2.06-.94-.94-2.06-.94 2.06-2.06.94zm-11 1L8.5 8.5l.94-2.06 2.06-.94-2.06-.94L8.5 2.5l-.94 2.06-2.06.94zm10 10l.94 2.06.94-2.06 2.06-.94-2.06-.94-.94-2.06-.94 2.06-2.06.94z\"/><path d=\"M17.41 7.96l-1.37-1.37c-.4-.4-.92-.59-1.43-.59-.52 0-1.04.2-1.43.59L10.3 9.45l-7.72 7.72c-.78.78-.78 2.05 0 2.83L4 21.41c.39.39.9.59 1.41.59.51 0 1.02-.2 1.41-.59l7.78-7.78 2.81-2.81c.8-.78.8-2.07 0-2.86zM5.41 20L4 18.59l7.72-7.72 1.47 1.35L5.41 20z\"/>\n",
              "  </svg>\n",
              "      </button>\n",
              "      \n",
              "  <style>\n",
              "    .colab-df-container {\n",
              "      display:flex;\n",
              "      flex-wrap:wrap;\n",
              "      gap: 12px;\n",
              "    }\n",
              "\n",
              "    .colab-df-convert {\n",
              "      background-color: #E8F0FE;\n",
              "      border: none;\n",
              "      border-radius: 50%;\n",
              "      cursor: pointer;\n",
              "      display: none;\n",
              "      fill: #1967D2;\n",
              "      height: 32px;\n",
              "      padding: 0 0 0 0;\n",
              "      width: 32px;\n",
              "    }\n",
              "\n",
              "    .colab-df-convert:hover {\n",
              "      background-color: #E2EBFA;\n",
              "      box-shadow: 0px 1px 2px rgba(60, 64, 67, 0.3), 0px 1px 3px 1px rgba(60, 64, 67, 0.15);\n",
              "      fill: #174EA6;\n",
              "    }\n",
              "\n",
              "    [theme=dark] .colab-df-convert {\n",
              "      background-color: #3B4455;\n",
              "      fill: #D2E3FC;\n",
              "    }\n",
              "\n",
              "    [theme=dark] .colab-df-convert:hover {\n",
              "      background-color: #434B5C;\n",
              "      box-shadow: 0px 1px 3px 1px rgba(0, 0, 0, 0.15);\n",
              "      filter: drop-shadow(0px 1px 2px rgba(0, 0, 0, 0.3));\n",
              "      fill: #FFFFFF;\n",
              "    }\n",
              "  </style>\n",
              "\n",
              "      <script>\n",
              "        const buttonEl =\n",
              "          document.querySelector('#df-5c695226-fdbe-4661-85ba-54dbc7b4c8fb button.colab-df-convert');\n",
              "        buttonEl.style.display =\n",
              "          google.colab.kernel.accessAllowed ? 'block' : 'none';\n",
              "\n",
              "        async function convertToInteractive(key) {\n",
              "          const element = document.querySelector('#df-5c695226-fdbe-4661-85ba-54dbc7b4c8fb');\n",
              "          const dataTable =\n",
              "            await google.colab.kernel.invokeFunction('convertToInteractive',\n",
              "                                                     [key], {});\n",
              "          if (!dataTable) return;\n",
              "\n",
              "          const docLinkHtml = 'Like what you see? Visit the ' +\n",
              "            '<a target=\"_blank\" href=https://colab.research.google.com/notebooks/data_table.ipynb>data table notebook</a>'\n",
              "            + ' to learn more about interactive tables.';\n",
              "          element.innerHTML = '';\n",
              "          dataTable['output_type'] = 'display_data';\n",
              "          await google.colab.output.renderOutput(dataTable, element);\n",
              "          const docLink = document.createElement('div');\n",
              "          docLink.innerHTML = docLinkHtml;\n",
              "          element.appendChild(docLink);\n",
              "        }\n",
              "      </script>\n",
              "    </div>\n",
              "  </div>\n",
              "  "
            ]
          },
          "metadata": {},
          "execution_count": 21
        }
      ],
      "source": [
        "df.sample(10)"
      ]
    },
    {
      "cell_type": "markdown",
      "metadata": {
        "id": "ytnNs72AGoiw"
      },
      "source": [
        "Посмотрим, что в столбцах event_name и source"
      ]
    },
    {
      "cell_type": "code",
      "execution_count": 22,
      "metadata": {
        "colab": {
          "base_uri": "https://localhost:8080/"
        },
        "id": "FKl6Xb3EH0ts",
        "outputId": "3d56d9f3-7ac6-4f94-c755-9b1fff8ad41e"
      },
      "outputs": [
        {
          "output_type": "execute_result",
          "data": {
            "text/plain": [
              "yandex    34286\n",
              "google    20445\n",
              "other     19466\n",
              "Name: source, dtype: int64"
            ]
          },
          "metadata": {},
          "execution_count": 22
        }
      ],
      "source": [
        "df['source'].value_counts()"
      ]
    },
    {
      "cell_type": "code",
      "execution_count": 23,
      "metadata": {
        "colab": {
          "base_uri": "https://localhost:8080/"
        },
        "id": "__2mK5ugHVQK",
        "outputId": "cb16caf6-75a6-4471-dad7-31c808daa9de"
      },
      "outputs": [
        {
          "output_type": "execute_result",
          "data": {
            "text/plain": [
              "tips_show        40055\n",
              "photos_show      10012\n",
              "advert_open       6164\n",
              "contacts_show     4450\n",
              "map               3881\n",
              "search_1          3506\n",
              "favorites_add     1417\n",
              "search_5          1049\n",
              "tips_click         814\n",
              "search_4           701\n",
              "contacts_call      541\n",
              "search_3           522\n",
              "search_6           460\n",
              "search_2           324\n",
              "search_7           222\n",
              "show_contacts       79\n",
              "Name: event_name, dtype: int64"
            ]
          },
          "metadata": {},
          "execution_count": 23
        }
      ],
      "source": [
        "df['event_name'].value_counts()"
      ]
    },
    {
      "cell_type": "markdown",
      "metadata": {
        "id": "KF3ppbmQucqf",
        "pycharm": {
          "name": "#%% md\n"
        }
      },
      "source": [
        "Так как события contacts_show и show_contacts обозначают одно и то же событие - пользователь нажал на кнопку \"Показать номер телефона\", то можно склеить их в одно. Аналогично можно поступить с событиями search, т.к в нашем исследовании неважно, что именно ищут пользователи."
      ]
    },
    {
      "cell_type": "code",
      "execution_count": 24,
      "metadata": {
        "id": "p1RlwHTqucqf",
        "pycharm": {
          "name": "#%%\n"
        }
      },
      "outputs": [],
      "source": [
        "def events_type(i):\n",
        "    if i == 'show_contacts':\n",
        "        new_name = 'contacts_show'\n",
        "        return new_name\n",
        "    elif 'search' in i:\n",
        "        new_name = 'search'\n",
        "        return new_name\n",
        "    return i\n",
        "\n",
        "df['event_name'] = df['event_name'].apply(events_type)"
      ]
    },
    {
      "cell_type": "code",
      "execution_count": 25,
      "metadata": {
        "colab": {
          "base_uri": "https://localhost:8080/"
        },
        "id": "DSDLt_Mtucqf",
        "outputId": "d9e62a5e-282e-4cdb-ce5b-bfd4c756386f",
        "pycharm": {
          "name": "#%%\n"
        }
      },
      "outputs": [
        {
          "output_type": "execute_result",
          "data": {
            "text/plain": [
              "tips_show        40055\n",
              "photos_show      10012\n",
              "search            6784\n",
              "advert_open       6164\n",
              "contacts_show     4529\n",
              "map               3881\n",
              "favorites_add     1417\n",
              "tips_click         814\n",
              "contacts_call      541\n",
              "Name: event_name, dtype: int64"
            ]
          },
          "metadata": {},
          "execution_count": 25
        }
      ],
      "source": [
        "df['event_name'].value_counts()"
      ]
    },
    {
      "cell_type": "code",
      "execution_count": 26,
      "metadata": {
        "colab": {
          "base_uri": "https://localhost:8080/",
          "height": 206
        },
        "id": "qB_rWy6wucqf",
        "outputId": "476abaf1-cf20-4514-fd6a-9ddbf5d64a2e",
        "pycharm": {
          "name": "#%%\n"
        }
      },
      "outputs": [
        {
          "output_type": "execute_result",
          "data": {
            "text/plain": [
              "               event_time   event_name                               user_id  \\\n",
              "74192 2019-11-03 23:46:47          map  d157bffc-264d-4464-8220-1cc0c42f43a9   \n",
              "74193 2019-11-03 23:46:59  advert_open  d157bffc-264d-4464-8220-1cc0c42f43a9   \n",
              "74194 2019-11-03 23:47:01    tips_show  d157bffc-264d-4464-8220-1cc0c42f43a9   \n",
              "74195 2019-11-03 23:47:47  advert_open  d157bffc-264d-4464-8220-1cc0c42f43a9   \n",
              "74196 2019-11-03 23:47:50    tips_show  d157bffc-264d-4464-8220-1cc0c42f43a9   \n",
              "\n",
              "       source  event_hour event_week event_month event_year event_date  \n",
              "74192  google          23 2019-10-31  2019-11-01 2019-01-01 2019-11-03  \n",
              "74193  google          23 2019-10-31  2019-11-01 2019-01-01 2019-11-03  \n",
              "74194  google          23 2019-10-31  2019-11-01 2019-01-01 2019-11-03  \n",
              "74195  google          23 2019-10-31  2019-11-01 2019-01-01 2019-11-03  \n",
              "74196  google          23 2019-10-31  2019-11-01 2019-01-01 2019-11-03  "
            ],
            "text/html": [
              "\n",
              "  <div id=\"df-41ed4811-bfd8-4794-a129-003a5b0ec089\">\n",
              "    <div class=\"colab-df-container\">\n",
              "      <div>\n",
              "<style scoped>\n",
              "    .dataframe tbody tr th:only-of-type {\n",
              "        vertical-align: middle;\n",
              "    }\n",
              "\n",
              "    .dataframe tbody tr th {\n",
              "        vertical-align: top;\n",
              "    }\n",
              "\n",
              "    .dataframe thead th {\n",
              "        text-align: right;\n",
              "    }\n",
              "</style>\n",
              "<table border=\"1\" class=\"dataframe\">\n",
              "  <thead>\n",
              "    <tr style=\"text-align: right;\">\n",
              "      <th></th>\n",
              "      <th>event_time</th>\n",
              "      <th>event_name</th>\n",
              "      <th>user_id</th>\n",
              "      <th>source</th>\n",
              "      <th>event_hour</th>\n",
              "      <th>event_week</th>\n",
              "      <th>event_month</th>\n",
              "      <th>event_year</th>\n",
              "      <th>event_date</th>\n",
              "    </tr>\n",
              "  </thead>\n",
              "  <tbody>\n",
              "    <tr>\n",
              "      <th>74192</th>\n",
              "      <td>2019-11-03 23:46:47</td>\n",
              "      <td>map</td>\n",
              "      <td>d157bffc-264d-4464-8220-1cc0c42f43a9</td>\n",
              "      <td>google</td>\n",
              "      <td>23</td>\n",
              "      <td>2019-10-31</td>\n",
              "      <td>2019-11-01</td>\n",
              "      <td>2019-01-01</td>\n",
              "      <td>2019-11-03</td>\n",
              "    </tr>\n",
              "    <tr>\n",
              "      <th>74193</th>\n",
              "      <td>2019-11-03 23:46:59</td>\n",
              "      <td>advert_open</td>\n",
              "      <td>d157bffc-264d-4464-8220-1cc0c42f43a9</td>\n",
              "      <td>google</td>\n",
              "      <td>23</td>\n",
              "      <td>2019-10-31</td>\n",
              "      <td>2019-11-01</td>\n",
              "      <td>2019-01-01</td>\n",
              "      <td>2019-11-03</td>\n",
              "    </tr>\n",
              "    <tr>\n",
              "      <th>74194</th>\n",
              "      <td>2019-11-03 23:47:01</td>\n",
              "      <td>tips_show</td>\n",
              "      <td>d157bffc-264d-4464-8220-1cc0c42f43a9</td>\n",
              "      <td>google</td>\n",
              "      <td>23</td>\n",
              "      <td>2019-10-31</td>\n",
              "      <td>2019-11-01</td>\n",
              "      <td>2019-01-01</td>\n",
              "      <td>2019-11-03</td>\n",
              "    </tr>\n",
              "    <tr>\n",
              "      <th>74195</th>\n",
              "      <td>2019-11-03 23:47:47</td>\n",
              "      <td>advert_open</td>\n",
              "      <td>d157bffc-264d-4464-8220-1cc0c42f43a9</td>\n",
              "      <td>google</td>\n",
              "      <td>23</td>\n",
              "      <td>2019-10-31</td>\n",
              "      <td>2019-11-01</td>\n",
              "      <td>2019-01-01</td>\n",
              "      <td>2019-11-03</td>\n",
              "    </tr>\n",
              "    <tr>\n",
              "      <th>74196</th>\n",
              "      <td>2019-11-03 23:47:50</td>\n",
              "      <td>tips_show</td>\n",
              "      <td>d157bffc-264d-4464-8220-1cc0c42f43a9</td>\n",
              "      <td>google</td>\n",
              "      <td>23</td>\n",
              "      <td>2019-10-31</td>\n",
              "      <td>2019-11-01</td>\n",
              "      <td>2019-01-01</td>\n",
              "      <td>2019-11-03</td>\n",
              "    </tr>\n",
              "  </tbody>\n",
              "</table>\n",
              "</div>\n",
              "      <button class=\"colab-df-convert\" onclick=\"convertToInteractive('df-41ed4811-bfd8-4794-a129-003a5b0ec089')\"\n",
              "              title=\"Convert this dataframe to an interactive table.\"\n",
              "              style=\"display:none;\">\n",
              "        \n",
              "  <svg xmlns=\"http://www.w3.org/2000/svg\" height=\"24px\"viewBox=\"0 0 24 24\"\n",
              "       width=\"24px\">\n",
              "    <path d=\"M0 0h24v24H0V0z\" fill=\"none\"/>\n",
              "    <path d=\"M18.56 5.44l.94 2.06.94-2.06 2.06-.94-2.06-.94-.94-2.06-.94 2.06-2.06.94zm-11 1L8.5 8.5l.94-2.06 2.06-.94-2.06-.94L8.5 2.5l-.94 2.06-2.06.94zm10 10l.94 2.06.94-2.06 2.06-.94-2.06-.94-.94-2.06-.94 2.06-2.06.94z\"/><path d=\"M17.41 7.96l-1.37-1.37c-.4-.4-.92-.59-1.43-.59-.52 0-1.04.2-1.43.59L10.3 9.45l-7.72 7.72c-.78.78-.78 2.05 0 2.83L4 21.41c.39.39.9.59 1.41.59.51 0 1.02-.2 1.41-.59l7.78-7.78 2.81-2.81c.8-.78.8-2.07 0-2.86zM5.41 20L4 18.59l7.72-7.72 1.47 1.35L5.41 20z\"/>\n",
              "  </svg>\n",
              "      </button>\n",
              "      \n",
              "  <style>\n",
              "    .colab-df-container {\n",
              "      display:flex;\n",
              "      flex-wrap:wrap;\n",
              "      gap: 12px;\n",
              "    }\n",
              "\n",
              "    .colab-df-convert {\n",
              "      background-color: #E8F0FE;\n",
              "      border: none;\n",
              "      border-radius: 50%;\n",
              "      cursor: pointer;\n",
              "      display: none;\n",
              "      fill: #1967D2;\n",
              "      height: 32px;\n",
              "      padding: 0 0 0 0;\n",
              "      width: 32px;\n",
              "    }\n",
              "\n",
              "    .colab-df-convert:hover {\n",
              "      background-color: #E2EBFA;\n",
              "      box-shadow: 0px 1px 2px rgba(60, 64, 67, 0.3), 0px 1px 3px 1px rgba(60, 64, 67, 0.15);\n",
              "      fill: #174EA6;\n",
              "    }\n",
              "\n",
              "    [theme=dark] .colab-df-convert {\n",
              "      background-color: #3B4455;\n",
              "      fill: #D2E3FC;\n",
              "    }\n",
              "\n",
              "    [theme=dark] .colab-df-convert:hover {\n",
              "      background-color: #434B5C;\n",
              "      box-shadow: 0px 1px 3px 1px rgba(0, 0, 0, 0.15);\n",
              "      filter: drop-shadow(0px 1px 2px rgba(0, 0, 0, 0.3));\n",
              "      fill: #FFFFFF;\n",
              "    }\n",
              "  </style>\n",
              "\n",
              "      <script>\n",
              "        const buttonEl =\n",
              "          document.querySelector('#df-41ed4811-bfd8-4794-a129-003a5b0ec089 button.colab-df-convert');\n",
              "        buttonEl.style.display =\n",
              "          google.colab.kernel.accessAllowed ? 'block' : 'none';\n",
              "\n",
              "        async function convertToInteractive(key) {\n",
              "          const element = document.querySelector('#df-41ed4811-bfd8-4794-a129-003a5b0ec089');\n",
              "          const dataTable =\n",
              "            await google.colab.kernel.invokeFunction('convertToInteractive',\n",
              "                                                     [key], {});\n",
              "          if (!dataTable) return;\n",
              "\n",
              "          const docLinkHtml = 'Like what you see? Visit the ' +\n",
              "            '<a target=\"_blank\" href=https://colab.research.google.com/notebooks/data_table.ipynb>data table notebook</a>'\n",
              "            + ' to learn more about interactive tables.';\n",
              "          element.innerHTML = '';\n",
              "          dataTable['output_type'] = 'display_data';\n",
              "          await google.colab.output.renderOutput(dataTable, element);\n",
              "          const docLink = document.createElement('div');\n",
              "          docLink.innerHTML = docLinkHtml;\n",
              "          element.appendChild(docLink);\n",
              "        }\n",
              "      </script>\n",
              "    </div>\n",
              "  </div>\n",
              "  "
            ]
          },
          "metadata": {},
          "execution_count": 26
        }
      ],
      "source": [
        "df.tail()"
      ]
    },
    {
      "cell_type": "markdown",
      "metadata": {
        "id": "1oYmtkVbucqf",
        "pycharm": {
          "name": "#%% md\n"
        }
      },
      "source": [
        "## 2. EDA"
      ]
    },
    {
      "cell_type": "markdown",
      "metadata": {
        "id": "ylc7Er36Vgcf"
      },
      "source": [
        "Посмотрим, за какой период у нас есть данные"
      ]
    },
    {
      "cell_type": "code",
      "execution_count": 27,
      "metadata": {
        "colab": {
          "base_uri": "https://localhost:8080/",
          "height": 55
        },
        "id": "r9zlOIzVVHgt",
        "outputId": "5df0f466-d92f-4149-dc74-e7b78695d054"
      },
      "outputs": [
        {
          "output_type": "display_data",
          "data": {
            "text/plain": [
              "'В логе представлены события за период с 2019-10-07 по 2019-11-03'"
            ],
            "application/vnd.google.colaboratory.intrinsic+json": {
              "type": "string"
            }
          },
          "metadata": {}
        },
        {
          "output_type": "display_data",
          "data": {
            "text/plain": [
              "'Выборка в днях составляет 27 days 23:58:13'"
            ],
            "application/vnd.google.colaboratory.intrinsic+json": {
              "type": "string"
            }
          },
          "metadata": {}
        }
      ],
      "source": [
        "display(f'В логе представлены события за период с {df[\"event_date\"].min().date()} по {df[\"event_date\"].max().date()}')\n",
        "display(f'Выборка в днях составляет {df[\"event_time\"].max()-df[\"event_time\"].min()}')"
      ]
    },
    {
      "cell_type": "markdown",
      "metadata": {
        "id": "4qXcXucdZsrw"
      },
      "source": [
        "Так как в выборке представленны данные за 28 дней будем строить понедельные когорты"
      ]
    },
    {
      "cell_type": "markdown",
      "metadata": {
        "id": "VP3066SBPzva"
      },
      "source": [
        "### Исследуем выбросы"
      ]
    },
    {
      "cell_type": "markdown",
      "metadata": {
        "id": "1-WrZ-N-Usqy"
      },
      "source": [
        "Посмотрим количество действий на пользователя, что бы устранить \"гиперактивных\""
      ]
    },
    {
      "cell_type": "code",
      "execution_count": 28,
      "metadata": {
        "colab": {
          "base_uri": "https://localhost:8080/",
          "height": 92
        },
        "id": "ssk7HsL8U7A4",
        "outputId": "a4557847-ecd2-45ed-b26e-c8f57bf97220"
      },
      "outputs": [
        {
          "output_type": "display_data",
          "data": {
            "text/plain": [
              "'Минимум событий на одного пользователя:'"
            ],
            "application/vnd.google.colaboratory.intrinsic+json": {
              "type": "string"
            }
          },
          "metadata": {}
        },
        {
          "output_type": "display_data",
          "data": {
            "text/plain": [
              "1"
            ]
          },
          "metadata": {}
        },
        {
          "output_type": "display_data",
          "data": {
            "text/plain": [
              "'Максимум событий на одного пользователя:'"
            ],
            "application/vnd.google.colaboratory.intrinsic+json": {
              "type": "string"
            }
          },
          "metadata": {}
        },
        {
          "output_type": "display_data",
          "data": {
            "text/plain": [
              "478"
            ]
          },
          "metadata": {}
        }
      ],
      "source": [
        "user_events = df.pivot_table(index='user_id', aggfunc={'event_name':'count'})\n",
        "user_events.columns = ['event_count']\n",
        "display('Минимум событий на одного пользователя:', user_events['event_count'].min())\n",
        "display('Максимум событий на одного пользователя:', user_events['event_count'].max())"
      ]
    },
    {
      "cell_type": "code",
      "execution_count": 29,
      "metadata": {
        "colab": {
          "base_uri": "https://localhost:8080/",
          "height": 300
        },
        "id": "4ce_g0M7Ev-k",
        "outputId": "dae5f1c1-226c-4499-ce36-38d5e32297f8"
      },
      "outputs": [
        {
          "output_type": "execute_result",
          "data": {
            "text/plain": [
              "       event_count\n",
              "count     4,293.00\n",
              "mean         17.28\n",
              "std          29.13\n",
              "min           1.00\n",
              "25%           5.00\n",
              "50%           9.00\n",
              "75%          17.00\n",
              "max         478.00"
            ],
            "text/html": [
              "\n",
              "  <div id=\"df-2937c8ee-9081-40fc-8129-a1712a592fb8\">\n",
              "    <div class=\"colab-df-container\">\n",
              "      <div>\n",
              "<style scoped>\n",
              "    .dataframe tbody tr th:only-of-type {\n",
              "        vertical-align: middle;\n",
              "    }\n",
              "\n",
              "    .dataframe tbody tr th {\n",
              "        vertical-align: top;\n",
              "    }\n",
              "\n",
              "    .dataframe thead th {\n",
              "        text-align: right;\n",
              "    }\n",
              "</style>\n",
              "<table border=\"1\" class=\"dataframe\">\n",
              "  <thead>\n",
              "    <tr style=\"text-align: right;\">\n",
              "      <th></th>\n",
              "      <th>event_count</th>\n",
              "    </tr>\n",
              "  </thead>\n",
              "  <tbody>\n",
              "    <tr>\n",
              "      <th>count</th>\n",
              "      <td>4,293.00</td>\n",
              "    </tr>\n",
              "    <tr>\n",
              "      <th>mean</th>\n",
              "      <td>17.28</td>\n",
              "    </tr>\n",
              "    <tr>\n",
              "      <th>std</th>\n",
              "      <td>29.13</td>\n",
              "    </tr>\n",
              "    <tr>\n",
              "      <th>min</th>\n",
              "      <td>1.00</td>\n",
              "    </tr>\n",
              "    <tr>\n",
              "      <th>25%</th>\n",
              "      <td>5.00</td>\n",
              "    </tr>\n",
              "    <tr>\n",
              "      <th>50%</th>\n",
              "      <td>9.00</td>\n",
              "    </tr>\n",
              "    <tr>\n",
              "      <th>75%</th>\n",
              "      <td>17.00</td>\n",
              "    </tr>\n",
              "    <tr>\n",
              "      <th>max</th>\n",
              "      <td>478.00</td>\n",
              "    </tr>\n",
              "  </tbody>\n",
              "</table>\n",
              "</div>\n",
              "      <button class=\"colab-df-convert\" onclick=\"convertToInteractive('df-2937c8ee-9081-40fc-8129-a1712a592fb8')\"\n",
              "              title=\"Convert this dataframe to an interactive table.\"\n",
              "              style=\"display:none;\">\n",
              "        \n",
              "  <svg xmlns=\"http://www.w3.org/2000/svg\" height=\"24px\"viewBox=\"0 0 24 24\"\n",
              "       width=\"24px\">\n",
              "    <path d=\"M0 0h24v24H0V0z\" fill=\"none\"/>\n",
              "    <path d=\"M18.56 5.44l.94 2.06.94-2.06 2.06-.94-2.06-.94-.94-2.06-.94 2.06-2.06.94zm-11 1L8.5 8.5l.94-2.06 2.06-.94-2.06-.94L8.5 2.5l-.94 2.06-2.06.94zm10 10l.94 2.06.94-2.06 2.06-.94-2.06-.94-.94-2.06-.94 2.06-2.06.94z\"/><path d=\"M17.41 7.96l-1.37-1.37c-.4-.4-.92-.59-1.43-.59-.52 0-1.04.2-1.43.59L10.3 9.45l-7.72 7.72c-.78.78-.78 2.05 0 2.83L4 21.41c.39.39.9.59 1.41.59.51 0 1.02-.2 1.41-.59l7.78-7.78 2.81-2.81c.8-.78.8-2.07 0-2.86zM5.41 20L4 18.59l7.72-7.72 1.47 1.35L5.41 20z\"/>\n",
              "  </svg>\n",
              "      </button>\n",
              "      \n",
              "  <style>\n",
              "    .colab-df-container {\n",
              "      display:flex;\n",
              "      flex-wrap:wrap;\n",
              "      gap: 12px;\n",
              "    }\n",
              "\n",
              "    .colab-df-convert {\n",
              "      background-color: #E8F0FE;\n",
              "      border: none;\n",
              "      border-radius: 50%;\n",
              "      cursor: pointer;\n",
              "      display: none;\n",
              "      fill: #1967D2;\n",
              "      height: 32px;\n",
              "      padding: 0 0 0 0;\n",
              "      width: 32px;\n",
              "    }\n",
              "\n",
              "    .colab-df-convert:hover {\n",
              "      background-color: #E2EBFA;\n",
              "      box-shadow: 0px 1px 2px rgba(60, 64, 67, 0.3), 0px 1px 3px 1px rgba(60, 64, 67, 0.15);\n",
              "      fill: #174EA6;\n",
              "    }\n",
              "\n",
              "    [theme=dark] .colab-df-convert {\n",
              "      background-color: #3B4455;\n",
              "      fill: #D2E3FC;\n",
              "    }\n",
              "\n",
              "    [theme=dark] .colab-df-convert:hover {\n",
              "      background-color: #434B5C;\n",
              "      box-shadow: 0px 1px 3px 1px rgba(0, 0, 0, 0.15);\n",
              "      filter: drop-shadow(0px 1px 2px rgba(0, 0, 0, 0.3));\n",
              "      fill: #FFFFFF;\n",
              "    }\n",
              "  </style>\n",
              "\n",
              "      <script>\n",
              "        const buttonEl =\n",
              "          document.querySelector('#df-2937c8ee-9081-40fc-8129-a1712a592fb8 button.colab-df-convert');\n",
              "        buttonEl.style.display =\n",
              "          google.colab.kernel.accessAllowed ? 'block' : 'none';\n",
              "\n",
              "        async function convertToInteractive(key) {\n",
              "          const element = document.querySelector('#df-2937c8ee-9081-40fc-8129-a1712a592fb8');\n",
              "          const dataTable =\n",
              "            await google.colab.kernel.invokeFunction('convertToInteractive',\n",
              "                                                     [key], {});\n",
              "          if (!dataTable) return;\n",
              "\n",
              "          const docLinkHtml = 'Like what you see? Visit the ' +\n",
              "            '<a target=\"_blank\" href=https://colab.research.google.com/notebooks/data_table.ipynb>data table notebook</a>'\n",
              "            + ' to learn more about interactive tables.';\n",
              "          element.innerHTML = '';\n",
              "          dataTable['output_type'] = 'display_data';\n",
              "          await google.colab.output.renderOutput(dataTable, element);\n",
              "          const docLink = document.createElement('div');\n",
              "          docLink.innerHTML = docLinkHtml;\n",
              "          element.appendChild(docLink);\n",
              "        }\n",
              "      </script>\n",
              "    </div>\n",
              "  </div>\n",
              "  "
            ]
          },
          "metadata": {},
          "execution_count": 29
        }
      ],
      "source": [
        "user_events.describe()"
      ]
    },
    {
      "cell_type": "markdown",
      "metadata": {
        "id": "h5xLDhL4145P"
      },
      "source": [
        "Посмотрим какое влияние оказывает tips_show - это автоматическое действие и ни как не зависит от действий пользователей"
      ]
    },
    {
      "cell_type": "code",
      "execution_count": 30,
      "metadata": {
        "id": "izzefZ4H0yvY"
      },
      "outputs": [],
      "source": [
        "dff = df.query('event_name != \"tips_show\"')"
      ]
    },
    {
      "cell_type": "code",
      "execution_count": 31,
      "metadata": {
        "colab": {
          "base_uri": "https://localhost:8080/"
        },
        "id": "1rqeqArOFCJ0",
        "outputId": "ed2372b4-86a4-4683-d645-c350d6caff7d"
      },
      "outputs": [
        {
          "output_type": "execute_result",
          "data": {
            "text/plain": [
              "(3586, 4293)"
            ]
          },
          "metadata": {},
          "execution_count": 31
        }
      ],
      "source": [
        "dff['user_id'].nunique(), df['user_id'].nunique()"
      ]
    },
    {
      "cell_type": "code",
      "execution_count": 32,
      "metadata": {
        "colab": {
          "base_uri": "https://localhost:8080/",
          "height": 92
        },
        "id": "tSL-4TcA1QvE",
        "outputId": "f759dad2-e553-4619-f429-5b581443f234"
      },
      "outputs": [
        {
          "output_type": "display_data",
          "data": {
            "text/plain": [
              "'Минимум событий на одного пользователя:'"
            ],
            "application/vnd.google.colaboratory.intrinsic+json": {
              "type": "string"
            }
          },
          "metadata": {}
        },
        {
          "output_type": "display_data",
          "data": {
            "text/plain": [
              "1"
            ]
          },
          "metadata": {}
        },
        {
          "output_type": "display_data",
          "data": {
            "text/plain": [
              "'Максимум событий на одного пользователя:'"
            ],
            "application/vnd.google.colaboratory.intrinsic+json": {
              "type": "string"
            }
          },
          "metadata": {}
        },
        {
          "output_type": "display_data",
          "data": {
            "text/plain": [
              "336"
            ]
          },
          "metadata": {}
        }
      ],
      "source": [
        "user_events_clean = dff.pivot_table(index='user_id', aggfunc={'event_name':'count'})\n",
        "user_events_clean.columns = ['event_count']\n",
        "display('Минимум событий на одного пользователя:', user_events_clean['event_count'].min())\n",
        "display('Максимум событий на одного пользователя:', user_events_clean['event_count'].max())"
      ]
    },
    {
      "cell_type": "code",
      "execution_count": 33,
      "metadata": {
        "colab": {
          "base_uri": "https://localhost:8080/",
          "height": 300
        },
        "id": "FKqI2Xm2V47h",
        "outputId": "f5e5a7c5-4500-4eb9-8859-004e5becbeda"
      },
      "outputs": [
        {
          "output_type": "execute_result",
          "data": {
            "text/plain": [
              "       event_count\n",
              "count     3,586.00\n",
              "mean          9.52\n",
              "std          16.32\n",
              "min           1.00\n",
              "25%           3.00\n",
              "50%           5.00\n",
              "75%          10.00\n",
              "max         336.00"
            ],
            "text/html": [
              "\n",
              "  <div id=\"df-f4ddac7d-325f-46bf-8cc1-c35931f2e695\">\n",
              "    <div class=\"colab-df-container\">\n",
              "      <div>\n",
              "<style scoped>\n",
              "    .dataframe tbody tr th:only-of-type {\n",
              "        vertical-align: middle;\n",
              "    }\n",
              "\n",
              "    .dataframe tbody tr th {\n",
              "        vertical-align: top;\n",
              "    }\n",
              "\n",
              "    .dataframe thead th {\n",
              "        text-align: right;\n",
              "    }\n",
              "</style>\n",
              "<table border=\"1\" class=\"dataframe\">\n",
              "  <thead>\n",
              "    <tr style=\"text-align: right;\">\n",
              "      <th></th>\n",
              "      <th>event_count</th>\n",
              "    </tr>\n",
              "  </thead>\n",
              "  <tbody>\n",
              "    <tr>\n",
              "      <th>count</th>\n",
              "      <td>3,586.00</td>\n",
              "    </tr>\n",
              "    <tr>\n",
              "      <th>mean</th>\n",
              "      <td>9.52</td>\n",
              "    </tr>\n",
              "    <tr>\n",
              "      <th>std</th>\n",
              "      <td>16.32</td>\n",
              "    </tr>\n",
              "    <tr>\n",
              "      <th>min</th>\n",
              "      <td>1.00</td>\n",
              "    </tr>\n",
              "    <tr>\n",
              "      <th>25%</th>\n",
              "      <td>3.00</td>\n",
              "    </tr>\n",
              "    <tr>\n",
              "      <th>50%</th>\n",
              "      <td>5.00</td>\n",
              "    </tr>\n",
              "    <tr>\n",
              "      <th>75%</th>\n",
              "      <td>10.00</td>\n",
              "    </tr>\n",
              "    <tr>\n",
              "      <th>max</th>\n",
              "      <td>336.00</td>\n",
              "    </tr>\n",
              "  </tbody>\n",
              "</table>\n",
              "</div>\n",
              "      <button class=\"colab-df-convert\" onclick=\"convertToInteractive('df-f4ddac7d-325f-46bf-8cc1-c35931f2e695')\"\n",
              "              title=\"Convert this dataframe to an interactive table.\"\n",
              "              style=\"display:none;\">\n",
              "        \n",
              "  <svg xmlns=\"http://www.w3.org/2000/svg\" height=\"24px\"viewBox=\"0 0 24 24\"\n",
              "       width=\"24px\">\n",
              "    <path d=\"M0 0h24v24H0V0z\" fill=\"none\"/>\n",
              "    <path d=\"M18.56 5.44l.94 2.06.94-2.06 2.06-.94-2.06-.94-.94-2.06-.94 2.06-2.06.94zm-11 1L8.5 8.5l.94-2.06 2.06-.94-2.06-.94L8.5 2.5l-.94 2.06-2.06.94zm10 10l.94 2.06.94-2.06 2.06-.94-2.06-.94-.94-2.06-.94 2.06-2.06.94z\"/><path d=\"M17.41 7.96l-1.37-1.37c-.4-.4-.92-.59-1.43-.59-.52 0-1.04.2-1.43.59L10.3 9.45l-7.72 7.72c-.78.78-.78 2.05 0 2.83L4 21.41c.39.39.9.59 1.41.59.51 0 1.02-.2 1.41-.59l7.78-7.78 2.81-2.81c.8-.78.8-2.07 0-2.86zM5.41 20L4 18.59l7.72-7.72 1.47 1.35L5.41 20z\"/>\n",
              "  </svg>\n",
              "      </button>\n",
              "      \n",
              "  <style>\n",
              "    .colab-df-container {\n",
              "      display:flex;\n",
              "      flex-wrap:wrap;\n",
              "      gap: 12px;\n",
              "    }\n",
              "\n",
              "    .colab-df-convert {\n",
              "      background-color: #E8F0FE;\n",
              "      border: none;\n",
              "      border-radius: 50%;\n",
              "      cursor: pointer;\n",
              "      display: none;\n",
              "      fill: #1967D2;\n",
              "      height: 32px;\n",
              "      padding: 0 0 0 0;\n",
              "      width: 32px;\n",
              "    }\n",
              "\n",
              "    .colab-df-convert:hover {\n",
              "      background-color: #E2EBFA;\n",
              "      box-shadow: 0px 1px 2px rgba(60, 64, 67, 0.3), 0px 1px 3px 1px rgba(60, 64, 67, 0.15);\n",
              "      fill: #174EA6;\n",
              "    }\n",
              "\n",
              "    [theme=dark] .colab-df-convert {\n",
              "      background-color: #3B4455;\n",
              "      fill: #D2E3FC;\n",
              "    }\n",
              "\n",
              "    [theme=dark] .colab-df-convert:hover {\n",
              "      background-color: #434B5C;\n",
              "      box-shadow: 0px 1px 3px 1px rgba(0, 0, 0, 0.15);\n",
              "      filter: drop-shadow(0px 1px 2px rgba(0, 0, 0, 0.3));\n",
              "      fill: #FFFFFF;\n",
              "    }\n",
              "  </style>\n",
              "\n",
              "      <script>\n",
              "        const buttonEl =\n",
              "          document.querySelector('#df-f4ddac7d-325f-46bf-8cc1-c35931f2e695 button.colab-df-convert');\n",
              "        buttonEl.style.display =\n",
              "          google.colab.kernel.accessAllowed ? 'block' : 'none';\n",
              "\n",
              "        async function convertToInteractive(key) {\n",
              "          const element = document.querySelector('#df-f4ddac7d-325f-46bf-8cc1-c35931f2e695');\n",
              "          const dataTable =\n",
              "            await google.colab.kernel.invokeFunction('convertToInteractive',\n",
              "                                                     [key], {});\n",
              "          if (!dataTable) return;\n",
              "\n",
              "          const docLinkHtml = 'Like what you see? Visit the ' +\n",
              "            '<a target=\"_blank\" href=https://colab.research.google.com/notebooks/data_table.ipynb>data table notebook</a>'\n",
              "            + ' to learn more about interactive tables.';\n",
              "          element.innerHTML = '';\n",
              "          dataTable['output_type'] = 'display_data';\n",
              "          await google.colab.output.renderOutput(dataTable, element);\n",
              "          const docLink = document.createElement('div');\n",
              "          docLink.innerHTML = docLinkHtml;\n",
              "          element.appendChild(docLink);\n",
              "        }\n",
              "      </script>\n",
              "    </div>\n",
              "  </div>\n",
              "  "
            ]
          },
          "metadata": {},
          "execution_count": 33
        }
      ],
      "source": [
        "user_events_clean.describe()"
      ]
    },
    {
      "cell_type": "markdown",
      "metadata": {
        "id": "lMfddw7z4CLK"
      },
      "source": [
        "Если удалим будут большие потери. Оставим как есть"
      ]
    },
    {
      "cell_type": "markdown",
      "metadata": {
        "id": "DGUyAhaqG8Bo"
      },
      "source": [
        " ### Retention Rate"
      ]
    },
    {
      "cell_type": "markdown",
      "metadata": {
        "id": "Q4NbqtZnHKI0"
      },
      "source": [
        "Разобьем пользователей по когортам"
      ]
    },
    {
      "cell_type": "markdown",
      "metadata": {
        "id": "lKJLogQvRxjK"
      },
      "source": [
        "Посмотрим период выборки"
      ]
    },
    {
      "cell_type": "markdown",
      "metadata": {
        "id": "FCgb5KiMDIT_"
      },
      "source": [
        "Возьмём дату, когда пользователь впервые проявил активность в мобильном приложении."
      ]
    },
    {
      "cell_type": "code",
      "execution_count": 34,
      "metadata": {
        "id": "pku_c-cSHe8T"
      },
      "outputs": [],
      "source": [
        "first_date = df.groupby(['user_id'])['event_date'].min()\n",
        "first_date.name = 'start_dt'\n",
        "df = df.join(first_date,on='user_id')"
      ]
    },
    {
      "cell_type": "code",
      "execution_count": 35,
      "metadata": {
        "colab": {
          "base_uri": "https://localhost:8080/",
          "height": 363
        },
        "id": "AHF1qb0CHt-g",
        "outputId": "1b22a37f-540f-400e-dff1-871750f09cd7"
      },
      "outputs": [
        {
          "output_type": "execute_result",
          "data": {
            "text/plain": [
              "               event_time   event_name                               user_id  \\\n",
              "72128 2019-11-02 12:41:06  photos_show  f627700d-8e0a-4d8c-87f1-becd99223755   \n",
              "53628 2019-10-24 08:59:34  advert_open  5c51bbeb-28c3-4261-92b5-5dcd601dc28d   \n",
              "13357 2019-10-28 10:02:42    tips_show  21230dd9-2f7f-4b77-a436-43d4d10388e0   \n",
              "63317 2019-10-28 11:53:17    tips_show  4744f938-4c82-4dbf-9740-d01e4c6fc2a3   \n",
              "487   2019-10-07 09:16:42    tips_show  af9f4d75-530c-40f9-9aab-a5535b84845e   \n",
              "65505 2019-10-30 19:41:56       search  11c88949-b9c8-42d9-926a-bd0a0f4e058d   \n",
              "38557 2019-10-22 15:11:46       search  3521521c-99cb-4142-96cb-0b97cd5c60e6   \n",
              "21738 2019-10-25 11:26:23  photos_show  c0097deb-203a-42c7-baba-7d54374fb97f   \n",
              "50837 2019-10-23 00:50:01  advert_open  12057f5f-5347-41f4-9789-c756398b049e   \n",
              "32353 2019-10-31 09:20:12       search  570e1e48-5bfb-4c99-84b6-a10d9a15bf05   \n",
              "\n",
              "       source  event_hour event_week event_month event_year event_date  \\\n",
              "72128   other          12 2019-10-31  2019-11-01 2019-01-01 2019-11-02   \n",
              "53628   other           8 2019-10-24  2019-10-01 2019-01-01 2019-10-24   \n",
              "13357  yandex          10 2019-10-24  2019-10-01 2019-01-01 2019-10-28   \n",
              "63317  google          11 2019-10-24  2019-10-01 2019-01-01 2019-10-28   \n",
              "487     other           9 2019-10-03  2019-10-01 2019-01-01 2019-10-07   \n",
              "65505  yandex          19 2019-10-24  2019-10-01 2019-01-01 2019-10-30   \n",
              "38557  yandex          15 2019-10-17  2019-10-01 2019-01-01 2019-10-22   \n",
              "21738  yandex          11 2019-10-24  2019-10-01 2019-01-01 2019-10-25   \n",
              "50837  yandex           0 2019-10-17  2019-10-01 2019-01-01 2019-10-23   \n",
              "32353   other           9 2019-10-31  2019-10-01 2019-01-01 2019-10-31   \n",
              "\n",
              "        start_dt  \n",
              "72128 2019-11-02  \n",
              "53628 2019-10-24  \n",
              "13357 2019-10-10  \n",
              "63317 2019-10-28  \n",
              "487   2019-10-07  \n",
              "65505 2019-10-29  \n",
              "38557 2019-10-18  \n",
              "21738 2019-10-12  \n",
              "50837 2019-10-23  \n",
              "32353 2019-10-16  "
            ],
            "text/html": [
              "\n",
              "  <div id=\"df-a58f293f-03a3-463a-83f0-c61fd154d078\">\n",
              "    <div class=\"colab-df-container\">\n",
              "      <div>\n",
              "<style scoped>\n",
              "    .dataframe tbody tr th:only-of-type {\n",
              "        vertical-align: middle;\n",
              "    }\n",
              "\n",
              "    .dataframe tbody tr th {\n",
              "        vertical-align: top;\n",
              "    }\n",
              "\n",
              "    .dataframe thead th {\n",
              "        text-align: right;\n",
              "    }\n",
              "</style>\n",
              "<table border=\"1\" class=\"dataframe\">\n",
              "  <thead>\n",
              "    <tr style=\"text-align: right;\">\n",
              "      <th></th>\n",
              "      <th>event_time</th>\n",
              "      <th>event_name</th>\n",
              "      <th>user_id</th>\n",
              "      <th>source</th>\n",
              "      <th>event_hour</th>\n",
              "      <th>event_week</th>\n",
              "      <th>event_month</th>\n",
              "      <th>event_year</th>\n",
              "      <th>event_date</th>\n",
              "      <th>start_dt</th>\n",
              "    </tr>\n",
              "  </thead>\n",
              "  <tbody>\n",
              "    <tr>\n",
              "      <th>72128</th>\n",
              "      <td>2019-11-02 12:41:06</td>\n",
              "      <td>photos_show</td>\n",
              "      <td>f627700d-8e0a-4d8c-87f1-becd99223755</td>\n",
              "      <td>other</td>\n",
              "      <td>12</td>\n",
              "      <td>2019-10-31</td>\n",
              "      <td>2019-11-01</td>\n",
              "      <td>2019-01-01</td>\n",
              "      <td>2019-11-02</td>\n",
              "      <td>2019-11-02</td>\n",
              "    </tr>\n",
              "    <tr>\n",
              "      <th>53628</th>\n",
              "      <td>2019-10-24 08:59:34</td>\n",
              "      <td>advert_open</td>\n",
              "      <td>5c51bbeb-28c3-4261-92b5-5dcd601dc28d</td>\n",
              "      <td>other</td>\n",
              "      <td>8</td>\n",
              "      <td>2019-10-24</td>\n",
              "      <td>2019-10-01</td>\n",
              "      <td>2019-01-01</td>\n",
              "      <td>2019-10-24</td>\n",
              "      <td>2019-10-24</td>\n",
              "    </tr>\n",
              "    <tr>\n",
              "      <th>13357</th>\n",
              "      <td>2019-10-28 10:02:42</td>\n",
              "      <td>tips_show</td>\n",
              "      <td>21230dd9-2f7f-4b77-a436-43d4d10388e0</td>\n",
              "      <td>yandex</td>\n",
              "      <td>10</td>\n",
              "      <td>2019-10-24</td>\n",
              "      <td>2019-10-01</td>\n",
              "      <td>2019-01-01</td>\n",
              "      <td>2019-10-28</td>\n",
              "      <td>2019-10-10</td>\n",
              "    </tr>\n",
              "    <tr>\n",
              "      <th>63317</th>\n",
              "      <td>2019-10-28 11:53:17</td>\n",
              "      <td>tips_show</td>\n",
              "      <td>4744f938-4c82-4dbf-9740-d01e4c6fc2a3</td>\n",
              "      <td>google</td>\n",
              "      <td>11</td>\n",
              "      <td>2019-10-24</td>\n",
              "      <td>2019-10-01</td>\n",
              "      <td>2019-01-01</td>\n",
              "      <td>2019-10-28</td>\n",
              "      <td>2019-10-28</td>\n",
              "    </tr>\n",
              "    <tr>\n",
              "      <th>487</th>\n",
              "      <td>2019-10-07 09:16:42</td>\n",
              "      <td>tips_show</td>\n",
              "      <td>af9f4d75-530c-40f9-9aab-a5535b84845e</td>\n",
              "      <td>other</td>\n",
              "      <td>9</td>\n",
              "      <td>2019-10-03</td>\n",
              "      <td>2019-10-01</td>\n",
              "      <td>2019-01-01</td>\n",
              "      <td>2019-10-07</td>\n",
              "      <td>2019-10-07</td>\n",
              "    </tr>\n",
              "    <tr>\n",
              "      <th>65505</th>\n",
              "      <td>2019-10-30 19:41:56</td>\n",
              "      <td>search</td>\n",
              "      <td>11c88949-b9c8-42d9-926a-bd0a0f4e058d</td>\n",
              "      <td>yandex</td>\n",
              "      <td>19</td>\n",
              "      <td>2019-10-24</td>\n",
              "      <td>2019-10-01</td>\n",
              "      <td>2019-01-01</td>\n",
              "      <td>2019-10-30</td>\n",
              "      <td>2019-10-29</td>\n",
              "    </tr>\n",
              "    <tr>\n",
              "      <th>38557</th>\n",
              "      <td>2019-10-22 15:11:46</td>\n",
              "      <td>search</td>\n",
              "      <td>3521521c-99cb-4142-96cb-0b97cd5c60e6</td>\n",
              "      <td>yandex</td>\n",
              "      <td>15</td>\n",
              "      <td>2019-10-17</td>\n",
              "      <td>2019-10-01</td>\n",
              "      <td>2019-01-01</td>\n",
              "      <td>2019-10-22</td>\n",
              "      <td>2019-10-18</td>\n",
              "    </tr>\n",
              "    <tr>\n",
              "      <th>21738</th>\n",
              "      <td>2019-10-25 11:26:23</td>\n",
              "      <td>photos_show</td>\n",
              "      <td>c0097deb-203a-42c7-baba-7d54374fb97f</td>\n",
              "      <td>yandex</td>\n",
              "      <td>11</td>\n",
              "      <td>2019-10-24</td>\n",
              "      <td>2019-10-01</td>\n",
              "      <td>2019-01-01</td>\n",
              "      <td>2019-10-25</td>\n",
              "      <td>2019-10-12</td>\n",
              "    </tr>\n",
              "    <tr>\n",
              "      <th>50837</th>\n",
              "      <td>2019-10-23 00:50:01</td>\n",
              "      <td>advert_open</td>\n",
              "      <td>12057f5f-5347-41f4-9789-c756398b049e</td>\n",
              "      <td>yandex</td>\n",
              "      <td>0</td>\n",
              "      <td>2019-10-17</td>\n",
              "      <td>2019-10-01</td>\n",
              "      <td>2019-01-01</td>\n",
              "      <td>2019-10-23</td>\n",
              "      <td>2019-10-23</td>\n",
              "    </tr>\n",
              "    <tr>\n",
              "      <th>32353</th>\n",
              "      <td>2019-10-31 09:20:12</td>\n",
              "      <td>search</td>\n",
              "      <td>570e1e48-5bfb-4c99-84b6-a10d9a15bf05</td>\n",
              "      <td>other</td>\n",
              "      <td>9</td>\n",
              "      <td>2019-10-31</td>\n",
              "      <td>2019-10-01</td>\n",
              "      <td>2019-01-01</td>\n",
              "      <td>2019-10-31</td>\n",
              "      <td>2019-10-16</td>\n",
              "    </tr>\n",
              "  </tbody>\n",
              "</table>\n",
              "</div>\n",
              "      <button class=\"colab-df-convert\" onclick=\"convertToInteractive('df-a58f293f-03a3-463a-83f0-c61fd154d078')\"\n",
              "              title=\"Convert this dataframe to an interactive table.\"\n",
              "              style=\"display:none;\">\n",
              "        \n",
              "  <svg xmlns=\"http://www.w3.org/2000/svg\" height=\"24px\"viewBox=\"0 0 24 24\"\n",
              "       width=\"24px\">\n",
              "    <path d=\"M0 0h24v24H0V0z\" fill=\"none\"/>\n",
              "    <path d=\"M18.56 5.44l.94 2.06.94-2.06 2.06-.94-2.06-.94-.94-2.06-.94 2.06-2.06.94zm-11 1L8.5 8.5l.94-2.06 2.06-.94-2.06-.94L8.5 2.5l-.94 2.06-2.06.94zm10 10l.94 2.06.94-2.06 2.06-.94-2.06-.94-.94-2.06-.94 2.06-2.06.94z\"/><path d=\"M17.41 7.96l-1.37-1.37c-.4-.4-.92-.59-1.43-.59-.52 0-1.04.2-1.43.59L10.3 9.45l-7.72 7.72c-.78.78-.78 2.05 0 2.83L4 21.41c.39.39.9.59 1.41.59.51 0 1.02-.2 1.41-.59l7.78-7.78 2.81-2.81c.8-.78.8-2.07 0-2.86zM5.41 20L4 18.59l7.72-7.72 1.47 1.35L5.41 20z\"/>\n",
              "  </svg>\n",
              "      </button>\n",
              "      \n",
              "  <style>\n",
              "    .colab-df-container {\n",
              "      display:flex;\n",
              "      flex-wrap:wrap;\n",
              "      gap: 12px;\n",
              "    }\n",
              "\n",
              "    .colab-df-convert {\n",
              "      background-color: #E8F0FE;\n",
              "      border: none;\n",
              "      border-radius: 50%;\n",
              "      cursor: pointer;\n",
              "      display: none;\n",
              "      fill: #1967D2;\n",
              "      height: 32px;\n",
              "      padding: 0 0 0 0;\n",
              "      width: 32px;\n",
              "    }\n",
              "\n",
              "    .colab-df-convert:hover {\n",
              "      background-color: #E2EBFA;\n",
              "      box-shadow: 0px 1px 2px rgba(60, 64, 67, 0.3), 0px 1px 3px 1px rgba(60, 64, 67, 0.15);\n",
              "      fill: #174EA6;\n",
              "    }\n",
              "\n",
              "    [theme=dark] .colab-df-convert {\n",
              "      background-color: #3B4455;\n",
              "      fill: #D2E3FC;\n",
              "    }\n",
              "\n",
              "    [theme=dark] .colab-df-convert:hover {\n",
              "      background-color: #434B5C;\n",
              "      box-shadow: 0px 1px 3px 1px rgba(0, 0, 0, 0.15);\n",
              "      filter: drop-shadow(0px 1px 2px rgba(0, 0, 0, 0.3));\n",
              "      fill: #FFFFFF;\n",
              "    }\n",
              "  </style>\n",
              "\n",
              "      <script>\n",
              "        const buttonEl =\n",
              "          document.querySelector('#df-a58f293f-03a3-463a-83f0-c61fd154d078 button.colab-df-convert');\n",
              "        buttonEl.style.display =\n",
              "          google.colab.kernel.accessAllowed ? 'block' : 'none';\n",
              "\n",
              "        async function convertToInteractive(key) {\n",
              "          const element = document.querySelector('#df-a58f293f-03a3-463a-83f0-c61fd154d078');\n",
              "          const dataTable =\n",
              "            await google.colab.kernel.invokeFunction('convertToInteractive',\n",
              "                                                     [key], {});\n",
              "          if (!dataTable) return;\n",
              "\n",
              "          const docLinkHtml = 'Like what you see? Visit the ' +\n",
              "            '<a target=\"_blank\" href=https://colab.research.google.com/notebooks/data_table.ipynb>data table notebook</a>'\n",
              "            + ' to learn more about interactive tables.';\n",
              "          element.innerHTML = '';\n",
              "          dataTable['output_type'] = 'display_data';\n",
              "          await google.colab.output.renderOutput(dataTable, element);\n",
              "          const docLink = document.createElement('div');\n",
              "          docLink.innerHTML = docLinkHtml;\n",
              "          element.appendChild(docLink);\n",
              "        }\n",
              "      </script>\n",
              "    </div>\n",
              "  </div>\n",
              "  "
            ]
          },
          "metadata": {},
          "execution_count": 35
        }
      ],
      "source": [
        "df.sample(10)"
      ]
    },
    {
      "cell_type": "markdown",
      "metadata": {
        "id": "EQmMNb8NJ8Xk"
      },
      "source": [
        "Найдем когорту"
      ]
    },
    {
      "cell_type": "code",
      "execution_count": 36,
      "metadata": {
        "id": "XIVPhImgINkQ"
      },
      "outputs": [],
      "source": [
        "df['activ_week'] = pd.to_datetime(df['event_date'],\n",
        "                                                unit='d') - pd.to_timedelta(df['event_date'].dt.dayofweek, unit='d')\n",
        "df['start_week'] = pd.to_datetime(df['start_dt'],\n",
        "                                                      unit='d') - pd.to_timedelta(df['start_dt'].dt.dayofweek, unit='d')"
      ]
    },
    {
      "cell_type": "code",
      "execution_count": 37,
      "metadata": {
        "colab": {
          "base_uri": "https://localhost:8080/"
        },
        "id": "6ANp5LAcP62C",
        "outputId": "73a26a24-3b28-4f7d-8b22-5a531c865b9e"
      },
      "outputs": [
        {
          "output_type": "stream",
          "name": "stdout",
          "text": [
            "<class 'pandas.core.frame.DataFrame'>\n",
            "Int64Index: 74197 entries, 0 to 74196\n",
            "Data columns (total 12 columns):\n",
            " #   Column       Non-Null Count  Dtype         \n",
            "---  ------       --------------  -----         \n",
            " 0   event_time   74197 non-null  datetime64[ns]\n",
            " 1   event_name   74197 non-null  object        \n",
            " 2   user_id      74197 non-null  object        \n",
            " 3   source       74197 non-null  object        \n",
            " 4   event_hour   74197 non-null  int64         \n",
            " 5   event_week   74197 non-null  datetime64[ns]\n",
            " 6   event_month  74197 non-null  datetime64[ns]\n",
            " 7   event_year   74197 non-null  datetime64[ns]\n",
            " 8   event_date   74197 non-null  datetime64[ns]\n",
            " 9   start_dt     74197 non-null  datetime64[ns]\n",
            " 10  activ_week   74197 non-null  datetime64[ns]\n",
            " 11  start_week   74197 non-null  datetime64[ns]\n",
            "dtypes: datetime64[ns](8), int64(1), object(3)\n",
            "memory usage: 7.4+ MB\n"
          ]
        }
      ],
      "source": [
        "df.info()"
      ]
    },
    {
      "cell_type": "markdown",
      "metadata": {
        "id": "T1gmHXskKiz8"
      },
      "source": [
        "Расcчитаем lifetime"
      ]
    },
    {
      "cell_type": "code",
      "execution_count": 38,
      "metadata": {
        "id": "aSVPm2jpIuAV"
      },
      "outputs": [],
      "source": [
        "df['cohort_lifetime'] = df['activ_week'] - df['start_week']\n",
        "df['cohort_lifetime'] = df['cohort_lifetime'] / np.timedelta64(1,'W')\n",
        "df['cohort_lifetime'] = df['cohort_lifetime'].astype(int)"
      ]
    },
    {
      "cell_type": "markdown",
      "metadata": {
        "id": "YvMDmxSxLXu0"
      },
      "source": [
        "Сгруппируем данные по когорте и lifetime."
      ]
    },
    {
      "cell_type": "code",
      "execution_count": 39,
      "metadata": {
        "id": "hAR2BYM1KczE"
      },
      "outputs": [],
      "source": [
        "cohorts = df.groupby(['start_week','cohort_lifetime']).agg({'user_id':'nunique'}).reset_index()"
      ]
    },
    {
      "cell_type": "markdown",
      "metadata": {
        "id": "pVpPjpG6Mw2t"
      },
      "source": [
        "Найдём количество пользователей в когорте. Возьмём их число на нулевую неделю:"
      ]
    },
    {
      "cell_type": "code",
      "execution_count": 40,
      "metadata": {
        "id": "xBEfOhUuL2ZC"
      },
      "outputs": [],
      "source": [
        "initial_users_count = cohorts[cohorts['cohort_lifetime'] == 0][['start_week','user_id']]"
      ]
    },
    {
      "cell_type": "code",
      "execution_count": 41,
      "metadata": {
        "id": "L0kPEoZcNG3i"
      },
      "outputs": [],
      "source": [
        "initial_users_count = initial_users_count.rename(columns={'user_id':'cohort_users'})\n",
        "cohorts = cohorts.merge(initial_users_count,on='start_week')"
      ]
    },
    {
      "cell_type": "markdown",
      "metadata": {
        "id": "1Fd51IAbNd0W"
      },
      "source": [
        "Посчитаем Retention Rate. Разделим количество активных пользователей в каждую из недель на исходное число пользователей в когорте"
      ]
    },
    {
      "cell_type": "code",
      "execution_count": 42,
      "metadata": {
        "id": "xN5Aw_beNLl8"
      },
      "outputs": [],
      "source": [
        "cohorts['retention'] = cohorts['user_id']/cohorts['cohort_users']"
      ]
    },
    {
      "cell_type": "code",
      "execution_count": 43,
      "metadata": {
        "id": "MpJDq4_saRrS"
      },
      "outputs": [],
      "source": [
        "cohorts['start_week'] = cohorts['start_week'].dt.date"
      ]
    },
    {
      "cell_type": "code",
      "execution_count": 44,
      "metadata": {
        "id": "nWULvu7SN1IH"
      },
      "outputs": [],
      "source": [
        "retention_pivot = cohorts.pivot_table(index='start_week',columns='cohort_lifetime',values='retention',aggfunc='sum')"
      ]
    },
    {
      "cell_type": "code",
      "execution_count": 45,
      "metadata": {
        "colab": {
          "base_uri": "https://localhost:8080/",
          "height": 464
        },
        "id": "MpDjSAl8PYXy",
        "outputId": "ff15e3d5-236f-491d-a277-dfe98871addf"
      },
      "outputs": [
        {
          "output_type": "display_data",
          "data": {
            "text/plain": [
              "<Figure size 720x504 with 2 Axes>"
            ],
            "image/png": "[encoded data removed]"
          },
          "metadata": {}
        }
      ],
      "source": [
        "sns.set(style='dark')\n",
        "plt.figure(figsize=(10, 7))\n",
        "plt.title('Cohorts: User Retention')\n",
        "sns.heatmap(retention_pivot, annot=True, fmt='.1%', linewidths=1, linecolor='gray');"
      ]
    },
    {
      "cell_type": "markdown",
      "metadata": {
        "id": "wp3yDWY8PcW5"
      },
      "source": [
        "#### Вывод:\n",
        "Малый диапазон выборкиб возможно все описанное ниже погрешность  \n",
        "Retention Rate в первую неделю убывает по когортам с течением времени.  \n",
        "Для когорты 7 октября по 13 октября Retention Rate в первую неделю составляет 24,1%, то для пользователей, пришедших с 21 по 27 октября — уже 21,8%. Так, за 2 недели коэффициент удержания упал на 2,3%. Это говорит, что с каждой новой когортой поведение покупателей меняется. Так же чем больше когорта проводит времени в приложении, тем меньше пользователей осталось.\n"
      ]
    },
    {
      "cell_type": "markdown",
      "metadata": {
        "id": "P3wUTPSREqyr"
      },
      "source": [
        "### Время, проведенное в приложении"
      ]
    },
    {
      "cell_type": "markdown",
      "metadata": {
        "id": "uhCYdhGZFBw6"
      },
      "source": [
        "Что определить эту метрику, нужно выделить для каждого пользователя сессии. Создадим столбец с отметкой времени предыдущего действия для каждого пользователя (pre_action_time):"
      ]
    },
    {
      "cell_type": "code",
      "execution_count": 46,
      "metadata": {
        "colab": {
          "base_uri": "https://localhost:8080/",
          "height": 363
        },
        "id": "rdH5C5VNFSTp",
        "outputId": "c347897d-d5a0-4e5b-b5cc-ec1383e6f595"
      },
      "outputs": [
        {
          "output_type": "execute_result",
          "data": {
            "text/plain": [
              "               event_time     event_name  \\\n",
              "57217 2019-10-25 16:50:07      tips_show   \n",
              "41043 2019-10-19 08:25:24            map   \n",
              "6395  2019-10-08 20:01:36    advert_open   \n",
              "68991 2019-10-31 04:50:38    photos_show   \n",
              "65757 2019-10-31 10:36:25      tips_show   \n",
              "22206 2019-10-13 07:51:30      tips_show   \n",
              "44592 2019-10-20 19:47:59  contacts_show   \n",
              "50398 2019-10-31 09:07:30         search   \n",
              "55600 2019-10-24 22:47:03      tips_show   \n",
              "37077 2019-10-29 00:23:45      tips_show   \n",
              "\n",
              "                                    user_id  source  event_hour event_week  \\\n",
              "57217  bbf34803-113c-4c7c-96e8-e5204b327d7d   other          16 2019-10-24   \n",
              "41043  12ea9c12-e6ec-495e-b904-7510c65153ff  yandex           8 2019-10-17   \n",
              "6395   9ce63488-758a-481a-bcb5-a02b467e1d84  yandex          20 2019-10-03   \n",
              "68991  18273cd2-5539-4192-8e1a-70d04054bbeb  yandex           4 2019-10-31   \n",
              "65757  a5886b3e-6ed1-4c47-ac28-754ff8f429ce  yandex          10 2019-10-31   \n",
              "22206  ba8f1329-cf63-4237-89a9-d3aeeb961693  google           7 2019-10-10   \n",
              "44592  b90a6958-6d40-47ec-9311-b94d7e217ce5  yandex          19 2019-10-17   \n",
              "50398  6a14b2fe-5aa5-496f-a5d0-71d7870ff91b   other           9 2019-10-31   \n",
              "55600  b07b45d2-84d4-4cb1-abea-dcb6f64354d5  yandex          22 2019-10-24   \n",
              "37077  a107daca-36e9-458e-93f2-ab615bdbb394   other           0 2019-10-24   \n",
              "\n",
              "      event_month event_year event_date   start_dt activ_week start_week  \\\n",
              "57217  2019-10-01 2019-01-01 2019-10-25 2019-10-25 2019-10-21 2019-10-21   \n",
              "41043  2019-10-01 2019-01-01 2019-10-19 2019-10-19 2019-10-14 2019-10-14   \n",
              "6395   2019-10-01 2019-01-01 2019-10-08 2019-10-08 2019-10-07 2019-10-07   \n",
              "68991  2019-10-01 2019-01-01 2019-10-31 2019-10-31 2019-10-28 2019-10-28   \n",
              "65757  2019-10-01 2019-01-01 2019-10-31 2019-10-29 2019-10-28 2019-10-28   \n",
              "22206  2019-10-01 2019-01-01 2019-10-13 2019-10-13 2019-10-07 2019-10-07   \n",
              "44592  2019-10-01 2019-01-01 2019-10-20 2019-10-20 2019-10-14 2019-10-14   \n",
              "50398  2019-10-01 2019-01-01 2019-10-31 2019-10-22 2019-10-28 2019-10-21   \n",
              "55600  2019-10-01 2019-01-01 2019-10-24 2019-10-24 2019-10-21 2019-10-21   \n",
              "37077  2019-10-01 2019-01-01 2019-10-29 2019-10-17 2019-10-28 2019-10-14   \n",
              "\n",
              "       cohort_lifetime     pre_action_time  \n",
              "57217                0 2019-10-25 16:47:58  \n",
              "41043                0 2019-10-19 08:21:16  \n",
              "6395                 0 2019-10-08 20:01:06  \n",
              "68991                0                 NaT  \n",
              "65757                0 2019-10-31 10:35:29  \n",
              "22206                0 2019-10-13 07:51:25  \n",
              "44592                0 2019-10-20 19:45:36  \n",
              "50398                1 2019-10-31 09:07:27  \n",
              "55600                0 2019-10-24 22:43:20  \n",
              "37077                2 2019-10-29 00:23:02  "
            ],
            "text/html": [
              "\n",
              "  <div id=\"df-457890ac-6a1d-425c-93c8-d401b5f4ee50\">\n",
              "    <div class=\"colab-df-container\">\n",
              "      <div>\n",
              "<style scoped>\n",
              "    .dataframe tbody tr th:only-of-type {\n",
              "        vertical-align: middle;\n",
              "    }\n",
              "\n",
              "    .dataframe tbody tr th {\n",
              "        vertical-align: top;\n",
              "    }\n",
              "\n",
              "    .dataframe thead th {\n",
              "        text-align: right;\n",
              "    }\n",
              "</style>\n",
              "<table border=\"1\" class=\"dataframe\">\n",
              "  <thead>\n",
              "    <tr style=\"text-align: right;\">\n",
              "      <th></th>\n",
              "      <th>event_time</th>\n",
              "      <th>event_name</th>\n",
              "      <th>user_id</th>\n",
              "      <th>source</th>\n",
              "      <th>event_hour</th>\n",
              "      <th>event_week</th>\n",
              "      <th>event_month</th>\n",
              "      <th>event_year</th>\n",
              "      <th>event_date</th>\n",
              "      <th>start_dt</th>\n",
              "      <th>activ_week</th>\n",
              "      <th>start_week</th>\n",
              "      <th>cohort_lifetime</th>\n",
              "      <th>pre_action_time</th>\n",
              "    </tr>\n",
              "  </thead>\n",
              "  <tbody>\n",
              "    <tr>\n",
              "      <th>57217</th>\n",
              "      <td>2019-10-25 16:50:07</td>\n",
              "      <td>tips_show</td>\n",
              "      <td>bbf34803-113c-4c7c-96e8-e5204b327d7d</td>\n",
              "      <td>other</td>\n",
              "      <td>16</td>\n",
              "      <td>2019-10-24</td>\n",
              "      <td>2019-10-01</td>\n",
              "      <td>2019-01-01</td>\n",
              "      <td>2019-10-25</td>\n",
              "      <td>2019-10-25</td>\n",
              "      <td>2019-10-21</td>\n",
              "      <td>2019-10-21</td>\n",
              "      <td>0</td>\n",
              "      <td>2019-10-25 16:47:58</td>\n",
              "    </tr>\n",
              "    <tr>\n",
              "      <th>41043</th>\n",
              "      <td>2019-10-19 08:25:24</td>\n",
              "      <td>map</td>\n",
              "      <td>12ea9c12-e6ec-495e-b904-7510c65153ff</td>\n",
              "      <td>yandex</td>\n",
              "      <td>8</td>\n",
              "      <td>2019-10-17</td>\n",
              "      <td>2019-10-01</td>\n",
              "      <td>2019-01-01</td>\n",
              "      <td>2019-10-19</td>\n",
              "      <td>2019-10-19</td>\n",
              "      <td>2019-10-14</td>\n",
              "      <td>2019-10-14</td>\n",
              "      <td>0</td>\n",
              "      <td>2019-10-19 08:21:16</td>\n",
              "    </tr>\n",
              "    <tr>\n",
              "      <th>6395</th>\n",
              "      <td>2019-10-08 20:01:36</td>\n",
              "      <td>advert_open</td>\n",
              "      <td>9ce63488-758a-481a-bcb5-a02b467e1d84</td>\n",
              "      <td>yandex</td>\n",
              "      <td>20</td>\n",
              "      <td>2019-10-03</td>\n",
              "      <td>2019-10-01</td>\n",
              "      <td>2019-01-01</td>\n",
              "      <td>2019-10-08</td>\n",
              "      <td>2019-10-08</td>\n",
              "      <td>2019-10-07</td>\n",
              "      <td>2019-10-07</td>\n",
              "      <td>0</td>\n",
              "      <td>2019-10-08 20:01:06</td>\n",
              "    </tr>\n",
              "    <tr>\n",
              "      <th>68991</th>\n",
              "      <td>2019-10-31 04:50:38</td>\n",
              "      <td>photos_show</td>\n",
              "      <td>18273cd2-5539-4192-8e1a-70d04054bbeb</td>\n",
              "      <td>yandex</td>\n",
              "      <td>4</td>\n",
              "      <td>2019-10-31</td>\n",
              "      <td>2019-10-01</td>\n",
              "      <td>2019-01-01</td>\n",
              "      <td>2019-10-31</td>\n",
              "      <td>2019-10-31</td>\n",
              "      <td>2019-10-28</td>\n",
              "      <td>2019-10-28</td>\n",
              "      <td>0</td>\n",
              "      <td>NaT</td>\n",
              "    </tr>\n",
              "    <tr>\n",
              "      <th>65757</th>\n",
              "      <td>2019-10-31 10:36:25</td>\n",
              "      <td>tips_show</td>\n",
              "      <td>a5886b3e-6ed1-4c47-ac28-754ff8f429ce</td>\n",
              "      <td>yandex</td>\n",
              "      <td>10</td>\n",
              "      <td>2019-10-31</td>\n",
              "      <td>2019-10-01</td>\n",
              "      <td>2019-01-01</td>\n",
              "      <td>2019-10-31</td>\n",
              "      <td>2019-10-29</td>\n",
              "      <td>2019-10-28</td>\n",
              "      <td>2019-10-28</td>\n",
              "      <td>0</td>\n",
              "      <td>2019-10-31 10:35:29</td>\n",
              "    </tr>\n",
              "    <tr>\n",
              "      <th>22206</th>\n",
              "      <td>2019-10-13 07:51:30</td>\n",
              "      <td>tips_show</td>\n",
              "      <td>ba8f1329-cf63-4237-89a9-d3aeeb961693</td>\n",
              "      <td>google</td>\n",
              "      <td>7</td>\n",
              "      <td>2019-10-10</td>\n",
              "      <td>2019-10-01</td>\n",
              "      <td>2019-01-01</td>\n",
              "      <td>2019-10-13</td>\n",
              "      <td>2019-10-13</td>\n",
              "      <td>2019-10-07</td>\n",
              "      <td>2019-10-07</td>\n",
              "      <td>0</td>\n",
              "      <td>2019-10-13 07:51:25</td>\n",
              "    </tr>\n",
              "    <tr>\n",
              "      <th>44592</th>\n",
              "      <td>2019-10-20 19:47:59</td>\n",
              "      <td>contacts_show</td>\n",
              "      <td>b90a6958-6d40-47ec-9311-b94d7e217ce5</td>\n",
              "      <td>yandex</td>\n",
              "      <td>19</td>\n",
              "      <td>2019-10-17</td>\n",
              "      <td>2019-10-01</td>\n",
              "      <td>2019-01-01</td>\n",
              "      <td>2019-10-20</td>\n",
              "      <td>2019-10-20</td>\n",
              "      <td>2019-10-14</td>\n",
              "      <td>2019-10-14</td>\n",
              "      <td>0</td>\n",
              "      <td>2019-10-20 19:45:36</td>\n",
              "    </tr>\n",
              "    <tr>\n",
              "      <th>50398</th>\n",
              "      <td>2019-10-31 09:07:30</td>\n",
              "      <td>search</td>\n",
              "      <td>6a14b2fe-5aa5-496f-a5d0-71d7870ff91b</td>\n",
              "      <td>other</td>\n",
              "      <td>9</td>\n",
              "      <td>2019-10-31</td>\n",
              "      <td>2019-10-01</td>\n",
              "      <td>2019-01-01</td>\n",
              "      <td>2019-10-31</td>\n",
              "      <td>2019-10-22</td>\n",
              "      <td>2019-10-28</td>\n",
              "      <td>2019-10-21</td>\n",
              "      <td>1</td>\n",
              "      <td>2019-10-31 09:07:27</td>\n",
              "    </tr>\n",
              "    <tr>\n",
              "      <th>55600</th>\n",
              "      <td>2019-10-24 22:47:03</td>\n",
              "      <td>tips_show</td>\n",
              "      <td>b07b45d2-84d4-4cb1-abea-dcb6f64354d5</td>\n",
              "      <td>yandex</td>\n",
              "      <td>22</td>\n",
              "      <td>2019-10-24</td>\n",
              "      <td>2019-10-01</td>\n",
              "      <td>2019-01-01</td>\n",
              "      <td>2019-10-24</td>\n",
              "      <td>2019-10-24</td>\n",
              "      <td>2019-10-21</td>\n",
              "      <td>2019-10-21</td>\n",
              "      <td>0</td>\n",
              "      <td>2019-10-24 22:43:20</td>\n",
              "    </tr>\n",
              "    <tr>\n",
              "      <th>37077</th>\n",
              "      <td>2019-10-29 00:23:45</td>\n",
              "      <td>tips_show</td>\n",
              "      <td>a107daca-36e9-458e-93f2-ab615bdbb394</td>\n",
              "      <td>other</td>\n",
              "      <td>0</td>\n",
              "      <td>2019-10-24</td>\n",
              "      <td>2019-10-01</td>\n",
              "      <td>2019-01-01</td>\n",
              "      <td>2019-10-29</td>\n",
              "      <td>2019-10-17</td>\n",
              "      <td>2019-10-28</td>\n",
              "      <td>2019-10-14</td>\n",
              "      <td>2</td>\n",
              "      <td>2019-10-29 00:23:02</td>\n",
              "    </tr>\n",
              "  </tbody>\n",
              "</table>\n",
              "</div>\n",
              "      <button class=\"colab-df-convert\" onclick=\"convertToInteractive('df-457890ac-6a1d-425c-93c8-d401b5f4ee50')\"\n",
              "              title=\"Convert this dataframe to an interactive table.\"\n",
              "              style=\"display:none;\">\n",
              "        \n",
              "  <svg xmlns=\"http://www.w3.org/2000/svg\" height=\"24px\"viewBox=\"0 0 24 24\"\n",
              "       width=\"24px\">\n",
              "    <path d=\"M0 0h24v24H0V0z\" fill=\"none\"/>\n",
              "    <path d=\"M18.56 5.44l.94 2.06.94-2.06 2.06-.94-2.06-.94-.94-2.06-.94 2.06-2.06.94zm-11 1L8.5 8.5l.94-2.06 2.06-.94-2.06-.94L8.5 2.5l-.94 2.06-2.06.94zm10 10l.94 2.06.94-2.06 2.06-.94-2.06-.94-.94-2.06-.94 2.06-2.06.94z\"/><path d=\"M17.41 7.96l-1.37-1.37c-.4-.4-.92-.59-1.43-.59-.52 0-1.04.2-1.43.59L10.3 9.45l-7.72 7.72c-.78.78-.78 2.05 0 2.83L4 21.41c.39.39.9.59 1.41.59.51 0 1.02-.2 1.41-.59l7.78-7.78 2.81-2.81c.8-.78.8-2.07 0-2.86zM5.41 20L4 18.59l7.72-7.72 1.47 1.35L5.41 20z\"/>\n",
              "  </svg>\n",
              "      </button>\n",
              "      \n",
              "  <style>\n",
              "    .colab-df-container {\n",
              "      display:flex;\n",
              "      flex-wrap:wrap;\n",
              "      gap: 12px;\n",
              "    }\n",
              "\n",
              "    .colab-df-convert {\n",
              "      background-color: #E8F0FE;\n",
              "      border: none;\n",
              "      border-radius: 50%;\n",
              "      cursor: pointer;\n",
              "      display: none;\n",
              "      fill: #1967D2;\n",
              "      height: 32px;\n",
              "      padding: 0 0 0 0;\n",
              "      width: 32px;\n",
              "    }\n",
              "\n",
              "    .colab-df-convert:hover {\n",
              "      background-color: #E2EBFA;\n",
              "      box-shadow: 0px 1px 2px rgba(60, 64, 67, 0.3), 0px 1px 3px 1px rgba(60, 64, 67, 0.15);\n",
              "      fill: #174EA6;\n",
              "    }\n",
              "\n",
              "    [theme=dark] .colab-df-convert {\n",
              "      background-color: #3B4455;\n",
              "      fill: #D2E3FC;\n",
              "    }\n",
              "\n",
              "    [theme=dark] .colab-df-convert:hover {\n",
              "      background-color: #434B5C;\n",
              "      box-shadow: 0px 1px 3px 1px rgba(0, 0, 0, 0.15);\n",
              "      filter: drop-shadow(0px 1px 2px rgba(0, 0, 0, 0.3));\n",
              "      fill: #FFFFFF;\n",
              "    }\n",
              "  </style>\n",
              "\n",
              "      <script>\n",
              "        const buttonEl =\n",
              "          document.querySelector('#df-457890ac-6a1d-425c-93c8-d401b5f4ee50 button.colab-df-convert');\n",
              "        buttonEl.style.display =\n",
              "          google.colab.kernel.accessAllowed ? 'block' : 'none';\n",
              "\n",
              "        async function convertToInteractive(key) {\n",
              "          const element = document.querySelector('#df-457890ac-6a1d-425c-93c8-d401b5f4ee50');\n",
              "          const dataTable =\n",
              "            await google.colab.kernel.invokeFunction('convertToInteractive',\n",
              "                                                     [key], {});\n",
              "          if (!dataTable) return;\n",
              "\n",
              "          const docLinkHtml = 'Like what you see? Visit the ' +\n",
              "            '<a target=\"_blank\" href=https://colab.research.google.com/notebooks/data_table.ipynb>data table notebook</a>'\n",
              "            + ' to learn more about interactive tables.';\n",
              "          element.innerHTML = '';\n",
              "          dataTable['output_type'] = 'display_data';\n",
              "          await google.colab.output.renderOutput(dataTable, element);\n",
              "          const docLink = document.createElement('div');\n",
              "          docLink.innerHTML = docLinkHtml;\n",
              "          element.appendChild(docLink);\n",
              "        }\n",
              "      </script>\n",
              "    </div>\n",
              "  </div>\n",
              "  "
            ]
          },
          "metadata": {},
          "execution_count": 46
        }
      ],
      "source": [
        "df['pre_action_time'] = df.groupby('user_id')['event_time'].shift()\n",
        "df.sample(10)"
      ]
    },
    {
      "cell_type": "markdown",
      "metadata": {
        "id": "qg4vt8sCFbzO"
      },
      "source": [
        "Создадим столбец active_session, в котором будет содержаться количество времени, проведенное в приложении между действиями:"
      ]
    },
    {
      "cell_type": "code",
      "execution_count": 47,
      "metadata": {
        "colab": {
          "base_uri": "https://localhost:8080/",
          "height": 580
        },
        "id": "ZMofG_XCF09W",
        "outputId": "57d2b37c-131c-4778-c990-a2ea2cd748dd"
      },
      "outputs": [
        {
          "output_type": "execute_result",
          "data": {
            "text/plain": [
              "               event_time     event_name  \\\n",
              "49660 2019-10-25 19:22:56      tips_show   \n",
              "28709 2019-10-20 16:13:47            map   \n",
              "19726 2019-10-19 10:59:56      tips_show   \n",
              "62301 2019-10-31 11:26:09  contacts_call   \n",
              "67179 2019-10-30 08:42:08      tips_show   \n",
              "54199 2019-10-25 01:07:39  contacts_show   \n",
              "45289 2019-10-20 23:22:10      tips_show   \n",
              "50658 2019-10-22 21:31:18    photos_show   \n",
              "2853  2019-10-17 12:06:47      tips_show   \n",
              "15514 2019-10-20 08:11:33            map   \n",
              "\n",
              "                                    user_id  source  event_hour event_week  \\\n",
              "49660  e387d029-59eb-41b9-9be5-5548389c079c  google          19 2019-10-24   \n",
              "28709  8ebe803e-8885-4e60-a43b-6ae98fe89e46  yandex          16 2019-10-17   \n",
              "19726  7e797355-265c-4997-ba47-2258e06d3c66   other          10 2019-10-17   \n",
              "62301  9e78deca-71f0-4d56-b089-5f35ecad93c9  google          11 2019-10-31   \n",
              "67179  9a8f5b68-87a6-4468-93e1-2130d5de0e63   other           8 2019-10-24   \n",
              "54199  c0a3930a-3216-40cd-b30a-7d1f1ca9e038  google           1 2019-10-24   \n",
              "45289  ed9d638d-8d0b-434f-b78b-6e93a4da9e7f  yandex          23 2019-10-17   \n",
              "50658  0a181616-3c8f-4b69-ad1f-d90785851081  yandex          21 2019-10-17   \n",
              "2853   9b835c74-8ede-4586-9f59-e5473aa48de2   other          12 2019-10-17   \n",
              "15514  43b5c2b3-b1da-4ed4-88c0-404de977ef41   other           8 2019-10-17   \n",
              "\n",
              "      event_month event_year event_date   start_dt activ_week start_week  \\\n",
              "49660  2019-10-01 2019-01-01 2019-10-25 2019-10-22 2019-10-21 2019-10-21   \n",
              "28709  2019-10-01 2019-01-01 2019-10-20 2019-10-15 2019-10-14 2019-10-14   \n",
              "19726  2019-10-01 2019-01-01 2019-10-19 2019-10-12 2019-10-14 2019-10-07   \n",
              "62301  2019-10-01 2019-01-01 2019-10-31 2019-10-27 2019-10-28 2019-10-21   \n",
              "67179  2019-10-01 2019-01-01 2019-10-30 2019-10-30 2019-10-28 2019-10-28   \n",
              "54199  2019-10-01 2019-01-01 2019-10-25 2019-10-24 2019-10-21 2019-10-21   \n",
              "45289  2019-10-01 2019-01-01 2019-10-20 2019-10-20 2019-10-14 2019-10-14   \n",
              "50658  2019-10-01 2019-01-01 2019-10-22 2019-10-22 2019-10-21 2019-10-21   \n",
              "2853   2019-10-01 2019-01-01 2019-10-17 2019-10-07 2019-10-14 2019-10-07   \n",
              "15514  2019-10-01 2019-01-01 2019-10-20 2019-10-10 2019-10-14 2019-10-07   \n",
              "\n",
              "       cohort_lifetime     pre_action_time  active_session  \n",
              "49660                0 2019-10-25 19:22:55 0 days 00:00:01  \n",
              "28709                0 2019-10-16 20:33:31 3 days 19:40:16  \n",
              "19726                1 2019-10-18 10:41:27 1 days 00:18:29  \n",
              "62301                1 2019-10-31 11:26:07 0 days 00:00:02  \n",
              "67179                0 2019-10-30 08:36:57 0 days 00:05:11  \n",
              "54199                0 2019-10-25 01:05:13 0 days 00:02:26  \n",
              "45289                0 2019-10-20 23:15:57 0 days 00:06:13  \n",
              "50658                0 2019-10-22 21:29:58 0 days 00:01:20  \n",
              "2853                 1 2019-10-17 11:47:11 0 days 00:19:36  \n",
              "15514                1 2019-10-20 08:11:29 0 days 00:00:04  "
            ],
            "text/html": [
              "\n",
              "  <div id=\"df-97d07c6b-9a36-4cc6-99be-d15904ad8b14\">\n",
              "    <div class=\"colab-df-container\">\n",
              "      <div>\n",
              "<style scoped>\n",
              "    .dataframe tbody tr th:only-of-type {\n",
              "        vertical-align: middle;\n",
              "    }\n",
              "\n",
              "    .dataframe tbody tr th {\n",
              "        vertical-align: top;\n",
              "    }\n",
              "\n",
              "    .dataframe thead th {\n",
              "        text-align: right;\n",
              "    }\n",
              "</style>\n",
              "<table border=\"1\" class=\"dataframe\">\n",
              "  <thead>\n",
              "    <tr style=\"text-align: right;\">\n",
              "      <th></th>\n",
              "      <th>event_time</th>\n",
              "      <th>event_name</th>\n",
              "      <th>user_id</th>\n",
              "      <th>source</th>\n",
              "      <th>event_hour</th>\n",
              "      <th>event_week</th>\n",
              "      <th>event_month</th>\n",
              "      <th>event_year</th>\n",
              "      <th>event_date</th>\n",
              "      <th>start_dt</th>\n",
              "      <th>activ_week</th>\n",
              "      <th>start_week</th>\n",
              "      <th>cohort_lifetime</th>\n",
              "      <th>pre_action_time</th>\n",
              "      <th>active_session</th>\n",
              "    </tr>\n",
              "  </thead>\n",
              "  <tbody>\n",
              "    <tr>\n",
              "      <th>49660</th>\n",
              "      <td>2019-10-25 19:22:56</td>\n",
              "      <td>tips_show</td>\n",
              "      <td>e387d029-59eb-41b9-9be5-5548389c079c</td>\n",
              "      <td>google</td>\n",
              "      <td>19</td>\n",
              "      <td>2019-10-24</td>\n",
              "      <td>2019-10-01</td>\n",
              "      <td>2019-01-01</td>\n",
              "      <td>2019-10-25</td>\n",
              "      <td>2019-10-22</td>\n",
              "      <td>2019-10-21</td>\n",
              "      <td>2019-10-21</td>\n",
              "      <td>0</td>\n",
              "      <td>2019-10-25 19:22:55</td>\n",
              "      <td>0 days 00:00:01</td>\n",
              "    </tr>\n",
              "    <tr>\n",
              "      <th>28709</th>\n",
              "      <td>2019-10-20 16:13:47</td>\n",
              "      <td>map</td>\n",
              "      <td>8ebe803e-8885-4e60-a43b-6ae98fe89e46</td>\n",
              "      <td>yandex</td>\n",
              "      <td>16</td>\n",
              "      <td>2019-10-17</td>\n",
              "      <td>2019-10-01</td>\n",
              "      <td>2019-01-01</td>\n",
              "      <td>2019-10-20</td>\n",
              "      <td>2019-10-15</td>\n",
              "      <td>2019-10-14</td>\n",
              "      <td>2019-10-14</td>\n",
              "      <td>0</td>\n",
              "      <td>2019-10-16 20:33:31</td>\n",
              "      <td>3 days 19:40:16</td>\n",
              "    </tr>\n",
              "    <tr>\n",
              "      <th>19726</th>\n",
              "      <td>2019-10-19 10:59:56</td>\n",
              "      <td>tips_show</td>\n",
              "      <td>7e797355-265c-4997-ba47-2258e06d3c66</td>\n",
              "      <td>other</td>\n",
              "      <td>10</td>\n",
              "      <td>2019-10-17</td>\n",
              "      <td>2019-10-01</td>\n",
              "      <td>2019-01-01</td>\n",
              "      <td>2019-10-19</td>\n",
              "      <td>2019-10-12</td>\n",
              "      <td>2019-10-14</td>\n",
              "      <td>2019-10-07</td>\n",
              "      <td>1</td>\n",
              "      <td>2019-10-18 10:41:27</td>\n",
              "      <td>1 days 00:18:29</td>\n",
              "    </tr>\n",
              "    <tr>\n",
              "      <th>62301</th>\n",
              "      <td>2019-10-31 11:26:09</td>\n",
              "      <td>contacts_call</td>\n",
              "      <td>9e78deca-71f0-4d56-b089-5f35ecad93c9</td>\n",
              "      <td>google</td>\n",
              "      <td>11</td>\n",
              "      <td>2019-10-31</td>\n",
              "      <td>2019-10-01</td>\n",
              "      <td>2019-01-01</td>\n",
              "      <td>2019-10-31</td>\n",
              "      <td>2019-10-27</td>\n",
              "      <td>2019-10-28</td>\n",
              "      <td>2019-10-21</td>\n",
              "      <td>1</td>\n",
              "      <td>2019-10-31 11:26:07</td>\n",
              "      <td>0 days 00:00:02</td>\n",
              "    </tr>\n",
              "    <tr>\n",
              "      <th>67179</th>\n",
              "      <td>2019-10-30 08:42:08</td>\n",
              "      <td>tips_show</td>\n",
              "      <td>9a8f5b68-87a6-4468-93e1-2130d5de0e63</td>\n",
              "      <td>other</td>\n",
              "      <td>8</td>\n",
              "      <td>2019-10-24</td>\n",
              "      <td>2019-10-01</td>\n",
              "      <td>2019-01-01</td>\n",
              "      <td>2019-10-30</td>\n",
              "      <td>2019-10-30</td>\n",
              "      <td>2019-10-28</td>\n",
              "      <td>2019-10-28</td>\n",
              "      <td>0</td>\n",
              "      <td>2019-10-30 08:36:57</td>\n",
              "      <td>0 days 00:05:11</td>\n",
              "    </tr>\n",
              "    <tr>\n",
              "      <th>54199</th>\n",
              "      <td>2019-10-25 01:07:39</td>\n",
              "      <td>contacts_show</td>\n",
              "      <td>c0a3930a-3216-40cd-b30a-7d1f1ca9e038</td>\n",
              "      <td>google</td>\n",
              "      <td>1</td>\n",
              "      <td>2019-10-24</td>\n",
              "      <td>2019-10-01</td>\n",
              "      <td>2019-01-01</td>\n",
              "      <td>2019-10-25</td>\n",
              "      <td>2019-10-24</td>\n",
              "      <td>2019-10-21</td>\n",
              "      <td>2019-10-21</td>\n",
              "      <td>0</td>\n",
              "      <td>2019-10-25 01:05:13</td>\n",
              "      <td>0 days 00:02:26</td>\n",
              "    </tr>\n",
              "    <tr>\n",
              "      <th>45289</th>\n",
              "      <td>2019-10-20 23:22:10</td>\n",
              "      <td>tips_show</td>\n",
              "      <td>ed9d638d-8d0b-434f-b78b-6e93a4da9e7f</td>\n",
              "      <td>yandex</td>\n",
              "      <td>23</td>\n",
              "      <td>2019-10-17</td>\n",
              "      <td>2019-10-01</td>\n",
              "      <td>2019-01-01</td>\n",
              "      <td>2019-10-20</td>\n",
              "      <td>2019-10-20</td>\n",
              "      <td>2019-10-14</td>\n",
              "      <td>2019-10-14</td>\n",
              "      <td>0</td>\n",
              "      <td>2019-10-20 23:15:57</td>\n",
              "      <td>0 days 00:06:13</td>\n",
              "    </tr>\n",
              "    <tr>\n",
              "      <th>50658</th>\n",
              "      <td>2019-10-22 21:31:18</td>\n",
              "      <td>photos_show</td>\n",
              "      <td>0a181616-3c8f-4b69-ad1f-d90785851081</td>\n",
              "      <td>yandex</td>\n",
              "      <td>21</td>\n",
              "      <td>2019-10-17</td>\n",
              "      <td>2019-10-01</td>\n",
              "      <td>2019-01-01</td>\n",
              "      <td>2019-10-22</td>\n",
              "      <td>2019-10-22</td>\n",
              "      <td>2019-10-21</td>\n",
              "      <td>2019-10-21</td>\n",
              "      <td>0</td>\n",
              "      <td>2019-10-22 21:29:58</td>\n",
              "      <td>0 days 00:01:20</td>\n",
              "    </tr>\n",
              "    <tr>\n",
              "      <th>2853</th>\n",
              "      <td>2019-10-17 12:06:47</td>\n",
              "      <td>tips_show</td>\n",
              "      <td>9b835c74-8ede-4586-9f59-e5473aa48de2</td>\n",
              "      <td>other</td>\n",
              "      <td>12</td>\n",
              "      <td>2019-10-17</td>\n",
              "      <td>2019-10-01</td>\n",
              "      <td>2019-01-01</td>\n",
              "      <td>2019-10-17</td>\n",
              "      <td>2019-10-07</td>\n",
              "      <td>2019-10-14</td>\n",
              "      <td>2019-10-07</td>\n",
              "      <td>1</td>\n",
              "      <td>2019-10-17 11:47:11</td>\n",
              "      <td>0 days 00:19:36</td>\n",
              "    </tr>\n",
              "    <tr>\n",
              "      <th>15514</th>\n",
              "      <td>2019-10-20 08:11:33</td>\n",
              "      <td>map</td>\n",
              "      <td>43b5c2b3-b1da-4ed4-88c0-404de977ef41</td>\n",
              "      <td>other</td>\n",
              "      <td>8</td>\n",
              "      <td>2019-10-17</td>\n",
              "      <td>2019-10-01</td>\n",
              "      <td>2019-01-01</td>\n",
              "      <td>2019-10-20</td>\n",
              "      <td>2019-10-10</td>\n",
              "      <td>2019-10-14</td>\n",
              "      <td>2019-10-07</td>\n",
              "      <td>1</td>\n",
              "      <td>2019-10-20 08:11:29</td>\n",
              "      <td>0 days 00:00:04</td>\n",
              "    </tr>\n",
              "  </tbody>\n",
              "</table>\n",
              "</div>\n",
              "      <button class=\"colab-df-convert\" onclick=\"convertToInteractive('df-97d07c6b-9a36-4cc6-99be-d15904ad8b14')\"\n",
              "              title=\"Convert this dataframe to an interactive table.\"\n",
              "              style=\"display:none;\">\n",
              "        \n",
              "  <svg xmlns=\"http://www.w3.org/2000/svg\" height=\"24px\"viewBox=\"0 0 24 24\"\n",
              "       width=\"24px\">\n",
              "    <path d=\"M0 0h24v24H0V0z\" fill=\"none\"/>\n",
              "    <path d=\"M18.56 5.44l.94 2.06.94-2.06 2.06-.94-2.06-.94-.94-2.06-.94 2.06-2.06.94zm-11 1L8.5 8.5l.94-2.06 2.06-.94-2.06-.94L8.5 2.5l-.94 2.06-2.06.94zm10 10l.94 2.06.94-2.06 2.06-.94-2.06-.94-.94-2.06-.94 2.06-2.06.94z\"/><path d=\"M17.41 7.96l-1.37-1.37c-.4-.4-.92-.59-1.43-.59-.52 0-1.04.2-1.43.59L10.3 9.45l-7.72 7.72c-.78.78-.78 2.05 0 2.83L4 21.41c.39.39.9.59 1.41.59.51 0 1.02-.2 1.41-.59l7.78-7.78 2.81-2.81c.8-.78.8-2.07 0-2.86zM5.41 20L4 18.59l7.72-7.72 1.47 1.35L5.41 20z\"/>\n",
              "  </svg>\n",
              "      </button>\n",
              "      \n",
              "  <style>\n",
              "    .colab-df-container {\n",
              "      display:flex;\n",
              "      flex-wrap:wrap;\n",
              "      gap: 12px;\n",
              "    }\n",
              "\n",
              "    .colab-df-convert {\n",
              "      background-color: #E8F0FE;\n",
              "      border: none;\n",
              "      border-radius: 50%;\n",
              "      cursor: pointer;\n",
              "      display: none;\n",
              "      fill: #1967D2;\n",
              "      height: 32px;\n",
              "      padding: 0 0 0 0;\n",
              "      width: 32px;\n",
              "    }\n",
              "\n",
              "    .colab-df-convert:hover {\n",
              "      background-color: #E2EBFA;\n",
              "      box-shadow: 0px 1px 2px rgba(60, 64, 67, 0.3), 0px 1px 3px 1px rgba(60, 64, 67, 0.15);\n",
              "      fill: #174EA6;\n",
              "    }\n",
              "\n",
              "    [theme=dark] .colab-df-convert {\n",
              "      background-color: #3B4455;\n",
              "      fill: #D2E3FC;\n",
              "    }\n",
              "\n",
              "    [theme=dark] .colab-df-convert:hover {\n",
              "      background-color: #434B5C;\n",
              "      box-shadow: 0px 1px 3px 1px rgba(0, 0, 0, 0.15);\n",
              "      filter: drop-shadow(0px 1px 2px rgba(0, 0, 0, 0.3));\n",
              "      fill: #FFFFFF;\n",
              "    }\n",
              "  </style>\n",
              "\n",
              "      <script>\n",
              "        const buttonEl =\n",
              "          document.querySelector('#df-97d07c6b-9a36-4cc6-99be-d15904ad8b14 button.colab-df-convert');\n",
              "        buttonEl.style.display =\n",
              "          google.colab.kernel.accessAllowed ? 'block' : 'none';\n",
              "\n",
              "        async function convertToInteractive(key) {\n",
              "          const element = document.querySelector('#df-97d07c6b-9a36-4cc6-99be-d15904ad8b14');\n",
              "          const dataTable =\n",
              "            await google.colab.kernel.invokeFunction('convertToInteractive',\n",
              "                                                     [key], {});\n",
              "          if (!dataTable) return;\n",
              "\n",
              "          const docLinkHtml = 'Like what you see? Visit the ' +\n",
              "            '<a target=\"_blank\" href=https://colab.research.google.com/notebooks/data_table.ipynb>data table notebook</a>'\n",
              "            + ' to learn more about interactive tables.';\n",
              "          element.innerHTML = '';\n",
              "          dataTable['output_type'] = 'display_data';\n",
              "          await google.colab.output.renderOutput(dataTable, element);\n",
              "          const docLink = document.createElement('div');\n",
              "          docLink.innerHTML = docLinkHtml;\n",
              "          element.appendChild(docLink);\n",
              "        }\n",
              "      </script>\n",
              "    </div>\n",
              "  </div>\n",
              "  "
            ]
          },
          "metadata": {},
          "execution_count": 47
        }
      ],
      "source": [
        "df['active_session'] = df['event_time'] - df['pre_action_time']\n",
        "df.sample(10)"
      ]
    },
    {
      "cell_type": "markdown",
      "metadata": {
        "id": "KPRRxmwxF_2_"
      },
      "source": [
        "Пронумеруем сессии: сравним временной интервал между двумя действиями (active_session) с 30 минутами (именно это число мы возьмем за максимальную продолжительность единоразовой сессии). Если интервал будет превышать 30 минут, то сессии будет присваиваться следующий номер"
      ]
    },
    {
      "cell_type": "code",
      "execution_count": 48,
      "metadata": {
        "id": "UNPDxLbMP-Ra"
      },
      "outputs": [],
      "source": [
        "f = lambda t: t.diff().gt(pd.Timedelta('30T')).cumsum()\n",
        "df['session_num'] = df.groupby('user_id')['event_time'].apply(f) + 1"
      ]
    },
    {
      "cell_type": "code",
      "execution_count": 49,
      "metadata": {
        "colab": {
          "base_uri": "https://localhost:8080/",
          "height": 580
        },
        "id": "B2nt3NmsGfdR",
        "outputId": "0f2dfa1b-cd99-43e3-ebe2-0b5cb25fbae2"
      },
      "outputs": [
        {
          "output_type": "execute_result",
          "data": {
            "text/plain": [
              "           event_time   event_name                               user_id  \\\n",
              "0 2019-10-07 00:00:00  advert_open  020292ab-89bc-4156-9acf-68bc2783f894   \n",
              "1 2019-10-07 00:00:01    tips_show  020292ab-89bc-4156-9acf-68bc2783f894   \n",
              "2 2019-10-07 00:00:07    tips_show  020292ab-89bc-4156-9acf-68bc2783f894   \n",
              "3 2019-10-07 00:01:28  advert_open  020292ab-89bc-4156-9acf-68bc2783f894   \n",
              "4 2019-10-07 00:01:35    tips_show  020292ab-89bc-4156-9acf-68bc2783f894   \n",
              "5 2019-10-07 00:01:55  advert_open  020292ab-89bc-4156-9acf-68bc2783f894   \n",
              "6 2019-10-07 00:02:01    tips_show  020292ab-89bc-4156-9acf-68bc2783f894   \n",
              "7 2019-10-07 00:02:25  advert_open  020292ab-89bc-4156-9acf-68bc2783f894   \n",
              "8 2019-10-07 00:02:31    tips_show  020292ab-89bc-4156-9acf-68bc2783f894   \n",
              "9 2019-10-07 00:03:02    tips_show  020292ab-89bc-4156-9acf-68bc2783f894   \n",
              "\n",
              "  source  event_hour event_week event_month event_year event_date   start_dt  \\\n",
              "0  other           0 2019-10-03  2019-10-01 2019-01-01 2019-10-07 2019-10-07   \n",
              "1  other           0 2019-10-03  2019-10-01 2019-01-01 2019-10-07 2019-10-07   \n",
              "2  other           0 2019-10-03  2019-10-01 2019-01-01 2019-10-07 2019-10-07   \n",
              "3  other           0 2019-10-03  2019-10-01 2019-01-01 2019-10-07 2019-10-07   \n",
              "4  other           0 2019-10-03  2019-10-01 2019-01-01 2019-10-07 2019-10-07   \n",
              "5  other           0 2019-10-03  2019-10-01 2019-01-01 2019-10-07 2019-10-07   \n",
              "6  other           0 2019-10-03  2019-10-01 2019-01-01 2019-10-07 2019-10-07   \n",
              "7  other           0 2019-10-03  2019-10-01 2019-01-01 2019-10-07 2019-10-07   \n",
              "8  other           0 2019-10-03  2019-10-01 2019-01-01 2019-10-07 2019-10-07   \n",
              "9  other           0 2019-10-03  2019-10-01 2019-01-01 2019-10-07 2019-10-07   \n",
              "\n",
              "  activ_week start_week  cohort_lifetime     pre_action_time  active_session  \\\n",
              "0 2019-10-07 2019-10-07                0                 NaT             NaT   \n",
              "1 2019-10-07 2019-10-07                0 2019-10-07 00:00:00 0 days 00:00:01   \n",
              "2 2019-10-07 2019-10-07                0 2019-10-07 00:00:01 0 days 00:00:06   \n",
              "3 2019-10-07 2019-10-07                0 2019-10-07 00:00:07 0 days 00:01:21   \n",
              "4 2019-10-07 2019-10-07                0 2019-10-07 00:01:28 0 days 00:00:07   \n",
              "5 2019-10-07 2019-10-07                0 2019-10-07 00:01:35 0 days 00:00:20   \n",
              "6 2019-10-07 2019-10-07                0 2019-10-07 00:01:55 0 days 00:00:06   \n",
              "7 2019-10-07 2019-10-07                0 2019-10-07 00:02:01 0 days 00:00:24   \n",
              "8 2019-10-07 2019-10-07                0 2019-10-07 00:02:25 0 days 00:00:06   \n",
              "9 2019-10-07 2019-10-07                0 2019-10-07 00:02:31 0 days 00:00:31   \n",
              "\n",
              "   session_num  \n",
              "0            1  \n",
              "1            1  \n",
              "2            1  \n",
              "3            1  \n",
              "4            1  \n",
              "5            1  \n",
              "6            1  \n",
              "7            1  \n",
              "8            1  \n",
              "9            1  "
            ],
            "text/html": [
              "\n",
              "  <div id=\"df-1c668996-820e-4b41-96f8-f8ecf0fafd54\">\n",
              "    <div class=\"colab-df-container\">\n",
              "      <div>\n",
              "<style scoped>\n",
              "    .dataframe tbody tr th:only-of-type {\n",
              "        vertical-align: middle;\n",
              "    }\n",
              "\n",
              "    .dataframe tbody tr th {\n",
              "        vertical-align: top;\n",
              "    }\n",
              "\n",
              "    .dataframe thead th {\n",
              "        text-align: right;\n",
              "    }\n",
              "</style>\n",
              "<table border=\"1\" class=\"dataframe\">\n",
              "  <thead>\n",
              "    <tr style=\"text-align: right;\">\n",
              "      <th></th>\n",
              "      <th>event_time</th>\n",
              "      <th>event_name</th>\n",
              "      <th>user_id</th>\n",
              "      <th>source</th>\n",
              "      <th>event_hour</th>\n",
              "      <th>event_week</th>\n",
              "      <th>event_month</th>\n",
              "      <th>event_year</th>\n",
              "      <th>event_date</th>\n",
              "      <th>start_dt</th>\n",
              "      <th>activ_week</th>\n",
              "      <th>start_week</th>\n",
              "      <th>cohort_lifetime</th>\n",
              "      <th>pre_action_time</th>\n",
              "      <th>active_session</th>\n",
              "      <th>session_num</th>\n",
              "    </tr>\n",
              "  </thead>\n",
              "  <tbody>\n",
              "    <tr>\n",
              "      <th>0</th>\n",
              "      <td>2019-10-07 00:00:00</td>\n",
              "      <td>advert_open</td>\n",
              "      <td>020292ab-89bc-4156-9acf-68bc2783f894</td>\n",
              "      <td>other</td>\n",
              "      <td>0</td>\n",
              "      <td>2019-10-03</td>\n",
              "      <td>2019-10-01</td>\n",
              "      <td>2019-01-01</td>\n",
              "      <td>2019-10-07</td>\n",
              "      <td>2019-10-07</td>\n",
              "      <td>2019-10-07</td>\n",
              "      <td>2019-10-07</td>\n",
              "      <td>0</td>\n",
              "      <td>NaT</td>\n",
              "      <td>NaT</td>\n",
              "      <td>1</td>\n",
              "    </tr>\n",
              "    <tr>\n",
              "      <th>1</th>\n",
              "      <td>2019-10-07 00:00:01</td>\n",
              "      <td>tips_show</td>\n",
              "      <td>020292ab-89bc-4156-9acf-68bc2783f894</td>\n",
              "      <td>other</td>\n",
              "      <td>0</td>\n",
              "      <td>2019-10-03</td>\n",
              "      <td>2019-10-01</td>\n",
              "      <td>2019-01-01</td>\n",
              "      <td>2019-10-07</td>\n",
              "      <td>2019-10-07</td>\n",
              "      <td>2019-10-07</td>\n",
              "      <td>2019-10-07</td>\n",
              "      <td>0</td>\n",
              "      <td>2019-10-07 00:00:00</td>\n",
              "      <td>0 days 00:00:01</td>\n",
              "      <td>1</td>\n",
              "    </tr>\n",
              "    <tr>\n",
              "      <th>2</th>\n",
              "      <td>2019-10-07 00:00:07</td>\n",
              "      <td>tips_show</td>\n",
              "      <td>020292ab-89bc-4156-9acf-68bc2783f894</td>\n",
              "      <td>other</td>\n",
              "      <td>0</td>\n",
              "      <td>2019-10-03</td>\n",
              "      <td>2019-10-01</td>\n",
              "      <td>2019-01-01</td>\n",
              "      <td>2019-10-07</td>\n",
              "      <td>2019-10-07</td>\n",
              "      <td>2019-10-07</td>\n",
              "      <td>2019-10-07</td>\n",
              "      <td>0</td>\n",
              "      <td>2019-10-07 00:00:01</td>\n",
              "      <td>0 days 00:00:06</td>\n",
              "      <td>1</td>\n",
              "    </tr>\n",
              "    <tr>\n",
              "      <th>3</th>\n",
              "      <td>2019-10-07 00:01:28</td>\n",
              "      <td>advert_open</td>\n",
              "      <td>020292ab-89bc-4156-9acf-68bc2783f894</td>\n",
              "      <td>other</td>\n",
              "      <td>0</td>\n",
              "      <td>2019-10-03</td>\n",
              "      <td>2019-10-01</td>\n",
              "      <td>2019-01-01</td>\n",
              "      <td>2019-10-07</td>\n",
              "      <td>2019-10-07</td>\n",
              "      <td>2019-10-07</td>\n",
              "      <td>2019-10-07</td>\n",
              "      <td>0</td>\n",
              "      <td>2019-10-07 00:00:07</td>\n",
              "      <td>0 days 00:01:21</td>\n",
              "      <td>1</td>\n",
              "    </tr>\n",
              "    <tr>\n",
              "      <th>4</th>\n",
              "      <td>2019-10-07 00:01:35</td>\n",
              "      <td>tips_show</td>\n",
              "      <td>020292ab-89bc-4156-9acf-68bc2783f894</td>\n",
              "      <td>other</td>\n",
              "      <td>0</td>\n",
              "      <td>2019-10-03</td>\n",
              "      <td>2019-10-01</td>\n",
              "      <td>2019-01-01</td>\n",
              "      <td>2019-10-07</td>\n",
              "      <td>2019-10-07</td>\n",
              "      <td>2019-10-07</td>\n",
              "      <td>2019-10-07</td>\n",
              "      <td>0</td>\n",
              "      <td>2019-10-07 00:01:28</td>\n",
              "      <td>0 days 00:00:07</td>\n",
              "      <td>1</td>\n",
              "    </tr>\n",
              "    <tr>\n",
              "      <th>5</th>\n",
              "      <td>2019-10-07 00:01:55</td>\n",
              "      <td>advert_open</td>\n",
              "      <td>020292ab-89bc-4156-9acf-68bc2783f894</td>\n",
              "      <td>other</td>\n",
              "      <td>0</td>\n",
              "      <td>2019-10-03</td>\n",
              "      <td>2019-10-01</td>\n",
              "      <td>2019-01-01</td>\n",
              "      <td>2019-10-07</td>\n",
              "      <td>2019-10-07</td>\n",
              "      <td>2019-10-07</td>\n",
              "      <td>2019-10-07</td>\n",
              "      <td>0</td>\n",
              "      <td>2019-10-07 00:01:35</td>\n",
              "      <td>0 days 00:00:20</td>\n",
              "      <td>1</td>\n",
              "    </tr>\n",
              "    <tr>\n",
              "      <th>6</th>\n",
              "      <td>2019-10-07 00:02:01</td>\n",
              "      <td>tips_show</td>\n",
              "      <td>020292ab-89bc-4156-9acf-68bc2783f894</td>\n",
              "      <td>other</td>\n",
              "      <td>0</td>\n",
              "      <td>2019-10-03</td>\n",
              "      <td>2019-10-01</td>\n",
              "      <td>2019-01-01</td>\n",
              "      <td>2019-10-07</td>\n",
              "      <td>2019-10-07</td>\n",
              "      <td>2019-10-07</td>\n",
              "      <td>2019-10-07</td>\n",
              "      <td>0</td>\n",
              "      <td>2019-10-07 00:01:55</td>\n",
              "      <td>0 days 00:00:06</td>\n",
              "      <td>1</td>\n",
              "    </tr>\n",
              "    <tr>\n",
              "      <th>7</th>\n",
              "      <td>2019-10-07 00:02:25</td>\n",
              "      <td>advert_open</td>\n",
              "      <td>020292ab-89bc-4156-9acf-68bc2783f894</td>\n",
              "      <td>other</td>\n",
              "      <td>0</td>\n",
              "      <td>2019-10-03</td>\n",
              "      <td>2019-10-01</td>\n",
              "      <td>2019-01-01</td>\n",
              "      <td>2019-10-07</td>\n",
              "      <td>2019-10-07</td>\n",
              "      <td>2019-10-07</td>\n",
              "      <td>2019-10-07</td>\n",
              "      <td>0</td>\n",
              "      <td>2019-10-07 00:02:01</td>\n",
              "      <td>0 days 00:00:24</td>\n",
              "      <td>1</td>\n",
              "    </tr>\n",
              "    <tr>\n",
              "      <th>8</th>\n",
              "      <td>2019-10-07 00:02:31</td>\n",
              "      <td>tips_show</td>\n",
              "      <td>020292ab-89bc-4156-9acf-68bc2783f894</td>\n",
              "      <td>other</td>\n",
              "      <td>0</td>\n",
              "      <td>2019-10-03</td>\n",
              "      <td>2019-10-01</td>\n",
              "      <td>2019-01-01</td>\n",
              "      <td>2019-10-07</td>\n",
              "      <td>2019-10-07</td>\n",
              "      <td>2019-10-07</td>\n",
              "      <td>2019-10-07</td>\n",
              "      <td>0</td>\n",
              "      <td>2019-10-07 00:02:25</td>\n",
              "      <td>0 days 00:00:06</td>\n",
              "      <td>1</td>\n",
              "    </tr>\n",
              "    <tr>\n",
              "      <th>9</th>\n",
              "      <td>2019-10-07 00:03:02</td>\n",
              "      <td>tips_show</td>\n",
              "      <td>020292ab-89bc-4156-9acf-68bc2783f894</td>\n",
              "      <td>other</td>\n",
              "      <td>0</td>\n",
              "      <td>2019-10-03</td>\n",
              "      <td>2019-10-01</td>\n",
              "      <td>2019-01-01</td>\n",
              "      <td>2019-10-07</td>\n",
              "      <td>2019-10-07</td>\n",
              "      <td>2019-10-07</td>\n",
              "      <td>2019-10-07</td>\n",
              "      <td>0</td>\n",
              "      <td>2019-10-07 00:02:31</td>\n",
              "      <td>0 days 00:00:31</td>\n",
              "      <td>1</td>\n",
              "    </tr>\n",
              "  </tbody>\n",
              "</table>\n",
              "</div>\n",
              "      <button class=\"colab-df-convert\" onclick=\"convertToInteractive('df-1c668996-820e-4b41-96f8-f8ecf0fafd54')\"\n",
              "              title=\"Convert this dataframe to an interactive table.\"\n",
              "              style=\"display:none;\">\n",
              "        \n",
              "  <svg xmlns=\"http://www.w3.org/2000/svg\" height=\"24px\"viewBox=\"0 0 24 24\"\n",
              "       width=\"24px\">\n",
              "    <path d=\"M0 0h24v24H0V0z\" fill=\"none\"/>\n",
              "    <path d=\"M18.56 5.44l.94 2.06.94-2.06 2.06-.94-2.06-.94-.94-2.06-.94 2.06-2.06.94zm-11 1L8.5 8.5l.94-2.06 2.06-.94-2.06-.94L8.5 2.5l-.94 2.06-2.06.94zm10 10l.94 2.06.94-2.06 2.06-.94-2.06-.94-.94-2.06-.94 2.06-2.06.94z\"/><path d=\"M17.41 7.96l-1.37-1.37c-.4-.4-.92-.59-1.43-.59-.52 0-1.04.2-1.43.59L10.3 9.45l-7.72 7.72c-.78.78-.78 2.05 0 2.83L4 21.41c.39.39.9.59 1.41.59.51 0 1.02-.2 1.41-.59l7.78-7.78 2.81-2.81c.8-.78.8-2.07 0-2.86zM5.41 20L4 18.59l7.72-7.72 1.47 1.35L5.41 20z\"/>\n",
              "  </svg>\n",
              "      </button>\n",
              "      \n",
              "  <style>\n",
              "    .colab-df-container {\n",
              "      display:flex;\n",
              "      flex-wrap:wrap;\n",
              "      gap: 12px;\n",
              "    }\n",
              "\n",
              "    .colab-df-convert {\n",
              "      background-color: #E8F0FE;\n",
              "      border: none;\n",
              "      border-radius: 50%;\n",
              "      cursor: pointer;\n",
              "      display: none;\n",
              "      fill: #1967D2;\n",
              "      height: 32px;\n",
              "      padding: 0 0 0 0;\n",
              "      width: 32px;\n",
              "    }\n",
              "\n",
              "    .colab-df-convert:hover {\n",
              "      background-color: #E2EBFA;\n",
              "      box-shadow: 0px 1px 2px rgba(60, 64, 67, 0.3), 0px 1px 3px 1px rgba(60, 64, 67, 0.15);\n",
              "      fill: #174EA6;\n",
              "    }\n",
              "\n",
              "    [theme=dark] .colab-df-convert {\n",
              "      background-color: #3B4455;\n",
              "      fill: #D2E3FC;\n",
              "    }\n",
              "\n",
              "    [theme=dark] .colab-df-convert:hover {\n",
              "      background-color: #434B5C;\n",
              "      box-shadow: 0px 1px 3px 1px rgba(0, 0, 0, 0.15);\n",
              "      filter: drop-shadow(0px 1px 2px rgba(0, 0, 0, 0.3));\n",
              "      fill: #FFFFFF;\n",
              "    }\n",
              "  </style>\n",
              "\n",
              "      <script>\n",
              "        const buttonEl =\n",
              "          document.querySelector('#df-1c668996-820e-4b41-96f8-f8ecf0fafd54 button.colab-df-convert');\n",
              "        buttonEl.style.display =\n",
              "          google.colab.kernel.accessAllowed ? 'block' : 'none';\n",
              "\n",
              "        async function convertToInteractive(key) {\n",
              "          const element = document.querySelector('#df-1c668996-820e-4b41-96f8-f8ecf0fafd54');\n",
              "          const dataTable =\n",
              "            await google.colab.kernel.invokeFunction('convertToInteractive',\n",
              "                                                     [key], {});\n",
              "          if (!dataTable) return;\n",
              "\n",
              "          const docLinkHtml = 'Like what you see? Visit the ' +\n",
              "            '<a target=\"_blank\" href=https://colab.research.google.com/notebooks/data_table.ipynb>data table notebook</a>'\n",
              "            + ' to learn more about interactive tables.';\n",
              "          element.innerHTML = '';\n",
              "          dataTable['output_type'] = 'display_data';\n",
              "          await google.colab.output.renderOutput(dataTable, element);\n",
              "          const docLink = document.createElement('div');\n",
              "          docLink.innerHTML = docLinkHtml;\n",
              "          element.appendChild(docLink);\n",
              "        }\n",
              "      </script>\n",
              "    </div>\n",
              "  </div>\n",
              "  "
            ]
          },
          "metadata": {},
          "execution_count": 49
        }
      ],
      "source": [
        "df.head(10)"
      ]
    },
    {
      "cell_type": "markdown",
      "metadata": {
        "id": "nbU4DUUsTQLU"
      },
      "source": [
        "фильтруем столбец \"active_session\" следующим образом - если промежуток между действиями больше 30 минут - заменяем его на NaN"
      ]
    },
    {
      "cell_type": "code",
      "execution_count": 50,
      "metadata": {
        "colab": {
          "base_uri": "https://localhost:8080/",
          "height": 580
        },
        "id": "A7dh-ogQTVS3",
        "outputId": "b07202b3-76df-40b7-fc60-3d6b77273c4e"
      },
      "outputs": [
        {
          "output_type": "execute_result",
          "data": {
            "text/plain": [
              "           event_time   event_name                               user_id  \\\n",
              "0 2019-10-07 00:00:00  advert_open  020292ab-89bc-4156-9acf-68bc2783f894   \n",
              "1 2019-10-07 00:00:01    tips_show  020292ab-89bc-4156-9acf-68bc2783f894   \n",
              "2 2019-10-07 00:00:07    tips_show  020292ab-89bc-4156-9acf-68bc2783f894   \n",
              "3 2019-10-07 00:01:28  advert_open  020292ab-89bc-4156-9acf-68bc2783f894   \n",
              "4 2019-10-07 00:01:35    tips_show  020292ab-89bc-4156-9acf-68bc2783f894   \n",
              "5 2019-10-07 00:01:55  advert_open  020292ab-89bc-4156-9acf-68bc2783f894   \n",
              "6 2019-10-07 00:02:01    tips_show  020292ab-89bc-4156-9acf-68bc2783f894   \n",
              "7 2019-10-07 00:02:25  advert_open  020292ab-89bc-4156-9acf-68bc2783f894   \n",
              "8 2019-10-07 00:02:31    tips_show  020292ab-89bc-4156-9acf-68bc2783f894   \n",
              "9 2019-10-07 00:03:02    tips_show  020292ab-89bc-4156-9acf-68bc2783f894   \n",
              "\n",
              "  source  event_hour event_week event_month event_year event_date   start_dt  \\\n",
              "0  other           0 2019-10-03  2019-10-01 2019-01-01 2019-10-07 2019-10-07   \n",
              "1  other           0 2019-10-03  2019-10-01 2019-01-01 2019-10-07 2019-10-07   \n",
              "2  other           0 2019-10-03  2019-10-01 2019-01-01 2019-10-07 2019-10-07   \n",
              "3  other           0 2019-10-03  2019-10-01 2019-01-01 2019-10-07 2019-10-07   \n",
              "4  other           0 2019-10-03  2019-10-01 2019-01-01 2019-10-07 2019-10-07   \n",
              "5  other           0 2019-10-03  2019-10-01 2019-01-01 2019-10-07 2019-10-07   \n",
              "6  other           0 2019-10-03  2019-10-01 2019-01-01 2019-10-07 2019-10-07   \n",
              "7  other           0 2019-10-03  2019-10-01 2019-01-01 2019-10-07 2019-10-07   \n",
              "8  other           0 2019-10-03  2019-10-01 2019-01-01 2019-10-07 2019-10-07   \n",
              "9  other           0 2019-10-03  2019-10-01 2019-01-01 2019-10-07 2019-10-07   \n",
              "\n",
              "  activ_week start_week  cohort_lifetime     pre_action_time  active_session  \\\n",
              "0 2019-10-07 2019-10-07                0                 NaT             NaT   \n",
              "1 2019-10-07 2019-10-07                0 2019-10-07 00:00:00 0 days 00:00:01   \n",
              "2 2019-10-07 2019-10-07                0 2019-10-07 00:00:01 0 days 00:00:06   \n",
              "3 2019-10-07 2019-10-07                0 2019-10-07 00:00:07 0 days 00:01:21   \n",
              "4 2019-10-07 2019-10-07                0 2019-10-07 00:01:28 0 days 00:00:07   \n",
              "5 2019-10-07 2019-10-07                0 2019-10-07 00:01:35 0 days 00:00:20   \n",
              "6 2019-10-07 2019-10-07                0 2019-10-07 00:01:55 0 days 00:00:06   \n",
              "7 2019-10-07 2019-10-07                0 2019-10-07 00:02:01 0 days 00:00:24   \n",
              "8 2019-10-07 2019-10-07                0 2019-10-07 00:02:25 0 days 00:00:06   \n",
              "9 2019-10-07 2019-10-07                0 2019-10-07 00:02:31 0 days 00:00:31   \n",
              "\n",
              "   session_num  \n",
              "0            1  \n",
              "1            1  \n",
              "2            1  \n",
              "3            1  \n",
              "4            1  \n",
              "5            1  \n",
              "6            1  \n",
              "7            1  \n",
              "8            1  \n",
              "9            1  "
            ],
            "text/html": [
              "\n",
              "  <div id=\"df-cc695bcb-b172-478d-87f3-3443717af076\">\n",
              "    <div class=\"colab-df-container\">\n",
              "      <div>\n",
              "<style scoped>\n",
              "    .dataframe tbody tr th:only-of-type {\n",
              "        vertical-align: middle;\n",
              "    }\n",
              "\n",
              "    .dataframe tbody tr th {\n",
              "        vertical-align: top;\n",
              "    }\n",
              "\n",
              "    .dataframe thead th {\n",
              "        text-align: right;\n",
              "    }\n",
              "</style>\n",
              "<table border=\"1\" class=\"dataframe\">\n",
              "  <thead>\n",
              "    <tr style=\"text-align: right;\">\n",
              "      <th></th>\n",
              "      <th>event_time</th>\n",
              "      <th>event_name</th>\n",
              "      <th>user_id</th>\n",
              "      <th>source</th>\n",
              "      <th>event_hour</th>\n",
              "      <th>event_week</th>\n",
              "      <th>event_month</th>\n",
              "      <th>event_year</th>\n",
              "      <th>event_date</th>\n",
              "      <th>start_dt</th>\n",
              "      <th>activ_week</th>\n",
              "      <th>start_week</th>\n",
              "      <th>cohort_lifetime</th>\n",
              "      <th>pre_action_time</th>\n",
              "      <th>active_session</th>\n",
              "      <th>session_num</th>\n",
              "    </tr>\n",
              "  </thead>\n",
              "  <tbody>\n",
              "    <tr>\n",
              "      <th>0</th>\n",
              "      <td>2019-10-07 00:00:00</td>\n",
              "      <td>advert_open</td>\n",
              "      <td>020292ab-89bc-4156-9acf-68bc2783f894</td>\n",
              "      <td>other</td>\n",
              "      <td>0</td>\n",
              "      <td>2019-10-03</td>\n",
              "      <td>2019-10-01</td>\n",
              "      <td>2019-01-01</td>\n",
              "      <td>2019-10-07</td>\n",
              "      <td>2019-10-07</td>\n",
              "      <td>2019-10-07</td>\n",
              "      <td>2019-10-07</td>\n",
              "      <td>0</td>\n",
              "      <td>NaT</td>\n",
              "      <td>NaT</td>\n",
              "      <td>1</td>\n",
              "    </tr>\n",
              "    <tr>\n",
              "      <th>1</th>\n",
              "      <td>2019-10-07 00:00:01</td>\n",
              "      <td>tips_show</td>\n",
              "      <td>020292ab-89bc-4156-9acf-68bc2783f894</td>\n",
              "      <td>other</td>\n",
              "      <td>0</td>\n",
              "      <td>2019-10-03</td>\n",
              "      <td>2019-10-01</td>\n",
              "      <td>2019-01-01</td>\n",
              "      <td>2019-10-07</td>\n",
              "      <td>2019-10-07</td>\n",
              "      <td>2019-10-07</td>\n",
              "      <td>2019-10-07</td>\n",
              "      <td>0</td>\n",
              "      <td>2019-10-07 00:00:00</td>\n",
              "      <td>0 days 00:00:01</td>\n",
              "      <td>1</td>\n",
              "    </tr>\n",
              "    <tr>\n",
              "      <th>2</th>\n",
              "      <td>2019-10-07 00:00:07</td>\n",
              "      <td>tips_show</td>\n",
              "      <td>020292ab-89bc-4156-9acf-68bc2783f894</td>\n",
              "      <td>other</td>\n",
              "      <td>0</td>\n",
              "      <td>2019-10-03</td>\n",
              "      <td>2019-10-01</td>\n",
              "      <td>2019-01-01</td>\n",
              "      <td>2019-10-07</td>\n",
              "      <td>2019-10-07</td>\n",
              "      <td>2019-10-07</td>\n",
              "      <td>2019-10-07</td>\n",
              "      <td>0</td>\n",
              "      <td>2019-10-07 00:00:01</td>\n",
              "      <td>0 days 00:00:06</td>\n",
              "      <td>1</td>\n",
              "    </tr>\n",
              "    <tr>\n",
              "      <th>3</th>\n",
              "      <td>2019-10-07 00:01:28</td>\n",
              "      <td>advert_open</td>\n",
              "      <td>020292ab-89bc-4156-9acf-68bc2783f894</td>\n",
              "      <td>other</td>\n",
              "      <td>0</td>\n",
              "      <td>2019-10-03</td>\n",
              "      <td>2019-10-01</td>\n",
              "      <td>2019-01-01</td>\n",
              "      <td>2019-10-07</td>\n",
              "      <td>2019-10-07</td>\n",
              "      <td>2019-10-07</td>\n",
              "      <td>2019-10-07</td>\n",
              "      <td>0</td>\n",
              "      <td>2019-10-07 00:00:07</td>\n",
              "      <td>0 days 00:01:21</td>\n",
              "      <td>1</td>\n",
              "    </tr>\n",
              "    <tr>\n",
              "      <th>4</th>\n",
              "      <td>2019-10-07 00:01:35</td>\n",
              "      <td>tips_show</td>\n",
              "      <td>020292ab-89bc-4156-9acf-68bc2783f894</td>\n",
              "      <td>other</td>\n",
              "      <td>0</td>\n",
              "      <td>2019-10-03</td>\n",
              "      <td>2019-10-01</td>\n",
              "      <td>2019-01-01</td>\n",
              "      <td>2019-10-07</td>\n",
              "      <td>2019-10-07</td>\n",
              "      <td>2019-10-07</td>\n",
              "      <td>2019-10-07</td>\n",
              "      <td>0</td>\n",
              "      <td>2019-10-07 00:01:28</td>\n",
              "      <td>0 days 00:00:07</td>\n",
              "      <td>1</td>\n",
              "    </tr>\n",
              "    <tr>\n",
              "      <th>5</th>\n",
              "      <td>2019-10-07 00:01:55</td>\n",
              "      <td>advert_open</td>\n",
              "      <td>020292ab-89bc-4156-9acf-68bc2783f894</td>\n",
              "      <td>other</td>\n",
              "      <td>0</td>\n",
              "      <td>2019-10-03</td>\n",
              "      <td>2019-10-01</td>\n",
              "      <td>2019-01-01</td>\n",
              "      <td>2019-10-07</td>\n",
              "      <td>2019-10-07</td>\n",
              "      <td>2019-10-07</td>\n",
              "      <td>2019-10-07</td>\n",
              "      <td>0</td>\n",
              "      <td>2019-10-07 00:01:35</td>\n",
              "      <td>0 days 00:00:20</td>\n",
              "      <td>1</td>\n",
              "    </tr>\n",
              "    <tr>\n",
              "      <th>6</th>\n",
              "      <td>2019-10-07 00:02:01</td>\n",
              "      <td>tips_show</td>\n",
              "      <td>020292ab-89bc-4156-9acf-68bc2783f894</td>\n",
              "      <td>other</td>\n",
              "      <td>0</td>\n",
              "      <td>2019-10-03</td>\n",
              "      <td>2019-10-01</td>\n",
              "      <td>2019-01-01</td>\n",
              "      <td>2019-10-07</td>\n",
              "      <td>2019-10-07</td>\n",
              "      <td>2019-10-07</td>\n",
              "      <td>2019-10-07</td>\n",
              "      <td>0</td>\n",
              "      <td>2019-10-07 00:01:55</td>\n",
              "      <td>0 days 00:00:06</td>\n",
              "      <td>1</td>\n",
              "    </tr>\n",
              "    <tr>\n",
              "      <th>7</th>\n",
              "      <td>2019-10-07 00:02:25</td>\n",
              "      <td>advert_open</td>\n",
              "      <td>020292ab-89bc-4156-9acf-68bc2783f894</td>\n",
              "      <td>other</td>\n",
              "      <td>0</td>\n",
              "      <td>2019-10-03</td>\n",
              "      <td>2019-10-01</td>\n",
              "      <td>2019-01-01</td>\n",
              "      <td>2019-10-07</td>\n",
              "      <td>2019-10-07</td>\n",
              "      <td>2019-10-07</td>\n",
              "      <td>2019-10-07</td>\n",
              "      <td>0</td>\n",
              "      <td>2019-10-07 00:02:01</td>\n",
              "      <td>0 days 00:00:24</td>\n",
              "      <td>1</td>\n",
              "    </tr>\n",
              "    <tr>\n",
              "      <th>8</th>\n",
              "      <td>2019-10-07 00:02:31</td>\n",
              "      <td>tips_show</td>\n",
              "      <td>020292ab-89bc-4156-9acf-68bc2783f894</td>\n",
              "      <td>other</td>\n",
              "      <td>0</td>\n",
              "      <td>2019-10-03</td>\n",
              "      <td>2019-10-01</td>\n",
              "      <td>2019-01-01</td>\n",
              "      <td>2019-10-07</td>\n",
              "      <td>2019-10-07</td>\n",
              "      <td>2019-10-07</td>\n",
              "      <td>2019-10-07</td>\n",
              "      <td>0</td>\n",
              "      <td>2019-10-07 00:02:25</td>\n",
              "      <td>0 days 00:00:06</td>\n",
              "      <td>1</td>\n",
              "    </tr>\n",
              "    <tr>\n",
              "      <th>9</th>\n",
              "      <td>2019-10-07 00:03:02</td>\n",
              "      <td>tips_show</td>\n",
              "      <td>020292ab-89bc-4156-9acf-68bc2783f894</td>\n",
              "      <td>other</td>\n",
              "      <td>0</td>\n",
              "      <td>2019-10-03</td>\n",
              "      <td>2019-10-01</td>\n",
              "      <td>2019-01-01</td>\n",
              "      <td>2019-10-07</td>\n",
              "      <td>2019-10-07</td>\n",
              "      <td>2019-10-07</td>\n",
              "      <td>2019-10-07</td>\n",
              "      <td>0</td>\n",
              "      <td>2019-10-07 00:02:31</td>\n",
              "      <td>0 days 00:00:31</td>\n",
              "      <td>1</td>\n",
              "    </tr>\n",
              "  </tbody>\n",
              "</table>\n",
              "</div>\n",
              "      <button class=\"colab-df-convert\" onclick=\"convertToInteractive('df-cc695bcb-b172-478d-87f3-3443717af076')\"\n",
              "              title=\"Convert this dataframe to an interactive table.\"\n",
              "              style=\"display:none;\">\n",
              "        \n",
              "  <svg xmlns=\"http://www.w3.org/2000/svg\" height=\"24px\"viewBox=\"0 0 24 24\"\n",
              "       width=\"24px\">\n",
              "    <path d=\"M0 0h24v24H0V0z\" fill=\"none\"/>\n",
              "    <path d=\"M18.56 5.44l.94 2.06.94-2.06 2.06-.94-2.06-.94-.94-2.06-.94 2.06-2.06.94zm-11 1L8.5 8.5l.94-2.06 2.06-.94-2.06-.94L8.5 2.5l-.94 2.06-2.06.94zm10 10l.94 2.06.94-2.06 2.06-.94-2.06-.94-.94-2.06-.94 2.06-2.06.94z\"/><path d=\"M17.41 7.96l-1.37-1.37c-.4-.4-.92-.59-1.43-.59-.52 0-1.04.2-1.43.59L10.3 9.45l-7.72 7.72c-.78.78-.78 2.05 0 2.83L4 21.41c.39.39.9.59 1.41.59.51 0 1.02-.2 1.41-.59l7.78-7.78 2.81-2.81c.8-.78.8-2.07 0-2.86zM5.41 20L4 18.59l7.72-7.72 1.47 1.35L5.41 20z\"/>\n",
              "  </svg>\n",
              "      </button>\n",
              "      \n",
              "  <style>\n",
              "    .colab-df-container {\n",
              "      display:flex;\n",
              "      flex-wrap:wrap;\n",
              "      gap: 12px;\n",
              "    }\n",
              "\n",
              "    .colab-df-convert {\n",
              "      background-color: #E8F0FE;\n",
              "      border: none;\n",
              "      border-radius: 50%;\n",
              "      cursor: pointer;\n",
              "      display: none;\n",
              "      fill: #1967D2;\n",
              "      height: 32px;\n",
              "      padding: 0 0 0 0;\n",
              "      width: 32px;\n",
              "    }\n",
              "\n",
              "    .colab-df-convert:hover {\n",
              "      background-color: #E2EBFA;\n",
              "      box-shadow: 0px 1px 2px rgba(60, 64, 67, 0.3), 0px 1px 3px 1px rgba(60, 64, 67, 0.15);\n",
              "      fill: #174EA6;\n",
              "    }\n",
              "\n",
              "    [theme=dark] .colab-df-convert {\n",
              "      background-color: #3B4455;\n",
              "      fill: #D2E3FC;\n",
              "    }\n",
              "\n",
              "    [theme=dark] .colab-df-convert:hover {\n",
              "      background-color: #434B5C;\n",
              "      box-shadow: 0px 1px 3px 1px rgba(0, 0, 0, 0.15);\n",
              "      filter: drop-shadow(0px 1px 2px rgba(0, 0, 0, 0.3));\n",
              "      fill: #FFFFFF;\n",
              "    }\n",
              "  </style>\n",
              "\n",
              "      <script>\n",
              "        const buttonEl =\n",
              "          document.querySelector('#df-cc695bcb-b172-478d-87f3-3443717af076 button.colab-df-convert');\n",
              "        buttonEl.style.display =\n",
              "          google.colab.kernel.accessAllowed ? 'block' : 'none';\n",
              "\n",
              "        async function convertToInteractive(key) {\n",
              "          const element = document.querySelector('#df-cc695bcb-b172-478d-87f3-3443717af076');\n",
              "          const dataTable =\n",
              "            await google.colab.kernel.invokeFunction('convertToInteractive',\n",
              "                                                     [key], {});\n",
              "          if (!dataTable) return;\n",
              "\n",
              "          const docLinkHtml = 'Like what you see? Visit the ' +\n",
              "            '<a target=\"_blank\" href=https://colab.research.google.com/notebooks/data_table.ipynb>data table notebook</a>'\n",
              "            + ' to learn more about interactive tables.';\n",
              "          element.innerHTML = '';\n",
              "          dataTable['output_type'] = 'display_data';\n",
              "          await google.colab.output.renderOutput(dataTable, element);\n",
              "          const docLink = document.createElement('div');\n",
              "          docLink.innerHTML = docLinkHtml;\n",
              "          element.appendChild(docLink);\n",
              "        }\n",
              "      </script>\n",
              "    </div>\n",
              "  </div>\n",
              "  "
            ]
          },
          "metadata": {},
          "execution_count": 50
        }
      ],
      "source": [
        "df['active_session'].loc[(df['active_session'] > pd.Timedelta(30,'m'))] = np.nan\n",
        "df.head(10)"
      ]
    },
    {
      "cell_type": "markdown",
      "metadata": {
        "id": "T7UxQ1-QTh_5"
      },
      "source": [
        "NaNы заменим на 0,чтобы при суммировании не возникло проблем"
      ]
    },
    {
      "cell_type": "code",
      "execution_count": 51,
      "metadata": {
        "id": "FYuzLbloThjC"
      },
      "outputs": [],
      "source": [
        "df['active_session'].fillna('0',inplace=True)"
      ]
    },
    {
      "cell_type": "markdown",
      "metadata": {
        "id": "yWpWMY-8l2fM"
      },
      "source": [
        "Посмотрим на время в приложении"
      ]
    },
    {
      "cell_type": "code",
      "execution_count": 52,
      "metadata": {
        "id": "X8nomdkNmhgS"
      },
      "outputs": [],
      "source": [
        "total_session = df.groupby(['user_id','session_num'], as_index=False)\\\n",
        ".agg({'active_session':'sum'})"
      ]
    },
    {
      "cell_type": "code",
      "execution_count": 53,
      "metadata": {
        "colab": {
          "base_uri": "https://localhost:8080/",
          "height": 363
        },
        "id": "rz4MVbKuUBib",
        "outputId": "ec96d2cd-9324-4506-a96b-3036f118d04b"
      },
      "outputs": [
        {
          "output_type": "execute_result",
          "data": {
            "text/plain": [
              "                                user_id  session_num  active_session\n",
              "0  0001b1d5-b74a-4cbf-aeb0-7df5947bf349            1 0 days 00:09:56\n",
              "1  0001b1d5-b74a-4cbf-aeb0-7df5947bf349            2 0 days 00:08:27\n",
              "2  0001b1d5-b74a-4cbf-aeb0-7df5947bf349            3 0 days 00:14:59\n",
              "3  0001b1d5-b74a-4cbf-aeb0-7df5947bf349            4 0 days 00:12:38\n",
              "4  00157779-810c-4498-9e05-a1e9e3cedf93            1 0 days 00:25:21\n",
              "5  00157779-810c-4498-9e05-a1e9e3cedf93            2 0 days 01:16:12\n",
              "6  00157779-810c-4498-9e05-a1e9e3cedf93            3 0 days 00:06:33\n",
              "7  00157779-810c-4498-9e05-a1e9e3cedf93            4 0 days 00:52:01\n",
              "8  00157779-810c-4498-9e05-a1e9e3cedf93            5 0 days 00:36:08\n",
              "9  00157779-810c-4498-9e05-a1e9e3cedf93            6 0 days 00:00:00"
            ],
            "text/html": [
              "\n",
              "  <div id=\"df-fcdffd38-57fa-43bb-8090-0572fe314270\">\n",
              "    <div class=\"colab-df-container\">\n",
              "      <div>\n",
              "<style scoped>\n",
              "    .dataframe tbody tr th:only-of-type {\n",
              "        vertical-align: middle;\n",
              "    }\n",
              "\n",
              "    .dataframe tbody tr th {\n",
              "        vertical-align: top;\n",
              "    }\n",
              "\n",
              "    .dataframe thead th {\n",
              "        text-align: right;\n",
              "    }\n",
              "</style>\n",
              "<table border=\"1\" class=\"dataframe\">\n",
              "  <thead>\n",
              "    <tr style=\"text-align: right;\">\n",
              "      <th></th>\n",
              "      <th>user_id</th>\n",
              "      <th>session_num</th>\n",
              "      <th>active_session</th>\n",
              "    </tr>\n",
              "  </thead>\n",
              "  <tbody>\n",
              "    <tr>\n",
              "      <th>0</th>\n",
              "      <td>0001b1d5-b74a-4cbf-aeb0-7df5947bf349</td>\n",
              "      <td>1</td>\n",
              "      <td>0 days 00:09:56</td>\n",
              "    </tr>\n",
              "    <tr>\n",
              "      <th>1</th>\n",
              "      <td>0001b1d5-b74a-4cbf-aeb0-7df5947bf349</td>\n",
              "      <td>2</td>\n",
              "      <td>0 days 00:08:27</td>\n",
              "    </tr>\n",
              "    <tr>\n",
              "      <th>2</th>\n",
              "      <td>0001b1d5-b74a-4cbf-aeb0-7df5947bf349</td>\n",
              "      <td>3</td>\n",
              "      <td>0 days 00:14:59</td>\n",
              "    </tr>\n",
              "    <tr>\n",
              "      <th>3</th>\n",
              "      <td>0001b1d5-b74a-4cbf-aeb0-7df5947bf349</td>\n",
              "      <td>4</td>\n",
              "      <td>0 days 00:12:38</td>\n",
              "    </tr>\n",
              "    <tr>\n",
              "      <th>4</th>\n",
              "      <td>00157779-810c-4498-9e05-a1e9e3cedf93</td>\n",
              "      <td>1</td>\n",
              "      <td>0 days 00:25:21</td>\n",
              "    </tr>\n",
              "    <tr>\n",
              "      <th>5</th>\n",
              "      <td>00157779-810c-4498-9e05-a1e9e3cedf93</td>\n",
              "      <td>2</td>\n",
              "      <td>0 days 01:16:12</td>\n",
              "    </tr>\n",
              "    <tr>\n",
              "      <th>6</th>\n",
              "      <td>00157779-810c-4498-9e05-a1e9e3cedf93</td>\n",
              "      <td>3</td>\n",
              "      <td>0 days 00:06:33</td>\n",
              "    </tr>\n",
              "    <tr>\n",
              "      <th>7</th>\n",
              "      <td>00157779-810c-4498-9e05-a1e9e3cedf93</td>\n",
              "      <td>4</td>\n",
              "      <td>0 days 00:52:01</td>\n",
              "    </tr>\n",
              "    <tr>\n",
              "      <th>8</th>\n",
              "      <td>00157779-810c-4498-9e05-a1e9e3cedf93</td>\n",
              "      <td>5</td>\n",
              "      <td>0 days 00:36:08</td>\n",
              "    </tr>\n",
              "    <tr>\n",
              "      <th>9</th>\n",
              "      <td>00157779-810c-4498-9e05-a1e9e3cedf93</td>\n",
              "      <td>6</td>\n",
              "      <td>0 days 00:00:00</td>\n",
              "    </tr>\n",
              "  </tbody>\n",
              "</table>\n",
              "</div>\n",
              "      <button class=\"colab-df-convert\" onclick=\"convertToInteractive('df-fcdffd38-57fa-43bb-8090-0572fe314270')\"\n",
              "              title=\"Convert this dataframe to an interactive table.\"\n",
              "              style=\"display:none;\">\n",
              "        \n",
              "  <svg xmlns=\"http://www.w3.org/2000/svg\" height=\"24px\"viewBox=\"0 0 24 24\"\n",
              "       width=\"24px\">\n",
              "    <path d=\"M0 0h24v24H0V0z\" fill=\"none\"/>\n",
              "    <path d=\"M18.56 5.44l.94 2.06.94-2.06 2.06-.94-2.06-.94-.94-2.06-.94 2.06-2.06.94zm-11 1L8.5 8.5l.94-2.06 2.06-.94-2.06-.94L8.5 2.5l-.94 2.06-2.06.94zm10 10l.94 2.06.94-2.06 2.06-.94-2.06-.94-.94-2.06-.94 2.06-2.06.94z\"/><path d=\"M17.41 7.96l-1.37-1.37c-.4-.4-.92-.59-1.43-.59-.52 0-1.04.2-1.43.59L10.3 9.45l-7.72 7.72c-.78.78-.78 2.05 0 2.83L4 21.41c.39.39.9.59 1.41.59.51 0 1.02-.2 1.41-.59l7.78-7.78 2.81-2.81c.8-.78.8-2.07 0-2.86zM5.41 20L4 18.59l7.72-7.72 1.47 1.35L5.41 20z\"/>\n",
              "  </svg>\n",
              "      </button>\n",
              "      \n",
              "  <style>\n",
              "    .colab-df-container {\n",
              "      display:flex;\n",
              "      flex-wrap:wrap;\n",
              "      gap: 12px;\n",
              "    }\n",
              "\n",
              "    .colab-df-convert {\n",
              "      background-color: #E8F0FE;\n",
              "      border: none;\n",
              "      border-radius: 50%;\n",
              "      cursor: pointer;\n",
              "      display: none;\n",
              "      fill: #1967D2;\n",
              "      height: 32px;\n",
              "      padding: 0 0 0 0;\n",
              "      width: 32px;\n",
              "    }\n",
              "\n",
              "    .colab-df-convert:hover {\n",
              "      background-color: #E2EBFA;\n",
              "      box-shadow: 0px 1px 2px rgba(60, 64, 67, 0.3), 0px 1px 3px 1px rgba(60, 64, 67, 0.15);\n",
              "      fill: #174EA6;\n",
              "    }\n",
              "\n",
              "    [theme=dark] .colab-df-convert {\n",
              "      background-color: #3B4455;\n",
              "      fill: #D2E3FC;\n",
              "    }\n",
              "\n",
              "    [theme=dark] .colab-df-convert:hover {\n",
              "      background-color: #434B5C;\n",
              "      box-shadow: 0px 1px 3px 1px rgba(0, 0, 0, 0.15);\n",
              "      filter: drop-shadow(0px 1px 2px rgba(0, 0, 0, 0.3));\n",
              "      fill: #FFFFFF;\n",
              "    }\n",
              "  </style>\n",
              "\n",
              "      <script>\n",
              "        const buttonEl =\n",
              "          document.querySelector('#df-fcdffd38-57fa-43bb-8090-0572fe314270 button.colab-df-convert');\n",
              "        buttonEl.style.display =\n",
              "          google.colab.kernel.accessAllowed ? 'block' : 'none';\n",
              "\n",
              "        async function convertToInteractive(key) {\n",
              "          const element = document.querySelector('#df-fcdffd38-57fa-43bb-8090-0572fe314270');\n",
              "          const dataTable =\n",
              "            await google.colab.kernel.invokeFunction('convertToInteractive',\n",
              "                                                     [key], {});\n",
              "          if (!dataTable) return;\n",
              "\n",
              "          const docLinkHtml = 'Like what you see? Visit the ' +\n",
              "            '<a target=\"_blank\" href=https://colab.research.google.com/notebooks/data_table.ipynb>data table notebook</a>'\n",
              "            + ' to learn more about interactive tables.';\n",
              "          element.innerHTML = '';\n",
              "          dataTable['output_type'] = 'display_data';\n",
              "          await google.colab.output.renderOutput(dataTable, element);\n",
              "          const docLink = document.createElement('div');\n",
              "          docLink.innerHTML = docLinkHtml;\n",
              "          element.appendChild(docLink);\n",
              "        }\n",
              "      </script>\n",
              "    </div>\n",
              "  </div>\n",
              "  "
            ]
          },
          "metadata": {},
          "execution_count": 53
        }
      ],
      "source": [
        "total_session.head(10)"
      ]
    },
    {
      "cell_type": "code",
      "execution_count": 54,
      "metadata": {
        "colab": {
          "base_uri": "https://localhost:8080/"
        },
        "id": "d_PTBfkdocmj",
        "outputId": "5f27c17d-e512-4860-b886-d5737c6c178e"
      },
      "outputs": [
        {
          "output_type": "execute_result",
          "data": {
            "text/plain": [
              "count                        10368\n",
              "mean     0 days 00:12:52.668981481\n",
              "std      0 days 00:19:51.607952024\n",
              "min                0 days 00:00:00\n",
              "25%                0 days 00:00:21\n",
              "50%                0 days 00:05:35\n",
              "75%         0 days 00:17:25.250000\n",
              "max                0 days 05:21:58\n",
              "Name: active_session, dtype: object"
            ]
          },
          "metadata": {},
          "execution_count": 54
        }
      ],
      "source": [
        "total_session['active_session'].describe()"
      ]
    },
    {
      "cell_type": "code",
      "execution_count": 55,
      "metadata": {
        "colab": {
          "base_uri": "https://localhost:8080/"
        },
        "id": "IIPiROPGYwco",
        "outputId": "135ee278-6efb-488b-aa3d-ca4ece86c7b8"
      },
      "outputs": [
        {
          "output_type": "execute_result",
          "data": {
            "text/plain": [
              "2.0"
            ]
          },
          "metadata": {},
          "execution_count": 55
        }
      ],
      "source": [
        "total_session['session_num'].median()"
      ]
    },
    {
      "cell_type": "markdown",
      "metadata": {
        "id": "Kjw_YtwfrEGw"
      },
      "source": [
        "Ну и посмотрим количество сеансов, рассматривать сразу будем по медиане"
      ]
    },
    {
      "cell_type": "code",
      "execution_count": 56,
      "metadata": {
        "colab": {
          "base_uri": "https://localhost:8080/"
        },
        "id": "v1iBzxGUrHp-",
        "outputId": "07609b64-6acd-428b-a7dd-d5639ce97ae9"
      },
      "outputs": [
        {
          "output_type": "execute_result",
          "data": {
            "text/plain": [
              "2.4150943396226414"
            ]
          },
          "metadata": {},
          "execution_count": 56
        }
      ],
      "source": [
        "total_session.groupby('user_id')['session_num'].count().mean()"
      ]
    },
    {
      "cell_type": "markdown",
      "metadata": {
        "id": "T2lYxlArXX11"
      },
      "source": [
        "### Вывод\n",
        "По нашим расчетам видим, что медиана и среднее количество сессий на пользователя примерно сходятся - в месяц пользователь проводит в приложении примерно *2 сессии* или * 30-40 минут*. Для специфики нашего приложения это нормальный результат - примерно за это время пользователь может найти то,что его интресует, рассмотреть варианты и принять решение о покупке. "
      ]
    },
    {
      "cell_type": "markdown",
      "metadata": {
        "id": "DF4Kdkq9YCGr"
      },
      "source": [
        "Возможно, в нашем случае следует работать не над увеличением времени, проведенном в приложении (скорее наоборот - чем быстрее пользователь будет находить то, что ему нужно, тем лучше; простотой использования мы можем увеличить вероятность того, что пользователь вернется к нам), а над количеством привлеченных пользователей."
      ]
    },
    {
      "cell_type": "markdown",
      "metadata": {
        "id": "PD36nMnhZkgS"
      },
      "source": [
        "###  Частота действий"
      ]
    },
    {
      "cell_type": "code",
      "execution_count": 57,
      "metadata": {
        "colab": {
          "base_uri": "https://localhost:8080/",
          "height": 331
        },
        "id": "alSkGrbZSv8b",
        "outputId": "a9c5ed6a-3374-43c5-89e2-43d6f401fadf"
      },
      "outputs": [
        {
          "output_type": "execute_result",
          "data": {
            "text/plain": [
              "               event_name\n",
              "tips_show           40055\n",
              "photos_show         10012\n",
              "search               6784\n",
              "advert_open          6164\n",
              "contacts_show        4529\n",
              "map                  3881\n",
              "favorites_add        1417\n",
              "tips_click            814\n",
              "contacts_call         541"
            ],
            "text/html": [
              "\n",
              "  <div id=\"df-f6c24de6-8767-425b-b99f-4b371fad0ef8\">\n",
              "    <div class=\"colab-df-container\">\n",
              "      <div>\n",
              "<style scoped>\n",
              "    .dataframe tbody tr th:only-of-type {\n",
              "        vertical-align: middle;\n",
              "    }\n",
              "\n",
              "    .dataframe tbody tr th {\n",
              "        vertical-align: top;\n",
              "    }\n",
              "\n",
              "    .dataframe thead th {\n",
              "        text-align: right;\n",
              "    }\n",
              "</style>\n",
              "<table border=\"1\" class=\"dataframe\">\n",
              "  <thead>\n",
              "    <tr style=\"text-align: right;\">\n",
              "      <th></th>\n",
              "      <th>event_name</th>\n",
              "    </tr>\n",
              "  </thead>\n",
              "  <tbody>\n",
              "    <tr>\n",
              "      <th>tips_show</th>\n",
              "      <td>40055</td>\n",
              "    </tr>\n",
              "    <tr>\n",
              "      <th>photos_show</th>\n",
              "      <td>10012</td>\n",
              "    </tr>\n",
              "    <tr>\n",
              "      <th>search</th>\n",
              "      <td>6784</td>\n",
              "    </tr>\n",
              "    <tr>\n",
              "      <th>advert_open</th>\n",
              "      <td>6164</td>\n",
              "    </tr>\n",
              "    <tr>\n",
              "      <th>contacts_show</th>\n",
              "      <td>4529</td>\n",
              "    </tr>\n",
              "    <tr>\n",
              "      <th>map</th>\n",
              "      <td>3881</td>\n",
              "    </tr>\n",
              "    <tr>\n",
              "      <th>favorites_add</th>\n",
              "      <td>1417</td>\n",
              "    </tr>\n",
              "    <tr>\n",
              "      <th>tips_click</th>\n",
              "      <td>814</td>\n",
              "    </tr>\n",
              "    <tr>\n",
              "      <th>contacts_call</th>\n",
              "      <td>541</td>\n",
              "    </tr>\n",
              "  </tbody>\n",
              "</table>\n",
              "</div>\n",
              "      <button class=\"colab-df-convert\" onclick=\"convertToInteractive('df-f6c24de6-8767-425b-b99f-4b371fad0ef8')\"\n",
              "              title=\"Convert this dataframe to an interactive table.\"\n",
              "              style=\"display:none;\">\n",
              "        \n",
              "  <svg xmlns=\"http://www.w3.org/2000/svg\" height=\"24px\"viewBox=\"0 0 24 24\"\n",
              "       width=\"24px\">\n",
              "    <path d=\"M0 0h24v24H0V0z\" fill=\"none\"/>\n",
              "    <path d=\"M18.56 5.44l.94 2.06.94-2.06 2.06-.94-2.06-.94-.94-2.06-.94 2.06-2.06.94zm-11 1L8.5 8.5l.94-2.06 2.06-.94-2.06-.94L8.5 2.5l-.94 2.06-2.06.94zm10 10l.94 2.06.94-2.06 2.06-.94-2.06-.94-.94-2.06-.94 2.06-2.06.94z\"/><path d=\"M17.41 7.96l-1.37-1.37c-.4-.4-.92-.59-1.43-.59-.52 0-1.04.2-1.43.59L10.3 9.45l-7.72 7.72c-.78.78-.78 2.05 0 2.83L4 21.41c.39.39.9.59 1.41.59.51 0 1.02-.2 1.41-.59l7.78-7.78 2.81-2.81c.8-.78.8-2.07 0-2.86zM5.41 20L4 18.59l7.72-7.72 1.47 1.35L5.41 20z\"/>\n",
              "  </svg>\n",
              "      </button>\n",
              "      \n",
              "  <style>\n",
              "    .colab-df-container {\n",
              "      display:flex;\n",
              "      flex-wrap:wrap;\n",
              "      gap: 12px;\n",
              "    }\n",
              "\n",
              "    .colab-df-convert {\n",
              "      background-color: #E8F0FE;\n",
              "      border: none;\n",
              "      border-radius: 50%;\n",
              "      cursor: pointer;\n",
              "      display: none;\n",
              "      fill: #1967D2;\n",
              "      height: 32px;\n",
              "      padding: 0 0 0 0;\n",
              "      width: 32px;\n",
              "    }\n",
              "\n",
              "    .colab-df-convert:hover {\n",
              "      background-color: #E2EBFA;\n",
              "      box-shadow: 0px 1px 2px rgba(60, 64, 67, 0.3), 0px 1px 3px 1px rgba(60, 64, 67, 0.15);\n",
              "      fill: #174EA6;\n",
              "    }\n",
              "\n",
              "    [theme=dark] .colab-df-convert {\n",
              "      background-color: #3B4455;\n",
              "      fill: #D2E3FC;\n",
              "    }\n",
              "\n",
              "    [theme=dark] .colab-df-convert:hover {\n",
              "      background-color: #434B5C;\n",
              "      box-shadow: 0px 1px 3px 1px rgba(0, 0, 0, 0.15);\n",
              "      filter: drop-shadow(0px 1px 2px rgba(0, 0, 0, 0.3));\n",
              "      fill: #FFFFFF;\n",
              "    }\n",
              "  </style>\n",
              "\n",
              "      <script>\n",
              "        const buttonEl =\n",
              "          document.querySelector('#df-f6c24de6-8767-425b-b99f-4b371fad0ef8 button.colab-df-convert');\n",
              "        buttonEl.style.display =\n",
              "          google.colab.kernel.accessAllowed ? 'block' : 'none';\n",
              "\n",
              "        async function convertToInteractive(key) {\n",
              "          const element = document.querySelector('#df-f6c24de6-8767-425b-b99f-4b371fad0ef8');\n",
              "          const dataTable =\n",
              "            await google.colab.kernel.invokeFunction('convertToInteractive',\n",
              "                                                     [key], {});\n",
              "          if (!dataTable) return;\n",
              "\n",
              "          const docLinkHtml = 'Like what you see? Visit the ' +\n",
              "            '<a target=\"_blank\" href=https://colab.research.google.com/notebooks/data_table.ipynb>data table notebook</a>'\n",
              "            + ' to learn more about interactive tables.';\n",
              "          element.innerHTML = '';\n",
              "          dataTable['output_type'] = 'display_data';\n",
              "          await google.colab.output.renderOutput(dataTable, element);\n",
              "          const docLink = document.createElement('div');\n",
              "          docLink.innerHTML = docLinkHtml;\n",
              "          element.appendChild(docLink);\n",
              "        }\n",
              "      </script>\n",
              "    </div>\n",
              "  </div>\n",
              "  "
            ]
          },
          "metadata": {},
          "execution_count": 57
        }
      ],
      "source": [
        "full_events = df['event_name'].value_counts().to_frame()\n",
        "full_events\n"
      ]
    },
    {
      "cell_type": "code",
      "execution_count": 58,
      "metadata": {
        "colab": {
          "base_uri": "https://localhost:8080/",
          "height": 579
        },
        "id": "RY5wkTiwZ0u6",
        "outputId": "36ecf73e-0e21-4d5f-89cc-d8850abfaae4"
      },
      "outputs": [
        {
          "output_type": "display_data",
          "data": {
            "text/plain": [
              "<Figure size 1008x576 with 1 Axes>"
            ],
            "image/png": "[encoded data removed]"
          },
          "metadata": {}
        }
      ],
      "source": [
        "full_events.plot(kind='bar', figsize=(14,8))\n",
        "plt.title('Часто совершаемые события в приложении', fontsize=20)\n",
        "plt.gca().set(xlabel='типы событий', ylabel='количество повторений событий')\n",
        "plt.xticks(rotation=45)\n",
        "plt;"
      ]
    },
    {
      "cell_type": "markdown",
      "metadata": {
        "id": "3_Zl3gesSp0X"
      },
      "source": [
        "Количество пользователей совершавших каждое действие"
      ]
    },
    {
      "cell_type": "code",
      "execution_count": 59,
      "metadata": {
        "id": "4GKRjm-rNHhG"
      },
      "outputs": [],
      "source": [
        "def get_event_count(event_name):\n",
        "    users_count = df[df['event_name'] == event_name]['user_id'].nunique()\n",
        "    return users_count"
      ]
    },
    {
      "cell_type": "code",
      "execution_count": 60,
      "metadata": {
        "colab": {
          "base_uri": "https://localhost:8080/",
          "height": 331
        },
        "id": "QZoMUU6ONIiJ",
        "outputId": "37379698-dae8-4645-b248-b7c1c2c0dd53"
      },
      "outputs": [
        {
          "output_type": "execute_result",
          "data": {
            "text/plain": [
              "               event_name  no. of users  percent_of_events  \\\n",
              "tips_show           40055          2801              53.98   \n",
              "search               6784          1666               9.14   \n",
              "map                  3881          1456               5.23   \n",
              "photos_show         10012          1095              13.49   \n",
              "contacts_show        4529           981               6.10   \n",
              "advert_open          6164           751               8.31   \n",
              "favorites_add        1417           351               1.91   \n",
              "tips_click            814           322               1.10   \n",
              "contacts_call         541           213               0.73   \n",
              "\n",
              "               percent_of_unique_users  \n",
              "tips_show                        65.25  \n",
              "search                           38.81  \n",
              "map                              33.92  \n",
              "photos_show                      25.51  \n",
              "contacts_show                    22.85  \n",
              "advert_open                      17.49  \n",
              "favorites_add                     8.18  \n",
              "tips_click                        7.50  \n",
              "contacts_call                     4.96  "
            ],
            "text/html": [
              "\n",
              "  <div id=\"df-1426750f-3244-4cc8-a933-19012bb9605f\">\n",
              "    <div class=\"colab-df-container\">\n",
              "      <div>\n",
              "<style scoped>\n",
              "    .dataframe tbody tr th:only-of-type {\n",
              "        vertical-align: middle;\n",
              "    }\n",
              "\n",
              "    .dataframe tbody tr th {\n",
              "        vertical-align: top;\n",
              "    }\n",
              "\n",
              "    .dataframe thead th {\n",
              "        text-align: right;\n",
              "    }\n",
              "</style>\n",
              "<table border=\"1\" class=\"dataframe\">\n",
              "  <thead>\n",
              "    <tr style=\"text-align: right;\">\n",
              "      <th></th>\n",
              "      <th>event_name</th>\n",
              "      <th>no. of users</th>\n",
              "      <th>percent_of_events</th>\n",
              "      <th>percent_of_unique_users</th>\n",
              "    </tr>\n",
              "  </thead>\n",
              "  <tbody>\n",
              "    <tr>\n",
              "      <th>tips_show</th>\n",
              "      <td>40055</td>\n",
              "      <td>2801</td>\n",
              "      <td>53.98</td>\n",
              "      <td>65.25</td>\n",
              "    </tr>\n",
              "    <tr>\n",
              "      <th>search</th>\n",
              "      <td>6784</td>\n",
              "      <td>1666</td>\n",
              "      <td>9.14</td>\n",
              "      <td>38.81</td>\n",
              "    </tr>\n",
              "    <tr>\n",
              "      <th>map</th>\n",
              "      <td>3881</td>\n",
              "      <td>1456</td>\n",
              "      <td>5.23</td>\n",
              "      <td>33.92</td>\n",
              "    </tr>\n",
              "    <tr>\n",
              "      <th>photos_show</th>\n",
              "      <td>10012</td>\n",
              "      <td>1095</td>\n",
              "      <td>13.49</td>\n",
              "      <td>25.51</td>\n",
              "    </tr>\n",
              "    <tr>\n",
              "      <th>contacts_show</th>\n",
              "      <td>4529</td>\n",
              "      <td>981</td>\n",
              "      <td>6.10</td>\n",
              "      <td>22.85</td>\n",
              "    </tr>\n",
              "    <tr>\n",
              "      <th>advert_open</th>\n",
              "      <td>6164</td>\n",
              "      <td>751</td>\n",
              "      <td>8.31</td>\n",
              "      <td>17.49</td>\n",
              "    </tr>\n",
              "    <tr>\n",
              "      <th>favorites_add</th>\n",
              "      <td>1417</td>\n",
              "      <td>351</td>\n",
              "      <td>1.91</td>\n",
              "      <td>8.18</td>\n",
              "    </tr>\n",
              "    <tr>\n",
              "      <th>tips_click</th>\n",
              "      <td>814</td>\n",
              "      <td>322</td>\n",
              "      <td>1.10</td>\n",
              "      <td>7.50</td>\n",
              "    </tr>\n",
              "    <tr>\n",
              "      <th>contacts_call</th>\n",
              "      <td>541</td>\n",
              "      <td>213</td>\n",
              "      <td>0.73</td>\n",
              "      <td>4.96</td>\n",
              "    </tr>\n",
              "  </tbody>\n",
              "</table>\n",
              "</div>\n",
              "      <button class=\"colab-df-convert\" onclick=\"convertToInteractive('df-1426750f-3244-4cc8-a933-19012bb9605f')\"\n",
              "              title=\"Convert this dataframe to an interactive table.\"\n",
              "              style=\"display:none;\">\n",
              "        \n",
              "  <svg xmlns=\"http://www.w3.org/2000/svg\" height=\"24px\"viewBox=\"0 0 24 24\"\n",
              "       width=\"24px\">\n",
              "    <path d=\"M0 0h24v24H0V0z\" fill=\"none\"/>\n",
              "    <path d=\"M18.56 5.44l.94 2.06.94-2.06 2.06-.94-2.06-.94-.94-2.06-.94 2.06-2.06.94zm-11 1L8.5 8.5l.94-2.06 2.06-.94-2.06-.94L8.5 2.5l-.94 2.06-2.06.94zm10 10l.94 2.06.94-2.06 2.06-.94-2.06-.94-.94-2.06-.94 2.06-2.06.94z\"/><path d=\"M17.41 7.96l-1.37-1.37c-.4-.4-.92-.59-1.43-.59-.52 0-1.04.2-1.43.59L10.3 9.45l-7.72 7.72c-.78.78-.78 2.05 0 2.83L4 21.41c.39.39.9.59 1.41.59.51 0 1.02-.2 1.41-.59l7.78-7.78 2.81-2.81c.8-.78.8-2.07 0-2.86zM5.41 20L4 18.59l7.72-7.72 1.47 1.35L5.41 20z\"/>\n",
              "  </svg>\n",
              "      </button>\n",
              "      \n",
              "  <style>\n",
              "    .colab-df-container {\n",
              "      display:flex;\n",
              "      flex-wrap:wrap;\n",
              "      gap: 12px;\n",
              "    }\n",
              "\n",
              "    .colab-df-convert {\n",
              "      background-color: #E8F0FE;\n",
              "      border: none;\n",
              "      border-radius: 50%;\n",
              "      cursor: pointer;\n",
              "      display: none;\n",
              "      fill: #1967D2;\n",
              "      height: 32px;\n",
              "      padding: 0 0 0 0;\n",
              "      width: 32px;\n",
              "    }\n",
              "\n",
              "    .colab-df-convert:hover {\n",
              "      background-color: #E2EBFA;\n",
              "      box-shadow: 0px 1px 2px rgba(60, 64, 67, 0.3), 0px 1px 3px 1px rgba(60, 64, 67, 0.15);\n",
              "      fill: #174EA6;\n",
              "    }\n",
              "\n",
              "    [theme=dark] .colab-df-convert {\n",
              "      background-color: #3B4455;\n",
              "      fill: #D2E3FC;\n",
              "    }\n",
              "\n",
              "    [theme=dark] .colab-df-convert:hover {\n",
              "      background-color: #434B5C;\n",
              "      box-shadow: 0px 1px 3px 1px rgba(0, 0, 0, 0.15);\n",
              "      filter: drop-shadow(0px 1px 2px rgba(0, 0, 0, 0.3));\n",
              "      fill: #FFFFFF;\n",
              "    }\n",
              "  </style>\n",
              "\n",
              "      <script>\n",
              "        const buttonEl =\n",
              "          document.querySelector('#df-1426750f-3244-4cc8-a933-19012bb9605f button.colab-df-convert');\n",
              "        buttonEl.style.display =\n",
              "          google.colab.kernel.accessAllowed ? 'block' : 'none';\n",
              "\n",
              "        async function convertToInteractive(key) {\n",
              "          const element = document.querySelector('#df-1426750f-3244-4cc8-a933-19012bb9605f');\n",
              "          const dataTable =\n",
              "            await google.colab.kernel.invokeFunction('convertToInteractive',\n",
              "                                                     [key], {});\n",
              "          if (!dataTable) return;\n",
              "\n",
              "          const docLinkHtml = 'Like what you see? Visit the ' +\n",
              "            '<a target=\"_blank\" href=https://colab.research.google.com/notebooks/data_table.ipynb>data table notebook</a>'\n",
              "            + ' to learn more about interactive tables.';\n",
              "          element.innerHTML = '';\n",
              "          dataTable['output_type'] = 'display_data';\n",
              "          await google.colab.output.renderOutput(dataTable, element);\n",
              "          const docLink = document.createElement('div');\n",
              "          docLink.innerHTML = docLinkHtml;\n",
              "          element.appendChild(docLink);\n",
              "        }\n",
              "      </script>\n",
              "    </div>\n",
              "  </div>\n",
              "  "
            ]
          },
          "metadata": {},
          "execution_count": 60
        }
      ],
      "source": [
        "events_count = full_events.reset_index()\n",
        "events_count['no. of users'] = events_count['index'].apply(get_event_count)\n",
        "events_count = events_count.sort_values(by='no. of users', ascending=False)\n",
        "events_count = events_count.set_index('index')\n",
        "events_count.index.name = None\n",
        "events_count['percent_of_events'] = events_count['event_name'].apply(lambda x: round(x/full_events['event_name'].sum()*100, 2))\n",
        "events_count['percent_of_unique_users'] = events_count['no. of users'].apply(lambda x: round(x/df['user_id'].nunique()*100, 2))\n",
        "events_count"
      ]
    },
    {
      "cell_type": "markdown",
      "metadata": {
        "id": "YistHEO1aGJf"
      },
      "source": [
        "По диаграмме мы видим, что самым частоповторяющимся событием является *tips_show* (пользователь увидел рекомендованные объявления) - мы можем сделать предположение, что рекомендации для пользователя находятся на главной странице, и, открыв приложение, пользователь автоматически попадает на них.  \n",
        "\n",
        "Далее с огромным отрывом идет *photos_show* (просмотр фотографий в объявлении), хотя, следуя логике, на втором месте должен был бы идти поиск. Однако, мы видим, что *search* совсем не популярное событие. Можем сделать вывод, что кнопка поиска расположена в нашем приложении не совсем очевидно для пользователей . Они гораздо охотнее просто просматривают фото.   \n",
        "\n",
        "Затем с примерно одинаковыми показателями идут события advert_open (открытие карточки объявления), contacts_show (пользователь нажал на кнопку \"посмотреть номер телефона\" на карточке объявления), map (пользователь открыл карту размещенных объявлений). Здесь мы можем отметить, что гораздо чаще пользователи просматривают контакты, а не совершают звонки через приложение(у события contacts_call совсем небольшие показатели - очевидно, пользователи либо звонят \"по-старинке\", либо (как больше принято в последнее время) используют мессенджеры)."
      ]
    },
    {
      "cell_type": "markdown",
      "metadata": {
        "id": "iMfMCk_4kduo"
      },
      "source": [
        "### Конверсия в целевое действие — просмотр контактов"
      ]
    },
    {
      "cell_type": "markdown",
      "metadata": {
        "id": "mXStAT7YailX"
      },
      "source": [
        "Cгруппируем данные по пользователям и номеру сессии и просуммируем время, проведенное в приложении"
      ]
    },
    {
      "cell_type": "code",
      "execution_count": 61,
      "metadata": {
        "id": "fI0lwRcYdwPq"
      },
      "outputs": [],
      "source": [
        "features = df.groupby('user_id', as_index=False)\\\n",
        ".agg({'active_session':'sum', 'event_date':'count'})\\\n",
        ".rename(columns={'event_date':'visits'})"
      ]
    },
    {
      "cell_type": "code",
      "execution_count": 62,
      "metadata": {
        "colab": {
          "base_uri": "https://localhost:8080/",
          "height": 206
        },
        "id": "nCoBQXjUei9t",
        "outputId": "72f857ef-4b00-4c0a-d2d3-24246bbc345e"
      },
      "outputs": [
        {
          "output_type": "execute_result",
          "data": {
            "text/plain": [
              "                                user_id  active_session  visits\n",
              "0  0001b1d5-b74a-4cbf-aeb0-7df5947bf349 0 days 00:46:00      35\n",
              "1  00157779-810c-4498-9e05-a1e9e3cedf93 0 days 03:16:15      71\n",
              "2  00463033-5717-4bf1-91b4-09183923b9df 0 days 00:24:43      10\n",
              "3  004690c3-5a84-4bb7-a8af-e0c8f8fca64e 0 days 01:50:44      32\n",
              "4  00551e79-152e-4441-9cf7-565d7eb04090 0 days 00:09:20       8"
            ],
            "text/html": [
              "\n",
              "  <div id=\"df-bcb3c652-f651-4732-a5ba-9ca6e7cc003c\">\n",
              "    <div class=\"colab-df-container\">\n",
              "      <div>\n",
              "<style scoped>\n",
              "    .dataframe tbody tr th:only-of-type {\n",
              "        vertical-align: middle;\n",
              "    }\n",
              "\n",
              "    .dataframe tbody tr th {\n",
              "        vertical-align: top;\n",
              "    }\n",
              "\n",
              "    .dataframe thead th {\n",
              "        text-align: right;\n",
              "    }\n",
              "</style>\n",
              "<table border=\"1\" class=\"dataframe\">\n",
              "  <thead>\n",
              "    <tr style=\"text-align: right;\">\n",
              "      <th></th>\n",
              "      <th>user_id</th>\n",
              "      <th>active_session</th>\n",
              "      <th>visits</th>\n",
              "    </tr>\n",
              "  </thead>\n",
              "  <tbody>\n",
              "    <tr>\n",
              "      <th>0</th>\n",
              "      <td>0001b1d5-b74a-4cbf-aeb0-7df5947bf349</td>\n",
              "      <td>0 days 00:46:00</td>\n",
              "      <td>35</td>\n",
              "    </tr>\n",
              "    <tr>\n",
              "      <th>1</th>\n",
              "      <td>00157779-810c-4498-9e05-a1e9e3cedf93</td>\n",
              "      <td>0 days 03:16:15</td>\n",
              "      <td>71</td>\n",
              "    </tr>\n",
              "    <tr>\n",
              "      <th>2</th>\n",
              "      <td>00463033-5717-4bf1-91b4-09183923b9df</td>\n",
              "      <td>0 days 00:24:43</td>\n",
              "      <td>10</td>\n",
              "    </tr>\n",
              "    <tr>\n",
              "      <th>3</th>\n",
              "      <td>004690c3-5a84-4bb7-a8af-e0c8f8fca64e</td>\n",
              "      <td>0 days 01:50:44</td>\n",
              "      <td>32</td>\n",
              "    </tr>\n",
              "    <tr>\n",
              "      <th>4</th>\n",
              "      <td>00551e79-152e-4441-9cf7-565d7eb04090</td>\n",
              "      <td>0 days 00:09:20</td>\n",
              "      <td>8</td>\n",
              "    </tr>\n",
              "  </tbody>\n",
              "</table>\n",
              "</div>\n",
              "      <button class=\"colab-df-convert\" onclick=\"convertToInteractive('df-bcb3c652-f651-4732-a5ba-9ca6e7cc003c')\"\n",
              "              title=\"Convert this dataframe to an interactive table.\"\n",
              "              style=\"display:none;\">\n",
              "        \n",
              "  <svg xmlns=\"http://www.w3.org/2000/svg\" height=\"24px\"viewBox=\"0 0 24 24\"\n",
              "       width=\"24px\">\n",
              "    <path d=\"M0 0h24v24H0V0z\" fill=\"none\"/>\n",
              "    <path d=\"M18.56 5.44l.94 2.06.94-2.06 2.06-.94-2.06-.94-.94-2.06-.94 2.06-2.06.94zm-11 1L8.5 8.5l.94-2.06 2.06-.94-2.06-.94L8.5 2.5l-.94 2.06-2.06.94zm10 10l.94 2.06.94-2.06 2.06-.94-2.06-.94-.94-2.06-.94 2.06-2.06.94z\"/><path d=\"M17.41 7.96l-1.37-1.37c-.4-.4-.92-.59-1.43-.59-.52 0-1.04.2-1.43.59L10.3 9.45l-7.72 7.72c-.78.78-.78 2.05 0 2.83L4 21.41c.39.39.9.59 1.41.59.51 0 1.02-.2 1.41-.59l7.78-7.78 2.81-2.81c.8-.78.8-2.07 0-2.86zM5.41 20L4 18.59l7.72-7.72 1.47 1.35L5.41 20z\"/>\n",
              "  </svg>\n",
              "      </button>\n",
              "      \n",
              "  <style>\n",
              "    .colab-df-container {\n",
              "      display:flex;\n",
              "      flex-wrap:wrap;\n",
              "      gap: 12px;\n",
              "    }\n",
              "\n",
              "    .colab-df-convert {\n",
              "      background-color: #E8F0FE;\n",
              "      border: none;\n",
              "      border-radius: 50%;\n",
              "      cursor: pointer;\n",
              "      display: none;\n",
              "      fill: #1967D2;\n",
              "      height: 32px;\n",
              "      padding: 0 0 0 0;\n",
              "      width: 32px;\n",
              "    }\n",
              "\n",
              "    .colab-df-convert:hover {\n",
              "      background-color: #E2EBFA;\n",
              "      box-shadow: 0px 1px 2px rgba(60, 64, 67, 0.3), 0px 1px 3px 1px rgba(60, 64, 67, 0.15);\n",
              "      fill: #174EA6;\n",
              "    }\n",
              "\n",
              "    [theme=dark] .colab-df-convert {\n",
              "      background-color: #3B4455;\n",
              "      fill: #D2E3FC;\n",
              "    }\n",
              "\n",
              "    [theme=dark] .colab-df-convert:hover {\n",
              "      background-color: #434B5C;\n",
              "      box-shadow: 0px 1px 3px 1px rgba(0, 0, 0, 0.15);\n",
              "      filter: drop-shadow(0px 1px 2px rgba(0, 0, 0, 0.3));\n",
              "      fill: #FFFFFF;\n",
              "    }\n",
              "  </style>\n",
              "\n",
              "      <script>\n",
              "        const buttonEl =\n",
              "          document.querySelector('#df-bcb3c652-f651-4732-a5ba-9ca6e7cc003c button.colab-df-convert');\n",
              "        buttonEl.style.display =\n",
              "          google.colab.kernel.accessAllowed ? 'block' : 'none';\n",
              "\n",
              "        async function convertToInteractive(key) {\n",
              "          const element = document.querySelector('#df-bcb3c652-f651-4732-a5ba-9ca6e7cc003c');\n",
              "          const dataTable =\n",
              "            await google.colab.kernel.invokeFunction('convertToInteractive',\n",
              "                                                     [key], {});\n",
              "          if (!dataTable) return;\n",
              "\n",
              "          const docLinkHtml = 'Like what you see? Visit the ' +\n",
              "            '<a target=\"_blank\" href=https://colab.research.google.com/notebooks/data_table.ipynb>data table notebook</a>'\n",
              "            + ' to learn more about interactive tables.';\n",
              "          element.innerHTML = '';\n",
              "          dataTable['output_type'] = 'display_data';\n",
              "          await google.colab.output.renderOutput(dataTable, element);\n",
              "          const docLink = document.createElement('div');\n",
              "          docLink.innerHTML = docLinkHtml;\n",
              "          element.appendChild(docLink);\n",
              "        }\n",
              "      </script>\n",
              "    </div>\n",
              "  </div>\n",
              "  "
            ]
          },
          "metadata": {},
          "execution_count": 62
        }
      ],
      "source": [
        "features.head()"
      ]
    },
    {
      "cell_type": "markdown",
      "metadata": {
        "id": "abH2W0WFewdD"
      },
      "source": [
        "посчитаем, сколько раз пользователи совершили целевое действие - просмотр контактов"
      ]
    },
    {
      "cell_type": "code",
      "execution_count": 63,
      "metadata": {
        "id": "DFnJmy-SevLZ"
      },
      "outputs": [],
      "source": [
        "conversion = df.query('event_name==\"contacts_show\"')\\\n",
        ".groupby('user_id', as_index=False)\\\n",
        ".agg({'event_name':'count'})\\\n",
        ".rename(columns={'event_name':'conversions'})"
      ]
    },
    {
      "cell_type": "code",
      "execution_count": 64,
      "metadata": {
        "colab": {
          "base_uri": "https://localhost:8080/",
          "height": 423
        },
        "id": "Le8zQlbjHwTM",
        "outputId": "2561026c-0fd7-4593-f906-e57aa2d0a55d"
      },
      "outputs": [
        {
          "output_type": "execute_result",
          "data": {
            "text/plain": [
              "                                  user_id  conversions\n",
              "0    00157779-810c-4498-9e05-a1e9e3cedf93           11\n",
              "1    00551e79-152e-4441-9cf7-565d7eb04090            3\n",
              "2    005fbea5-2678-406f-88a6-fbe9787e2268            3\n",
              "3    00753c79-ea81-4456-acd0-a47a23ca2fb9            1\n",
              "4    007d031d-5018-4e02-b7ee-72a30609173f            2\n",
              "..                                    ...          ...\n",
              "976  fee3ba1c-16f4-46f7-bf56-4bf80cc4e2f5           17\n",
              "977  ff1554b5-919e-40b1-90bb-ee1f7f6d5846            1\n",
              "978  ffc01466-fdb1-4460-ae94-e800f52eb136            1\n",
              "979  ffe68f10-e48e-470e-be9b-eeb93128ff1a            1\n",
              "980  fffb9e79-b927-4dbb-9b48-7fd09b23a62b           68\n",
              "\n",
              "[981 rows x 2 columns]"
            ],
            "text/html": [
              "\n",
              "  <div id=\"df-a8fa1659-cc64-4e3e-9bac-c4f0490c8f53\">\n",
              "    <div class=\"colab-df-container\">\n",
              "      <div>\n",
              "<style scoped>\n",
              "    .dataframe tbody tr th:only-of-type {\n",
              "        vertical-align: middle;\n",
              "    }\n",
              "\n",
              "    .dataframe tbody tr th {\n",
              "        vertical-align: top;\n",
              "    }\n",
              "\n",
              "    .dataframe thead th {\n",
              "        text-align: right;\n",
              "    }\n",
              "</style>\n",
              "<table border=\"1\" class=\"dataframe\">\n",
              "  <thead>\n",
              "    <tr style=\"text-align: right;\">\n",
              "      <th></th>\n",
              "      <th>user_id</th>\n",
              "      <th>conversions</th>\n",
              "    </tr>\n",
              "  </thead>\n",
              "  <tbody>\n",
              "    <tr>\n",
              "      <th>0</th>\n",
              "      <td>00157779-810c-4498-9e05-a1e9e3cedf93</td>\n",
              "      <td>11</td>\n",
              "    </tr>\n",
              "    <tr>\n",
              "      <th>1</th>\n",
              "      <td>00551e79-152e-4441-9cf7-565d7eb04090</td>\n",
              "      <td>3</td>\n",
              "    </tr>\n",
              "    <tr>\n",
              "      <th>2</th>\n",
              "      <td>005fbea5-2678-406f-88a6-fbe9787e2268</td>\n",
              "      <td>3</td>\n",
              "    </tr>\n",
              "    <tr>\n",
              "      <th>3</th>\n",
              "      <td>00753c79-ea81-4456-acd0-a47a23ca2fb9</td>\n",
              "      <td>1</td>\n",
              "    </tr>\n",
              "    <tr>\n",
              "      <th>4</th>\n",
              "      <td>007d031d-5018-4e02-b7ee-72a30609173f</td>\n",
              "      <td>2</td>\n",
              "    </tr>\n",
              "    <tr>\n",
              "      <th>...</th>\n",
              "      <td>...</td>\n",
              "      <td>...</td>\n",
              "    </tr>\n",
              "    <tr>\n",
              "      <th>976</th>\n",
              "      <td>fee3ba1c-16f4-46f7-bf56-4bf80cc4e2f5</td>\n",
              "      <td>17</td>\n",
              "    </tr>\n",
              "    <tr>\n",
              "      <th>977</th>\n",
              "      <td>ff1554b5-919e-40b1-90bb-ee1f7f6d5846</td>\n",
              "      <td>1</td>\n",
              "    </tr>\n",
              "    <tr>\n",
              "      <th>978</th>\n",
              "      <td>ffc01466-fdb1-4460-ae94-e800f52eb136</td>\n",
              "      <td>1</td>\n",
              "    </tr>\n",
              "    <tr>\n",
              "      <th>979</th>\n",
              "      <td>ffe68f10-e48e-470e-be9b-eeb93128ff1a</td>\n",
              "      <td>1</td>\n",
              "    </tr>\n",
              "    <tr>\n",
              "      <th>980</th>\n",
              "      <td>fffb9e79-b927-4dbb-9b48-7fd09b23a62b</td>\n",
              "      <td>68</td>\n",
              "    </tr>\n",
              "  </tbody>\n",
              "</table>\n",
              "<p>981 rows × 2 columns</p>\n",
              "</div>\n",
              "      <button class=\"colab-df-convert\" onclick=\"convertToInteractive('df-a8fa1659-cc64-4e3e-9bac-c4f0490c8f53')\"\n",
              "              title=\"Convert this dataframe to an interactive table.\"\n",
              "              style=\"display:none;\">\n",
              "        \n",
              "  <svg xmlns=\"http://www.w3.org/2000/svg\" height=\"24px\"viewBox=\"0 0 24 24\"\n",
              "       width=\"24px\">\n",
              "    <path d=\"M0 0h24v24H0V0z\" fill=\"none\"/>\n",
              "    <path d=\"M18.56 5.44l.94 2.06.94-2.06 2.06-.94-2.06-.94-.94-2.06-.94 2.06-2.06.94zm-11 1L8.5 8.5l.94-2.06 2.06-.94-2.06-.94L8.5 2.5l-.94 2.06-2.06.94zm10 10l.94 2.06.94-2.06 2.06-.94-2.06-.94-.94-2.06-.94 2.06-2.06.94z\"/><path d=\"M17.41 7.96l-1.37-1.37c-.4-.4-.92-.59-1.43-.59-.52 0-1.04.2-1.43.59L10.3 9.45l-7.72 7.72c-.78.78-.78 2.05 0 2.83L4 21.41c.39.39.9.59 1.41.59.51 0 1.02-.2 1.41-.59l7.78-7.78 2.81-2.81c.8-.78.8-2.07 0-2.86zM5.41 20L4 18.59l7.72-7.72 1.47 1.35L5.41 20z\"/>\n",
              "  </svg>\n",
              "      </button>\n",
              "      \n",
              "  <style>\n",
              "    .colab-df-container {\n",
              "      display:flex;\n",
              "      flex-wrap:wrap;\n",
              "      gap: 12px;\n",
              "    }\n",
              "\n",
              "    .colab-df-convert {\n",
              "      background-color: #E8F0FE;\n",
              "      border: none;\n",
              "      border-radius: 50%;\n",
              "      cursor: pointer;\n",
              "      display: none;\n",
              "      fill: #1967D2;\n",
              "      height: 32px;\n",
              "      padding: 0 0 0 0;\n",
              "      width: 32px;\n",
              "    }\n",
              "\n",
              "    .colab-df-convert:hover {\n",
              "      background-color: #E2EBFA;\n",
              "      box-shadow: 0px 1px 2px rgba(60, 64, 67, 0.3), 0px 1px 3px 1px rgba(60, 64, 67, 0.15);\n",
              "      fill: #174EA6;\n",
              "    }\n",
              "\n",
              "    [theme=dark] .colab-df-convert {\n",
              "      background-color: #3B4455;\n",
              "      fill: #D2E3FC;\n",
              "    }\n",
              "\n",
              "    [theme=dark] .colab-df-convert:hover {\n",
              "      background-color: #434B5C;\n",
              "      box-shadow: 0px 1px 3px 1px rgba(0, 0, 0, 0.15);\n",
              "      filter: drop-shadow(0px 1px 2px rgba(0, 0, 0, 0.3));\n",
              "      fill: #FFFFFF;\n",
              "    }\n",
              "  </style>\n",
              "\n",
              "      <script>\n",
              "        const buttonEl =\n",
              "          document.querySelector('#df-a8fa1659-cc64-4e3e-9bac-c4f0490c8f53 button.colab-df-convert');\n",
              "        buttonEl.style.display =\n",
              "          google.colab.kernel.accessAllowed ? 'block' : 'none';\n",
              "\n",
              "        async function convertToInteractive(key) {\n",
              "          const element = document.querySelector('#df-a8fa1659-cc64-4e3e-9bac-c4f0490c8f53');\n",
              "          const dataTable =\n",
              "            await google.colab.kernel.invokeFunction('convertToInteractive',\n",
              "                                                     [key], {});\n",
              "          if (!dataTable) return;\n",
              "\n",
              "          const docLinkHtml = 'Like what you see? Visit the ' +\n",
              "            '<a target=\"_blank\" href=https://colab.research.google.com/notebooks/data_table.ipynb>data table notebook</a>'\n",
              "            + ' to learn more about interactive tables.';\n",
              "          element.innerHTML = '';\n",
              "          dataTable['output_type'] = 'display_data';\n",
              "          await google.colab.output.renderOutput(dataTable, element);\n",
              "          const docLink = document.createElement('div');\n",
              "          docLink.innerHTML = docLinkHtml;\n",
              "          element.appendChild(docLink);\n",
              "        }\n",
              "      </script>\n",
              "    </div>\n",
              "  </div>\n",
              "  "
            ]
          },
          "metadata": {},
          "execution_count": 64
        }
      ],
      "source": [
        "conversion"
      ]
    },
    {
      "cell_type": "markdown",
      "metadata": {
        "id": "FPLRqBZPe7G0"
      },
      "source": [
        "добавим столбец conversions в датасет с признаками"
      ]
    },
    {
      "cell_type": "code",
      "execution_count": 65,
      "metadata": {
        "id": "Uxpdvzxxez_r"
      },
      "outputs": [],
      "source": [
        "features = pd.merge(features, conversion, on='user_id', how='left')"
      ]
    },
    {
      "cell_type": "markdown",
      "metadata": {
        "id": "I8haZ-fXe-S3"
      },
      "source": [
        "заменим пропуски нулями"
      ]
    },
    {
      "cell_type": "code",
      "execution_count": 66,
      "metadata": {
        "id": "A-lsQeS0e4tj"
      },
      "outputs": [],
      "source": [
        "features['conversions'] = features['conversions'].fillna(0)"
      ]
    },
    {
      "cell_type": "code",
      "execution_count": 67,
      "metadata": {
        "colab": {
          "base_uri": "https://localhost:8080/",
          "height": 363
        },
        "id": "i3dOLgSgfKGA",
        "outputId": "f6066cb9-e1af-4706-ea20-811adc990a1c"
      },
      "outputs": [
        {
          "output_type": "execute_result",
          "data": {
            "text/plain": [
              "                                   user_id  active_session  visits  \\\n",
              "3651  d96a250b-ac54-403e-bb52-983bd8348102 0 days 00:01:40       6   \n",
              "3340  c83d8f7c-3b43-495c-94db-3aac32dbed98 0 days 00:24:25      13   \n",
              "21    01147bf8-cd48-49c0-a5af-3f6eb45f8262 0 days 01:09:08      30   \n",
              "2729  a2f36a4e-4aad-40b4-90cf-ebbbd082aa21 0 days 00:09:05       5   \n",
              "4     00551e79-152e-4441-9cf7-565d7eb04090 0 days 00:09:20       8   \n",
              "3246  c2a65ac2-331d-4fdc-9dc8-2a0f8a0a3a1a 0 days 00:09:47       9   \n",
              "2120  7ee78f44-7358-43e1-9167-16f2906e1a95 0 days 00:03:35       7   \n",
              "3144  bd3b51d0-02a3-4618-94cc-0af259d79e11 0 days 00:03:52       3   \n",
              "1817  6d3c4c44-7cd6-4d56-ade6-7b8714688c92 0 days 00:02:48       6   \n",
              "3196  bff5c186-8d63-4bcd-baac-7f4dca0c2b4b 0 days 00:16:05       4   \n",
              "\n",
              "      conversions  \n",
              "3651         0.00  \n",
              "3340         0.00  \n",
              "21           0.00  \n",
              "2729         0.00  \n",
              "4            3.00  \n",
              "3246         2.00  \n",
              "2120         0.00  \n",
              "3144         0.00  \n",
              "1817         0.00  \n",
              "3196         0.00  "
            ],
            "text/html": [
              "\n",
              "  <div id=\"df-d49592a8-8ea0-4dcc-839a-b60fc2e1fac9\">\n",
              "    <div class=\"colab-df-container\">\n",
              "      <div>\n",
              "<style scoped>\n",
              "    .dataframe tbody tr th:only-of-type {\n",
              "        vertical-align: middle;\n",
              "    }\n",
              "\n",
              "    .dataframe tbody tr th {\n",
              "        vertical-align: top;\n",
              "    }\n",
              "\n",
              "    .dataframe thead th {\n",
              "        text-align: right;\n",
              "    }\n",
              "</style>\n",
              "<table border=\"1\" class=\"dataframe\">\n",
              "  <thead>\n",
              "    <tr style=\"text-align: right;\">\n",
              "      <th></th>\n",
              "      <th>user_id</th>\n",
              "      <th>active_session</th>\n",
              "      <th>visits</th>\n",
              "      <th>conversions</th>\n",
              "    </tr>\n",
              "  </thead>\n",
              "  <tbody>\n",
              "    <tr>\n",
              "      <th>3651</th>\n",
              "      <td>d96a250b-ac54-403e-bb52-983bd8348102</td>\n",
              "      <td>0 days 00:01:40</td>\n",
              "      <td>6</td>\n",
              "      <td>0.00</td>\n",
              "    </tr>\n",
              "    <tr>\n",
              "      <th>3340</th>\n",
              "      <td>c83d8f7c-3b43-495c-94db-3aac32dbed98</td>\n",
              "      <td>0 days 00:24:25</td>\n",
              "      <td>13</td>\n",
              "      <td>0.00</td>\n",
              "    </tr>\n",
              "    <tr>\n",
              "      <th>21</th>\n",
              "      <td>01147bf8-cd48-49c0-a5af-3f6eb45f8262</td>\n",
              "      <td>0 days 01:09:08</td>\n",
              "      <td>30</td>\n",
              "      <td>0.00</td>\n",
              "    </tr>\n",
              "    <tr>\n",
              "      <th>2729</th>\n",
              "      <td>a2f36a4e-4aad-40b4-90cf-ebbbd082aa21</td>\n",
              "      <td>0 days 00:09:05</td>\n",
              "      <td>5</td>\n",
              "      <td>0.00</td>\n",
              "    </tr>\n",
              "    <tr>\n",
              "      <th>4</th>\n",
              "      <td>00551e79-152e-4441-9cf7-565d7eb04090</td>\n",
              "      <td>0 days 00:09:20</td>\n",
              "      <td>8</td>\n",
              "      <td>3.00</td>\n",
              "    </tr>\n",
              "    <tr>\n",
              "      <th>3246</th>\n",
              "      <td>c2a65ac2-331d-4fdc-9dc8-2a0f8a0a3a1a</td>\n",
              "      <td>0 days 00:09:47</td>\n",
              "      <td>9</td>\n",
              "      <td>2.00</td>\n",
              "    </tr>\n",
              "    <tr>\n",
              "      <th>2120</th>\n",
              "      <td>7ee78f44-7358-43e1-9167-16f2906e1a95</td>\n",
              "      <td>0 days 00:03:35</td>\n",
              "      <td>7</td>\n",
              "      <td>0.00</td>\n",
              "    </tr>\n",
              "    <tr>\n",
              "      <th>3144</th>\n",
              "      <td>bd3b51d0-02a3-4618-94cc-0af259d79e11</td>\n",
              "      <td>0 days 00:03:52</td>\n",
              "      <td>3</td>\n",
              "      <td>0.00</td>\n",
              "    </tr>\n",
              "    <tr>\n",
              "      <th>1817</th>\n",
              "      <td>6d3c4c44-7cd6-4d56-ade6-7b8714688c92</td>\n",
              "      <td>0 days 00:02:48</td>\n",
              "      <td>6</td>\n",
              "      <td>0.00</td>\n",
              "    </tr>\n",
              "    <tr>\n",
              "      <th>3196</th>\n",
              "      <td>bff5c186-8d63-4bcd-baac-7f4dca0c2b4b</td>\n",
              "      <td>0 days 00:16:05</td>\n",
              "      <td>4</td>\n",
              "      <td>0.00</td>\n",
              "    </tr>\n",
              "  </tbody>\n",
              "</table>\n",
              "</div>\n",
              "      <button class=\"colab-df-convert\" onclick=\"convertToInteractive('df-d49592a8-8ea0-4dcc-839a-b60fc2e1fac9')\"\n",
              "              title=\"Convert this dataframe to an interactive table.\"\n",
              "              style=\"display:none;\">\n",
              "        \n",
              "  <svg xmlns=\"http://www.w3.org/2000/svg\" height=\"24px\"viewBox=\"0 0 24 24\"\n",
              "       width=\"24px\">\n",
              "    <path d=\"M0 0h24v24H0V0z\" fill=\"none\"/>\n",
              "    <path d=\"M18.56 5.44l.94 2.06.94-2.06 2.06-.94-2.06-.94-.94-2.06-.94 2.06-2.06.94zm-11 1L8.5 8.5l.94-2.06 2.06-.94-2.06-.94L8.5 2.5l-.94 2.06-2.06.94zm10 10l.94 2.06.94-2.06 2.06-.94-2.06-.94-.94-2.06-.94 2.06-2.06.94z\"/><path d=\"M17.41 7.96l-1.37-1.37c-.4-.4-.92-.59-1.43-.59-.52 0-1.04.2-1.43.59L10.3 9.45l-7.72 7.72c-.78.78-.78 2.05 0 2.83L4 21.41c.39.39.9.59 1.41.59.51 0 1.02-.2 1.41-.59l7.78-7.78 2.81-2.81c.8-.78.8-2.07 0-2.86zM5.41 20L4 18.59l7.72-7.72 1.47 1.35L5.41 20z\"/>\n",
              "  </svg>\n",
              "      </button>\n",
              "      \n",
              "  <style>\n",
              "    .colab-df-container {\n",
              "      display:flex;\n",
              "      flex-wrap:wrap;\n",
              "      gap: 12px;\n",
              "    }\n",
              "\n",
              "    .colab-df-convert {\n",
              "      background-color: #E8F0FE;\n",
              "      border: none;\n",
              "      border-radius: 50%;\n",
              "      cursor: pointer;\n",
              "      display: none;\n",
              "      fill: #1967D2;\n",
              "      height: 32px;\n",
              "      padding: 0 0 0 0;\n",
              "      width: 32px;\n",
              "    }\n",
              "\n",
              "    .colab-df-convert:hover {\n",
              "      background-color: #E2EBFA;\n",
              "      box-shadow: 0px 1px 2px rgba(60, 64, 67, 0.3), 0px 1px 3px 1px rgba(60, 64, 67, 0.15);\n",
              "      fill: #174EA6;\n",
              "    }\n",
              "\n",
              "    [theme=dark] .colab-df-convert {\n",
              "      background-color: #3B4455;\n",
              "      fill: #D2E3FC;\n",
              "    }\n",
              "\n",
              "    [theme=dark] .colab-df-convert:hover {\n",
              "      background-color: #434B5C;\n",
              "      box-shadow: 0px 1px 3px 1px rgba(0, 0, 0, 0.15);\n",
              "      filter: drop-shadow(0px 1px 2px rgba(0, 0, 0, 0.3));\n",
              "      fill: #FFFFFF;\n",
              "    }\n",
              "  </style>\n",
              "\n",
              "      <script>\n",
              "        const buttonEl =\n",
              "          document.querySelector('#df-d49592a8-8ea0-4dcc-839a-b60fc2e1fac9 button.colab-df-convert');\n",
              "        buttonEl.style.display =\n",
              "          google.colab.kernel.accessAllowed ? 'block' : 'none';\n",
              "\n",
              "        async function convertToInteractive(key) {\n",
              "          const element = document.querySelector('#df-d49592a8-8ea0-4dcc-839a-b60fc2e1fac9');\n",
              "          const dataTable =\n",
              "            await google.colab.kernel.invokeFunction('convertToInteractive',\n",
              "                                                     [key], {});\n",
              "          if (!dataTable) return;\n",
              "\n",
              "          const docLinkHtml = 'Like what you see? Visit the ' +\n",
              "            '<a target=\"_blank\" href=https://colab.research.google.com/notebooks/data_table.ipynb>data table notebook</a>'\n",
              "            + ' to learn more about interactive tables.';\n",
              "          element.innerHTML = '';\n",
              "          dataTable['output_type'] = 'display_data';\n",
              "          await google.colab.output.renderOutput(dataTable, element);\n",
              "          const docLink = document.createElement('div');\n",
              "          docLink.innerHTML = docLinkHtml;\n",
              "          element.appendChild(docLink);\n",
              "        }\n",
              "      </script>\n",
              "    </div>\n",
              "  </div>\n",
              "  "
            ]
          },
          "metadata": {},
          "execution_count": 67
        }
      ],
      "source": [
        "features.sample(10)"
      ]
    },
    {
      "cell_type": "markdown",
      "metadata": {
        "id": "7RhH55aJjX2_"
      },
      "source": [
        "Построим график количества конверсий в просмотр контакта"
      ]
    },
    {
      "cell_type": "code",
      "execution_count": 68,
      "metadata": {
        "colab": {
          "base_uri": "https://localhost:8080/",
          "height": 536
        },
        "id": "IwZq87sVfuMg",
        "outputId": "83575016-1fdf-4996-fa1a-d29cda50dd67"
      },
      "outputs": [
        {
          "output_type": "display_data",
          "data": {
            "text/plain": [
              "<Figure size 1080x576 with 1 Axes>"
            ],
            "image/png": "[encoded data removed]"
          },
          "metadata": {}
        },
        {
          "output_type": "stream",
          "name": "stdout",
          "text": [
            "[ 2.  5. 15.]\n"
          ]
        }
      ],
      "source": [
        "plt.figure(figsize=(15, 8))\n",
        "sns.histplot(features['conversions'], bins=100)\n",
        "plt.title('Количество конверсий в целевое действие — просмотр контактов')\n",
        "plt.xlabel('Количество конверсий')\n",
        "plt.ylabel('Количество пользователей')\n",
        "plt.xlim(0, 50)\n",
        "plt.show()\n",
        "print(np.percentile(features['conversions'], [90, 95, 99]))\n"
      ]
    },
    {
      "cell_type": "markdown",
      "metadata": {
        "id": "HFlHRzKNjia5"
      },
      "source": [
        "На каждого пользователя приходится от одной до 5 сессий;  \n",
        "Большая часть пользователей не совершает целевое действие - просмотр контактов."
      ]
    },
    {
      "cell_type": "markdown",
      "metadata": {
        "id": "W-NIKEX2bbu0"
      },
      "source": [
        "Чтобы вычислить конверсию в действие contacts_show, отфильтруем основной датафрейм (с помощью метода query) по интересующему нас действию. Затем найдем количество уникальных пользователей в отфильтрованной таблице и разделим количество уникальных пользователей из отфильтрованной таблицы contacts_show_df на количество уникальных пользователей из основной таблицы и умножим на 100"
      ]
    },
    {
      "cell_type": "code",
      "execution_count": 69,
      "metadata": {
        "id": "xy5AWu5GLfZJ"
      },
      "outputs": [],
      "source": [
        "contacts_show_df = df.query('event_name == \"contacts_show\"')"
      ]
    },
    {
      "cell_type": "code",
      "execution_count": 70,
      "metadata": {
        "colab": {
          "base_uri": "https://localhost:8080/"
        },
        "id": "X6-AOnmObXu-",
        "outputId": "84942d65-faaf-4ed3-ce4e-59bfadf79fda"
      },
      "outputs": [
        {
          "output_type": "execute_result",
          "data": {
            "text/plain": [
              "981"
            ]
          },
          "metadata": {},
          "execution_count": 70
        }
      ],
      "source": [
        "contacts_show_df['user_id'].nunique()"
      ]
    },
    {
      "cell_type": "code",
      "execution_count": 71,
      "metadata": {
        "colab": {
          "base_uri": "https://localhost:8080/"
        },
        "id": "LMe4wFYdbdQe",
        "outputId": "7f875b7e-3309-49d0-aadc-aa1280c06f62"
      },
      "outputs": [
        {
          "output_type": "execute_result",
          "data": {
            "text/plain": [
              "22.851153039832283"
            ]
          },
          "metadata": {},
          "execution_count": 71
        }
      ],
      "source": [
        "(contacts_show_df['user_id'].nunique() / df['user_id'].nunique()) * 100"
      ]
    },
    {
      "cell_type": "markdown",
      "metadata": {
        "id": "qPwgPjZ-bxW8"
      },
      "source": [
        "### Вывод\n",
        "По приблизительной логике действий (зашел в приложение - открыл объявление - посмотрел фото - посмотрел контакты - совершил звонок) событие contacts_show можно посчитать одним из финальных шагов пользователя в приложении. По нашим расчетам до этого события доходят ~23% пользователей.\n",
        "\n",
        "77% - достаточно большой отток от общего количества пришедших к нам пользователей. Этому может быть несколько причин:\n",
        "\n",
        "пользователь \"теряется\" в большом количестве рекомендаций - в длинной ленте объявлений пользователь может надолго \"зависнуть\" и отложить целенаправленный поиск и, соответственно, отклик на объявление;\n",
        "\n",
        "управление приложением не достаточно интуитивно - возможно, путь пользователя в приложении более \"тернист\", чем кажется, и стоит подумать над его упрощением."
      ]
    },
    {
      "cell_type": "markdown",
      "metadata": {
        "id": "uQph2qs5zSLO"
      },
      "source": [
        "### Воронки событий"
      ]
    },
    {
      "cell_type": "code",
      "execution_count": 72,
      "metadata": {
        "id": "mHhyJPqmzhG2"
      },
      "outputs": [],
      "source": [
        "users = df.pivot_table(index=['user_id', 'event_date'], \n",
        "                         columns='event_name', \n",
        "                         values='event_time',\n",
        "                         aggfunc='min')"
      ]
    },
    {
      "cell_type": "code",
      "execution_count": 73,
      "metadata": {
        "colab": {
          "base_uri": "https://localhost:8080/",
          "height": 394
        },
        "id": "_I3oSKxEuUDF",
        "outputId": "f4c30817-6f90-4ef7-f7a0-0577055955d4"
      },
      "outputs": [
        {
          "output_type": "execute_result",
          "data": {
            "text/plain": [
              "event_name                                              advert_open  \\\n",
              "user_id                              event_date                       \n",
              "b316f8b4-89ad-4252-9127-8801f0dd98ba 2019-10-28                 NaT   \n",
              "f4f475e8-6fd4-47b1-b1e0-f88a69a13596 2019-10-31                 NaT   \n",
              "f82065ff-e9fc-4873-b4c2-e219d2079f83 2019-11-02                 NaT   \n",
              "20436f39-6741-4e02-97a3-24899593b549 2019-10-30                 NaT   \n",
              "97f41142-0d22-4bb2-9f22-8c7659d8d0de 2019-10-25                 NaT   \n",
              "cbc08300-e2fd-4f2e-b950-e46276d80f37 2019-10-25 2019-10-25 13:13:16   \n",
              "27a94447-2ca7-473f-b415-6bfeb48d131a 2019-10-10                 NaT   \n",
              "19455547-8608-4ea8-abc1-a3db1ec45f2a 2019-10-24                 NaT   \n",
              "25069cad-0d00-48cb-a627-0871a877307e 2019-10-24                 NaT   \n",
              "7db26778-a2fb-417a-83f4-03b4bb32e068 2019-10-27                 NaT   \n",
              "\n",
              "event_name                                      contacts_call  \\\n",
              "user_id                              event_date                 \n",
              "b316f8b4-89ad-4252-9127-8801f0dd98ba 2019-10-28           NaT   \n",
              "f4f475e8-6fd4-47b1-b1e0-f88a69a13596 2019-10-31           NaT   \n",
              "f82065ff-e9fc-4873-b4c2-e219d2079f83 2019-11-02           NaT   \n",
              "20436f39-6741-4e02-97a3-24899593b549 2019-10-30           NaT   \n",
              "97f41142-0d22-4bb2-9f22-8c7659d8d0de 2019-10-25           NaT   \n",
              "cbc08300-e2fd-4f2e-b950-e46276d80f37 2019-10-25           NaT   \n",
              "27a94447-2ca7-473f-b415-6bfeb48d131a 2019-10-10           NaT   \n",
              "19455547-8608-4ea8-abc1-a3db1ec45f2a 2019-10-24           NaT   \n",
              "25069cad-0d00-48cb-a627-0871a877307e 2019-10-24           NaT   \n",
              "7db26778-a2fb-417a-83f4-03b4bb32e068 2019-10-27           NaT   \n",
              "\n",
              "event_name                                            contacts_show  \\\n",
              "user_id                              event_date                       \n",
              "b316f8b4-89ad-4252-9127-8801f0dd98ba 2019-10-28                 NaT   \n",
              "f4f475e8-6fd4-47b1-b1e0-f88a69a13596 2019-10-31                 NaT   \n",
              "f82065ff-e9fc-4873-b4c2-e219d2079f83 2019-11-02                 NaT   \n",
              "20436f39-6741-4e02-97a3-24899593b549 2019-10-30 2019-10-30 20:12:29   \n",
              "97f41142-0d22-4bb2-9f22-8c7659d8d0de 2019-10-25 2019-10-25 22:50:18   \n",
              "cbc08300-e2fd-4f2e-b950-e46276d80f37 2019-10-25                 NaT   \n",
              "27a94447-2ca7-473f-b415-6bfeb48d131a 2019-10-10                 NaT   \n",
              "19455547-8608-4ea8-abc1-a3db1ec45f2a 2019-10-24                 NaT   \n",
              "25069cad-0d00-48cb-a627-0871a877307e 2019-10-24                 NaT   \n",
              "7db26778-a2fb-417a-83f4-03b4bb32e068 2019-10-27                 NaT   \n",
              "\n",
              "event_name                                      favorites_add  \\\n",
              "user_id                              event_date                 \n",
              "b316f8b4-89ad-4252-9127-8801f0dd98ba 2019-10-28           NaT   \n",
              "f4f475e8-6fd4-47b1-b1e0-f88a69a13596 2019-10-31           NaT   \n",
              "f82065ff-e9fc-4873-b4c2-e219d2079f83 2019-11-02           NaT   \n",
              "20436f39-6741-4e02-97a3-24899593b549 2019-10-30           NaT   \n",
              "97f41142-0d22-4bb2-9f22-8c7659d8d0de 2019-10-25           NaT   \n",
              "cbc08300-e2fd-4f2e-b950-e46276d80f37 2019-10-25           NaT   \n",
              "27a94447-2ca7-473f-b415-6bfeb48d131a 2019-10-10           NaT   \n",
              "19455547-8608-4ea8-abc1-a3db1ec45f2a 2019-10-24           NaT   \n",
              "25069cad-0d00-48cb-a627-0871a877307e 2019-10-24           NaT   \n",
              "7db26778-a2fb-417a-83f4-03b4bb32e068 2019-10-27           NaT   \n",
              "\n",
              "event_name                                                      map  \\\n",
              "user_id                              event_date                       \n",
              "b316f8b4-89ad-4252-9127-8801f0dd98ba 2019-10-28                 NaT   \n",
              "f4f475e8-6fd4-47b1-b1e0-f88a69a13596 2019-10-31                 NaT   \n",
              "f82065ff-e9fc-4873-b4c2-e219d2079f83 2019-11-02                 NaT   \n",
              "20436f39-6741-4e02-97a3-24899593b549 2019-10-30                 NaT   \n",
              "97f41142-0d22-4bb2-9f22-8c7659d8d0de 2019-10-25 2019-10-25 22:48:29   \n",
              "cbc08300-e2fd-4f2e-b950-e46276d80f37 2019-10-25 2019-10-25 13:12:54   \n",
              "27a94447-2ca7-473f-b415-6bfeb48d131a 2019-10-10                 NaT   \n",
              "19455547-8608-4ea8-abc1-a3db1ec45f2a 2019-10-24                 NaT   \n",
              "25069cad-0d00-48cb-a627-0871a877307e 2019-10-24                 NaT   \n",
              "7db26778-a2fb-417a-83f4-03b4bb32e068 2019-10-27                 NaT   \n",
              "\n",
              "event_name                                              photos_show  \\\n",
              "user_id                              event_date                       \n",
              "b316f8b4-89ad-4252-9127-8801f0dd98ba 2019-10-28                 NaT   \n",
              "f4f475e8-6fd4-47b1-b1e0-f88a69a13596 2019-10-31                 NaT   \n",
              "f82065ff-e9fc-4873-b4c2-e219d2079f83 2019-11-02 2019-11-02 23:08:10   \n",
              "20436f39-6741-4e02-97a3-24899593b549 2019-10-30                 NaT   \n",
              "97f41142-0d22-4bb2-9f22-8c7659d8d0de 2019-10-25                 NaT   \n",
              "cbc08300-e2fd-4f2e-b950-e46276d80f37 2019-10-25                 NaT   \n",
              "27a94447-2ca7-473f-b415-6bfeb48d131a 2019-10-10 2019-10-10 20:12:23   \n",
              "19455547-8608-4ea8-abc1-a3db1ec45f2a 2019-10-24                 NaT   \n",
              "25069cad-0d00-48cb-a627-0871a877307e 2019-10-24 2019-10-24 00:03:18   \n",
              "7db26778-a2fb-417a-83f4-03b4bb32e068 2019-10-27                 NaT   \n",
              "\n",
              "event_name                                                   search  \\\n",
              "user_id                              event_date                       \n",
              "b316f8b4-89ad-4252-9127-8801f0dd98ba 2019-10-28                 NaT   \n",
              "f4f475e8-6fd4-47b1-b1e0-f88a69a13596 2019-10-31 2019-10-31 00:19:30   \n",
              "f82065ff-e9fc-4873-b4c2-e219d2079f83 2019-11-02                 NaT   \n",
              "20436f39-6741-4e02-97a3-24899593b549 2019-10-30                 NaT   \n",
              "97f41142-0d22-4bb2-9f22-8c7659d8d0de 2019-10-25 2019-10-25 22:48:15   \n",
              "cbc08300-e2fd-4f2e-b950-e46276d80f37 2019-10-25                 NaT   \n",
              "27a94447-2ca7-473f-b415-6bfeb48d131a 2019-10-10                 NaT   \n",
              "19455547-8608-4ea8-abc1-a3db1ec45f2a 2019-10-24                 NaT   \n",
              "25069cad-0d00-48cb-a627-0871a877307e 2019-10-24 2019-10-24 00:01:32   \n",
              "7db26778-a2fb-417a-83f4-03b4bb32e068 2019-10-27                 NaT   \n",
              "\n",
              "event_name                                      tips_click           tips_show  \n",
              "user_id                              event_date                                 \n",
              "b316f8b4-89ad-4252-9127-8801f0dd98ba 2019-10-28        NaT 2019-10-28 21:58:49  \n",
              "f4f475e8-6fd4-47b1-b1e0-f88a69a13596 2019-10-31        NaT                 NaT  \n",
              "f82065ff-e9fc-4873-b4c2-e219d2079f83 2019-11-02        NaT                 NaT  \n",
              "20436f39-6741-4e02-97a3-24899593b549 2019-10-30        NaT 2019-10-30 13:54:18  \n",
              "97f41142-0d22-4bb2-9f22-8c7659d8d0de 2019-10-25        NaT 2019-10-25 22:49:13  \n",
              "cbc08300-e2fd-4f2e-b950-e46276d80f37 2019-10-25        NaT 2019-10-25 13:13:24  \n",
              "27a94447-2ca7-473f-b415-6bfeb48d131a 2019-10-10        NaT                 NaT  \n",
              "19455547-8608-4ea8-abc1-a3db1ec45f2a 2019-10-24        NaT 2019-10-24 23:21:45  \n",
              "25069cad-0d00-48cb-a627-0871a877307e 2019-10-24        NaT                 NaT  \n",
              "7db26778-a2fb-417a-83f4-03b4bb32e068 2019-10-27        NaT 2019-10-27 22:33:03  "
            ],
            "text/html": [
              "\n",
              "  <div id=\"df-4f5af19e-704c-4e20-ba12-d08c6494fcc9\">\n",
              "    <div class=\"colab-df-container\">\n",
              "      <div>\n",
              "<style scoped>\n",
              "    .dataframe tbody tr th:only-of-type {\n",
              "        vertical-align: middle;\n",
              "    }\n",
              "\n",
              "    .dataframe tbody tr th {\n",
              "        vertical-align: top;\n",
              "    }\n",
              "\n",
              "    .dataframe thead th {\n",
              "        text-align: right;\n",
              "    }\n",
              "</style>\n",
              "<table border=\"1\" class=\"dataframe\">\n",
              "  <thead>\n",
              "    <tr style=\"text-align: right;\">\n",
              "      <th></th>\n",
              "      <th>event_name</th>\n",
              "      <th>advert_open</th>\n",
              "      <th>contacts_call</th>\n",
              "      <th>contacts_show</th>\n",
              "      <th>favorites_add</th>\n",
              "      <th>map</th>\n",
              "      <th>photos_show</th>\n",
              "      <th>search</th>\n",
              "      <th>tips_click</th>\n",
              "      <th>tips_show</th>\n",
              "    </tr>\n",
              "    <tr>\n",
              "      <th>user_id</th>\n",
              "      <th>event_date</th>\n",
              "      <th></th>\n",
              "      <th></th>\n",
              "      <th></th>\n",
              "      <th></th>\n",
              "      <th></th>\n",
              "      <th></th>\n",
              "      <th></th>\n",
              "      <th></th>\n",
              "      <th></th>\n",
              "    </tr>\n",
              "  </thead>\n",
              "  <tbody>\n",
              "    <tr>\n",
              "      <th>b316f8b4-89ad-4252-9127-8801f0dd98ba</th>\n",
              "      <th>2019-10-28</th>\n",
              "      <td>NaT</td>\n",
              "      <td>NaT</td>\n",
              "      <td>NaT</td>\n",
              "      <td>NaT</td>\n",
              "      <td>NaT</td>\n",
              "      <td>NaT</td>\n",
              "      <td>NaT</td>\n",
              "      <td>NaT</td>\n",
              "      <td>2019-10-28 21:58:49</td>\n",
              "    </tr>\n",
              "    <tr>\n",
              "      <th>f4f475e8-6fd4-47b1-b1e0-f88a69a13596</th>\n",
              "      <th>2019-10-31</th>\n",
              "      <td>NaT</td>\n",
              "      <td>NaT</td>\n",
              "      <td>NaT</td>\n",
              "      <td>NaT</td>\n",
              "      <td>NaT</td>\n",
              "      <td>NaT</td>\n",
              "      <td>2019-10-31 00:19:30</td>\n",
              "      <td>NaT</td>\n",
              "      <td>NaT</td>\n",
              "    </tr>\n",
              "    <tr>\n",
              "      <th>f82065ff-e9fc-4873-b4c2-e219d2079f83</th>\n",
              "      <th>2019-11-02</th>\n",
              "      <td>NaT</td>\n",
              "      <td>NaT</td>\n",
              "      <td>NaT</td>\n",
              "      <td>NaT</td>\n",
              "      <td>NaT</td>\n",
              "      <td>2019-11-02 23:08:10</td>\n",
              "      <td>NaT</td>\n",
              "      <td>NaT</td>\n",
              "      <td>NaT</td>\n",
              "    </tr>\n",
              "    <tr>\n",
              "      <th>20436f39-6741-4e02-97a3-24899593b549</th>\n",
              "      <th>2019-10-30</th>\n",
              "      <td>NaT</td>\n",
              "      <td>NaT</td>\n",
              "      <td>2019-10-30 20:12:29</td>\n",
              "      <td>NaT</td>\n",
              "      <td>NaT</td>\n",
              "      <td>NaT</td>\n",
              "      <td>NaT</td>\n",
              "      <td>NaT</td>\n",
              "      <td>2019-10-30 13:54:18</td>\n",
              "    </tr>\n",
              "    <tr>\n",
              "      <th>97f41142-0d22-4bb2-9f22-8c7659d8d0de</th>\n",
              "      <th>2019-10-25</th>\n",
              "      <td>NaT</td>\n",
              "      <td>NaT</td>\n",
              "      <td>2019-10-25 22:50:18</td>\n",
              "      <td>NaT</td>\n",
              "      <td>2019-10-25 22:48:29</td>\n",
              "      <td>NaT</td>\n",
              "      <td>2019-10-25 22:48:15</td>\n",
              "      <td>NaT</td>\n",
              "      <td>2019-10-25 22:49:13</td>\n",
              "    </tr>\n",
              "    <tr>\n",
              "      <th>cbc08300-e2fd-4f2e-b950-e46276d80f37</th>\n",
              "      <th>2019-10-25</th>\n",
              "      <td>2019-10-25 13:13:16</td>\n",
              "      <td>NaT</td>\n",
              "      <td>NaT</td>\n",
              "      <td>NaT</td>\n",
              "      <td>2019-10-25 13:12:54</td>\n",
              "      <td>NaT</td>\n",
              "      <td>NaT</td>\n",
              "      <td>NaT</td>\n",
              "      <td>2019-10-25 13:13:24</td>\n",
              "    </tr>\n",
              "    <tr>\n",
              "      <th>27a94447-2ca7-473f-b415-6bfeb48d131a</th>\n",
              "      <th>2019-10-10</th>\n",
              "      <td>NaT</td>\n",
              "      <td>NaT</td>\n",
              "      <td>NaT</td>\n",
              "      <td>NaT</td>\n",
              "      <td>NaT</td>\n",
              "      <td>2019-10-10 20:12:23</td>\n",
              "      <td>NaT</td>\n",
              "      <td>NaT</td>\n",
              "      <td>NaT</td>\n",
              "    </tr>\n",
              "    <tr>\n",
              "      <th>19455547-8608-4ea8-abc1-a3db1ec45f2a</th>\n",
              "      <th>2019-10-24</th>\n",
              "      <td>NaT</td>\n",
              "      <td>NaT</td>\n",
              "      <td>NaT</td>\n",
              "      <td>NaT</td>\n",
              "      <td>NaT</td>\n",
              "      <td>NaT</td>\n",
              "      <td>NaT</td>\n",
              "      <td>NaT</td>\n",
              "      <td>2019-10-24 23:21:45</td>\n",
              "    </tr>\n",
              "    <tr>\n",
              "      <th>25069cad-0d00-48cb-a627-0871a877307e</th>\n",
              "      <th>2019-10-24</th>\n",
              "      <td>NaT</td>\n",
              "      <td>NaT</td>\n",
              "      <td>NaT</td>\n",
              "      <td>NaT</td>\n",
              "      <td>NaT</td>\n",
              "      <td>2019-10-24 00:03:18</td>\n",
              "      <td>2019-10-24 00:01:32</td>\n",
              "      <td>NaT</td>\n",
              "      <td>NaT</td>\n",
              "    </tr>\n",
              "    <tr>\n",
              "      <th>7db26778-a2fb-417a-83f4-03b4bb32e068</th>\n",
              "      <th>2019-10-27</th>\n",
              "      <td>NaT</td>\n",
              "      <td>NaT</td>\n",
              "      <td>NaT</td>\n",
              "      <td>NaT</td>\n",
              "      <td>NaT</td>\n",
              "      <td>NaT</td>\n",
              "      <td>NaT</td>\n",
              "      <td>NaT</td>\n",
              "      <td>2019-10-27 22:33:03</td>\n",
              "    </tr>\n",
              "  </tbody>\n",
              "</table>\n",
              "</div>\n",
              "      <button class=\"colab-df-convert\" onclick=\"convertToInteractive('df-4f5af19e-704c-4e20-ba12-d08c6494fcc9')\"\n",
              "              title=\"Convert this dataframe to an interactive table.\"\n",
              "              style=\"display:none;\">\n",
              "        \n",
              "  <svg xmlns=\"http://www.w3.org/2000/svg\" height=\"24px\"viewBox=\"0 0 24 24\"\n",
              "       width=\"24px\">\n",
              "    <path d=\"M0 0h24v24H0V0z\" fill=\"none\"/>\n",
              "    <path d=\"M18.56 5.44l.94 2.06.94-2.06 2.06-.94-2.06-.94-.94-2.06-.94 2.06-2.06.94zm-11 1L8.5 8.5l.94-2.06 2.06-.94-2.06-.94L8.5 2.5l-.94 2.06-2.06.94zm10 10l.94 2.06.94-2.06 2.06-.94-2.06-.94-.94-2.06-.94 2.06-2.06.94z\"/><path d=\"M17.41 7.96l-1.37-1.37c-.4-.4-.92-.59-1.43-.59-.52 0-1.04.2-1.43.59L10.3 9.45l-7.72 7.72c-.78.78-.78 2.05 0 2.83L4 21.41c.39.39.9.59 1.41.59.51 0 1.02-.2 1.41-.59l7.78-7.78 2.81-2.81c.8-.78.8-2.07 0-2.86zM5.41 20L4 18.59l7.72-7.72 1.47 1.35L5.41 20z\"/>\n",
              "  </svg>\n",
              "      </button>\n",
              "      \n",
              "  <style>\n",
              "    .colab-df-container {\n",
              "      display:flex;\n",
              "      flex-wrap:wrap;\n",
              "      gap: 12px;\n",
              "    }\n",
              "\n",
              "    .colab-df-convert {\n",
              "      background-color: #E8F0FE;\n",
              "      border: none;\n",
              "      border-radius: 50%;\n",
              "      cursor: pointer;\n",
              "      display: none;\n",
              "      fill: #1967D2;\n",
              "      height: 32px;\n",
              "      padding: 0 0 0 0;\n",
              "      width: 32px;\n",
              "    }\n",
              "\n",
              "    .colab-df-convert:hover {\n",
              "      background-color: #E2EBFA;\n",
              "      box-shadow: 0px 1px 2px rgba(60, 64, 67, 0.3), 0px 1px 3px 1px rgba(60, 64, 67, 0.15);\n",
              "      fill: #174EA6;\n",
              "    }\n",
              "\n",
              "    [theme=dark] .colab-df-convert {\n",
              "      background-color: #3B4455;\n",
              "      fill: #D2E3FC;\n",
              "    }\n",
              "\n",
              "    [theme=dark] .colab-df-convert:hover {\n",
              "      background-color: #434B5C;\n",
              "      box-shadow: 0px 1px 3px 1px rgba(0, 0, 0, 0.15);\n",
              "      filter: drop-shadow(0px 1px 2px rgba(0, 0, 0, 0.3));\n",
              "      fill: #FFFFFF;\n",
              "    }\n",
              "  </style>\n",
              "\n",
              "      <script>\n",
              "        const buttonEl =\n",
              "          document.querySelector('#df-4f5af19e-704c-4e20-ba12-d08c6494fcc9 button.colab-df-convert');\n",
              "        buttonEl.style.display =\n",
              "          google.colab.kernel.accessAllowed ? 'block' : 'none';\n",
              "\n",
              "        async function convertToInteractive(key) {\n",
              "          const element = document.querySelector('#df-4f5af19e-704c-4e20-ba12-d08c6494fcc9');\n",
              "          const dataTable =\n",
              "            await google.colab.kernel.invokeFunction('convertToInteractive',\n",
              "                                                     [key], {});\n",
              "          if (!dataTable) return;\n",
              "\n",
              "          const docLinkHtml = 'Like what you see? Visit the ' +\n",
              "            '<a target=\"_blank\" href=https://colab.research.google.com/notebooks/data_table.ipynb>data table notebook</a>'\n",
              "            + ' to learn more about interactive tables.';\n",
              "          element.innerHTML = '';\n",
              "          dataTable['output_type'] = 'display_data';\n",
              "          await google.colab.output.renderOutput(dataTable, element);\n",
              "          const docLink = document.createElement('div');\n",
              "          docLink.innerHTML = docLinkHtml;\n",
              "          element.appendChild(docLink);\n",
              "        }\n",
              "      </script>\n",
              "    </div>\n",
              "  </div>\n",
              "  "
            ]
          },
          "metadata": {},
          "execution_count": 73
        }
      ],
      "source": [
        "users.sample(10)"
      ]
    },
    {
      "cell_type": "markdown",
      "metadata": {
        "id": "O4N4R26z5AEz"
      },
      "source": [
        "Предположим, в каком порядке происходят события.  \n",
        "\n",
        "search - поиск  \n",
        "→  \n",
        "advert_open - открытие объявления  \n",
        "→  \n",
        "photo_show  - просмотр фотографий  \n",
        "→  \n",
        "contacts_show - просмотр контакта\n"
      ]
    },
    {
      "cell_type": "code",
      "execution_count": 74,
      "metadata": {
        "id": "XbhS-c-BelsN"
      },
      "outputs": [],
      "source": [
        "def funnels(step1, step2, step3):\n",
        "  step_1 = ~users[step1].isna()\n",
        "  step_2 = step_1 & (users[step2] > users[step1])\n",
        "  step_3 = step_2 & (users[step3] > users[step2])\n",
        "  \n",
        "  title=str('\"<b>Воронка событий: ' + step1 + ' - ' + step2 + ' - ' + step3 +'</b>\"')\n",
        "\n",
        "  n_1 = users[step_1].shape[0]\n",
        "  n_2 = users[step_2].shape[0]\n",
        "  n_3 = users[step_3].shape[0]\n",
        " \n",
        "\n",
        "  fig = go.Figure(go.Funnel(\n",
        "    y = [step1, step2, step3],\n",
        "    x = [n_1, n_2, n_3],\n",
        "    textposition = \"auto\",\n",
        "    textinfo = \"value+percent initial+percent previous\",\n",
        "    opacity = 0.65, marker = {\"color\": [\"deepskyblue\", \"lightsalmon\", \"tan\"],\n",
        "    \"line\": {\"width\": [4, 2, 2, 3, 1, 1], \"color\": [\"wheat\", \"wheat\", \"blue\"]}},\n",
        "    connector = {\"line\": {\"color\": \"royalblue\", \"dash\": \"dot\", \"width\": 3}})\n",
        "    )\n",
        "  fig.update_layout(title=str('\"<b>Воронка событий: ' + step1 + ' - ' + step2 + ' - ' + step3 +'</b>\"'))\n",
        "  fig.show()"
      ]
    },
    {
      "cell_type": "code",
      "execution_count": 75,
      "metadata": {
        "colab": {
          "base_uri": "https://localhost:8080/",
          "height": 542
        },
        "id": "zuvQH7BjXLNM",
        "outputId": "aeb0238f-0088-4151-e6cc-610859853a25"
      },
      "outputs": [
        {
          "output_type": "display_data",
          "data": {
            "text/html": [
              "<html>\n",
              "<head><meta charset=\"utf-8\" /></head>\n",
              "<body>\n",
              "    <div>            <script src=\"https://cdnjs.cloudflare.com/ajax/libs/mathjax/2.7.5/MathJax.js?config=TeX-AMS-MML_SVG\"></script><script type=\"text/javascript\">if (window.MathJax) {MathJax.Hub.Config({SVG: {font: \"STIX-Web\"}});}</script>                <script type=\"text/javascript\">window.PlotlyConfig = {MathJaxConfig: 'local'};</script>\n",
              "        <script src=\"https://cdn.plot.ly/plotly-2.8.3.min.js\"></script>                <div id=\"53450cdc-51e7-44ef-964c-b12660aab4bb\" class=\"plotly-graph-div\" style=\"height:525px; width:100%;\"></div>            <script type=\"text/javascript\">                                    window.PLOTLYENV=window.PLOTLYENV || {};                                    if (document.getElementById(\"53450cdc-51e7-44ef-964c-b12660aab4bb\")) {                    Plotly.newPlot(                        \"53450cdc-51e7-44ef-964c-b12660aab4bb\",                        [{\"connector\":{\"line\":{\"color\":\"royalblue\",\"dash\":\"dot\",\"width\":3}},\"marker\":{\"color\":[\"deepskyblue\",\"lightsalmon\",\"tan\"],\"line\":{\"color\":[\"wheat\",\"wheat\",\"blue\"],\"width\":[4,2,2,3,1,1]}},\"opacity\":0.65,\"textinfo\":\"value+percent initial+percent previous\",\"textposition\":\"auto\",\"x\":[4642,341,27],\"y\":[\"tips_show\",\"tips_click\",\"contacts_show\"],\"type\":\"funnel\"}],                        {\"template\":{\"data\":{\"bar\":[{\"error_x\":{\"color\":\"#2a3f5f\"},\"error_y\":{\"color\":\"#2a3f5f\"},\"marker\":{\"line\":{\"color\":\"#E5ECF6\",\"width\":0.5},\"pattern\":{\"fillmode\":\"overlay\",\"size\":10,\"solidity\":0.2}},\"type\":\"bar\"}],\"barpolar\":[{\"marker\":{\"line\":{\"color\":\"#E5ECF6\",\"width\":0.5},\"pattern\":{\"fillmode\":\"overlay\",\"size\":10,\"solidity\":0.2}},\"type\":\"barpolar\"}],\"carpet\":[{\"aaxis\":{\"endlinecolor\":\"#2a3f5f\",\"gridcolor\":\"white\",\"linecolor\":\"white\",\"minorgridcolor\":\"white\",\"startlinecolor\":\"#2a3f5f\"},\"baxis\":{\"endlinecolor\":\"#2a3f5f\",\"gridcolor\":\"white\",\"linecolor\":\"white\",\"minorgridcolor\":\"white\",\"startlinecolor\":\"#2a3f5f\"},\"type\":\"carpet\"}],\"choropleth\":[{\"colorbar\":{\"outlinewidth\":0,\"ticks\":\"\"},\"type\":\"choropleth\"}],\"contour\":[{\"colorbar\":{\"outlinewidth\":0,\"ticks\":\"\"},\"colorscale\":[[0.0,\"#0d0887\"],[0.1111111111111111,\"#46039f\"],[0.2222222222222222,\"#7201a8\"],[0.3333333333333333,\"#9c179e\"],[0.4444444444444444,\"#bd3786\"],[0.5555555555555556,\"#d8576b\"],[0.6666666666666666,\"#ed7953\"],[0.7777777777777778,\"#fb9f3a\"],[0.8888888888888888,\"#fdca26\"],[1.0,\"#f0f921\"]],\"type\":\"contour\"}],\"contourcarpet\":[{\"colorbar\":{\"outlinewidth\":0,\"ticks\":\"\"},\"type\":\"contourcarpet\"}],\"heatmap\":[{\"colorbar\":{\"outlinewidth\":0,\"ticks\":\"\"},\"colorscale\":[[0.0,\"#0d0887\"],[0.1111111111111111,\"#46039f\"],[0.2222222222222222,\"#7201a8\"],[0.3333333333333333,\"#9c179e\"],[0.4444444444444444,\"#bd3786\"],[0.5555555555555556,\"#d8576b\"],[0.6666666666666666,\"#ed7953\"],[0.7777777777777778,\"#fb9f3a\"],[0.8888888888888888,\"#fdca26\"],[1.0,\"#f0f921\"]],\"type\":\"heatmap\"}],\"heatmapgl\":[{\"colorbar\":{\"outlinewidth\":0,\"ticks\":\"\"},\"colorscale\":[[0.0,\"#0d0887\"],[0.1111111111111111,\"#46039f\"],[0.2222222222222222,\"#7201a8\"],[0.3333333333333333,\"#9c179e\"],[0.4444444444444444,\"#bd3786\"],[0.5555555555555556,\"#d8576b\"],[0.6666666666666666,\"#ed7953\"],[0.7777777777777778,\"#fb9f3a\"],[0.8888888888888888,\"#fdca26\"],[1.0,\"#f0f921\"]],\"type\":\"heatmapgl\"}],\"histogram\":[{\"marker\":{\"pattern\":{\"fillmode\":\"overlay\",\"size\":10,\"solidity\":0.2}},\"type\":\"histogram\"}],\"histogram2d\":[{\"colorbar\":{\"outlinewidth\":0,\"ticks\":\"\"},\"colorscale\":[[0.0,\"#0d0887\"],[0.1111111111111111,\"#46039f\"],[0.2222222222222222,\"#7201a8\"],[0.3333333333333333,\"#9c179e\"],[0.4444444444444444,\"#bd3786\"],[0.5555555555555556,\"#d8576b\"],[0.6666666666666666,\"#ed7953\"],[0.7777777777777778,\"#fb9f3a\"],[0.8888888888888888,\"#fdca26\"],[1.0,\"#f0f921\"]],\"type\":\"histogram2d\"}],\"histogram2dcontour\":[{\"colorbar\":{\"outlinewidth\":0,\"ticks\":\"\"},\"colorscale\":[[0.0,\"#0d0887\"],[0.1111111111111111,\"#46039f\"],[0.2222222222222222,\"#7201a8\"],[0.3333333333333333,\"#9c179e\"],[0.4444444444444444,\"#bd3786\"],[0.5555555555555556,\"#d8576b\"],[0.6666666666666666,\"#ed7953\"],[0.7777777777777778,\"#fb9f3a\"],[0.8888888888888888,\"#fdca26\"],[1.0,\"#f0f921\"]],\"type\":\"histogram2dcontour\"}],\"mesh3d\":[{\"colorbar\":{\"outlinewidth\":0,\"ticks\":\"\"},\"type\":\"mesh3d\"}],\"parcoords\":[{\"line\":{\"colorbar\":{\"outlinewidth\":0,\"ticks\":\"\"}},\"type\":\"parcoords\"}],\"pie\":[{\"automargin\":true,\"type\":\"pie\"}],\"scatter\":[{\"marker\":{\"colorbar\":{\"outlinewidth\":0,\"ticks\":\"\"}},\"type\":\"scatter\"}],\"scatter3d\":[{\"line\":{\"colorbar\":{\"outlinewidth\":0,\"ticks\":\"\"}},\"marker\":{\"colorbar\":{\"outlinewidth\":0,\"ticks\":\"\"}},\"type\":\"scatter3d\"}],\"scattercarpet\":[{\"marker\":{\"colorbar\":{\"outlinewidth\":0,\"ticks\":\"\"}},\"type\":\"scattercarpet\"}],\"scattergeo\":[{\"marker\":{\"colorbar\":{\"outlinewidth\":0,\"ticks\":\"\"}},\"type\":\"scattergeo\"}],\"scattergl\":[{\"marker\":{\"colorbar\":{\"outlinewidth\":0,\"ticks\":\"\"}},\"type\":\"scattergl\"}],\"scattermapbox\":[{\"marker\":{\"colorbar\":{\"outlinewidth\":0,\"ticks\":\"\"}},\"type\":\"scattermapbox\"}],\"scatterpolar\":[{\"marker\":{\"colorbar\":{\"outlinewidth\":0,\"ticks\":\"\"}},\"type\":\"scatterpolar\"}],\"scatterpolargl\":[{\"marker\":{\"colorbar\":{\"outlinewidth\":0,\"ticks\":\"\"}},\"type\":\"scatterpolargl\"}],\"scatterternary\":[{\"marker\":{\"colorbar\":{\"outlinewidth\":0,\"ticks\":\"\"}},\"type\":\"scatterternary\"}],\"surface\":[{\"colorbar\":{\"outlinewidth\":0,\"ticks\":\"\"},\"colorscale\":[[0.0,\"#0d0887\"],[0.1111111111111111,\"#46039f\"],[0.2222222222222222,\"#7201a8\"],[0.3333333333333333,\"#9c179e\"],[0.4444444444444444,\"#bd3786\"],[0.5555555555555556,\"#d8576b\"],[0.6666666666666666,\"#ed7953\"],[0.7777777777777778,\"#fb9f3a\"],[0.8888888888888888,\"#fdca26\"],[1.0,\"#f0f921\"]],\"type\":\"surface\"}],\"table\":[{\"cells\":{\"fill\":{\"color\":\"#EBF0F8\"},\"line\":{\"color\":\"white\"}},\"header\":{\"fill\":{\"color\":\"#C8D4E3\"},\"line\":{\"color\":\"white\"}},\"type\":\"table\"}]},\"layout\":{\"annotationdefaults\":{\"arrowcolor\":\"#2a3f5f\",\"arrowhead\":0,\"arrowwidth\":1},\"autotypenumbers\":\"strict\",\"coloraxis\":{\"colorbar\":{\"outlinewidth\":0,\"ticks\":\"\"}},\"colorscale\":{\"diverging\":[[0,\"#8e0152\"],[0.1,\"#c51b7d\"],[0.2,\"#de77ae\"],[0.3,\"#f1b6da\"],[0.4,\"#fde0ef\"],[0.5,\"#f7f7f7\"],[0.6,\"#e6f5d0\"],[0.7,\"#b8e186\"],[0.8,\"#7fbc41\"],[0.9,\"#4d9221\"],[1,\"#276419\"]],\"sequential\":[[0.0,\"#0d0887\"],[0.1111111111111111,\"#46039f\"],[0.2222222222222222,\"#7201a8\"],[0.3333333333333333,\"#9c179e\"],[0.4444444444444444,\"#bd3786\"],[0.5555555555555556,\"#d8576b\"],[0.6666666666666666,\"#ed7953\"],[0.7777777777777778,\"#fb9f3a\"],[0.8888888888888888,\"#fdca26\"],[1.0,\"#f0f921\"]],\"sequentialminus\":[[0.0,\"#0d0887\"],[0.1111111111111111,\"#46039f\"],[0.2222222222222222,\"#7201a8\"],[0.3333333333333333,\"#9c179e\"],[0.4444444444444444,\"#bd3786\"],[0.5555555555555556,\"#d8576b\"],[0.6666666666666666,\"#ed7953\"],[0.7777777777777778,\"#fb9f3a\"],[0.8888888888888888,\"#fdca26\"],[1.0,\"#f0f921\"]]},\"colorway\":[\"#636efa\",\"#EF553B\",\"#00cc96\",\"#ab63fa\",\"#FFA15A\",\"#19d3f3\",\"#FF6692\",\"#B6E880\",\"#FF97FF\",\"#FECB52\"],\"font\":{\"color\":\"#2a3f5f\"},\"geo\":{\"bgcolor\":\"white\",\"lakecolor\":\"white\",\"landcolor\":\"#E5ECF6\",\"showlakes\":true,\"showland\":true,\"subunitcolor\":\"white\"},\"hoverlabel\":{\"align\":\"left\"},\"hovermode\":\"closest\",\"mapbox\":{\"style\":\"light\"},\"paper_bgcolor\":\"white\",\"plot_bgcolor\":\"#E5ECF6\",\"polar\":{\"angularaxis\":{\"gridcolor\":\"white\",\"linecolor\":\"white\",\"ticks\":\"\"},\"bgcolor\":\"#E5ECF6\",\"radialaxis\":{\"gridcolor\":\"white\",\"linecolor\":\"white\",\"ticks\":\"\"}},\"scene\":{\"xaxis\":{\"backgroundcolor\":\"#E5ECF6\",\"gridcolor\":\"white\",\"gridwidth\":2,\"linecolor\":\"white\",\"showbackground\":true,\"ticks\":\"\",\"zerolinecolor\":\"white\"},\"yaxis\":{\"backgroundcolor\":\"#E5ECF6\",\"gridcolor\":\"white\",\"gridwidth\":2,\"linecolor\":\"white\",\"showbackground\":true,\"ticks\":\"\",\"zerolinecolor\":\"white\"},\"zaxis\":{\"backgroundcolor\":\"#E5ECF6\",\"gridcolor\":\"white\",\"gridwidth\":2,\"linecolor\":\"white\",\"showbackground\":true,\"ticks\":\"\",\"zerolinecolor\":\"white\"}},\"shapedefaults\":{\"line\":{\"color\":\"#2a3f5f\"}},\"ternary\":{\"aaxis\":{\"gridcolor\":\"white\",\"linecolor\":\"white\",\"ticks\":\"\"},\"baxis\":{\"gridcolor\":\"white\",\"linecolor\":\"white\",\"ticks\":\"\"},\"bgcolor\":\"#E5ECF6\",\"caxis\":{\"gridcolor\":\"white\",\"linecolor\":\"white\",\"ticks\":\"\"}},\"title\":{\"x\":0.05},\"xaxis\":{\"automargin\":true,\"gridcolor\":\"white\",\"linecolor\":\"white\",\"ticks\":\"\",\"title\":{\"standoff\":15},\"zerolinecolor\":\"white\",\"zerolinewidth\":2},\"yaxis\":{\"automargin\":true,\"gridcolor\":\"white\",\"linecolor\":\"white\",\"ticks\":\"\",\"title\":{\"standoff\":15},\"zerolinecolor\":\"white\",\"zerolinewidth\":2}}},\"title\":{\"text\":\"\\\"<b>\\u0412\\u043e\\u0440\\u043e\\u043d\\u043a\\u0430 \\u0441\\u043e\\u0431\\u044b\\u0442\\u0438\\u0439: tips_show - tips_click - contacts_show</b>\\\"\"}},                        {\"responsive\": true}                    ).then(function(){\n",
              "                            \n",
              "var gd = document.getElementById('53450cdc-51e7-44ef-964c-b12660aab4bb');\n",
              "var x = new MutationObserver(function (mutations, observer) {{\n",
              "        var display = window.getComputedStyle(gd).display;\n",
              "        if (!display || display === 'none') {{\n",
              "            console.log([gd, 'removed!']);\n",
              "            Plotly.purge(gd);\n",
              "            observer.disconnect();\n",
              "        }}\n",
              "}});\n",
              "\n",
              "// Listen for the removal of the full notebook cells\n",
              "var notebookContainer = gd.closest('#notebook-container');\n",
              "if (notebookContainer) {{\n",
              "    x.observe(notebookContainer, {childList: true});\n",
              "}}\n",
              "\n",
              "// Listen for the clearing of the current output cell\n",
              "var outputEl = gd.closest('.output');\n",
              "if (outputEl) {{\n",
              "    x.observe(outputEl, {childList: true});\n",
              "}}\n",
              "\n",
              "                        })                };                            </script>        </div>\n",
              "</body>\n",
              "</html>"
            ]
          },
          "metadata": {}
        }
      ],
      "source": [
        "funnels('tips_show', 'tips_click', 'contacts_show')"
      ]
    },
    {
      "cell_type": "code",
      "execution_count": 76,
      "metadata": {
        "colab": {
          "base_uri": "https://localhost:8080/",
          "height": 542
        },
        "id": "AHA73EeKD_nu",
        "outputId": "c115561b-acaf-4ab2-b288-4141d9dbe376"
      },
      "outputs": [
        {
          "output_type": "display_data",
          "data": {
            "text/html": [
              "<html>\n",
              "<head><meta charset=\"utf-8\" /></head>\n",
              "<body>\n",
              "    <div>            <script src=\"https://cdnjs.cloudflare.com/ajax/libs/mathjax/2.7.5/MathJax.js?config=TeX-AMS-MML_SVG\"></script><script type=\"text/javascript\">if (window.MathJax) {MathJax.Hub.Config({SVG: {font: \"STIX-Web\"}});}</script>                <script type=\"text/javascript\">window.PlotlyConfig = {MathJaxConfig: 'local'};</script>\n",
              "        <script src=\"https://cdn.plot.ly/plotly-2.8.3.min.js\"></script>                <div id=\"a30f3ed4-66c0-4950-8aa9-f521d7e3222d\" class=\"plotly-graph-div\" style=\"height:525px; width:100%;\"></div>            <script type=\"text/javascript\">                                    window.PLOTLYENV=window.PLOTLYENV || {};                                    if (document.getElementById(\"a30f3ed4-66c0-4950-8aa9-f521d7e3222d\")) {                    Plotly.newPlot(                        \"a30f3ed4-66c0-4950-8aa9-f521d7e3222d\",                        [{\"connector\":{\"line\":{\"color\":\"royalblue\",\"dash\":\"dot\",\"width\":3}},\"marker\":{\"color\":[\"deepskyblue\",\"lightsalmon\",\"tan\"],\"line\":{\"color\":[\"wheat\",\"wheat\",\"blue\"],\"width\":[4,2,2,3,1,1]}},\"opacity\":0.65,\"textinfo\":\"value+percent initial+percent previous\",\"textposition\":\"auto\",\"x\":[2567,308,30],\"y\":[\"search\",\"advert_open\",\"contacts_show\"],\"type\":\"funnel\"}],                        {\"template\":{\"data\":{\"bar\":[{\"error_x\":{\"color\":\"#2a3f5f\"},\"error_y\":{\"color\":\"#2a3f5f\"},\"marker\":{\"line\":{\"color\":\"#E5ECF6\",\"width\":0.5},\"pattern\":{\"fillmode\":\"overlay\",\"size\":10,\"solidity\":0.2}},\"type\":\"bar\"}],\"barpolar\":[{\"marker\":{\"line\":{\"color\":\"#E5ECF6\",\"width\":0.5},\"pattern\":{\"fillmode\":\"overlay\",\"size\":10,\"solidity\":0.2}},\"type\":\"barpolar\"}],\"carpet\":[{\"aaxis\":{\"endlinecolor\":\"#2a3f5f\",\"gridcolor\":\"white\",\"linecolor\":\"white\",\"minorgridcolor\":\"white\",\"startlinecolor\":\"#2a3f5f\"},\"baxis\":{\"endlinecolor\":\"#2a3f5f\",\"gridcolor\":\"white\",\"linecolor\":\"white\",\"minorgridcolor\":\"white\",\"startlinecolor\":\"#2a3f5f\"},\"type\":\"carpet\"}],\"choropleth\":[{\"colorbar\":{\"outlinewidth\":0,\"ticks\":\"\"},\"type\":\"choropleth\"}],\"contour\":[{\"colorbar\":{\"outlinewidth\":0,\"ticks\":\"\"},\"colorscale\":[[0.0,\"#0d0887\"],[0.1111111111111111,\"#46039f\"],[0.2222222222222222,\"#7201a8\"],[0.3333333333333333,\"#9c179e\"],[0.4444444444444444,\"#bd3786\"],[0.5555555555555556,\"#d8576b\"],[0.6666666666666666,\"#ed7953\"],[0.7777777777777778,\"#fb9f3a\"],[0.8888888888888888,\"#fdca26\"],[1.0,\"#f0f921\"]],\"type\":\"contour\"}],\"contourcarpet\":[{\"colorbar\":{\"outlinewidth\":0,\"ticks\":\"\"},\"type\":\"contourcarpet\"}],\"heatmap\":[{\"colorbar\":{\"outlinewidth\":0,\"ticks\":\"\"},\"colorscale\":[[0.0,\"#0d0887\"],[0.1111111111111111,\"#46039f\"],[0.2222222222222222,\"#7201a8\"],[0.3333333333333333,\"#9c179e\"],[0.4444444444444444,\"#bd3786\"],[0.5555555555555556,\"#d8576b\"],[0.6666666666666666,\"#ed7953\"],[0.7777777777777778,\"#fb9f3a\"],[0.8888888888888888,\"#fdca26\"],[1.0,\"#f0f921\"]],\"type\":\"heatmap\"}],\"heatmapgl\":[{\"colorbar\":{\"outlinewidth\":0,\"ticks\":\"\"},\"colorscale\":[[0.0,\"#0d0887\"],[0.1111111111111111,\"#46039f\"],[0.2222222222222222,\"#7201a8\"],[0.3333333333333333,\"#9c179e\"],[0.4444444444444444,\"#bd3786\"],[0.5555555555555556,\"#d8576b\"],[0.6666666666666666,\"#ed7953\"],[0.7777777777777778,\"#fb9f3a\"],[0.8888888888888888,\"#fdca26\"],[1.0,\"#f0f921\"]],\"type\":\"heatmapgl\"}],\"histogram\":[{\"marker\":{\"pattern\":{\"fillmode\":\"overlay\",\"size\":10,\"solidity\":0.2}},\"type\":\"histogram\"}],\"histogram2d\":[{\"colorbar\":{\"outlinewidth\":0,\"ticks\":\"\"},\"colorscale\":[[0.0,\"#0d0887\"],[0.1111111111111111,\"#46039f\"],[0.2222222222222222,\"#7201a8\"],[0.3333333333333333,\"#9c179e\"],[0.4444444444444444,\"#bd3786\"],[0.5555555555555556,\"#d8576b\"],[0.6666666666666666,\"#ed7953\"],[0.7777777777777778,\"#fb9f3a\"],[0.8888888888888888,\"#fdca26\"],[1.0,\"#f0f921\"]],\"type\":\"histogram2d\"}],\"histogram2dcontour\":[{\"colorbar\":{\"outlinewidth\":0,\"ticks\":\"\"},\"colorscale\":[[0.0,\"#0d0887\"],[0.1111111111111111,\"#46039f\"],[0.2222222222222222,\"#7201a8\"],[0.3333333333333333,\"#9c179e\"],[0.4444444444444444,\"#bd3786\"],[0.5555555555555556,\"#d8576b\"],[0.6666666666666666,\"#ed7953\"],[0.7777777777777778,\"#fb9f3a\"],[0.8888888888888888,\"#fdca26\"],[1.0,\"#f0f921\"]],\"type\":\"histogram2dcontour\"}],\"mesh3d\":[{\"colorbar\":{\"outlinewidth\":0,\"ticks\":\"\"},\"type\":\"mesh3d\"}],\"parcoords\":[{\"line\":{\"colorbar\":{\"outlinewidth\":0,\"ticks\":\"\"}},\"type\":\"parcoords\"}],\"pie\":[{\"automargin\":true,\"type\":\"pie\"}],\"scatter\":[{\"marker\":{\"colorbar\":{\"outlinewidth\":0,\"ticks\":\"\"}},\"type\":\"scatter\"}],\"scatter3d\":[{\"line\":{\"colorbar\":{\"outlinewidth\":0,\"ticks\":\"\"}},\"marker\":{\"colorbar\":{\"outlinewidth\":0,\"ticks\":\"\"}},\"type\":\"scatter3d\"}],\"scattercarpet\":[{\"marker\":{\"colorbar\":{\"outlinewidth\":0,\"ticks\":\"\"}},\"type\":\"scattercarpet\"}],\"scattergeo\":[{\"marker\":{\"colorbar\":{\"outlinewidth\":0,\"ticks\":\"\"}},\"type\":\"scattergeo\"}],\"scattergl\":[{\"marker\":{\"colorbar\":{\"outlinewidth\":0,\"ticks\":\"\"}},\"type\":\"scattergl\"}],\"scattermapbox\":[{\"marker\":{\"colorbar\":{\"outlinewidth\":0,\"ticks\":\"\"}},\"type\":\"scattermapbox\"}],\"scatterpolar\":[{\"marker\":{\"colorbar\":{\"outlinewidth\":0,\"ticks\":\"\"}},\"type\":\"scatterpolar\"}],\"scatterpolargl\":[{\"marker\":{\"colorbar\":{\"outlinewidth\":0,\"ticks\":\"\"}},\"type\":\"scatterpolargl\"}],\"scatterternary\":[{\"marker\":{\"colorbar\":{\"outlinewidth\":0,\"ticks\":\"\"}},\"type\":\"scatterternary\"}],\"surface\":[{\"colorbar\":{\"outlinewidth\":0,\"ticks\":\"\"},\"colorscale\":[[0.0,\"#0d0887\"],[0.1111111111111111,\"#46039f\"],[0.2222222222222222,\"#7201a8\"],[0.3333333333333333,\"#9c179e\"],[0.4444444444444444,\"#bd3786\"],[0.5555555555555556,\"#d8576b\"],[0.6666666666666666,\"#ed7953\"],[0.7777777777777778,\"#fb9f3a\"],[0.8888888888888888,\"#fdca26\"],[1.0,\"#f0f921\"]],\"type\":\"surface\"}],\"table\":[{\"cells\":{\"fill\":{\"color\":\"#EBF0F8\"},\"line\":{\"color\":\"white\"}},\"header\":{\"fill\":{\"color\":\"#C8D4E3\"},\"line\":{\"color\":\"white\"}},\"type\":\"table\"}]},\"layout\":{\"annotationdefaults\":{\"arrowcolor\":\"#2a3f5f\",\"arrowhead\":0,\"arrowwidth\":1},\"autotypenumbers\":\"strict\",\"coloraxis\":{\"colorbar\":{\"outlinewidth\":0,\"ticks\":\"\"}},\"colorscale\":{\"diverging\":[[0,\"#8e0152\"],[0.1,\"#c51b7d\"],[0.2,\"#de77ae\"],[0.3,\"#f1b6da\"],[0.4,\"#fde0ef\"],[0.5,\"#f7f7f7\"],[0.6,\"#e6f5d0\"],[0.7,\"#b8e186\"],[0.8,\"#7fbc41\"],[0.9,\"#4d9221\"],[1,\"#276419\"]],\"sequential\":[[0.0,\"#0d0887\"],[0.1111111111111111,\"#46039f\"],[0.2222222222222222,\"#7201a8\"],[0.3333333333333333,\"#9c179e\"],[0.4444444444444444,\"#bd3786\"],[0.5555555555555556,\"#d8576b\"],[0.6666666666666666,\"#ed7953\"],[0.7777777777777778,\"#fb9f3a\"],[0.8888888888888888,\"#fdca26\"],[1.0,\"#f0f921\"]],\"sequentialminus\":[[0.0,\"#0d0887\"],[0.1111111111111111,\"#46039f\"],[0.2222222222222222,\"#7201a8\"],[0.3333333333333333,\"#9c179e\"],[0.4444444444444444,\"#bd3786\"],[0.5555555555555556,\"#d8576b\"],[0.6666666666666666,\"#ed7953\"],[0.7777777777777778,\"#fb9f3a\"],[0.8888888888888888,\"#fdca26\"],[1.0,\"#f0f921\"]]},\"colorway\":[\"#636efa\",\"#EF553B\",\"#00cc96\",\"#ab63fa\",\"#FFA15A\",\"#19d3f3\",\"#FF6692\",\"#B6E880\",\"#FF97FF\",\"#FECB52\"],\"font\":{\"color\":\"#2a3f5f\"},\"geo\":{\"bgcolor\":\"white\",\"lakecolor\":\"white\",\"landcolor\":\"#E5ECF6\",\"showlakes\":true,\"showland\":true,\"subunitcolor\":\"white\"},\"hoverlabel\":{\"align\":\"left\"},\"hovermode\":\"closest\",\"mapbox\":{\"style\":\"light\"},\"paper_bgcolor\":\"white\",\"plot_bgcolor\":\"#E5ECF6\",\"polar\":{\"angularaxis\":{\"gridcolor\":\"white\",\"linecolor\":\"white\",\"ticks\":\"\"},\"bgcolor\":\"#E5ECF6\",\"radialaxis\":{\"gridcolor\":\"white\",\"linecolor\":\"white\",\"ticks\":\"\"}},\"scene\":{\"xaxis\":{\"backgroundcolor\":\"#E5ECF6\",\"gridcolor\":\"white\",\"gridwidth\":2,\"linecolor\":\"white\",\"showbackground\":true,\"ticks\":\"\",\"zerolinecolor\":\"white\"},\"yaxis\":{\"backgroundcolor\":\"#E5ECF6\",\"gridcolor\":\"white\",\"gridwidth\":2,\"linecolor\":\"white\",\"showbackground\":true,\"ticks\":\"\",\"zerolinecolor\":\"white\"},\"zaxis\":{\"backgroundcolor\":\"#E5ECF6\",\"gridcolor\":\"white\",\"gridwidth\":2,\"linecolor\":\"white\",\"showbackground\":true,\"ticks\":\"\",\"zerolinecolor\":\"white\"}},\"shapedefaults\":{\"line\":{\"color\":\"#2a3f5f\"}},\"ternary\":{\"aaxis\":{\"gridcolor\":\"white\",\"linecolor\":\"white\",\"ticks\":\"\"},\"baxis\":{\"gridcolor\":\"white\",\"linecolor\":\"white\",\"ticks\":\"\"},\"bgcolor\":\"#E5ECF6\",\"caxis\":{\"gridcolor\":\"white\",\"linecolor\":\"white\",\"ticks\":\"\"}},\"title\":{\"x\":0.05},\"xaxis\":{\"automargin\":true,\"gridcolor\":\"white\",\"linecolor\":\"white\",\"ticks\":\"\",\"title\":{\"standoff\":15},\"zerolinecolor\":\"white\",\"zerolinewidth\":2},\"yaxis\":{\"automargin\":true,\"gridcolor\":\"white\",\"linecolor\":\"white\",\"ticks\":\"\",\"title\":{\"standoff\":15},\"zerolinecolor\":\"white\",\"zerolinewidth\":2}}},\"title\":{\"text\":\"\\\"<b>\\u0412\\u043e\\u0440\\u043e\\u043d\\u043a\\u0430 \\u0441\\u043e\\u0431\\u044b\\u0442\\u0438\\u0439: search - advert_open - contacts_show</b>\\\"\"}},                        {\"responsive\": true}                    ).then(function(){\n",
              "                            \n",
              "var gd = document.getElementById('a30f3ed4-66c0-4950-8aa9-f521d7e3222d');\n",
              "var x = new MutationObserver(function (mutations, observer) {{\n",
              "        var display = window.getComputedStyle(gd).display;\n",
              "        if (!display || display === 'none') {{\n",
              "            console.log([gd, 'removed!']);\n",
              "            Plotly.purge(gd);\n",
              "            observer.disconnect();\n",
              "        }}\n",
              "}});\n",
              "\n",
              "// Listen for the removal of the full notebook cells\n",
              "var notebookContainer = gd.closest('#notebook-container');\n",
              "if (notebookContainer) {{\n",
              "    x.observe(notebookContainer, {childList: true});\n",
              "}}\n",
              "\n",
              "// Listen for the clearing of the current output cell\n",
              "var outputEl = gd.closest('.output');\n",
              "if (outputEl) {{\n",
              "    x.observe(outputEl, {childList: true});\n",
              "}}\n",
              "\n",
              "                        })                };                            </script>        </div>\n",
              "</body>\n",
              "</html>"
            ]
          },
          "metadata": {}
        }
      ],
      "source": [
        "funnels('search', 'advert_open', 'contacts_show')"
      ]
    },
    {
      "cell_type": "code",
      "execution_count": 77,
      "metadata": {
        "colab": {
          "base_uri": "https://localhost:8080/",
          "height": 542
        },
        "id": "_5653JNGFekM",
        "outputId": "8ce44a4e-d704-49bf-f8c6-34b40a01f8b3"
      },
      "outputs": [
        {
          "output_type": "display_data",
          "data": {
            "text/html": [
              "<html>\n",
              "<head><meta charset=\"utf-8\" /></head>\n",
              "<body>\n",
              "    <div>            <script src=\"https://cdnjs.cloudflare.com/ajax/libs/mathjax/2.7.5/MathJax.js?config=TeX-AMS-MML_SVG\"></script><script type=\"text/javascript\">if (window.MathJax) {MathJax.Hub.Config({SVG: {font: \"STIX-Web\"}});}</script>                <script type=\"text/javascript\">window.PlotlyConfig = {MathJaxConfig: 'local'};</script>\n",
              "        <script src=\"https://cdn.plot.ly/plotly-2.8.3.min.js\"></script>                <div id=\"af796e2c-c254-4685-8121-38b9ef2f5788\" class=\"plotly-graph-div\" style=\"height:525px; width:100%;\"></div>            <script type=\"text/javascript\">                                    window.PLOTLYENV=window.PLOTLYENV || {};                                    if (document.getElementById(\"af796e2c-c254-4685-8121-38b9ef2f5788\")) {                    Plotly.newPlot(                        \"af796e2c-c254-4685-8121-38b9ef2f5788\",                        [{\"connector\":{\"line\":{\"color\":\"royalblue\",\"dash\":\"dot\",\"width\":3}},\"marker\":{\"color\":[\"deepskyblue\",\"lightsalmon\",\"tan\"],\"line\":{\"color\":[\"wheat\",\"wheat\",\"blue\"],\"width\":[4,2,2,3,1,1]}},\"opacity\":0.65,\"textinfo\":\"value+percent initial+percent previous\",\"textposition\":\"auto\",\"x\":[1945,595,55],\"y\":[\"map\",\"advert_open\",\"contacts_show\"],\"type\":\"funnel\"}],                        {\"template\":{\"data\":{\"bar\":[{\"error_x\":{\"color\":\"#2a3f5f\"},\"error_y\":{\"color\":\"#2a3f5f\"},\"marker\":{\"line\":{\"color\":\"#E5ECF6\",\"width\":0.5},\"pattern\":{\"fillmode\":\"overlay\",\"size\":10,\"solidity\":0.2}},\"type\":\"bar\"}],\"barpolar\":[{\"marker\":{\"line\":{\"color\":\"#E5ECF6\",\"width\":0.5},\"pattern\":{\"fillmode\":\"overlay\",\"size\":10,\"solidity\":0.2}},\"type\":\"barpolar\"}],\"carpet\":[{\"aaxis\":{\"endlinecolor\":\"#2a3f5f\",\"gridcolor\":\"white\",\"linecolor\":\"white\",\"minorgridcolor\":\"white\",\"startlinecolor\":\"#2a3f5f\"},\"baxis\":{\"endlinecolor\":\"#2a3f5f\",\"gridcolor\":\"white\",\"linecolor\":\"white\",\"minorgridcolor\":\"white\",\"startlinecolor\":\"#2a3f5f\"},\"type\":\"carpet\"}],\"choropleth\":[{\"colorbar\":{\"outlinewidth\":0,\"ticks\":\"\"},\"type\":\"choropleth\"}],\"contour\":[{\"colorbar\":{\"outlinewidth\":0,\"ticks\":\"\"},\"colorscale\":[[0.0,\"#0d0887\"],[0.1111111111111111,\"#46039f\"],[0.2222222222222222,\"#7201a8\"],[0.3333333333333333,\"#9c179e\"],[0.4444444444444444,\"#bd3786\"],[0.5555555555555556,\"#d8576b\"],[0.6666666666666666,\"#ed7953\"],[0.7777777777777778,\"#fb9f3a\"],[0.8888888888888888,\"#fdca26\"],[1.0,\"#f0f921\"]],\"type\":\"contour\"}],\"contourcarpet\":[{\"colorbar\":{\"outlinewidth\":0,\"ticks\":\"\"},\"type\":\"contourcarpet\"}],\"heatmap\":[{\"colorbar\":{\"outlinewidth\":0,\"ticks\":\"\"},\"colorscale\":[[0.0,\"#0d0887\"],[0.1111111111111111,\"#46039f\"],[0.2222222222222222,\"#7201a8\"],[0.3333333333333333,\"#9c179e\"],[0.4444444444444444,\"#bd3786\"],[0.5555555555555556,\"#d8576b\"],[0.6666666666666666,\"#ed7953\"],[0.7777777777777778,\"#fb9f3a\"],[0.8888888888888888,\"#fdca26\"],[1.0,\"#f0f921\"]],\"type\":\"heatmap\"}],\"heatmapgl\":[{\"colorbar\":{\"outlinewidth\":0,\"ticks\":\"\"},\"colorscale\":[[0.0,\"#0d0887\"],[0.1111111111111111,\"#46039f\"],[0.2222222222222222,\"#7201a8\"],[0.3333333333333333,\"#9c179e\"],[0.4444444444444444,\"#bd3786\"],[0.5555555555555556,\"#d8576b\"],[0.6666666666666666,\"#ed7953\"],[0.7777777777777778,\"#fb9f3a\"],[0.8888888888888888,\"#fdca26\"],[1.0,\"#f0f921\"]],\"type\":\"heatmapgl\"}],\"histogram\":[{\"marker\":{\"pattern\":{\"fillmode\":\"overlay\",\"size\":10,\"solidity\":0.2}},\"type\":\"histogram\"}],\"histogram2d\":[{\"colorbar\":{\"outlinewidth\":0,\"ticks\":\"\"},\"colorscale\":[[0.0,\"#0d0887\"],[0.1111111111111111,\"#46039f\"],[0.2222222222222222,\"#7201a8\"],[0.3333333333333333,\"#9c179e\"],[0.4444444444444444,\"#bd3786\"],[0.5555555555555556,\"#d8576b\"],[0.6666666666666666,\"#ed7953\"],[0.7777777777777778,\"#fb9f3a\"],[0.8888888888888888,\"#fdca26\"],[1.0,\"#f0f921\"]],\"type\":\"histogram2d\"}],\"histogram2dcontour\":[{\"colorbar\":{\"outlinewidth\":0,\"ticks\":\"\"},\"colorscale\":[[0.0,\"#0d0887\"],[0.1111111111111111,\"#46039f\"],[0.2222222222222222,\"#7201a8\"],[0.3333333333333333,\"#9c179e\"],[0.4444444444444444,\"#bd3786\"],[0.5555555555555556,\"#d8576b\"],[0.6666666666666666,\"#ed7953\"],[0.7777777777777778,\"#fb9f3a\"],[0.8888888888888888,\"#fdca26\"],[1.0,\"#f0f921\"]],\"type\":\"histogram2dcontour\"}],\"mesh3d\":[{\"colorbar\":{\"outlinewidth\":0,\"ticks\":\"\"},\"type\":\"mesh3d\"}],\"parcoords\":[{\"line\":{\"colorbar\":{\"outlinewidth\":0,\"ticks\":\"\"}},\"type\":\"parcoords\"}],\"pie\":[{\"automargin\":true,\"type\":\"pie\"}],\"scatter\":[{\"marker\":{\"colorbar\":{\"outlinewidth\":0,\"ticks\":\"\"}},\"type\":\"scatter\"}],\"scatter3d\":[{\"line\":{\"colorbar\":{\"outlinewidth\":0,\"ticks\":\"\"}},\"marker\":{\"colorbar\":{\"outlinewidth\":0,\"ticks\":\"\"}},\"type\":\"scatter3d\"}],\"scattercarpet\":[{\"marker\":{\"colorbar\":{\"outlinewidth\":0,\"ticks\":\"\"}},\"type\":\"scattercarpet\"}],\"scattergeo\":[{\"marker\":{\"colorbar\":{\"outlinewidth\":0,\"ticks\":\"\"}},\"type\":\"scattergeo\"}],\"scattergl\":[{\"marker\":{\"colorbar\":{\"outlinewidth\":0,\"ticks\":\"\"}},\"type\":\"scattergl\"}],\"scattermapbox\":[{\"marker\":{\"colorbar\":{\"outlinewidth\":0,\"ticks\":\"\"}},\"type\":\"scattermapbox\"}],\"scatterpolar\":[{\"marker\":{\"colorbar\":{\"outlinewidth\":0,\"ticks\":\"\"}},\"type\":\"scatterpolar\"}],\"scatterpolargl\":[{\"marker\":{\"colorbar\":{\"outlinewidth\":0,\"ticks\":\"\"}},\"type\":\"scatterpolargl\"}],\"scatterternary\":[{\"marker\":{\"colorbar\":{\"outlinewidth\":0,\"ticks\":\"\"}},\"type\":\"scatterternary\"}],\"surface\":[{\"colorbar\":{\"outlinewidth\":0,\"ticks\":\"\"},\"colorscale\":[[0.0,\"#0d0887\"],[0.1111111111111111,\"#46039f\"],[0.2222222222222222,\"#7201a8\"],[0.3333333333333333,\"#9c179e\"],[0.4444444444444444,\"#bd3786\"],[0.5555555555555556,\"#d8576b\"],[0.6666666666666666,\"#ed7953\"],[0.7777777777777778,\"#fb9f3a\"],[0.8888888888888888,\"#fdca26\"],[1.0,\"#f0f921\"]],\"type\":\"surface\"}],\"table\":[{\"cells\":{\"fill\":{\"color\":\"#EBF0F8\"},\"line\":{\"color\":\"white\"}},\"header\":{\"fill\":{\"color\":\"#C8D4E3\"},\"line\":{\"color\":\"white\"}},\"type\":\"table\"}]},\"layout\":{\"annotationdefaults\":{\"arrowcolor\":\"#2a3f5f\",\"arrowhead\":0,\"arrowwidth\":1},\"autotypenumbers\":\"strict\",\"coloraxis\":{\"colorbar\":{\"outlinewidth\":0,\"ticks\":\"\"}},\"colorscale\":{\"diverging\":[[0,\"#8e0152\"],[0.1,\"#c51b7d\"],[0.2,\"#de77ae\"],[0.3,\"#f1b6da\"],[0.4,\"#fde0ef\"],[0.5,\"#f7f7f7\"],[0.6,\"#e6f5d0\"],[0.7,\"#b8e186\"],[0.8,\"#7fbc41\"],[0.9,\"#4d9221\"],[1,\"#276419\"]],\"sequential\":[[0.0,\"#0d0887\"],[0.1111111111111111,\"#46039f\"],[0.2222222222222222,\"#7201a8\"],[0.3333333333333333,\"#9c179e\"],[0.4444444444444444,\"#bd3786\"],[0.5555555555555556,\"#d8576b\"],[0.6666666666666666,\"#ed7953\"],[0.7777777777777778,\"#fb9f3a\"],[0.8888888888888888,\"#fdca26\"],[1.0,\"#f0f921\"]],\"sequentialminus\":[[0.0,\"#0d0887\"],[0.1111111111111111,\"#46039f\"],[0.2222222222222222,\"#7201a8\"],[0.3333333333333333,\"#9c179e\"],[0.4444444444444444,\"#bd3786\"],[0.5555555555555556,\"#d8576b\"],[0.6666666666666666,\"#ed7953\"],[0.7777777777777778,\"#fb9f3a\"],[0.8888888888888888,\"#fdca26\"],[1.0,\"#f0f921\"]]},\"colorway\":[\"#636efa\",\"#EF553B\",\"#00cc96\",\"#ab63fa\",\"#FFA15A\",\"#19d3f3\",\"#FF6692\",\"#B6E880\",\"#FF97FF\",\"#FECB52\"],\"font\":{\"color\":\"#2a3f5f\"},\"geo\":{\"bgcolor\":\"white\",\"lakecolor\":\"white\",\"landcolor\":\"#E5ECF6\",\"showlakes\":true,\"showland\":true,\"subunitcolor\":\"white\"},\"hoverlabel\":{\"align\":\"left\"},\"hovermode\":\"closest\",\"mapbox\":{\"style\":\"light\"},\"paper_bgcolor\":\"white\",\"plot_bgcolor\":\"#E5ECF6\",\"polar\":{\"angularaxis\":{\"gridcolor\":\"white\",\"linecolor\":\"white\",\"ticks\":\"\"},\"bgcolor\":\"#E5ECF6\",\"radialaxis\":{\"gridcolor\":\"white\",\"linecolor\":\"white\",\"ticks\":\"\"}},\"scene\":{\"xaxis\":{\"backgroundcolor\":\"#E5ECF6\",\"gridcolor\":\"white\",\"gridwidth\":2,\"linecolor\":\"white\",\"showbackground\":true,\"ticks\":\"\",\"zerolinecolor\":\"white\"},\"yaxis\":{\"backgroundcolor\":\"#E5ECF6\",\"gridcolor\":\"white\",\"gridwidth\":2,\"linecolor\":\"white\",\"showbackground\":true,\"ticks\":\"\",\"zerolinecolor\":\"white\"},\"zaxis\":{\"backgroundcolor\":\"#E5ECF6\",\"gridcolor\":\"white\",\"gridwidth\":2,\"linecolor\":\"white\",\"showbackground\":true,\"ticks\":\"\",\"zerolinecolor\":\"white\"}},\"shapedefaults\":{\"line\":{\"color\":\"#2a3f5f\"}},\"ternary\":{\"aaxis\":{\"gridcolor\":\"white\",\"linecolor\":\"white\",\"ticks\":\"\"},\"baxis\":{\"gridcolor\":\"white\",\"linecolor\":\"white\",\"ticks\":\"\"},\"bgcolor\":\"#E5ECF6\",\"caxis\":{\"gridcolor\":\"white\",\"linecolor\":\"white\",\"ticks\":\"\"}},\"title\":{\"x\":0.05},\"xaxis\":{\"automargin\":true,\"gridcolor\":\"white\",\"linecolor\":\"white\",\"ticks\":\"\",\"title\":{\"standoff\":15},\"zerolinecolor\":\"white\",\"zerolinewidth\":2},\"yaxis\":{\"automargin\":true,\"gridcolor\":\"white\",\"linecolor\":\"white\",\"ticks\":\"\",\"title\":{\"standoff\":15},\"zerolinecolor\":\"white\",\"zerolinewidth\":2}}},\"title\":{\"text\":\"\\\"<b>\\u0412\\u043e\\u0440\\u043e\\u043d\\u043a\\u0430 \\u0441\\u043e\\u0431\\u044b\\u0442\\u0438\\u0439: map - advert_open - contacts_show</b>\\\"\"}},                        {\"responsive\": true}                    ).then(function(){\n",
              "                            \n",
              "var gd = document.getElementById('af796e2c-c254-4685-8121-38b9ef2f5788');\n",
              "var x = new MutationObserver(function (mutations, observer) {{\n",
              "        var display = window.getComputedStyle(gd).display;\n",
              "        if (!display || display === 'none') {{\n",
              "            console.log([gd, 'removed!']);\n",
              "            Plotly.purge(gd);\n",
              "            observer.disconnect();\n",
              "        }}\n",
              "}});\n",
              "\n",
              "// Listen for the removal of the full notebook cells\n",
              "var notebookContainer = gd.closest('#notebook-container');\n",
              "if (notebookContainer) {{\n",
              "    x.observe(notebookContainer, {childList: true});\n",
              "}}\n",
              "\n",
              "// Listen for the clearing of the current output cell\n",
              "var outputEl = gd.closest('.output');\n",
              "if (outputEl) {{\n",
              "    x.observe(outputEl, {childList: true});\n",
              "}}\n",
              "\n",
              "                        })                };                            </script>        </div>\n",
              "</body>\n",
              "</html>"
            ]
          },
          "metadata": {}
        }
      ],
      "source": [
        "funnels('map', 'advert_open', 'contacts_show')"
      ]
    },
    {
      "cell_type": "markdown",
      "metadata": {
        "id": "onQghhzA8Eqy"
      },
      "source": [
        "#### Промежуточный вывод:  \n",
        "У третьей воронки показатели выше: процент открытия карточек - 30,6% (от всех, кто увидел) и процент просмотров контактов - 9,2% (от открывших карточку). В воронке для тех, кто смотрит рекомендованные объявления, самый низкие показатели - возможно стоит доработать систему рекомендаций. "
      ]
    },
    {
      "cell_type": "markdown",
      "metadata": {
        "id": "8PGSEijdbfWQ"
      },
      "source": [
        "### Вывод"
      ]
    },
    {
      "cell_type": "markdown",
      "metadata": {
        "id": "klh3Y1THdVRV"
      },
      "source": [
        "Мы расчитали Retention Rate для посетителей приложения, по тепловой карте видим, что за месяц показатель упал с 1 до 0.07. С каждой новой когортой поведение пользователей меняется. Нам нужно впоследствии выяснить, какие именно факторы влияют на отток пользователей.\n",
        "\n",
        "Мы расчитали количество сессий и время,проведенное в приложении для каждого пользователя, затем получили медиану и среднее количество сессий на пользотеля: резутаты примерно сходятся - в месяц пользователь проводит в приложении примерно 2 сессии или 1 - 1,5 часа. Для специфики нашего приложения это нормальный результат - примерно за это время пользователь может найти то,что его интресует, рассмотрть варианты и принять решение о покупке. Возможно, в нашем случае следует работать не над увеличением времени, проведенном в приложении (скорее наоборот - чем быстрее пользователь будет находить то, что ему нужно, тем лучше; простотой использования мы можем увеличить вероятность того, что пользователь вернется к нам), а над количеством привлеченных пользователей.\n",
        "\n",
        "По столбчатой диаграмме мы увидели, что самым частоповторяющимся событием является tips_show (пользователь увидел рекомендованные объявления) - мы предположили, что рекомендации для пользователя находятся на главной странице, и, открыв приложение, пользователь автоматически попадает на них.\n",
        "\n",
        "Далее с огромным отрывом идет photos_show (просмотр фотографий в объявлении), хотя, следуя логике, на втором месте должен был бы идти поиск. Однако, видно, что search совсем не популярное событие. Мы сделали вывод, что кнопка поиска расположена в нашем приложении не совсем очевидно для пользователей (кроме search_1). Они гораздо охотнее просто просматривают фото.\n",
        "\n",
        "Далее с примерно одинаковыми показателями идут события advert_open (открытие карточки объявления), contacts_show (пользователь нажал на кнопку \"посмотреть номер телефона\" на карточке объявления), map (пользователь открыл карту размещенных объявлений) и search_1. Здесь мы отметили, что гораздо чаще пользователи просматривают контакты, а не совершают звонки через приложение(у события contacts_call совсем небольшие показатели - очевидно, пользователи либо звонят \"по-старинке\", либо (как больше принято в последнее время) используют мессенджеры).\n",
        "\n",
        "Мы расчитали конверсию в целевое действие(просмотр контактов): по нашим расчетам до этого события доходят ~23% пользователей. 77% - достаточно большой отток от общего количества пришедших к нам пользователей. Этому может быть несколько причин:\n",
        "\n",
        "пользователь \"теряется\" в большом количестве рекомендаций - в длинной ленте объявлений пользователь может надолго \"зависнуть\" и отложить целенаправленный поиск и, соответственно, отклик на объявление;\n",
        "\n",
        "управление приложением не достаточно интуитивно - возможно, путь пользователя в приложении более \"тернист\", чем кажется, и стоит подумать над его упрощением."
      ]
    },
    {
      "cell_type": "markdown",
      "metadata": {
        "id": "3OKVlnM4Qqv3",
        "pycharm": {
          "name": "#%% md\n"
        }
      },
      "source": [
        "## 3. Сегментация пользователей по действиям"
      ]
    },
    {
      "cell_type": "markdown",
      "metadata": {
        "id": "nGRRuFq9Idx2"
      },
      "source": [
        "Маркировка признаков.   \n",
        "В этой функции мы задаем действие, которое нас интересует и маркируем пользователей, которые это действие совершали (присваивается 1). При группировке по пользователю можно как сложить единицы, получив тем самым сколько раз пользователь совершал данное действие (сколько раз посмотрел контакты), так и просто увидеть, совершалось ли вообще пользователем это действие (посмотрел ли контакты хоть раз).  \n"
      ]
    },
    {
      "cell_type": "code",
      "execution_count": 78,
      "metadata": {
        "id": "jPIv1uZGLSPf"
      },
      "outputs": [],
      "source": [
        "def add_sign(name):\n",
        "\n",
        "    df[name] = \"\"\n",
        "    for i in range(len(df['event_name'])):\n",
        "        if df['event_name'][i] == name:\n",
        "            df[name][i] = 1\n",
        "        else:\n",
        "            df[name][i] = 0"
      ]
    },
    {
      "cell_type": "code",
      "execution_count": 79,
      "metadata": {
        "id": "PaZ391c6LSPf"
      },
      "outputs": [],
      "source": [
        "add_sign('contacts_show')"
      ]
    },
    {
      "cell_type": "code",
      "execution_count": 80,
      "metadata": {
        "id": "hz-b1io6LSPf"
      },
      "outputs": [],
      "source": [
        "add_sign('photos_show')"
      ]
    },
    {
      "cell_type": "code",
      "execution_count": 81,
      "metadata": {
        "id": "_3RbUuRVLSPf"
      },
      "outputs": [],
      "source": [
        "add_sign('tips_show')"
      ]
    },
    {
      "cell_type": "code",
      "execution_count": 82,
      "metadata": {
        "id": "prDAUJnELSPf"
      },
      "outputs": [],
      "source": [
        "add_sign('search')"
      ]
    },
    {
      "cell_type": "code",
      "execution_count": 83,
      "metadata": {
        "colab": {
          "base_uri": "https://localhost:8080/",
          "height": 947
        },
        "id": "V0RPat8lLSPg",
        "outputId": "7e8eb8a2-54a9-4f1c-e16a-cdbbaf4a139a"
      },
      "outputs": [
        {
          "output_type": "execute_result",
          "data": {
            "text/plain": [
              "               event_time     event_name  \\\n",
              "15636 2019-10-10 20:07:54    photos_show   \n",
              "47629 2019-10-31 15:24:12      tips_show   \n",
              "70717 2019-11-01 12:14:15      tips_show   \n",
              "35941 2019-10-17 15:00:30      tips_show   \n",
              "59699 2019-10-26 17:31:41      tips_show   \n",
              "53305 2019-10-23 22:14:08    photos_show   \n",
              "61972 2019-10-27 16:56:15    photos_show   \n",
              "2118  2019-10-07 14:10:22    advert_open   \n",
              "42769 2019-11-03 21:09:15  contacts_show   \n",
              "25907 2019-10-28 16:03:37      tips_show   \n",
              "\n",
              "                                    user_id  source  event_hour event_week  \\\n",
              "15636  ef1c1ea6-1f4a-4384-b972-92c9b7c14852   other          20 2019-10-10   \n",
              "47629  5eaab80f-1bf9-4094-8b07-c4b04ae87cbc   other          15 2019-10-31   \n",
              "70717  05a49d0d-4157-4747-8f56-1996a8258999  yandex          12 2019-10-31   \n",
              "35941  feb7c7a1-26e0-4ea9-9cdc-3e5b401cac97  yandex          15 2019-10-17   \n",
              "59699  e15c3bf3-a586-4c63-8379-be2393077a60  yandex          17 2019-10-24   \n",
              "53305  2a417e6c-2036-4844-b535-2444dec53d70   other          22 2019-10-17   \n",
              "61972  b0e39107-1418-406f-a80b-99dca9237b57  yandex          16 2019-10-24   \n",
              "2118   2c669a3c-dcd4-4c8a-8f06-3a01cc96bb8e  yandex          14 2019-10-03   \n",
              "42769  cb32ff37-9d3e-4150-aff1-ca640731e342  yandex          21 2019-10-31   \n",
              "25907  5bffcd16-5312-4137-8dd6-e87c9c40c7e9   other          16 2019-10-24   \n",
              "\n",
              "      event_month event_year event_date   start_dt activ_week start_week  \\\n",
              "15636  2019-10-01 2019-01-01 2019-10-10 2019-10-10 2019-10-07 2019-10-07   \n",
              "47629  2019-10-01 2019-01-01 2019-10-31 2019-10-21 2019-10-28 2019-10-21   \n",
              "70717  2019-11-01 2019-01-01 2019-11-01 2019-11-01 2019-10-28 2019-10-28   \n",
              "35941  2019-10-01 2019-01-01 2019-10-17 2019-10-17 2019-10-14 2019-10-14   \n",
              "59699  2019-10-01 2019-01-01 2019-10-26 2019-10-26 2019-10-21 2019-10-21   \n",
              "53305  2019-10-01 2019-01-01 2019-10-23 2019-10-23 2019-10-21 2019-10-21   \n",
              "61972  2019-10-01 2019-01-01 2019-10-27 2019-10-27 2019-10-21 2019-10-21   \n",
              "2118   2019-10-01 2019-01-01 2019-10-07 2019-10-07 2019-10-07 2019-10-07   \n",
              "42769  2019-11-01 2019-01-01 2019-11-03 2019-10-19 2019-10-28 2019-10-14   \n",
              "25907  2019-10-01 2019-01-01 2019-10-28 2019-10-14 2019-10-28 2019-10-14   \n",
              "\n",
              "       cohort_lifetime     pre_action_time  active_session  session_num  \\\n",
              "15636                0                 NaT 0 days 00:00:00            1   \n",
              "47629                1 2019-10-31 15:24:12 0 days 00:00:00            8   \n",
              "70717                0 2019-11-01 12:08:17 0 days 00:05:58            1   \n",
              "35941                0 2019-10-17 14:39:11 0 days 00:21:19            2   \n",
              "59699                0 2019-10-26 17:31:16 0 days 00:00:25            1   \n",
              "53305                0                 NaT 0 days 00:00:00            1   \n",
              "61972                0 2019-10-27 16:53:05 0 days 00:03:10            1   \n",
              "2118                 0 2019-10-07 14:07:43 0 days 00:02:39            1   \n",
              "42769                2 2019-11-03 21:07:14 0 days 00:02:01            3   \n",
              "25907                2 2019-10-28 16:00:31 0 days 00:03:06           15   \n",
              "\n",
              "      contacts_show photos_show tips_show search  \n",
              "15636             0           1         0      0  \n",
              "47629             0           0         1      0  \n",
              "70717             0           0         1      0  \n",
              "35941             0           0         1      0  \n",
              "59699             0           0         1      0  \n",
              "53305             0           1         0      0  \n",
              "61972             0           1         0      0  \n",
              "2118              0           0         0      0  \n",
              "42769             1           0         0      0  \n",
              "25907             0           0         1      0  "
            ],
            "text/html": [
              "\n",
              "  <div id=\"df-d5b6c39f-1712-45b9-bb0b-b9d5d9a7d6da\">\n",
              "    <div class=\"colab-df-container\">\n",
              "      <div>\n",
              "<style scoped>\n",
              "    .dataframe tbody tr th:only-of-type {\n",
              "        vertical-align: middle;\n",
              "    }\n",
              "\n",
              "    .dataframe tbody tr th {\n",
              "        vertical-align: top;\n",
              "    }\n",
              "\n",
              "    .dataframe thead th {\n",
              "        text-align: right;\n",
              "    }\n",
              "</style>\n",
              "<table border=\"1\" class=\"dataframe\">\n",
              "  <thead>\n",
              "    <tr style=\"text-align: right;\">\n",
              "      <th></th>\n",
              "      <th>event_time</th>\n",
              "      <th>event_name</th>\n",
              "      <th>user_id</th>\n",
              "      <th>source</th>\n",
              "      <th>event_hour</th>\n",
              "      <th>event_week</th>\n",
              "      <th>event_month</th>\n",
              "      <th>event_year</th>\n",
              "      <th>event_date</th>\n",
              "      <th>start_dt</th>\n",
              "      <th>activ_week</th>\n",
              "      <th>start_week</th>\n",
              "      <th>cohort_lifetime</th>\n",
              "      <th>pre_action_time</th>\n",
              "      <th>active_session</th>\n",
              "      <th>session_num</th>\n",
              "      <th>contacts_show</th>\n",
              "      <th>photos_show</th>\n",
              "      <th>tips_show</th>\n",
              "      <th>search</th>\n",
              "    </tr>\n",
              "  </thead>\n",
              "  <tbody>\n",
              "    <tr>\n",
              "      <th>15636</th>\n",
              "      <td>2019-10-10 20:07:54</td>\n",
              "      <td>photos_show</td>\n",
              "      <td>ef1c1ea6-1f4a-4384-b972-92c9b7c14852</td>\n",
              "      <td>other</td>\n",
              "      <td>20</td>\n",
              "      <td>2019-10-10</td>\n",
              "      <td>2019-10-01</td>\n",
              "      <td>2019-01-01</td>\n",
              "      <td>2019-10-10</td>\n",
              "      <td>2019-10-10</td>\n",
              "      <td>2019-10-07</td>\n",
              "      <td>2019-10-07</td>\n",
              "      <td>0</td>\n",
              "      <td>NaT</td>\n",
              "      <td>0 days 00:00:00</td>\n",
              "      <td>1</td>\n",
              "      <td>0</td>\n",
              "      <td>1</td>\n",
              "      <td>0</td>\n",
              "      <td>0</td>\n",
              "    </tr>\n",
              "    <tr>\n",
              "      <th>47629</th>\n",
              "      <td>2019-10-31 15:24:12</td>\n",
              "      <td>tips_show</td>\n",
              "      <td>5eaab80f-1bf9-4094-8b07-c4b04ae87cbc</td>\n",
              "      <td>other</td>\n",
              "      <td>15</td>\n",
              "      <td>2019-10-31</td>\n",
              "      <td>2019-10-01</td>\n",
              "      <td>2019-01-01</td>\n",
              "      <td>2019-10-31</td>\n",
              "      <td>2019-10-21</td>\n",
              "      <td>2019-10-28</td>\n",
              "      <td>2019-10-21</td>\n",
              "      <td>1</td>\n",
              "      <td>2019-10-31 15:24:12</td>\n",
              "      <td>0 days 00:00:00</td>\n",
              "      <td>8</td>\n",
              "      <td>0</td>\n",
              "      <td>0</td>\n",
              "      <td>1</td>\n",
              "      <td>0</td>\n",
              "    </tr>\n",
              "    <tr>\n",
              "      <th>70717</th>\n",
              "      <td>2019-11-01 12:14:15</td>\n",
              "      <td>tips_show</td>\n",
              "      <td>05a49d0d-4157-4747-8f56-1996a8258999</td>\n",
              "      <td>yandex</td>\n",
              "      <td>12</td>\n",
              "      <td>2019-10-31</td>\n",
              "      <td>2019-11-01</td>\n",
              "      <td>2019-01-01</td>\n",
              "      <td>2019-11-01</td>\n",
              "      <td>2019-11-01</td>\n",
              "      <td>2019-10-28</td>\n",
              "      <td>2019-10-28</td>\n",
              "      <td>0</td>\n",
              "      <td>2019-11-01 12:08:17</td>\n",
              "      <td>0 days 00:05:58</td>\n",
              "      <td>1</td>\n",
              "      <td>0</td>\n",
              "      <td>0</td>\n",
              "      <td>1</td>\n",
              "      <td>0</td>\n",
              "    </tr>\n",
              "    <tr>\n",
              "      <th>35941</th>\n",
              "      <td>2019-10-17 15:00:30</td>\n",
              "      <td>tips_show</td>\n",
              "      <td>feb7c7a1-26e0-4ea9-9cdc-3e5b401cac97</td>\n",
              "      <td>yandex</td>\n",
              "      <td>15</td>\n",
              "      <td>2019-10-17</td>\n",
              "      <td>2019-10-01</td>\n",
              "      <td>2019-01-01</td>\n",
              "      <td>2019-10-17</td>\n",
              "      <td>2019-10-17</td>\n",
              "      <td>2019-10-14</td>\n",
              "      <td>2019-10-14</td>\n",
              "      <td>0</td>\n",
              "      <td>2019-10-17 14:39:11</td>\n",
              "      <td>0 days 00:21:19</td>\n",
              "      <td>2</td>\n",
              "      <td>0</td>\n",
              "      <td>0</td>\n",
              "      <td>1</td>\n",
              "      <td>0</td>\n",
              "    </tr>\n",
              "    <tr>\n",
              "      <th>59699</th>\n",
              "      <td>2019-10-26 17:31:41</td>\n",
              "      <td>tips_show</td>\n",
              "      <td>e15c3bf3-a586-4c63-8379-be2393077a60</td>\n",
              "      <td>yandex</td>\n",
              "      <td>17</td>\n",
              "      <td>2019-10-24</td>\n",
              "      <td>2019-10-01</td>\n",
              "      <td>2019-01-01</td>\n",
              "      <td>2019-10-26</td>\n",
              "      <td>2019-10-26</td>\n",
              "      <td>2019-10-21</td>\n",
              "      <td>2019-10-21</td>\n",
              "      <td>0</td>\n",
              "      <td>2019-10-26 17:31:16</td>\n",
              "      <td>0 days 00:00:25</td>\n",
              "      <td>1</td>\n",
              "      <td>0</td>\n",
              "      <td>0</td>\n",
              "      <td>1</td>\n",
              "      <td>0</td>\n",
              "    </tr>\n",
              "    <tr>\n",
              "      <th>53305</th>\n",
              "      <td>2019-10-23 22:14:08</td>\n",
              "      <td>photos_show</td>\n",
              "      <td>2a417e6c-2036-4844-b535-2444dec53d70</td>\n",
              "      <td>other</td>\n",
              "      <td>22</td>\n",
              "      <td>2019-10-17</td>\n",
              "      <td>2019-10-01</td>\n",
              "      <td>2019-01-01</td>\n",
              "      <td>2019-10-23</td>\n",
              "      <td>2019-10-23</td>\n",
              "      <td>2019-10-21</td>\n",
              "      <td>2019-10-21</td>\n",
              "      <td>0</td>\n",
              "      <td>NaT</td>\n",
              "      <td>0 days 00:00:00</td>\n",
              "      <td>1</td>\n",
              "      <td>0</td>\n",
              "      <td>1</td>\n",
              "      <td>0</td>\n",
              "      <td>0</td>\n",
              "    </tr>\n",
              "    <tr>\n",
              "      <th>61972</th>\n",
              "      <td>2019-10-27 16:56:15</td>\n",
              "      <td>photos_show</td>\n",
              "      <td>b0e39107-1418-406f-a80b-99dca9237b57</td>\n",
              "      <td>yandex</td>\n",
              "      <td>16</td>\n",
              "      <td>2019-10-24</td>\n",
              "      <td>2019-10-01</td>\n",
              "      <td>2019-01-01</td>\n",
              "      <td>2019-10-27</td>\n",
              "      <td>2019-10-27</td>\n",
              "      <td>2019-10-21</td>\n",
              "      <td>2019-10-21</td>\n",
              "      <td>0</td>\n",
              "      <td>2019-10-27 16:53:05</td>\n",
              "      <td>0 days 00:03:10</td>\n",
              "      <td>1</td>\n",
              "      <td>0</td>\n",
              "      <td>1</td>\n",
              "      <td>0</td>\n",
              "      <td>0</td>\n",
              "    </tr>\n",
              "    <tr>\n",
              "      <th>2118</th>\n",
              "      <td>2019-10-07 14:10:22</td>\n",
              "      <td>advert_open</td>\n",
              "      <td>2c669a3c-dcd4-4c8a-8f06-3a01cc96bb8e</td>\n",
              "      <td>yandex</td>\n",
              "      <td>14</td>\n",
              "      <td>2019-10-03</td>\n",
              "      <td>2019-10-01</td>\n",
              "      <td>2019-01-01</td>\n",
              "      <td>2019-10-07</td>\n",
              "      <td>2019-10-07</td>\n",
              "      <td>2019-10-07</td>\n",
              "      <td>2019-10-07</td>\n",
              "      <td>0</td>\n",
              "      <td>2019-10-07 14:07:43</td>\n",
              "      <td>0 days 00:02:39</td>\n",
              "      <td>1</td>\n",
              "      <td>0</td>\n",
              "      <td>0</td>\n",
              "      <td>0</td>\n",
              "      <td>0</td>\n",
              "    </tr>\n",
              "    <tr>\n",
              "      <th>42769</th>\n",
              "      <td>2019-11-03 21:09:15</td>\n",
              "      <td>contacts_show</td>\n",
              "      <td>cb32ff37-9d3e-4150-aff1-ca640731e342</td>\n",
              "      <td>yandex</td>\n",
              "      <td>21</td>\n",
              "      <td>2019-10-31</td>\n",
              "      <td>2019-11-01</td>\n",
              "      <td>2019-01-01</td>\n",
              "      <td>2019-11-03</td>\n",
              "      <td>2019-10-19</td>\n",
              "      <td>2019-10-28</td>\n",
              "      <td>2019-10-14</td>\n",
              "      <td>2</td>\n",
              "      <td>2019-11-03 21:07:14</td>\n",
              "      <td>0 days 00:02:01</td>\n",
              "      <td>3</td>\n",
              "      <td>1</td>\n",
              "      <td>0</td>\n",
              "      <td>0</td>\n",
              "      <td>0</td>\n",
              "    </tr>\n",
              "    <tr>\n",
              "      <th>25907</th>\n",
              "      <td>2019-10-28 16:03:37</td>\n",
              "      <td>tips_show</td>\n",
              "      <td>5bffcd16-5312-4137-8dd6-e87c9c40c7e9</td>\n",
              "      <td>other</td>\n",
              "      <td>16</td>\n",
              "      <td>2019-10-24</td>\n",
              "      <td>2019-10-01</td>\n",
              "      <td>2019-01-01</td>\n",
              "      <td>2019-10-28</td>\n",
              "      <td>2019-10-14</td>\n",
              "      <td>2019-10-28</td>\n",
              "      <td>2019-10-14</td>\n",
              "      <td>2</td>\n",
              "      <td>2019-10-28 16:00:31</td>\n",
              "      <td>0 days 00:03:06</td>\n",
              "      <td>15</td>\n",
              "      <td>0</td>\n",
              "      <td>0</td>\n",
              "      <td>1</td>\n",
              "      <td>0</td>\n",
              "    </tr>\n",
              "  </tbody>\n",
              "</table>\n",
              "</div>\n",
              "      <button class=\"colab-df-convert\" onclick=\"convertToInteractive('df-d5b6c39f-1712-45b9-bb0b-b9d5d9a7d6da')\"\n",
              "              title=\"Convert this dataframe to an interactive table.\"\n",
              "              style=\"display:none;\">\n",
              "        \n",
              "  <svg xmlns=\"http://www.w3.org/2000/svg\" height=\"24px\"viewBox=\"0 0 24 24\"\n",
              "       width=\"24px\">\n",
              "    <path d=\"M0 0h24v24H0V0z\" fill=\"none\"/>\n",
              "    <path d=\"M18.56 5.44l.94 2.06.94-2.06 2.06-.94-2.06-.94-.94-2.06-.94 2.06-2.06.94zm-11 1L8.5 8.5l.94-2.06 2.06-.94-2.06-.94L8.5 2.5l-.94 2.06-2.06.94zm10 10l.94 2.06.94-2.06 2.06-.94-2.06-.94-.94-2.06-.94 2.06-2.06.94z\"/><path d=\"M17.41 7.96l-1.37-1.37c-.4-.4-.92-.59-1.43-.59-.52 0-1.04.2-1.43.59L10.3 9.45l-7.72 7.72c-.78.78-.78 2.05 0 2.83L4 21.41c.39.39.9.59 1.41.59.51 0 1.02-.2 1.41-.59l7.78-7.78 2.81-2.81c.8-.78.8-2.07 0-2.86zM5.41 20L4 18.59l7.72-7.72 1.47 1.35L5.41 20z\"/>\n",
              "  </svg>\n",
              "      </button>\n",
              "      \n",
              "  <style>\n",
              "    .colab-df-container {\n",
              "      display:flex;\n",
              "      flex-wrap:wrap;\n",
              "      gap: 12px;\n",
              "    }\n",
              "\n",
              "    .colab-df-convert {\n",
              "      background-color: #E8F0FE;\n",
              "      border: none;\n",
              "      border-radius: 50%;\n",
              "      cursor: pointer;\n",
              "      display: none;\n",
              "      fill: #1967D2;\n",
              "      height: 32px;\n",
              "      padding: 0 0 0 0;\n",
              "      width: 32px;\n",
              "    }\n",
              "\n",
              "    .colab-df-convert:hover {\n",
              "      background-color: #E2EBFA;\n",
              "      box-shadow: 0px 1px 2px rgba(60, 64, 67, 0.3), 0px 1px 3px 1px rgba(60, 64, 67, 0.15);\n",
              "      fill: #174EA6;\n",
              "    }\n",
              "\n",
              "    [theme=dark] .colab-df-convert {\n",
              "      background-color: #3B4455;\n",
              "      fill: #D2E3FC;\n",
              "    }\n",
              "\n",
              "    [theme=dark] .colab-df-convert:hover {\n",
              "      background-color: #434B5C;\n",
              "      box-shadow: 0px 1px 3px 1px rgba(0, 0, 0, 0.15);\n",
              "      filter: drop-shadow(0px 1px 2px rgba(0, 0, 0, 0.3));\n",
              "      fill: #FFFFFF;\n",
              "    }\n",
              "  </style>\n",
              "\n",
              "      <script>\n",
              "        const buttonEl =\n",
              "          document.querySelector('#df-d5b6c39f-1712-45b9-bb0b-b9d5d9a7d6da button.colab-df-convert');\n",
              "        buttonEl.style.display =\n",
              "          google.colab.kernel.accessAllowed ? 'block' : 'none';\n",
              "\n",
              "        async function convertToInteractive(key) {\n",
              "          const element = document.querySelector('#df-d5b6c39f-1712-45b9-bb0b-b9d5d9a7d6da');\n",
              "          const dataTable =\n",
              "            await google.colab.kernel.invokeFunction('convertToInteractive',\n",
              "                                                     [key], {});\n",
              "          if (!dataTable) return;\n",
              "\n",
              "          const docLinkHtml = 'Like what you see? Visit the ' +\n",
              "            '<a target=\"_blank\" href=https://colab.research.google.com/notebooks/data_table.ipynb>data table notebook</a>'\n",
              "            + ' to learn more about interactive tables.';\n",
              "          element.innerHTML = '';\n",
              "          dataTable['output_type'] = 'display_data';\n",
              "          await google.colab.output.renderOutput(dataTable, element);\n",
              "          const docLink = document.createElement('div');\n",
              "          docLink.innerHTML = docLinkHtml;\n",
              "          element.appendChild(docLink);\n",
              "        }\n",
              "      </script>\n",
              "    </div>\n",
              "  </div>\n",
              "  "
            ]
          },
          "metadata": {},
          "execution_count": 83
        }
      ],
      "source": [
        "df.sample(10)"
      ]
    },
    {
      "cell_type": "markdown",
      "metadata": {
        "id": "zaqTV0BNNkvQ"
      },
      "source": [
        "Добавим дату крайнего действия пользователя"
      ]
    },
    {
      "cell_type": "code",
      "execution_count": 84,
      "metadata": {
        "id": "aVKQ9kKBNkL2"
      },
      "outputs": [],
      "source": [
        "last_visits = df.groupby(['user_id'])['event_date'].max().reset_index()\n",
        "last_visits.columns = ['user_id', 'last_dt']"
      ]
    },
    {
      "cell_type": "code",
      "execution_count": 85,
      "metadata": {
        "id": "ckTZuHD1OCLQ"
      },
      "outputs": [],
      "source": [
        "df = df.merge(last_visits, on='user_id')"
      ]
    },
    {
      "cell_type": "code",
      "execution_count": 86,
      "metadata": {
        "id": "BftsLGK5OWDV"
      },
      "outputs": [],
      "source": [
        "df['duration'] = (df['last_dt'] - df['start_dt']).dt.days + 1"
      ]
    },
    {
      "cell_type": "code",
      "execution_count": 87,
      "metadata": {
        "colab": {
          "base_uri": "https://localhost:8080/",
          "height": 455
        },
        "id": "HTNdrCAhLTAH",
        "outputId": "0f2c83ca-4c53-4907-d1d5-e10b2246b282"
      },
      "outputs": [
        {
          "output_type": "execute_result",
          "data": {
            "text/plain": [
              "                                      duration  n_session  n_event  \\\n",
              "user_id                                                              \n",
              "0001b1d5-b74a-4cbf-aeb0-7df5947bf349     16.00         35       35   \n",
              "00157779-810c-4498-9e05-a1e9e3cedf93     16.00         71       71   \n",
              "00463033-5717-4bf1-91b4-09183923b9df      1.00         10       10   \n",
              "004690c3-5a84-4bb7-a8af-e0c8f8fca64e     14.00         32       32   \n",
              "00551e79-152e-4441-9cf7-565d7eb04090      5.00          8        8   \n",
              "...                                        ...        ...      ...   \n",
              "ffab8d8a-30bb-424a-a3ab-0b63ebbf7b07     14.00         17       17   \n",
              "ffc01466-fdb1-4460-ae94-e800f52eb136      1.00          7        7   \n",
              "ffcf50d9-293c-4254-8243-4890b030b238      1.00          2        2   \n",
              "ffe68f10-e48e-470e-be9b-eeb93128ff1a      8.00         13       13   \n",
              "fffb9e79-b927-4dbb-9b48-7fd09b23a62b     23.00        303      303   \n",
              "\n",
              "                                      n_contacts_show  photos_show  tips_show  \\\n",
              "user_id                                                                         \n",
              "0001b1d5-b74a-4cbf-aeb0-7df5947bf349                0            0          1   \n",
              "00157779-810c-4498-9e05-a1e9e3cedf93               11            1          0   \n",
              "00463033-5717-4bf1-91b4-09183923b9df                0            1          0   \n",
              "004690c3-5a84-4bb7-a8af-e0c8f8fca64e                0            0          1   \n",
              "00551e79-152e-4441-9cf7-565d7eb04090                3            1          0   \n",
              "...                                               ...          ...        ...   \n",
              "ffab8d8a-30bb-424a-a3ab-0b63ebbf7b07                0            0          1   \n",
              "ffc01466-fdb1-4460-ae94-e800f52eb136                1            1          0   \n",
              "ffcf50d9-293c-4254-8243-4890b030b238                0            0          1   \n",
              "ffe68f10-e48e-470e-be9b-eeb93128ff1a                1            1          0   \n",
              "fffb9e79-b927-4dbb-9b48-7fd09b23a62b               68            0          1   \n",
              "\n",
              "                                      search  \n",
              "user_id                                       \n",
              "0001b1d5-b74a-4cbf-aeb0-7df5947bf349       0  \n",
              "00157779-810c-4498-9e05-a1e9e3cedf93       1  \n",
              "00463033-5717-4bf1-91b4-09183923b9df       0  \n",
              "004690c3-5a84-4bb7-a8af-e0c8f8fca64e       1  \n",
              "00551e79-152e-4441-9cf7-565d7eb04090       1  \n",
              "...                                      ...  \n",
              "ffab8d8a-30bb-424a-a3ab-0b63ebbf7b07       0  \n",
              "ffc01466-fdb1-4460-ae94-e800f52eb136       0  \n",
              "ffcf50d9-293c-4254-8243-4890b030b238       0  \n",
              "ffe68f10-e48e-470e-be9b-eeb93128ff1a       1  \n",
              "fffb9e79-b927-4dbb-9b48-7fd09b23a62b       0  \n",
              "\n",
              "[4293 rows x 7 columns]"
            ],
            "text/html": [
              "\n",
              "  <div id=\"df-01a0150c-8273-42b1-9bcb-bd40e18fb5a0\">\n",
              "    <div class=\"colab-df-container\">\n",
              "      <div>\n",
              "<style scoped>\n",
              "    .dataframe tbody tr th:only-of-type {\n",
              "        vertical-align: middle;\n",
              "    }\n",
              "\n",
              "    .dataframe tbody tr th {\n",
              "        vertical-align: top;\n",
              "    }\n",
              "\n",
              "    .dataframe thead th {\n",
              "        text-align: right;\n",
              "    }\n",
              "</style>\n",
              "<table border=\"1\" class=\"dataframe\">\n",
              "  <thead>\n",
              "    <tr style=\"text-align: right;\">\n",
              "      <th></th>\n",
              "      <th>duration</th>\n",
              "      <th>n_session</th>\n",
              "      <th>n_event</th>\n",
              "      <th>n_contacts_show</th>\n",
              "      <th>photos_show</th>\n",
              "      <th>tips_show</th>\n",
              "      <th>search</th>\n",
              "    </tr>\n",
              "    <tr>\n",
              "      <th>user_id</th>\n",
              "      <th></th>\n",
              "      <th></th>\n",
              "      <th></th>\n",
              "      <th></th>\n",
              "      <th></th>\n",
              "      <th></th>\n",
              "      <th></th>\n",
              "    </tr>\n",
              "  </thead>\n",
              "  <tbody>\n",
              "    <tr>\n",
              "      <th>0001b1d5-b74a-4cbf-aeb0-7df5947bf349</th>\n",
              "      <td>16.00</td>\n",
              "      <td>35</td>\n",
              "      <td>35</td>\n",
              "      <td>0</td>\n",
              "      <td>0</td>\n",
              "      <td>1</td>\n",
              "      <td>0</td>\n",
              "    </tr>\n",
              "    <tr>\n",
              "      <th>00157779-810c-4498-9e05-a1e9e3cedf93</th>\n",
              "      <td>16.00</td>\n",
              "      <td>71</td>\n",
              "      <td>71</td>\n",
              "      <td>11</td>\n",
              "      <td>1</td>\n",
              "      <td>0</td>\n",
              "      <td>1</td>\n",
              "    </tr>\n",
              "    <tr>\n",
              "      <th>00463033-5717-4bf1-91b4-09183923b9df</th>\n",
              "      <td>1.00</td>\n",
              "      <td>10</td>\n",
              "      <td>10</td>\n",
              "      <td>0</td>\n",
              "      <td>1</td>\n",
              "      <td>0</td>\n",
              "      <td>0</td>\n",
              "    </tr>\n",
              "    <tr>\n",
              "      <th>004690c3-5a84-4bb7-a8af-e0c8f8fca64e</th>\n",
              "      <td>14.00</td>\n",
              "      <td>32</td>\n",
              "      <td>32</td>\n",
              "      <td>0</td>\n",
              "      <td>0</td>\n",
              "      <td>1</td>\n",
              "      <td>1</td>\n",
              "    </tr>\n",
              "    <tr>\n",
              "      <th>00551e79-152e-4441-9cf7-565d7eb04090</th>\n",
              "      <td>5.00</td>\n",
              "      <td>8</td>\n",
              "      <td>8</td>\n",
              "      <td>3</td>\n",
              "      <td>1</td>\n",
              "      <td>0</td>\n",
              "      <td>1</td>\n",
              "    </tr>\n",
              "    <tr>\n",
              "      <th>...</th>\n",
              "      <td>...</td>\n",
              "      <td>...</td>\n",
              "      <td>...</td>\n",
              "      <td>...</td>\n",
              "      <td>...</td>\n",
              "      <td>...</td>\n",
              "      <td>...</td>\n",
              "    </tr>\n",
              "    <tr>\n",
              "      <th>ffab8d8a-30bb-424a-a3ab-0b63ebbf7b07</th>\n",
              "      <td>14.00</td>\n",
              "      <td>17</td>\n",
              "      <td>17</td>\n",
              "      <td>0</td>\n",
              "      <td>0</td>\n",
              "      <td>1</td>\n",
              "      <td>0</td>\n",
              "    </tr>\n",
              "    <tr>\n",
              "      <th>ffc01466-fdb1-4460-ae94-e800f52eb136</th>\n",
              "      <td>1.00</td>\n",
              "      <td>7</td>\n",
              "      <td>7</td>\n",
              "      <td>1</td>\n",
              "      <td>1</td>\n",
              "      <td>0</td>\n",
              "      <td>0</td>\n",
              "    </tr>\n",
              "    <tr>\n",
              "      <th>ffcf50d9-293c-4254-8243-4890b030b238</th>\n",
              "      <td>1.00</td>\n",
              "      <td>2</td>\n",
              "      <td>2</td>\n",
              "      <td>0</td>\n",
              "      <td>0</td>\n",
              "      <td>1</td>\n",
              "      <td>0</td>\n",
              "    </tr>\n",
              "    <tr>\n",
              "      <th>ffe68f10-e48e-470e-be9b-eeb93128ff1a</th>\n",
              "      <td>8.00</td>\n",
              "      <td>13</td>\n",
              "      <td>13</td>\n",
              "      <td>1</td>\n",
              "      <td>1</td>\n",
              "      <td>0</td>\n",
              "      <td>1</td>\n",
              "    </tr>\n",
              "    <tr>\n",
              "      <th>fffb9e79-b927-4dbb-9b48-7fd09b23a62b</th>\n",
              "      <td>23.00</td>\n",
              "      <td>303</td>\n",
              "      <td>303</td>\n",
              "      <td>68</td>\n",
              "      <td>0</td>\n",
              "      <td>1</td>\n",
              "      <td>0</td>\n",
              "    </tr>\n",
              "  </tbody>\n",
              "</table>\n",
              "<p>4293 rows × 7 columns</p>\n",
              "</div>\n",
              "      <button class=\"colab-df-convert\" onclick=\"convertToInteractive('df-01a0150c-8273-42b1-9bcb-bd40e18fb5a0')\"\n",
              "              title=\"Convert this dataframe to an interactive table.\"\n",
              "              style=\"display:none;\">\n",
              "        \n",
              "  <svg xmlns=\"http://www.w3.org/2000/svg\" height=\"24px\"viewBox=\"0 0 24 24\"\n",
              "       width=\"24px\">\n",
              "    <path d=\"M0 0h24v24H0V0z\" fill=\"none\"/>\n",
              "    <path d=\"M18.56 5.44l.94 2.06.94-2.06 2.06-.94-2.06-.94-.94-2.06-.94 2.06-2.06.94zm-11 1L8.5 8.5l.94-2.06 2.06-.94-2.06-.94L8.5 2.5l-.94 2.06-2.06.94zm10 10l.94 2.06.94-2.06 2.06-.94-2.06-.94-.94-2.06-.94 2.06-2.06.94z\"/><path d=\"M17.41 7.96l-1.37-1.37c-.4-.4-.92-.59-1.43-.59-.52 0-1.04.2-1.43.59L10.3 9.45l-7.72 7.72c-.78.78-.78 2.05 0 2.83L4 21.41c.39.39.9.59 1.41.59.51 0 1.02-.2 1.41-.59l7.78-7.78 2.81-2.81c.8-.78.8-2.07 0-2.86zM5.41 20L4 18.59l7.72-7.72 1.47 1.35L5.41 20z\"/>\n",
              "  </svg>\n",
              "      </button>\n",
              "      \n",
              "  <style>\n",
              "    .colab-df-container {\n",
              "      display:flex;\n",
              "      flex-wrap:wrap;\n",
              "      gap: 12px;\n",
              "    }\n",
              "\n",
              "    .colab-df-convert {\n",
              "      background-color: #E8F0FE;\n",
              "      border: none;\n",
              "      border-radius: 50%;\n",
              "      cursor: pointer;\n",
              "      display: none;\n",
              "      fill: #1967D2;\n",
              "      height: 32px;\n",
              "      padding: 0 0 0 0;\n",
              "      width: 32px;\n",
              "    }\n",
              "\n",
              "    .colab-df-convert:hover {\n",
              "      background-color: #E2EBFA;\n",
              "      box-shadow: 0px 1px 2px rgba(60, 64, 67, 0.3), 0px 1px 3px 1px rgba(60, 64, 67, 0.15);\n",
              "      fill: #174EA6;\n",
              "    }\n",
              "\n",
              "    [theme=dark] .colab-df-convert {\n",
              "      background-color: #3B4455;\n",
              "      fill: #D2E3FC;\n",
              "    }\n",
              "\n",
              "    [theme=dark] .colab-df-convert:hover {\n",
              "      background-color: #434B5C;\n",
              "      box-shadow: 0px 1px 3px 1px rgba(0, 0, 0, 0.15);\n",
              "      filter: drop-shadow(0px 1px 2px rgba(0, 0, 0, 0.3));\n",
              "      fill: #FFFFFF;\n",
              "    }\n",
              "  </style>\n",
              "\n",
              "      <script>\n",
              "        const buttonEl =\n",
              "          document.querySelector('#df-01a0150c-8273-42b1-9bcb-bd40e18fb5a0 button.colab-df-convert');\n",
              "        buttonEl.style.display =\n",
              "          google.colab.kernel.accessAllowed ? 'block' : 'none';\n",
              "\n",
              "        async function convertToInteractive(key) {\n",
              "          const element = document.querySelector('#df-01a0150c-8273-42b1-9bcb-bd40e18fb5a0');\n",
              "          const dataTable =\n",
              "            await google.colab.kernel.invokeFunction('convertToInteractive',\n",
              "                                                     [key], {});\n",
              "          if (!dataTable) return;\n",
              "\n",
              "          const docLinkHtml = 'Like what you see? Visit the ' +\n",
              "            '<a target=\"_blank\" href=https://colab.research.google.com/notebooks/data_table.ipynb>data table notebook</a>'\n",
              "            + ' to learn more about interactive tables.';\n",
              "          element.innerHTML = '';\n",
              "          dataTable['output_type'] = 'display_data';\n",
              "          await google.colab.output.renderOutput(dataTable, element);\n",
              "          const docLink = document.createElement('div');\n",
              "          docLink.innerHTML = docLinkHtml;\n",
              "          element.appendChild(docLink);\n",
              "        }\n",
              "      </script>\n",
              "    </div>\n",
              "  </div>\n",
              "  "
            ]
          },
          "metadata": {},
          "execution_count": 87
        }
      ],
      "source": [
        "grouped_by_user = df.groupby('user_id').agg({'duration':'mean', \n",
        "                                                          'session_num':'count', \n",
        "                                                          'event_name':'count',\n",
        "                                                          'contacts_show':'sum', \n",
        "                                                          'photos_show':'max',\n",
        "                                                          'tips_show':'max',\n",
        "                                                          'search':'max'})\n",
        "grouped_by_user = grouped_by_user.rename(columns={'session_num':'n_session', 'event_name':'n_event', 'contacts_show':'n_contacts_show'})\n",
        "grouped_by_user"
      ]
    },
    {
      "cell_type": "code",
      "execution_count": 88,
      "metadata": {
        "colab": {
          "base_uri": "https://localhost:8080/",
          "height": 455
        },
        "id": "-MV4N2foL1vG",
        "outputId": "6a70878d-5e0b-4176-b020-00e6c7b014c9"
      },
      "outputs": [
        {
          "output_type": "execute_result",
          "data": {
            "text/plain": [
              "                                      duration  n_session  n_event  \\\n",
              "user_id                                                              \n",
              "0001b1d5-b74a-4cbf-aeb0-7df5947bf349     16.00         35       35   \n",
              "00157779-810c-4498-9e05-a1e9e3cedf93     16.00         71       71   \n",
              "00463033-5717-4bf1-91b4-09183923b9df      1.00         10       10   \n",
              "004690c3-5a84-4bb7-a8af-e0c8f8fca64e     14.00         32       32   \n",
              "00551e79-152e-4441-9cf7-565d7eb04090      5.00          8        8   \n",
              "...                                        ...        ...      ...   \n",
              "ffab8d8a-30bb-424a-a3ab-0b63ebbf7b07     14.00         17       17   \n",
              "ffc01466-fdb1-4460-ae94-e800f52eb136      1.00          7        7   \n",
              "ffcf50d9-293c-4254-8243-4890b030b238      1.00          2        2   \n",
              "ffe68f10-e48e-470e-be9b-eeb93128ff1a      8.00         13       13   \n",
              "fffb9e79-b927-4dbb-9b48-7fd09b23a62b     23.00        303      303   \n",
              "\n",
              "                                      n_contacts_show  photos_show  tips_show  \\\n",
              "user_id                                                                         \n",
              "0001b1d5-b74a-4cbf-aeb0-7df5947bf349                0            0          1   \n",
              "00157779-810c-4498-9e05-a1e9e3cedf93               11            1          0   \n",
              "00463033-5717-4bf1-91b4-09183923b9df                0            1          0   \n",
              "004690c3-5a84-4bb7-a8af-e0c8f8fca64e                0            0          1   \n",
              "00551e79-152e-4441-9cf7-565d7eb04090                3            1          0   \n",
              "...                                               ...          ...        ...   \n",
              "ffab8d8a-30bb-424a-a3ab-0b63ebbf7b07                0            0          1   \n",
              "ffc01466-fdb1-4460-ae94-e800f52eb136                1            1          0   \n",
              "ffcf50d9-293c-4254-8243-4890b030b238                0            0          1   \n",
              "ffe68f10-e48e-470e-be9b-eeb93128ff1a                1            1          0   \n",
              "fffb9e79-b927-4dbb-9b48-7fd09b23a62b               68            0          1   \n",
              "\n",
              "                                      search  conversion  \n",
              "user_id                                                   \n",
              "0001b1d5-b74a-4cbf-aeb0-7df5947bf349       0        0.00  \n",
              "00157779-810c-4498-9e05-a1e9e3cedf93       1        0.15  \n",
              "00463033-5717-4bf1-91b4-09183923b9df       0        0.00  \n",
              "004690c3-5a84-4bb7-a8af-e0c8f8fca64e       1        0.00  \n",
              "00551e79-152e-4441-9cf7-565d7eb04090       1        0.38  \n",
              "...                                      ...         ...  \n",
              "ffab8d8a-30bb-424a-a3ab-0b63ebbf7b07       0        0.00  \n",
              "ffc01466-fdb1-4460-ae94-e800f52eb136       0        0.14  \n",
              "ffcf50d9-293c-4254-8243-4890b030b238       0        0.00  \n",
              "ffe68f10-e48e-470e-be9b-eeb93128ff1a       1        0.08  \n",
              "fffb9e79-b927-4dbb-9b48-7fd09b23a62b       0        0.22  \n",
              "\n",
              "[4293 rows x 8 columns]"
            ],
            "text/html": [
              "\n",
              "  <div id=\"df-62b6cba4-6e9c-4951-9439-fcb546a4dbf5\">\n",
              "    <div class=\"colab-df-container\">\n",
              "      <div>\n",
              "<style scoped>\n",
              "    .dataframe tbody tr th:only-of-type {\n",
              "        vertical-align: middle;\n",
              "    }\n",
              "\n",
              "    .dataframe tbody tr th {\n",
              "        vertical-align: top;\n",
              "    }\n",
              "\n",
              "    .dataframe thead th {\n",
              "        text-align: right;\n",
              "    }\n",
              "</style>\n",
              "<table border=\"1\" class=\"dataframe\">\n",
              "  <thead>\n",
              "    <tr style=\"text-align: right;\">\n",
              "      <th></th>\n",
              "      <th>duration</th>\n",
              "      <th>n_session</th>\n",
              "      <th>n_event</th>\n",
              "      <th>n_contacts_show</th>\n",
              "      <th>photos_show</th>\n",
              "      <th>tips_show</th>\n",
              "      <th>search</th>\n",
              "      <th>conversion</th>\n",
              "    </tr>\n",
              "    <tr>\n",
              "      <th>user_id</th>\n",
              "      <th></th>\n",
              "      <th></th>\n",
              "      <th></th>\n",
              "      <th></th>\n",
              "      <th></th>\n",
              "      <th></th>\n",
              "      <th></th>\n",
              "      <th></th>\n",
              "    </tr>\n",
              "  </thead>\n",
              "  <tbody>\n",
              "    <tr>\n",
              "      <th>0001b1d5-b74a-4cbf-aeb0-7df5947bf349</th>\n",
              "      <td>16.00</td>\n",
              "      <td>35</td>\n",
              "      <td>35</td>\n",
              "      <td>0</td>\n",
              "      <td>0</td>\n",
              "      <td>1</td>\n",
              "      <td>0</td>\n",
              "      <td>0.00</td>\n",
              "    </tr>\n",
              "    <tr>\n",
              "      <th>00157779-810c-4498-9e05-a1e9e3cedf93</th>\n",
              "      <td>16.00</td>\n",
              "      <td>71</td>\n",
              "      <td>71</td>\n",
              "      <td>11</td>\n",
              "      <td>1</td>\n",
              "      <td>0</td>\n",
              "      <td>1</td>\n",
              "      <td>0.15</td>\n",
              "    </tr>\n",
              "    <tr>\n",
              "      <th>00463033-5717-4bf1-91b4-09183923b9df</th>\n",
              "      <td>1.00</td>\n",
              "      <td>10</td>\n",
              "      <td>10</td>\n",
              "      <td>0</td>\n",
              "      <td>1</td>\n",
              "      <td>0</td>\n",
              "      <td>0</td>\n",
              "      <td>0.00</td>\n",
              "    </tr>\n",
              "    <tr>\n",
              "      <th>004690c3-5a84-4bb7-a8af-e0c8f8fca64e</th>\n",
              "      <td>14.00</td>\n",
              "      <td>32</td>\n",
              "      <td>32</td>\n",
              "      <td>0</td>\n",
              "      <td>0</td>\n",
              "      <td>1</td>\n",
              "      <td>1</td>\n",
              "      <td>0.00</td>\n",
              "    </tr>\n",
              "    <tr>\n",
              "      <th>00551e79-152e-4441-9cf7-565d7eb04090</th>\n",
              "      <td>5.00</td>\n",
              "      <td>8</td>\n",
              "      <td>8</td>\n",
              "      <td>3</td>\n",
              "      <td>1</td>\n",
              "      <td>0</td>\n",
              "      <td>1</td>\n",
              "      <td>0.38</td>\n",
              "    </tr>\n",
              "    <tr>\n",
              "      <th>...</th>\n",
              "      <td>...</td>\n",
              "      <td>...</td>\n",
              "      <td>...</td>\n",
              "      <td>...</td>\n",
              "      <td>...</td>\n",
              "      <td>...</td>\n",
              "      <td>...</td>\n",
              "      <td>...</td>\n",
              "    </tr>\n",
              "    <tr>\n",
              "      <th>ffab8d8a-30bb-424a-a3ab-0b63ebbf7b07</th>\n",
              "      <td>14.00</td>\n",
              "      <td>17</td>\n",
              "      <td>17</td>\n",
              "      <td>0</td>\n",
              "      <td>0</td>\n",
              "      <td>1</td>\n",
              "      <td>0</td>\n",
              "      <td>0.00</td>\n",
              "    </tr>\n",
              "    <tr>\n",
              "      <th>ffc01466-fdb1-4460-ae94-e800f52eb136</th>\n",
              "      <td>1.00</td>\n",
              "      <td>7</td>\n",
              "      <td>7</td>\n",
              "      <td>1</td>\n",
              "      <td>1</td>\n",
              "      <td>0</td>\n",
              "      <td>0</td>\n",
              "      <td>0.14</td>\n",
              "    </tr>\n",
              "    <tr>\n",
              "      <th>ffcf50d9-293c-4254-8243-4890b030b238</th>\n",
              "      <td>1.00</td>\n",
              "      <td>2</td>\n",
              "      <td>2</td>\n",
              "      <td>0</td>\n",
              "      <td>0</td>\n",
              "      <td>1</td>\n",
              "      <td>0</td>\n",
              "      <td>0.00</td>\n",
              "    </tr>\n",
              "    <tr>\n",
              "      <th>ffe68f10-e48e-470e-be9b-eeb93128ff1a</th>\n",
              "      <td>8.00</td>\n",
              "      <td>13</td>\n",
              "      <td>13</td>\n",
              "      <td>1</td>\n",
              "      <td>1</td>\n",
              "      <td>0</td>\n",
              "      <td>1</td>\n",
              "      <td>0.08</td>\n",
              "    </tr>\n",
              "    <tr>\n",
              "      <th>fffb9e79-b927-4dbb-9b48-7fd09b23a62b</th>\n",
              "      <td>23.00</td>\n",
              "      <td>303</td>\n",
              "      <td>303</td>\n",
              "      <td>68</td>\n",
              "      <td>0</td>\n",
              "      <td>1</td>\n",
              "      <td>0</td>\n",
              "      <td>0.22</td>\n",
              "    </tr>\n",
              "  </tbody>\n",
              "</table>\n",
              "<p>4293 rows × 8 columns</p>\n",
              "</div>\n",
              "      <button class=\"colab-df-convert\" onclick=\"convertToInteractive('df-62b6cba4-6e9c-4951-9439-fcb546a4dbf5')\"\n",
              "              title=\"Convert this dataframe to an interactive table.\"\n",
              "              style=\"display:none;\">\n",
              "        \n",
              "  <svg xmlns=\"http://www.w3.org/2000/svg\" height=\"24px\"viewBox=\"0 0 24 24\"\n",
              "       width=\"24px\">\n",
              "    <path d=\"M0 0h24v24H0V0z\" fill=\"none\"/>\n",
              "    <path d=\"M18.56 5.44l.94 2.06.94-2.06 2.06-.94-2.06-.94-.94-2.06-.94 2.06-2.06.94zm-11 1L8.5 8.5l.94-2.06 2.06-.94-2.06-.94L8.5 2.5l-.94 2.06-2.06.94zm10 10l.94 2.06.94-2.06 2.06-.94-2.06-.94-.94-2.06-.94 2.06-2.06.94z\"/><path d=\"M17.41 7.96l-1.37-1.37c-.4-.4-.92-.59-1.43-.59-.52 0-1.04.2-1.43.59L10.3 9.45l-7.72 7.72c-.78.78-.78 2.05 0 2.83L4 21.41c.39.39.9.59 1.41.59.51 0 1.02-.2 1.41-.59l7.78-7.78 2.81-2.81c.8-.78.8-2.07 0-2.86zM5.41 20L4 18.59l7.72-7.72 1.47 1.35L5.41 20z\"/>\n",
              "  </svg>\n",
              "      </button>\n",
              "      \n",
              "  <style>\n",
              "    .colab-df-container {\n",
              "      display:flex;\n",
              "      flex-wrap:wrap;\n",
              "      gap: 12px;\n",
              "    }\n",
              "\n",
              "    .colab-df-convert {\n",
              "      background-color: #E8F0FE;\n",
              "      border: none;\n",
              "      border-radius: 50%;\n",
              "      cursor: pointer;\n",
              "      display: none;\n",
              "      fill: #1967D2;\n",
              "      height: 32px;\n",
              "      padding: 0 0 0 0;\n",
              "      width: 32px;\n",
              "    }\n",
              "\n",
              "    .colab-df-convert:hover {\n",
              "      background-color: #E2EBFA;\n",
              "      box-shadow: 0px 1px 2px rgba(60, 64, 67, 0.3), 0px 1px 3px 1px rgba(60, 64, 67, 0.15);\n",
              "      fill: #174EA6;\n",
              "    }\n",
              "\n",
              "    [theme=dark] .colab-df-convert {\n",
              "      background-color: #3B4455;\n",
              "      fill: #D2E3FC;\n",
              "    }\n",
              "\n",
              "    [theme=dark] .colab-df-convert:hover {\n",
              "      background-color: #434B5C;\n",
              "      box-shadow: 0px 1px 3px 1px rgba(0, 0, 0, 0.15);\n",
              "      filter: drop-shadow(0px 1px 2px rgba(0, 0, 0, 0.3));\n",
              "      fill: #FFFFFF;\n",
              "    }\n",
              "  </style>\n",
              "\n",
              "      <script>\n",
              "        const buttonEl =\n",
              "          document.querySelector('#df-62b6cba4-6e9c-4951-9439-fcb546a4dbf5 button.colab-df-convert');\n",
              "        buttonEl.style.display =\n",
              "          google.colab.kernel.accessAllowed ? 'block' : 'none';\n",
              "\n",
              "        async function convertToInteractive(key) {\n",
              "          const element = document.querySelector('#df-62b6cba4-6e9c-4951-9439-fcb546a4dbf5');\n",
              "          const dataTable =\n",
              "            await google.colab.kernel.invokeFunction('convertToInteractive',\n",
              "                                                     [key], {});\n",
              "          if (!dataTable) return;\n",
              "\n",
              "          const docLinkHtml = 'Like what you see? Visit the ' +\n",
              "            '<a target=\"_blank\" href=https://colab.research.google.com/notebooks/data_table.ipynb>data table notebook</a>'\n",
              "            + ' to learn more about interactive tables.';\n",
              "          element.innerHTML = '';\n",
              "          dataTable['output_type'] = 'display_data';\n",
              "          await google.colab.output.renderOutput(dataTable, element);\n",
              "          const docLink = document.createElement('div');\n",
              "          docLink.innerHTML = docLinkHtml;\n",
              "          element.appendChild(docLink);\n",
              "        }\n",
              "      </script>\n",
              "    </div>\n",
              "  </div>\n",
              "  "
            ]
          },
          "metadata": {},
          "execution_count": 88
        }
      ],
      "source": [
        "grouped_by_user['conversion'] = grouped_by_user['n_contacts_show']/grouped_by_user['n_session']\n",
        "grouped_by_user"
      ]
    },
    {
      "cell_type": "code",
      "execution_count": 89,
      "metadata": {
        "colab": {
          "base_uri": "https://localhost:8080/",
          "height": 300
        },
        "id": "UNZ4XXybQ7e2",
        "outputId": "418904e8-45b3-48dc-b496-78f3b1a08369"
      },
      "outputs": [
        {
          "output_type": "execute_result",
          "data": {
            "text/plain": [
              "       duration  n_session  n_event  n_contacts_show  photos_show  tips_show  \\\n",
              "count  4,293.00   4,293.00 4,293.00         4,293.00     4,293.00   4,293.00   \n",
              "mean       3.61      17.28    17.28             1.05         0.26       0.65   \n",
              "std        5.19      29.13    29.13             4.99         0.44       0.48   \n",
              "min        1.00       1.00     1.00             0.00         0.00       0.00   \n",
              "25%        1.00       5.00     5.00             0.00         0.00       0.00   \n",
              "50%        1.00       9.00     9.00             0.00         0.00       1.00   \n",
              "75%        4.00      17.00    17.00             0.00         1.00       1.00   \n",
              "max       28.00     478.00   478.00           137.00         1.00       1.00   \n",
              "\n",
              "        search  conversion  \n",
              "count 4,293.00    4,293.00  \n",
              "mean      0.39        0.06  \n",
              "std       0.49        0.15  \n",
              "min       0.00        0.00  \n",
              "25%       0.00        0.00  \n",
              "50%       0.00        0.00  \n",
              "75%       1.00        0.00  \n",
              "max       1.00        1.00  "
            ],
            "text/html": [
              "\n",
              "  <div id=\"df-c384de0b-ba3f-4322-9317-35361d3ea7d3\">\n",
              "    <div class=\"colab-df-container\">\n",
              "      <div>\n",
              "<style scoped>\n",
              "    .dataframe tbody tr th:only-of-type {\n",
              "        vertical-align: middle;\n",
              "    }\n",
              "\n",
              "    .dataframe tbody tr th {\n",
              "        vertical-align: top;\n",
              "    }\n",
              "\n",
              "    .dataframe thead th {\n",
              "        text-align: right;\n",
              "    }\n",
              "</style>\n",
              "<table border=\"1\" class=\"dataframe\">\n",
              "  <thead>\n",
              "    <tr style=\"text-align: right;\">\n",
              "      <th></th>\n",
              "      <th>duration</th>\n",
              "      <th>n_session</th>\n",
              "      <th>n_event</th>\n",
              "      <th>n_contacts_show</th>\n",
              "      <th>photos_show</th>\n",
              "      <th>tips_show</th>\n",
              "      <th>search</th>\n",
              "      <th>conversion</th>\n",
              "    </tr>\n",
              "  </thead>\n",
              "  <tbody>\n",
              "    <tr>\n",
              "      <th>count</th>\n",
              "      <td>4,293.00</td>\n",
              "      <td>4,293.00</td>\n",
              "      <td>4,293.00</td>\n",
              "      <td>4,293.00</td>\n",
              "      <td>4,293.00</td>\n",
              "      <td>4,293.00</td>\n",
              "      <td>4,293.00</td>\n",
              "      <td>4,293.00</td>\n",
              "    </tr>\n",
              "    <tr>\n",
              "      <th>mean</th>\n",
              "      <td>3.61</td>\n",
              "      <td>17.28</td>\n",
              "      <td>17.28</td>\n",
              "      <td>1.05</td>\n",
              "      <td>0.26</td>\n",
              "      <td>0.65</td>\n",
              "      <td>0.39</td>\n",
              "      <td>0.06</td>\n",
              "    </tr>\n",
              "    <tr>\n",
              "      <th>std</th>\n",
              "      <td>5.19</td>\n",
              "      <td>29.13</td>\n",
              "      <td>29.13</td>\n",
              "      <td>4.99</td>\n",
              "      <td>0.44</td>\n",
              "      <td>0.48</td>\n",
              "      <td>0.49</td>\n",
              "      <td>0.15</td>\n",
              "    </tr>\n",
              "    <tr>\n",
              "      <th>min</th>\n",
              "      <td>1.00</td>\n",
              "      <td>1.00</td>\n",
              "      <td>1.00</td>\n",
              "      <td>0.00</td>\n",
              "      <td>0.00</td>\n",
              "      <td>0.00</td>\n",
              "      <td>0.00</td>\n",
              "      <td>0.00</td>\n",
              "    </tr>\n",
              "    <tr>\n",
              "      <th>25%</th>\n",
              "      <td>1.00</td>\n",
              "      <td>5.00</td>\n",
              "      <td>5.00</td>\n",
              "      <td>0.00</td>\n",
              "      <td>0.00</td>\n",
              "      <td>0.00</td>\n",
              "      <td>0.00</td>\n",
              "      <td>0.00</td>\n",
              "    </tr>\n",
              "    <tr>\n",
              "      <th>50%</th>\n",
              "      <td>1.00</td>\n",
              "      <td>9.00</td>\n",
              "      <td>9.00</td>\n",
              "      <td>0.00</td>\n",
              "      <td>0.00</td>\n",
              "      <td>1.00</td>\n",
              "      <td>0.00</td>\n",
              "      <td>0.00</td>\n",
              "    </tr>\n",
              "    <tr>\n",
              "      <th>75%</th>\n",
              "      <td>4.00</td>\n",
              "      <td>17.00</td>\n",
              "      <td>17.00</td>\n",
              "      <td>0.00</td>\n",
              "      <td>1.00</td>\n",
              "      <td>1.00</td>\n",
              "      <td>1.00</td>\n",
              "      <td>0.00</td>\n",
              "    </tr>\n",
              "    <tr>\n",
              "      <th>max</th>\n",
              "      <td>28.00</td>\n",
              "      <td>478.00</td>\n",
              "      <td>478.00</td>\n",
              "      <td>137.00</td>\n",
              "      <td>1.00</td>\n",
              "      <td>1.00</td>\n",
              "      <td>1.00</td>\n",
              "      <td>1.00</td>\n",
              "    </tr>\n",
              "  </tbody>\n",
              "</table>\n",
              "</div>\n",
              "      <button class=\"colab-df-convert\" onclick=\"convertToInteractive('df-c384de0b-ba3f-4322-9317-35361d3ea7d3')\"\n",
              "              title=\"Convert this dataframe to an interactive table.\"\n",
              "              style=\"display:none;\">\n",
              "        \n",
              "  <svg xmlns=\"http://www.w3.org/2000/svg\" height=\"24px\"viewBox=\"0 0 24 24\"\n",
              "       width=\"24px\">\n",
              "    <path d=\"M0 0h24v24H0V0z\" fill=\"none\"/>\n",
              "    <path d=\"M18.56 5.44l.94 2.06.94-2.06 2.06-.94-2.06-.94-.94-2.06-.94 2.06-2.06.94zm-11 1L8.5 8.5l.94-2.06 2.06-.94-2.06-.94L8.5 2.5l-.94 2.06-2.06.94zm10 10l.94 2.06.94-2.06 2.06-.94-2.06-.94-.94-2.06-.94 2.06-2.06.94z\"/><path d=\"M17.41 7.96l-1.37-1.37c-.4-.4-.92-.59-1.43-.59-.52 0-1.04.2-1.43.59L10.3 9.45l-7.72 7.72c-.78.78-.78 2.05 0 2.83L4 21.41c.39.39.9.59 1.41.59.51 0 1.02-.2 1.41-.59l7.78-7.78 2.81-2.81c.8-.78.8-2.07 0-2.86zM5.41 20L4 18.59l7.72-7.72 1.47 1.35L5.41 20z\"/>\n",
              "  </svg>\n",
              "      </button>\n",
              "      \n",
              "  <style>\n",
              "    .colab-df-container {\n",
              "      display:flex;\n",
              "      flex-wrap:wrap;\n",
              "      gap: 12px;\n",
              "    }\n",
              "\n",
              "    .colab-df-convert {\n",
              "      background-color: #E8F0FE;\n",
              "      border: none;\n",
              "      border-radius: 50%;\n",
              "      cursor: pointer;\n",
              "      display: none;\n",
              "      fill: #1967D2;\n",
              "      height: 32px;\n",
              "      padding: 0 0 0 0;\n",
              "      width: 32px;\n",
              "    }\n",
              "\n",
              "    .colab-df-convert:hover {\n",
              "      background-color: #E2EBFA;\n",
              "      box-shadow: 0px 1px 2px rgba(60, 64, 67, 0.3), 0px 1px 3px 1px rgba(60, 64, 67, 0.15);\n",
              "      fill: #174EA6;\n",
              "    }\n",
              "\n",
              "    [theme=dark] .colab-df-convert {\n",
              "      background-color: #3B4455;\n",
              "      fill: #D2E3FC;\n",
              "    }\n",
              "\n",
              "    [theme=dark] .colab-df-convert:hover {\n",
              "      background-color: #434B5C;\n",
              "      box-shadow: 0px 1px 3px 1px rgba(0, 0, 0, 0.15);\n",
              "      filter: drop-shadow(0px 1px 2px rgba(0, 0, 0, 0.3));\n",
              "      fill: #FFFFFF;\n",
              "    }\n",
              "  </style>\n",
              "\n",
              "      <script>\n",
              "        const buttonEl =\n",
              "          document.querySelector('#df-c384de0b-ba3f-4322-9317-35361d3ea7d3 button.colab-df-convert');\n",
              "        buttonEl.style.display =\n",
              "          google.colab.kernel.accessAllowed ? 'block' : 'none';\n",
              "\n",
              "        async function convertToInteractive(key) {\n",
              "          const element = document.querySelector('#df-c384de0b-ba3f-4322-9317-35361d3ea7d3');\n",
              "          const dataTable =\n",
              "            await google.colab.kernel.invokeFunction('convertToInteractive',\n",
              "                                                     [key], {});\n",
              "          if (!dataTable) return;\n",
              "\n",
              "          const docLinkHtml = 'Like what you see? Visit the ' +\n",
              "            '<a target=\"_blank\" href=https://colab.research.google.com/notebooks/data_table.ipynb>data table notebook</a>'\n",
              "            + ' to learn more about interactive tables.';\n",
              "          element.innerHTML = '';\n",
              "          dataTable['output_type'] = 'display_data';\n",
              "          await google.colab.output.renderOutput(dataTable, element);\n",
              "          const docLink = document.createElement('div');\n",
              "          docLink.innerHTML = docLinkHtml;\n",
              "          element.appendChild(docLink);\n",
              "        }\n",
              "      </script>\n",
              "    </div>\n",
              "  </div>\n",
              "  "
            ]
          },
          "metadata": {},
          "execution_count": 89
        }
      ],
      "source": [
        "grouped_by_user.describe()"
      ]
    },
    {
      "cell_type": "markdown",
      "metadata": {
        "id": "hKPsE4jiRPw2"
      },
      "source": [
        "Поделим пользователей на 4 группы в зависимости от их активности и достижения цели:\n",
        "1. Часто пользуются и смотрят контакты.\n",
        "2. Активно пользуется приложением, но ни разу не смотрели контакты.\n",
        "3. Пользовался и смотрел контакты, но давно (так как у нас данные только за месяц, возьмем 3 недели).\n",
        "4. Почти не пользуется, контакты не смотрел ни разу."
      ]
    },
    {
      "cell_type": "code",
      "execution_count": 90,
      "metadata": {
        "id": "ZJt9I_ADRYcO"
      },
      "outputs": [],
      "source": [
        "active_contacts_show = grouped_by_user.query('duration >= 2 and n_contacts_show >= 1')\n",
        "active_no_contacts_show = grouped_by_user.query('duration >= 2 and n_contacts_show == 0')\n",
        "inactive_contacts_show = grouped_by_user.query('duration < 2 and n_contacts_show >= 1')\n",
        "inactive_no_contacts_show = grouped_by_user.query('duration < 2 and n_contacts_show == 0')"
      ]
    },
    {
      "cell_type": "code",
      "execution_count": 91,
      "metadata": {
        "colab": {
          "base_uri": "https://localhost:8080/",
          "height": 300
        },
        "id": "eWyE-bdLR2s8",
        "outputId": "75500fe4-86fa-4b4b-9bce-af2af38b351c"
      },
      "outputs": [
        {
          "output_type": "execute_result",
          "data": {
            "text/plain": [
              "       duration  n_session  n_event  n_contacts_show  photos_show  tips_show  \\\n",
              "count    528.00     528.00   528.00           528.00       528.00     528.00   \n",
              "mean       8.26      40.67    40.67             5.85         0.42       0.49   \n",
              "std        6.49      60.78    60.78            12.06         0.49       0.50   \n",
              "min        2.00       2.00     2.00             1.00         0.00       0.00   \n",
              "25%        3.00      10.00    10.00             1.00         0.00       0.00   \n",
              "50%        6.00      20.00    20.00             2.00         0.00       0.00   \n",
              "75%       12.00      43.25    43.25             6.00         1.00       1.00   \n",
              "max       28.00     478.00   478.00           137.00         1.00       1.00   \n",
              "\n",
              "       search  conversion  \n",
              "count  528.00      528.00  \n",
              "mean     0.48        0.20  \n",
              "std      0.50        0.19  \n",
              "min      0.00        0.00  \n",
              "25%      0.00        0.06  \n",
              "50%      0.00        0.14  \n",
              "75%      1.00        0.28  \n",
              "max      1.00        1.00  "
            ],
            "text/html": [
              "\n",
              "  <div id=\"df-b944b8c3-9a9d-4444-becf-d5b99d015fdd\">\n",
              "    <div class=\"colab-df-container\">\n",
              "      <div>\n",
              "<style scoped>\n",
              "    .dataframe tbody tr th:only-of-type {\n",
              "        vertical-align: middle;\n",
              "    }\n",
              "\n",
              "    .dataframe tbody tr th {\n",
              "        vertical-align: top;\n",
              "    }\n",
              "\n",
              "    .dataframe thead th {\n",
              "        text-align: right;\n",
              "    }\n",
              "</style>\n",
              "<table border=\"1\" class=\"dataframe\">\n",
              "  <thead>\n",
              "    <tr style=\"text-align: right;\">\n",
              "      <th></th>\n",
              "      <th>duration</th>\n",
              "      <th>n_session</th>\n",
              "      <th>n_event</th>\n",
              "      <th>n_contacts_show</th>\n",
              "      <th>photos_show</th>\n",
              "      <th>tips_show</th>\n",
              "      <th>search</th>\n",
              "      <th>conversion</th>\n",
              "    </tr>\n",
              "  </thead>\n",
              "  <tbody>\n",
              "    <tr>\n",
              "      <th>count</th>\n",
              "      <td>528.00</td>\n",
              "      <td>528.00</td>\n",
              "      <td>528.00</td>\n",
              "      <td>528.00</td>\n",
              "      <td>528.00</td>\n",
              "      <td>528.00</td>\n",
              "      <td>528.00</td>\n",
              "      <td>528.00</td>\n",
              "    </tr>\n",
              "    <tr>\n",
              "      <th>mean</th>\n",
              "      <td>8.26</td>\n",
              "      <td>40.67</td>\n",
              "      <td>40.67</td>\n",
              "      <td>5.85</td>\n",
              "      <td>0.42</td>\n",
              "      <td>0.49</td>\n",
              "      <td>0.48</td>\n",
              "      <td>0.20</td>\n",
              "    </tr>\n",
              "    <tr>\n",
              "      <th>std</th>\n",
              "      <td>6.49</td>\n",
              "      <td>60.78</td>\n",
              "      <td>60.78</td>\n",
              "      <td>12.06</td>\n",
              "      <td>0.49</td>\n",
              "      <td>0.50</td>\n",
              "      <td>0.50</td>\n",
              "      <td>0.19</td>\n",
              "    </tr>\n",
              "    <tr>\n",
              "      <th>min</th>\n",
              "      <td>2.00</td>\n",
              "      <td>2.00</td>\n",
              "      <td>2.00</td>\n",
              "      <td>1.00</td>\n",
              "      <td>0.00</td>\n",
              "      <td>0.00</td>\n",
              "      <td>0.00</td>\n",
              "      <td>0.00</td>\n",
              "    </tr>\n",
              "    <tr>\n",
              "      <th>25%</th>\n",
              "      <td>3.00</td>\n",
              "      <td>10.00</td>\n",
              "      <td>10.00</td>\n",
              "      <td>1.00</td>\n",
              "      <td>0.00</td>\n",
              "      <td>0.00</td>\n",
              "      <td>0.00</td>\n",
              "      <td>0.06</td>\n",
              "    </tr>\n",
              "    <tr>\n",
              "      <th>50%</th>\n",
              "      <td>6.00</td>\n",
              "      <td>20.00</td>\n",
              "      <td>20.00</td>\n",
              "      <td>2.00</td>\n",
              "      <td>0.00</td>\n",
              "      <td>0.00</td>\n",
              "      <td>0.00</td>\n",
              "      <td>0.14</td>\n",
              "    </tr>\n",
              "    <tr>\n",
              "      <th>75%</th>\n",
              "      <td>12.00</td>\n",
              "      <td>43.25</td>\n",
              "      <td>43.25</td>\n",
              "      <td>6.00</td>\n",
              "      <td>1.00</td>\n",
              "      <td>1.00</td>\n",
              "      <td>1.00</td>\n",
              "      <td>0.28</td>\n",
              "    </tr>\n",
              "    <tr>\n",
              "      <th>max</th>\n",
              "      <td>28.00</td>\n",
              "      <td>478.00</td>\n",
              "      <td>478.00</td>\n",
              "      <td>137.00</td>\n",
              "      <td>1.00</td>\n",
              "      <td>1.00</td>\n",
              "      <td>1.00</td>\n",
              "      <td>1.00</td>\n",
              "    </tr>\n",
              "  </tbody>\n",
              "</table>\n",
              "</div>\n",
              "      <button class=\"colab-df-convert\" onclick=\"convertToInteractive('df-b944b8c3-9a9d-4444-becf-d5b99d015fdd')\"\n",
              "              title=\"Convert this dataframe to an interactive table.\"\n",
              "              style=\"display:none;\">\n",
              "        \n",
              "  <svg xmlns=\"http://www.w3.org/2000/svg\" height=\"24px\"viewBox=\"0 0 24 24\"\n",
              "       width=\"24px\">\n",
              "    <path d=\"M0 0h24v24H0V0z\" fill=\"none\"/>\n",
              "    <path d=\"M18.56 5.44l.94 2.06.94-2.06 2.06-.94-2.06-.94-.94-2.06-.94 2.06-2.06.94zm-11 1L8.5 8.5l.94-2.06 2.06-.94-2.06-.94L8.5 2.5l-.94 2.06-2.06.94zm10 10l.94 2.06.94-2.06 2.06-.94-2.06-.94-.94-2.06-.94 2.06-2.06.94z\"/><path d=\"M17.41 7.96l-1.37-1.37c-.4-.4-.92-.59-1.43-.59-.52 0-1.04.2-1.43.59L10.3 9.45l-7.72 7.72c-.78.78-.78 2.05 0 2.83L4 21.41c.39.39.9.59 1.41.59.51 0 1.02-.2 1.41-.59l7.78-7.78 2.81-2.81c.8-.78.8-2.07 0-2.86zM5.41 20L4 18.59l7.72-7.72 1.47 1.35L5.41 20z\"/>\n",
              "  </svg>\n",
              "      </button>\n",
              "      \n",
              "  <style>\n",
              "    .colab-df-container {\n",
              "      display:flex;\n",
              "      flex-wrap:wrap;\n",
              "      gap: 12px;\n",
              "    }\n",
              "\n",
              "    .colab-df-convert {\n",
              "      background-color: #E8F0FE;\n",
              "      border: none;\n",
              "      border-radius: 50%;\n",
              "      cursor: pointer;\n",
              "      display: none;\n",
              "      fill: #1967D2;\n",
              "      height: 32px;\n",
              "      padding: 0 0 0 0;\n",
              "      width: 32px;\n",
              "    }\n",
              "\n",
              "    .colab-df-convert:hover {\n",
              "      background-color: #E2EBFA;\n",
              "      box-shadow: 0px 1px 2px rgba(60, 64, 67, 0.3), 0px 1px 3px 1px rgba(60, 64, 67, 0.15);\n",
              "      fill: #174EA6;\n",
              "    }\n",
              "\n",
              "    [theme=dark] .colab-df-convert {\n",
              "      background-color: #3B4455;\n",
              "      fill: #D2E3FC;\n",
              "    }\n",
              "\n",
              "    [theme=dark] .colab-df-convert:hover {\n",
              "      background-color: #434B5C;\n",
              "      box-shadow: 0px 1px 3px 1px rgba(0, 0, 0, 0.15);\n",
              "      filter: drop-shadow(0px 1px 2px rgba(0, 0, 0, 0.3));\n",
              "      fill: #FFFFFF;\n",
              "    }\n",
              "  </style>\n",
              "\n",
              "      <script>\n",
              "        const buttonEl =\n",
              "          document.querySelector('#df-b944b8c3-9a9d-4444-becf-d5b99d015fdd button.colab-df-convert');\n",
              "        buttonEl.style.display =\n",
              "          google.colab.kernel.accessAllowed ? 'block' : 'none';\n",
              "\n",
              "        async function convertToInteractive(key) {\n",
              "          const element = document.querySelector('#df-b944b8c3-9a9d-4444-becf-d5b99d015fdd');\n",
              "          const dataTable =\n",
              "            await google.colab.kernel.invokeFunction('convertToInteractive',\n",
              "                                                     [key], {});\n",
              "          if (!dataTable) return;\n",
              "\n",
              "          const docLinkHtml = 'Like what you see? Visit the ' +\n",
              "            '<a target=\"_blank\" href=https://colab.research.google.com/notebooks/data_table.ipynb>data table notebook</a>'\n",
              "            + ' to learn more about interactive tables.';\n",
              "          element.innerHTML = '';\n",
              "          dataTable['output_type'] = 'display_data';\n",
              "          await google.colab.output.renderOutput(dataTable, element);\n",
              "          const docLink = document.createElement('div');\n",
              "          docLink.innerHTML = docLinkHtml;\n",
              "          element.appendChild(docLink);\n",
              "        }\n",
              "      </script>\n",
              "    </div>\n",
              "  </div>\n",
              "  "
            ]
          },
          "metadata": {},
          "execution_count": 91
        }
      ],
      "source": [
        "active_contacts_show.describe()"
      ]
    },
    {
      "cell_type": "markdown",
      "metadata": {
        "id": "2efv0ppnSA9q"
      },
      "source": [
        "Активные, достигают цели - работаем над другими группами, чтобы увеличить численность этой."
      ]
    },
    {
      "cell_type": "code",
      "execution_count": 92,
      "metadata": {
        "colab": {
          "base_uri": "https://localhost:8080/",
          "height": 300
        },
        "id": "QFiUagvoSGxA",
        "outputId": "acc2bb31-6488-46b0-f5b0-f13f73612a60"
      },
      "outputs": [
        {
          "output_type": "execute_result",
          "data": {
            "text/plain": [
              "       duration  n_session  n_event  n_contacts_show  photos_show  tips_show  \\\n",
              "count  1,009.00   1,009.00 1,009.00         1,009.00     1,009.00   1,009.00   \n",
              "mean       8.32      23.11    23.11             0.00         0.32       0.63   \n",
              "std        6.36      30.57    30.57             0.00         0.47       0.48   \n",
              "min        2.00       2.00     2.00             0.00         0.00       0.00   \n",
              "25%        3.00       7.00     7.00             0.00         0.00       0.00   \n",
              "50%        6.00      13.00    13.00             0.00         0.00       1.00   \n",
              "75%       12.00      26.00    26.00             0.00         1.00       1.00   \n",
              "max       28.00     407.00   407.00             0.00         1.00       1.00   \n",
              "\n",
              "        search  conversion  \n",
              "count 1,009.00    1,009.00  \n",
              "mean      0.47        0.00  \n",
              "std       0.50        0.00  \n",
              "min       0.00        0.00  \n",
              "25%       0.00        0.00  \n",
              "50%       0.00        0.00  \n",
              "75%       1.00        0.00  \n",
              "max       1.00        0.00  "
            ],
            "text/html": [
              "\n",
              "  <div id=\"df-0c5d8321-a914-4360-a553-3142405f27a4\">\n",
              "    <div class=\"colab-df-container\">\n",
              "      <div>\n",
              "<style scoped>\n",
              "    .dataframe tbody tr th:only-of-type {\n",
              "        vertical-align: middle;\n",
              "    }\n",
              "\n",
              "    .dataframe tbody tr th {\n",
              "        vertical-align: top;\n",
              "    }\n",
              "\n",
              "    .dataframe thead th {\n",
              "        text-align: right;\n",
              "    }\n",
              "</style>\n",
              "<table border=\"1\" class=\"dataframe\">\n",
              "  <thead>\n",
              "    <tr style=\"text-align: right;\">\n",
              "      <th></th>\n",
              "      <th>duration</th>\n",
              "      <th>n_session</th>\n",
              "      <th>n_event</th>\n",
              "      <th>n_contacts_show</th>\n",
              "      <th>photos_show</th>\n",
              "      <th>tips_show</th>\n",
              "      <th>search</th>\n",
              "      <th>conversion</th>\n",
              "    </tr>\n",
              "  </thead>\n",
              "  <tbody>\n",
              "    <tr>\n",
              "      <th>count</th>\n",
              "      <td>1,009.00</td>\n",
              "      <td>1,009.00</td>\n",
              "      <td>1,009.00</td>\n",
              "      <td>1,009.00</td>\n",
              "      <td>1,009.00</td>\n",
              "      <td>1,009.00</td>\n",
              "      <td>1,009.00</td>\n",
              "      <td>1,009.00</td>\n",
              "    </tr>\n",
              "    <tr>\n",
              "      <th>mean</th>\n",
              "      <td>8.32</td>\n",
              "      <td>23.11</td>\n",
              "      <td>23.11</td>\n",
              "      <td>0.00</td>\n",
              "      <td>0.32</td>\n",
              "      <td>0.63</td>\n",
              "      <td>0.47</td>\n",
              "      <td>0.00</td>\n",
              "    </tr>\n",
              "    <tr>\n",
              "      <th>std</th>\n",
              "      <td>6.36</td>\n",
              "      <td>30.57</td>\n",
              "      <td>30.57</td>\n",
              "      <td>0.00</td>\n",
              "      <td>0.47</td>\n",
              "      <td>0.48</td>\n",
              "      <td>0.50</td>\n",
              "      <td>0.00</td>\n",
              "    </tr>\n",
              "    <tr>\n",
              "      <th>min</th>\n",
              "      <td>2.00</td>\n",
              "      <td>2.00</td>\n",
              "      <td>2.00</td>\n",
              "      <td>0.00</td>\n",
              "      <td>0.00</td>\n",
              "      <td>0.00</td>\n",
              "      <td>0.00</td>\n",
              "      <td>0.00</td>\n",
              "    </tr>\n",
              "    <tr>\n",
              "      <th>25%</th>\n",
              "      <td>3.00</td>\n",
              "      <td>7.00</td>\n",
              "      <td>7.00</td>\n",
              "      <td>0.00</td>\n",
              "      <td>0.00</td>\n",
              "      <td>0.00</td>\n",
              "      <td>0.00</td>\n",
              "      <td>0.00</td>\n",
              "    </tr>\n",
              "    <tr>\n",
              "      <th>50%</th>\n",
              "      <td>6.00</td>\n",
              "      <td>13.00</td>\n",
              "      <td>13.00</td>\n",
              "      <td>0.00</td>\n",
              "      <td>0.00</td>\n",
              "      <td>1.00</td>\n",
              "      <td>0.00</td>\n",
              "      <td>0.00</td>\n",
              "    </tr>\n",
              "    <tr>\n",
              "      <th>75%</th>\n",
              "      <td>12.00</td>\n",
              "      <td>26.00</td>\n",
              "      <td>26.00</td>\n",
              "      <td>0.00</td>\n",
              "      <td>1.00</td>\n",
              "      <td>1.00</td>\n",
              "      <td>1.00</td>\n",
              "      <td>0.00</td>\n",
              "    </tr>\n",
              "    <tr>\n",
              "      <th>max</th>\n",
              "      <td>28.00</td>\n",
              "      <td>407.00</td>\n",
              "      <td>407.00</td>\n",
              "      <td>0.00</td>\n",
              "      <td>1.00</td>\n",
              "      <td>1.00</td>\n",
              "      <td>1.00</td>\n",
              "      <td>0.00</td>\n",
              "    </tr>\n",
              "  </tbody>\n",
              "</table>\n",
              "</div>\n",
              "      <button class=\"colab-df-convert\" onclick=\"convertToInteractive('df-0c5d8321-a914-4360-a553-3142405f27a4')\"\n",
              "              title=\"Convert this dataframe to an interactive table.\"\n",
              "              style=\"display:none;\">\n",
              "        \n",
              "  <svg xmlns=\"http://www.w3.org/2000/svg\" height=\"24px\"viewBox=\"0 0 24 24\"\n",
              "       width=\"24px\">\n",
              "    <path d=\"M0 0h24v24H0V0z\" fill=\"none\"/>\n",
              "    <path d=\"M18.56 5.44l.94 2.06.94-2.06 2.06-.94-2.06-.94-.94-2.06-.94 2.06-2.06.94zm-11 1L8.5 8.5l.94-2.06 2.06-.94-2.06-.94L8.5 2.5l-.94 2.06-2.06.94zm10 10l.94 2.06.94-2.06 2.06-.94-2.06-.94-.94-2.06-.94 2.06-2.06.94z\"/><path d=\"M17.41 7.96l-1.37-1.37c-.4-.4-.92-.59-1.43-.59-.52 0-1.04.2-1.43.59L10.3 9.45l-7.72 7.72c-.78.78-.78 2.05 0 2.83L4 21.41c.39.39.9.59 1.41.59.51 0 1.02-.2 1.41-.59l7.78-7.78 2.81-2.81c.8-.78.8-2.07 0-2.86zM5.41 20L4 18.59l7.72-7.72 1.47 1.35L5.41 20z\"/>\n",
              "  </svg>\n",
              "      </button>\n",
              "      \n",
              "  <style>\n",
              "    .colab-df-container {\n",
              "      display:flex;\n",
              "      flex-wrap:wrap;\n",
              "      gap: 12px;\n",
              "    }\n",
              "\n",
              "    .colab-df-convert {\n",
              "      background-color: #E8F0FE;\n",
              "      border: none;\n",
              "      border-radius: 50%;\n",
              "      cursor: pointer;\n",
              "      display: none;\n",
              "      fill: #1967D2;\n",
              "      height: 32px;\n",
              "      padding: 0 0 0 0;\n",
              "      width: 32px;\n",
              "    }\n",
              "\n",
              "    .colab-df-convert:hover {\n",
              "      background-color: #E2EBFA;\n",
              "      box-shadow: 0px 1px 2px rgba(60, 64, 67, 0.3), 0px 1px 3px 1px rgba(60, 64, 67, 0.15);\n",
              "      fill: #174EA6;\n",
              "    }\n",
              "\n",
              "    [theme=dark] .colab-df-convert {\n",
              "      background-color: #3B4455;\n",
              "      fill: #D2E3FC;\n",
              "    }\n",
              "\n",
              "    [theme=dark] .colab-df-convert:hover {\n",
              "      background-color: #434B5C;\n",
              "      box-shadow: 0px 1px 3px 1px rgba(0, 0, 0, 0.15);\n",
              "      filter: drop-shadow(0px 1px 2px rgba(0, 0, 0, 0.3));\n",
              "      fill: #FFFFFF;\n",
              "    }\n",
              "  </style>\n",
              "\n",
              "      <script>\n",
              "        const buttonEl =\n",
              "          document.querySelector('#df-0c5d8321-a914-4360-a553-3142405f27a4 button.colab-df-convert');\n",
              "        buttonEl.style.display =\n",
              "          google.colab.kernel.accessAllowed ? 'block' : 'none';\n",
              "\n",
              "        async function convertToInteractive(key) {\n",
              "          const element = document.querySelector('#df-0c5d8321-a914-4360-a553-3142405f27a4');\n",
              "          const dataTable =\n",
              "            await google.colab.kernel.invokeFunction('convertToInteractive',\n",
              "                                                     [key], {});\n",
              "          if (!dataTable) return;\n",
              "\n",
              "          const docLinkHtml = 'Like what you see? Visit the ' +\n",
              "            '<a target=\"_blank\" href=https://colab.research.google.com/notebooks/data_table.ipynb>data table notebook</a>'\n",
              "            + ' to learn more about interactive tables.';\n",
              "          element.innerHTML = '';\n",
              "          dataTable['output_type'] = 'display_data';\n",
              "          await google.colab.output.renderOutput(dataTable, element);\n",
              "          const docLink = document.createElement('div');\n",
              "          docLink.innerHTML = docLinkHtml;\n",
              "          element.appendChild(docLink);\n",
              "        }\n",
              "      </script>\n",
              "    </div>\n",
              "  </div>\n",
              "  "
            ]
          },
          "metadata": {},
          "execution_count": 92
        }
      ],
      "source": [
        "active_no_contacts_show.describe()"
      ]
    },
    {
      "cell_type": "markdown",
      "metadata": {
        "id": "NSmRMWu9SKVM"
      },
      "source": [
        "Эта группа вторая по численности: активны, но не интересуются контактами. Возможно они \"осматриваются\" или не могут найти то, что им нужно. Нужно детальнее посмотреть, как они пользуются приложением: может им недостаточно финкционала приложения (нет возможности уточнения запроса, фильтров)."
      ]
    },
    {
      "cell_type": "code",
      "execution_count": 93,
      "metadata": {
        "colab": {
          "base_uri": "https://localhost:8080/",
          "height": 300
        },
        "id": "Tu2YX8lESUD-",
        "outputId": "c91c1fad-efe8-4b88-e2e0-78891eb26673"
      },
      "outputs": [
        {
          "output_type": "execute_result",
          "data": {
            "text/plain": [
              "       duration  n_session  n_event  n_contacts_show  photos_show  tips_show  \\\n",
              "count    453.00     453.00   453.00           453.00       453.00     453.00   \n",
              "mean       1.00      12.64    12.64             3.18         0.25       0.56   \n",
              "std        0.00      13.04    13.04             5.21         0.44       0.50   \n",
              "min        1.00       1.00     1.00             1.00         0.00       0.00   \n",
              "25%        1.00       5.00     5.00             1.00         0.00       0.00   \n",
              "50%        1.00       8.00     8.00             2.00         0.00       1.00   \n",
              "75%        1.00      15.00    15.00             3.00         1.00       1.00   \n",
              "max        1.00     104.00   104.00            65.00         1.00       1.00   \n",
              "\n",
              "       search  conversion  \n",
              "count  453.00      453.00  \n",
              "mean     0.27        0.31  \n",
              "std      0.45        0.26  \n",
              "min      0.00        0.01  \n",
              "25%      0.00        0.12  \n",
              "50%      0.00        0.23  \n",
              "75%      1.00        0.40  \n",
              "max      1.00        1.00  "
            ],
            "text/html": [
              "\n",
              "  <div id=\"df-5dd5f6f9-6026-4cf5-a3a5-63ded7d869d8\">\n",
              "    <div class=\"colab-df-container\">\n",
              "      <div>\n",
              "<style scoped>\n",
              "    .dataframe tbody tr th:only-of-type {\n",
              "        vertical-align: middle;\n",
              "    }\n",
              "\n",
              "    .dataframe tbody tr th {\n",
              "        vertical-align: top;\n",
              "    }\n",
              "\n",
              "    .dataframe thead th {\n",
              "        text-align: right;\n",
              "    }\n",
              "</style>\n",
              "<table border=\"1\" class=\"dataframe\">\n",
              "  <thead>\n",
              "    <tr style=\"text-align: right;\">\n",
              "      <th></th>\n",
              "      <th>duration</th>\n",
              "      <th>n_session</th>\n",
              "      <th>n_event</th>\n",
              "      <th>n_contacts_show</th>\n",
              "      <th>photos_show</th>\n",
              "      <th>tips_show</th>\n",
              "      <th>search</th>\n",
              "      <th>conversion</th>\n",
              "    </tr>\n",
              "  </thead>\n",
              "  <tbody>\n",
              "    <tr>\n",
              "      <th>count</th>\n",
              "      <td>453.00</td>\n",
              "      <td>453.00</td>\n",
              "      <td>453.00</td>\n",
              "      <td>453.00</td>\n",
              "      <td>453.00</td>\n",
              "      <td>453.00</td>\n",
              "      <td>453.00</td>\n",
              "      <td>453.00</td>\n",
              "    </tr>\n",
              "    <tr>\n",
              "      <th>mean</th>\n",
              "      <td>1.00</td>\n",
              "      <td>12.64</td>\n",
              "      <td>12.64</td>\n",
              "      <td>3.18</td>\n",
              "      <td>0.25</td>\n",
              "      <td>0.56</td>\n",
              "      <td>0.27</td>\n",
              "      <td>0.31</td>\n",
              "    </tr>\n",
              "    <tr>\n",
              "      <th>std</th>\n",
              "      <td>0.00</td>\n",
              "      <td>13.04</td>\n",
              "      <td>13.04</td>\n",
              "      <td>5.21</td>\n",
              "      <td>0.44</td>\n",
              "      <td>0.50</td>\n",
              "      <td>0.45</td>\n",
              "      <td>0.26</td>\n",
              "    </tr>\n",
              "    <tr>\n",
              "      <th>min</th>\n",
              "      <td>1.00</td>\n",
              "      <td>1.00</td>\n",
              "      <td>1.00</td>\n",
              "      <td>1.00</td>\n",
              "      <td>0.00</td>\n",
              "      <td>0.00</td>\n",
              "      <td>0.00</td>\n",
              "      <td>0.01</td>\n",
              "    </tr>\n",
              "    <tr>\n",
              "      <th>25%</th>\n",
              "      <td>1.00</td>\n",
              "      <td>5.00</td>\n",
              "      <td>5.00</td>\n",
              "      <td>1.00</td>\n",
              "      <td>0.00</td>\n",
              "      <td>0.00</td>\n",
              "      <td>0.00</td>\n",
              "      <td>0.12</td>\n",
              "    </tr>\n",
              "    <tr>\n",
              "      <th>50%</th>\n",
              "      <td>1.00</td>\n",
              "      <td>8.00</td>\n",
              "      <td>8.00</td>\n",
              "      <td>2.00</td>\n",
              "      <td>0.00</td>\n",
              "      <td>1.00</td>\n",
              "      <td>0.00</td>\n",
              "      <td>0.23</td>\n",
              "    </tr>\n",
              "    <tr>\n",
              "      <th>75%</th>\n",
              "      <td>1.00</td>\n",
              "      <td>15.00</td>\n",
              "      <td>15.00</td>\n",
              "      <td>3.00</td>\n",
              "      <td>1.00</td>\n",
              "      <td>1.00</td>\n",
              "      <td>1.00</td>\n",
              "      <td>0.40</td>\n",
              "    </tr>\n",
              "    <tr>\n",
              "      <th>max</th>\n",
              "      <td>1.00</td>\n",
              "      <td>104.00</td>\n",
              "      <td>104.00</td>\n",
              "      <td>65.00</td>\n",
              "      <td>1.00</td>\n",
              "      <td>1.00</td>\n",
              "      <td>1.00</td>\n",
              "      <td>1.00</td>\n",
              "    </tr>\n",
              "  </tbody>\n",
              "</table>\n",
              "</div>\n",
              "      <button class=\"colab-df-convert\" onclick=\"convertToInteractive('df-5dd5f6f9-6026-4cf5-a3a5-63ded7d869d8')\"\n",
              "              title=\"Convert this dataframe to an interactive table.\"\n",
              "              style=\"display:none;\">\n",
              "        \n",
              "  <svg xmlns=\"http://www.w3.org/2000/svg\" height=\"24px\"viewBox=\"0 0 24 24\"\n",
              "       width=\"24px\">\n",
              "    <path d=\"M0 0h24v24H0V0z\" fill=\"none\"/>\n",
              "    <path d=\"M18.56 5.44l.94 2.06.94-2.06 2.06-.94-2.06-.94-.94-2.06-.94 2.06-2.06.94zm-11 1L8.5 8.5l.94-2.06 2.06-.94-2.06-.94L8.5 2.5l-.94 2.06-2.06.94zm10 10l.94 2.06.94-2.06 2.06-.94-2.06-.94-.94-2.06-.94 2.06-2.06.94z\"/><path d=\"M17.41 7.96l-1.37-1.37c-.4-.4-.92-.59-1.43-.59-.52 0-1.04.2-1.43.59L10.3 9.45l-7.72 7.72c-.78.78-.78 2.05 0 2.83L4 21.41c.39.39.9.59 1.41.59.51 0 1.02-.2 1.41-.59l7.78-7.78 2.81-2.81c.8-.78.8-2.07 0-2.86zM5.41 20L4 18.59l7.72-7.72 1.47 1.35L5.41 20z\"/>\n",
              "  </svg>\n",
              "      </button>\n",
              "      \n",
              "  <style>\n",
              "    .colab-df-container {\n",
              "      display:flex;\n",
              "      flex-wrap:wrap;\n",
              "      gap: 12px;\n",
              "    }\n",
              "\n",
              "    .colab-df-convert {\n",
              "      background-color: #E8F0FE;\n",
              "      border: none;\n",
              "      border-radius: 50%;\n",
              "      cursor: pointer;\n",
              "      display: none;\n",
              "      fill: #1967D2;\n",
              "      height: 32px;\n",
              "      padding: 0 0 0 0;\n",
              "      width: 32px;\n",
              "    }\n",
              "\n",
              "    .colab-df-convert:hover {\n",
              "      background-color: #E2EBFA;\n",
              "      box-shadow: 0px 1px 2px rgba(60, 64, 67, 0.3), 0px 1px 3px 1px rgba(60, 64, 67, 0.15);\n",
              "      fill: #174EA6;\n",
              "    }\n",
              "\n",
              "    [theme=dark] .colab-df-convert {\n",
              "      background-color: #3B4455;\n",
              "      fill: #D2E3FC;\n",
              "    }\n",
              "\n",
              "    [theme=dark] .colab-df-convert:hover {\n",
              "      background-color: #434B5C;\n",
              "      box-shadow: 0px 1px 3px 1px rgba(0, 0, 0, 0.15);\n",
              "      filter: drop-shadow(0px 1px 2px rgba(0, 0, 0, 0.3));\n",
              "      fill: #FFFFFF;\n",
              "    }\n",
              "  </style>\n",
              "\n",
              "      <script>\n",
              "        const buttonEl =\n",
              "          document.querySelector('#df-5dd5f6f9-6026-4cf5-a3a5-63ded7d869d8 button.colab-df-convert');\n",
              "        buttonEl.style.display =\n",
              "          google.colab.kernel.accessAllowed ? 'block' : 'none';\n",
              "\n",
              "        async function convertToInteractive(key) {\n",
              "          const element = document.querySelector('#df-5dd5f6f9-6026-4cf5-a3a5-63ded7d869d8');\n",
              "          const dataTable =\n",
              "            await google.colab.kernel.invokeFunction('convertToInteractive',\n",
              "                                                     [key], {});\n",
              "          if (!dataTable) return;\n",
              "\n",
              "          const docLinkHtml = 'Like what you see? Visit the ' +\n",
              "            '<a target=\"_blank\" href=https://colab.research.google.com/notebooks/data_table.ipynb>data table notebook</a>'\n",
              "            + ' to learn more about interactive tables.';\n",
              "          element.innerHTML = '';\n",
              "          dataTable['output_type'] = 'display_data';\n",
              "          await google.colab.output.renderOutput(dataTable, element);\n",
              "          const docLink = document.createElement('div');\n",
              "          docLink.innerHTML = docLinkHtml;\n",
              "          element.appendChild(docLink);\n",
              "        }\n",
              "      </script>\n",
              "    </div>\n",
              "  </div>\n",
              "  "
            ]
          },
          "metadata": {},
          "execution_count": 93
        }
      ],
      "source": [
        "inactive_contacts_show.describe()"
      ]
    },
    {
      "cell_type": "markdown",
      "metadata": {
        "id": "JVyeA0YBSdNE"
      },
      "source": [
        "Самая маленькая группа пользователей. Они пользовались приложением лишь раз, но все равно достигли цели. Можно попробовать \"позвать\" их обратно, использую уведомления и тд"
      ]
    },
    {
      "cell_type": "code",
      "execution_count": 94,
      "metadata": {
        "colab": {
          "base_uri": "https://localhost:8080/",
          "height": 300
        },
        "id": "PKfHKk3PSiMd",
        "outputId": "6ba4a584-c764-4b94-d08c-bb175764b808"
      },
      "outputs": [
        {
          "output_type": "execute_result",
          "data": {
            "text/plain": [
              "       duration  n_session  n_event  n_contacts_show  photos_show  tips_show  \\\n",
              "count  2,303.00   2,303.00 2,303.00         2,303.00     2,303.00   2,303.00   \n",
              "mean       1.00      10.28    10.28             0.00         0.19       0.72   \n",
              "std        0.00      10.01    10.01             0.00         0.39       0.45   \n",
              "min        1.00       1.00     1.00             0.00         0.00       0.00   \n",
              "25%        1.00       5.00     5.00             0.00         0.00       0.00   \n",
              "50%        1.00       7.00     7.00             0.00         0.00       1.00   \n",
              "75%        1.00      12.00    12.00             0.00         0.00       1.00   \n",
              "max        1.00      97.00    97.00             0.00         1.00       1.00   \n",
              "\n",
              "        search  conversion  \n",
              "count 2,303.00    2,303.00  \n",
              "mean      0.35        0.00  \n",
              "std       0.48        0.00  \n",
              "min       0.00        0.00  \n",
              "25%       0.00        0.00  \n",
              "50%       0.00        0.00  \n",
              "75%       1.00        0.00  \n",
              "max       1.00        0.00  "
            ],
            "text/html": [
              "\n",
              "  <div id=\"df-19e1e4da-a0b1-4572-ae3c-bfaaab2bcab4\">\n",
              "    <div class=\"colab-df-container\">\n",
              "      <div>\n",
              "<style scoped>\n",
              "    .dataframe tbody tr th:only-of-type {\n",
              "        vertical-align: middle;\n",
              "    }\n",
              "\n",
              "    .dataframe tbody tr th {\n",
              "        vertical-align: top;\n",
              "    }\n",
              "\n",
              "    .dataframe thead th {\n",
              "        text-align: right;\n",
              "    }\n",
              "</style>\n",
              "<table border=\"1\" class=\"dataframe\">\n",
              "  <thead>\n",
              "    <tr style=\"text-align: right;\">\n",
              "      <th></th>\n",
              "      <th>duration</th>\n",
              "      <th>n_session</th>\n",
              "      <th>n_event</th>\n",
              "      <th>n_contacts_show</th>\n",
              "      <th>photos_show</th>\n",
              "      <th>tips_show</th>\n",
              "      <th>search</th>\n",
              "      <th>conversion</th>\n",
              "    </tr>\n",
              "  </thead>\n",
              "  <tbody>\n",
              "    <tr>\n",
              "      <th>count</th>\n",
              "      <td>2,303.00</td>\n",
              "      <td>2,303.00</td>\n",
              "      <td>2,303.00</td>\n",
              "      <td>2,303.00</td>\n",
              "      <td>2,303.00</td>\n",
              "      <td>2,303.00</td>\n",
              "      <td>2,303.00</td>\n",
              "      <td>2,303.00</td>\n",
              "    </tr>\n",
              "    <tr>\n",
              "      <th>mean</th>\n",
              "      <td>1.00</td>\n",
              "      <td>10.28</td>\n",
              "      <td>10.28</td>\n",
              "      <td>0.00</td>\n",
              "      <td>0.19</td>\n",
              "      <td>0.72</td>\n",
              "      <td>0.35</td>\n",
              "      <td>0.00</td>\n",
              "    </tr>\n",
              "    <tr>\n",
              "      <th>std</th>\n",
              "      <td>0.00</td>\n",
              "      <td>10.01</td>\n",
              "      <td>10.01</td>\n",
              "      <td>0.00</td>\n",
              "      <td>0.39</td>\n",
              "      <td>0.45</td>\n",
              "      <td>0.48</td>\n",
              "      <td>0.00</td>\n",
              "    </tr>\n",
              "    <tr>\n",
              "      <th>min</th>\n",
              "      <td>1.00</td>\n",
              "      <td>1.00</td>\n",
              "      <td>1.00</td>\n",
              "      <td>0.00</td>\n",
              "      <td>0.00</td>\n",
              "      <td>0.00</td>\n",
              "      <td>0.00</td>\n",
              "      <td>0.00</td>\n",
              "    </tr>\n",
              "    <tr>\n",
              "      <th>25%</th>\n",
              "      <td>1.00</td>\n",
              "      <td>5.00</td>\n",
              "      <td>5.00</td>\n",
              "      <td>0.00</td>\n",
              "      <td>0.00</td>\n",
              "      <td>0.00</td>\n",
              "      <td>0.00</td>\n",
              "      <td>0.00</td>\n",
              "    </tr>\n",
              "    <tr>\n",
              "      <th>50%</th>\n",
              "      <td>1.00</td>\n",
              "      <td>7.00</td>\n",
              "      <td>7.00</td>\n",
              "      <td>0.00</td>\n",
              "      <td>0.00</td>\n",
              "      <td>1.00</td>\n",
              "      <td>0.00</td>\n",
              "      <td>0.00</td>\n",
              "    </tr>\n",
              "    <tr>\n",
              "      <th>75%</th>\n",
              "      <td>1.00</td>\n",
              "      <td>12.00</td>\n",
              "      <td>12.00</td>\n",
              "      <td>0.00</td>\n",
              "      <td>0.00</td>\n",
              "      <td>1.00</td>\n",
              "      <td>1.00</td>\n",
              "      <td>0.00</td>\n",
              "    </tr>\n",
              "    <tr>\n",
              "      <th>max</th>\n",
              "      <td>1.00</td>\n",
              "      <td>97.00</td>\n",
              "      <td>97.00</td>\n",
              "      <td>0.00</td>\n",
              "      <td>1.00</td>\n",
              "      <td>1.00</td>\n",
              "      <td>1.00</td>\n",
              "      <td>0.00</td>\n",
              "    </tr>\n",
              "  </tbody>\n",
              "</table>\n",
              "</div>\n",
              "      <button class=\"colab-df-convert\" onclick=\"convertToInteractive('df-19e1e4da-a0b1-4572-ae3c-bfaaab2bcab4')\"\n",
              "              title=\"Convert this dataframe to an interactive table.\"\n",
              "              style=\"display:none;\">\n",
              "        \n",
              "  <svg xmlns=\"http://www.w3.org/2000/svg\" height=\"24px\"viewBox=\"0 0 24 24\"\n",
              "       width=\"24px\">\n",
              "    <path d=\"M0 0h24v24H0V0z\" fill=\"none\"/>\n",
              "    <path d=\"M18.56 5.44l.94 2.06.94-2.06 2.06-.94-2.06-.94-.94-2.06-.94 2.06-2.06.94zm-11 1L8.5 8.5l.94-2.06 2.06-.94-2.06-.94L8.5 2.5l-.94 2.06-2.06.94zm10 10l.94 2.06.94-2.06 2.06-.94-2.06-.94-.94-2.06-.94 2.06-2.06.94z\"/><path d=\"M17.41 7.96l-1.37-1.37c-.4-.4-.92-.59-1.43-.59-.52 0-1.04.2-1.43.59L10.3 9.45l-7.72 7.72c-.78.78-.78 2.05 0 2.83L4 21.41c.39.39.9.59 1.41.59.51 0 1.02-.2 1.41-.59l7.78-7.78 2.81-2.81c.8-.78.8-2.07 0-2.86zM5.41 20L4 18.59l7.72-7.72 1.47 1.35L5.41 20z\"/>\n",
              "  </svg>\n",
              "      </button>\n",
              "      \n",
              "  <style>\n",
              "    .colab-df-container {\n",
              "      display:flex;\n",
              "      flex-wrap:wrap;\n",
              "      gap: 12px;\n",
              "    }\n",
              "\n",
              "    .colab-df-convert {\n",
              "      background-color: #E8F0FE;\n",
              "      border: none;\n",
              "      border-radius: 50%;\n",
              "      cursor: pointer;\n",
              "      display: none;\n",
              "      fill: #1967D2;\n",
              "      height: 32px;\n",
              "      padding: 0 0 0 0;\n",
              "      width: 32px;\n",
              "    }\n",
              "\n",
              "    .colab-df-convert:hover {\n",
              "      background-color: #E2EBFA;\n",
              "      box-shadow: 0px 1px 2px rgba(60, 64, 67, 0.3), 0px 1px 3px 1px rgba(60, 64, 67, 0.15);\n",
              "      fill: #174EA6;\n",
              "    }\n",
              "\n",
              "    [theme=dark] .colab-df-convert {\n",
              "      background-color: #3B4455;\n",
              "      fill: #D2E3FC;\n",
              "    }\n",
              "\n",
              "    [theme=dark] .colab-df-convert:hover {\n",
              "      background-color: #434B5C;\n",
              "      box-shadow: 0px 1px 3px 1px rgba(0, 0, 0, 0.15);\n",
              "      filter: drop-shadow(0px 1px 2px rgba(0, 0, 0, 0.3));\n",
              "      fill: #FFFFFF;\n",
              "    }\n",
              "  </style>\n",
              "\n",
              "      <script>\n",
              "        const buttonEl =\n",
              "          document.querySelector('#df-19e1e4da-a0b1-4572-ae3c-bfaaab2bcab4 button.colab-df-convert');\n",
              "        buttonEl.style.display =\n",
              "          google.colab.kernel.accessAllowed ? 'block' : 'none';\n",
              "\n",
              "        async function convertToInteractive(key) {\n",
              "          const element = document.querySelector('#df-19e1e4da-a0b1-4572-ae3c-bfaaab2bcab4');\n",
              "          const dataTable =\n",
              "            await google.colab.kernel.invokeFunction('convertToInteractive',\n",
              "                                                     [key], {});\n",
              "          if (!dataTable) return;\n",
              "\n",
              "          const docLinkHtml = 'Like what you see? Visit the ' +\n",
              "            '<a target=\"_blank\" href=https://colab.research.google.com/notebooks/data_table.ipynb>data table notebook</a>'\n",
              "            + ' to learn more about interactive tables.';\n",
              "          element.innerHTML = '';\n",
              "          dataTable['output_type'] = 'display_data';\n",
              "          await google.colab.output.renderOutput(dataTable, element);\n",
              "          const docLink = document.createElement('div');\n",
              "          docLink.innerHTML = docLinkHtml;\n",
              "          element.appendChild(docLink);\n",
              "        }\n",
              "      </script>\n",
              "    </div>\n",
              "  </div>\n",
              "  "
            ]
          },
          "metadata": {},
          "execution_count": 94
        }
      ],
      "source": [
        "inactive_no_contacts_show.describe()"
      ]
    },
    {
      "cell_type": "markdown",
      "metadata": {
        "id": "HtxymLp-Snex"
      },
      "source": [
        "Самая многочисленная группа - почти не пользуются и не достигают цели. Необходимо искать способ \"вернуть\" их в прилжение."
      ]
    },
    {
      "cell_type": "markdown",
      "metadata": {
        "id": "Qha69iYyZ3cb"
      },
      "source": [
        "### Вывод\n",
        "Пользователей разделили на 4 группы - в зависимости от активности и целевому действию.\n",
        "Самая многочисленная группа - почти не пользуются приложением. \"Поставил и забыл\". Необходимо напомнить им о приложении - Пушсообщения, рассылка?\n",
        "\n",
        "Вторая по численности группа: активны, но не интересуются контактами. Возможно им либо чего то не хватает в функционале либо просто смотрят для ориентации по ценам.\n",
        "\n",
        "Третья по численности групп - наш клиент. \n",
        "\n",
        "Четвертая группа - зашла, нашла что хотела и ушла. Нужно напомнить, что в приложении еще много вещей которые их могут заинтересовать.\n"
      ]
    },
    {
      "cell_type": "markdown",
      "metadata": {
        "id": "iCym2tHrSsHj"
      },
      "source": [
        "У нас также не пересекаются пользователи, которые пользуются рекомендованными объявлениями, и те, кто ищет через строку поиска. Мы можем разделить пользователей по тому, что они выбрали поиск или рекомендации и придумать способы поднятия конверсии в каждой группе:"
      ]
    },
    {
      "cell_type": "code",
      "execution_count": 95,
      "metadata": {
        "id": "EogVaPqFThfz"
      },
      "outputs": [],
      "source": [
        "tips_show_yes = grouped_by_user.query('tips_show == 1')\n",
        "search_yes = grouped_by_user.query('search == 1')"
      ]
    },
    {
      "cell_type": "code",
      "execution_count": 96,
      "metadata": {
        "colab": {
          "base_uri": "https://localhost:8080/",
          "height": 645
        },
        "id": "pCry5Rg5TpxF",
        "outputId": "02d12028-bf9b-456e-8543-34d3a04621cd"
      },
      "outputs": [
        {
          "output_type": "execute_result",
          "data": {
            "text/plain": [
              "Text(0.5, 0, 'Конверсии в просмотры')"
            ]
          },
          "metadata": {},
          "execution_count": 96
        },
        {
          "output_type": "display_data",
          "data": {
            "text/plain": [
              "<Figure size 720x720 with 4 Axes>"
            ],
            "image/png": "[encoded data removed]"
          },
          "metadata": {}
        }
      ],
      "source": [
        "fig = plt.figure(figsize=(10,10))\n",
        "area = fig.add_subplot(2, 2, 1)\n",
        "ax = sns.distplot(tips_show_yes['n_event'])\n",
        "ax.set_title(\"Смотрят рекомендации\")\n",
        "ax.set_xlabel(\"Количество событий в течении сессии\")\n",
        "\n",
        "area = fig.add_subplot(2, 2, 2)\n",
        "ax = sns.distplot(search_yes['n_event'])\n",
        "ax.set_title(\"Пользуются поиском\")\n",
        "ax.set_xlabel(\"Количество событий в течении сессии\")\n",
        "\n",
        "area = fig.add_subplot(2, 2, 3)\n",
        "ax = sns.distplot(tips_show_yes['conversion'])\n",
        "ax.set_xlabel(\"Конверсии в просмотры\")\n",
        "\n",
        "\n",
        "area = fig.add_subplot(2, 2, 4)\n",
        "ax=sns.distplot(search_yes['conversion'])\n",
        "ax.set_xlabel(\"Конверсии в просмотры\")\n"
      ]
    },
    {
      "cell_type": "markdown",
      "metadata": {
        "id": "6bPJi28aT0n4"
      },
      "source": [
        "Юзеры чаще смотря рекомендации, но конверсий у них меньше (Залипают и в итоге просто перебирают). Стоит посмотреть, как работает система подбора рекомендуемых объявлений. Найти какие изменения можно реализовать и протестировать. Поиск также можно отдельно дорабатывать, работая над релевантностью выдачи, добавляя фильтры и проч."
      ]
    },
    {
      "cell_type": "markdown",
      "metadata": {
        "id": "SiEjVIb8X2yL"
      },
      "source": [
        "Добавим информацию об источниках и разобьем пользователей на группы"
      ]
    },
    {
      "cell_type": "code",
      "execution_count": 97,
      "metadata": {
        "colab": {
          "base_uri": "https://localhost:8080/",
          "height": 423
        },
        "id": "27dqURa8X6Zl",
        "outputId": "e5deda2f-8515-495b-930c-ea671120c800"
      },
      "outputs": [
        {
          "output_type": "execute_result",
          "data": {
            "text/plain": [
              "                                   user_id  duration  n_session  n_event  \\\n",
              "0     0001b1d5-b74a-4cbf-aeb0-7df5947bf349     16.00         35       35   \n",
              "1     00157779-810c-4498-9e05-a1e9e3cedf93     16.00         71       71   \n",
              "2     00463033-5717-4bf1-91b4-09183923b9df      1.00         10       10   \n",
              "3     004690c3-5a84-4bb7-a8af-e0c8f8fca64e     14.00         32       32   \n",
              "4     00551e79-152e-4441-9cf7-565d7eb04090      5.00          8        8   \n",
              "...                                    ...       ...        ...      ...   \n",
              "4288  ffab8d8a-30bb-424a-a3ab-0b63ebbf7b07     14.00         17       17   \n",
              "4289  ffc01466-fdb1-4460-ae94-e800f52eb136      1.00          7        7   \n",
              "4290  ffcf50d9-293c-4254-8243-4890b030b238      1.00          2        2   \n",
              "4291  ffe68f10-e48e-470e-be9b-eeb93128ff1a      8.00         13       13   \n",
              "4292  fffb9e79-b927-4dbb-9b48-7fd09b23a62b     23.00        303      303   \n",
              "\n",
              "      n_contacts_show  photos_show  tips_show  search  conversion  source  \n",
              "0                   0            0          1       0        0.00   other  \n",
              "1                  11            1          0       1        0.15  yandex  \n",
              "2                   0            1          0       0        0.00  yandex  \n",
              "3                   0            0          1       1        0.00  google  \n",
              "4                   3            1          0       1        0.38  yandex  \n",
              "...               ...          ...        ...     ...         ...     ...  \n",
              "4288                0            0          1       0        0.00  yandex  \n",
              "4289                1            1          0       0        0.14  yandex  \n",
              "4290                0            0          1       0        0.00  google  \n",
              "4291                1            1          0       1        0.08  yandex  \n",
              "4292               68            0          1       0        0.22  google  \n",
              "\n",
              "[4293 rows x 10 columns]"
            ],
            "text/html": [
              "\n",
              "  <div id=\"df-3cbe124e-3f9f-4c3e-a66a-0ac4c13dfe38\">\n",
              "    <div class=\"colab-df-container\">\n",
              "      <div>\n",
              "<style scoped>\n",
              "    .dataframe tbody tr th:only-of-type {\n",
              "        vertical-align: middle;\n",
              "    }\n",
              "\n",
              "    .dataframe tbody tr th {\n",
              "        vertical-align: top;\n",
              "    }\n",
              "\n",
              "    .dataframe thead th {\n",
              "        text-align: right;\n",
              "    }\n",
              "</style>\n",
              "<table border=\"1\" class=\"dataframe\">\n",
              "  <thead>\n",
              "    <tr style=\"text-align: right;\">\n",
              "      <th></th>\n",
              "      <th>user_id</th>\n",
              "      <th>duration</th>\n",
              "      <th>n_session</th>\n",
              "      <th>n_event</th>\n",
              "      <th>n_contacts_show</th>\n",
              "      <th>photos_show</th>\n",
              "      <th>tips_show</th>\n",
              "      <th>search</th>\n",
              "      <th>conversion</th>\n",
              "      <th>source</th>\n",
              "    </tr>\n",
              "  </thead>\n",
              "  <tbody>\n",
              "    <tr>\n",
              "      <th>0</th>\n",
              "      <td>0001b1d5-b74a-4cbf-aeb0-7df5947bf349</td>\n",
              "      <td>16.00</td>\n",
              "      <td>35</td>\n",
              "      <td>35</td>\n",
              "      <td>0</td>\n",
              "      <td>0</td>\n",
              "      <td>1</td>\n",
              "      <td>0</td>\n",
              "      <td>0.00</td>\n",
              "      <td>other</td>\n",
              "    </tr>\n",
              "    <tr>\n",
              "      <th>1</th>\n",
              "      <td>00157779-810c-4498-9e05-a1e9e3cedf93</td>\n",
              "      <td>16.00</td>\n",
              "      <td>71</td>\n",
              "      <td>71</td>\n",
              "      <td>11</td>\n",
              "      <td>1</td>\n",
              "      <td>0</td>\n",
              "      <td>1</td>\n",
              "      <td>0.15</td>\n",
              "      <td>yandex</td>\n",
              "    </tr>\n",
              "    <tr>\n",
              "      <th>2</th>\n",
              "      <td>00463033-5717-4bf1-91b4-09183923b9df</td>\n",
              "      <td>1.00</td>\n",
              "      <td>10</td>\n",
              "      <td>10</td>\n",
              "      <td>0</td>\n",
              "      <td>1</td>\n",
              "      <td>0</td>\n",
              "      <td>0</td>\n",
              "      <td>0.00</td>\n",
              "      <td>yandex</td>\n",
              "    </tr>\n",
              "    <tr>\n",
              "      <th>3</th>\n",
              "      <td>004690c3-5a84-4bb7-a8af-e0c8f8fca64e</td>\n",
              "      <td>14.00</td>\n",
              "      <td>32</td>\n",
              "      <td>32</td>\n",
              "      <td>0</td>\n",
              "      <td>0</td>\n",
              "      <td>1</td>\n",
              "      <td>1</td>\n",
              "      <td>0.00</td>\n",
              "      <td>google</td>\n",
              "    </tr>\n",
              "    <tr>\n",
              "      <th>4</th>\n",
              "      <td>00551e79-152e-4441-9cf7-565d7eb04090</td>\n",
              "      <td>5.00</td>\n",
              "      <td>8</td>\n",
              "      <td>8</td>\n",
              "      <td>3</td>\n",
              "      <td>1</td>\n",
              "      <td>0</td>\n",
              "      <td>1</td>\n",
              "      <td>0.38</td>\n",
              "      <td>yandex</td>\n",
              "    </tr>\n",
              "    <tr>\n",
              "      <th>...</th>\n",
              "      <td>...</td>\n",
              "      <td>...</td>\n",
              "      <td>...</td>\n",
              "      <td>...</td>\n",
              "      <td>...</td>\n",
              "      <td>...</td>\n",
              "      <td>...</td>\n",
              "      <td>...</td>\n",
              "      <td>...</td>\n",
              "      <td>...</td>\n",
              "    </tr>\n",
              "    <tr>\n",
              "      <th>4288</th>\n",
              "      <td>ffab8d8a-30bb-424a-a3ab-0b63ebbf7b07</td>\n",
              "      <td>14.00</td>\n",
              "      <td>17</td>\n",
              "      <td>17</td>\n",
              "      <td>0</td>\n",
              "      <td>0</td>\n",
              "      <td>1</td>\n",
              "      <td>0</td>\n",
              "      <td>0.00</td>\n",
              "      <td>yandex</td>\n",
              "    </tr>\n",
              "    <tr>\n",
              "      <th>4289</th>\n",
              "      <td>ffc01466-fdb1-4460-ae94-e800f52eb136</td>\n",
              "      <td>1.00</td>\n",
              "      <td>7</td>\n",
              "      <td>7</td>\n",
              "      <td>1</td>\n",
              "      <td>1</td>\n",
              "      <td>0</td>\n",
              "      <td>0</td>\n",
              "      <td>0.14</td>\n",
              "      <td>yandex</td>\n",
              "    </tr>\n",
              "    <tr>\n",
              "      <th>4290</th>\n",
              "      <td>ffcf50d9-293c-4254-8243-4890b030b238</td>\n",
              "      <td>1.00</td>\n",
              "      <td>2</td>\n",
              "      <td>2</td>\n",
              "      <td>0</td>\n",
              "      <td>0</td>\n",
              "      <td>1</td>\n",
              "      <td>0</td>\n",
              "      <td>0.00</td>\n",
              "      <td>google</td>\n",
              "    </tr>\n",
              "    <tr>\n",
              "      <th>4291</th>\n",
              "      <td>ffe68f10-e48e-470e-be9b-eeb93128ff1a</td>\n",
              "      <td>8.00</td>\n",
              "      <td>13</td>\n",
              "      <td>13</td>\n",
              "      <td>1</td>\n",
              "      <td>1</td>\n",
              "      <td>0</td>\n",
              "      <td>1</td>\n",
              "      <td>0.08</td>\n",
              "      <td>yandex</td>\n",
              "    </tr>\n",
              "    <tr>\n",
              "      <th>4292</th>\n",
              "      <td>fffb9e79-b927-4dbb-9b48-7fd09b23a62b</td>\n",
              "      <td>23.00</td>\n",
              "      <td>303</td>\n",
              "      <td>303</td>\n",
              "      <td>68</td>\n",
              "      <td>0</td>\n",
              "      <td>1</td>\n",
              "      <td>0</td>\n",
              "      <td>0.22</td>\n",
              "      <td>google</td>\n",
              "    </tr>\n",
              "  </tbody>\n",
              "</table>\n",
              "<p>4293 rows × 10 columns</p>\n",
              "</div>\n",
              "      <button class=\"colab-df-convert\" onclick=\"convertToInteractive('df-3cbe124e-3f9f-4c3e-a66a-0ac4c13dfe38')\"\n",
              "              title=\"Convert this dataframe to an interactive table.\"\n",
              "              style=\"display:none;\">\n",
              "        \n",
              "  <svg xmlns=\"http://www.w3.org/2000/svg\" height=\"24px\"viewBox=\"0 0 24 24\"\n",
              "       width=\"24px\">\n",
              "    <path d=\"M0 0h24v24H0V0z\" fill=\"none\"/>\n",
              "    <path d=\"M18.56 5.44l.94 2.06.94-2.06 2.06-.94-2.06-.94-.94-2.06-.94 2.06-2.06.94zm-11 1L8.5 8.5l.94-2.06 2.06-.94-2.06-.94L8.5 2.5l-.94 2.06-2.06.94zm10 10l.94 2.06.94-2.06 2.06-.94-2.06-.94-.94-2.06-.94 2.06-2.06.94z\"/><path d=\"M17.41 7.96l-1.37-1.37c-.4-.4-.92-.59-1.43-.59-.52 0-1.04.2-1.43.59L10.3 9.45l-7.72 7.72c-.78.78-.78 2.05 0 2.83L4 21.41c.39.39.9.59 1.41.59.51 0 1.02-.2 1.41-.59l7.78-7.78 2.81-2.81c.8-.78.8-2.07 0-2.86zM5.41 20L4 18.59l7.72-7.72 1.47 1.35L5.41 20z\"/>\n",
              "  </svg>\n",
              "      </button>\n",
              "      \n",
              "  <style>\n",
              "    .colab-df-container {\n",
              "      display:flex;\n",
              "      flex-wrap:wrap;\n",
              "      gap: 12px;\n",
              "    }\n",
              "\n",
              "    .colab-df-convert {\n",
              "      background-color: #E8F0FE;\n",
              "      border: none;\n",
              "      border-radius: 50%;\n",
              "      cursor: pointer;\n",
              "      display: none;\n",
              "      fill: #1967D2;\n",
              "      height: 32px;\n",
              "      padding: 0 0 0 0;\n",
              "      width: 32px;\n",
              "    }\n",
              "\n",
              "    .colab-df-convert:hover {\n",
              "      background-color: #E2EBFA;\n",
              "      box-shadow: 0px 1px 2px rgba(60, 64, 67, 0.3), 0px 1px 3px 1px rgba(60, 64, 67, 0.15);\n",
              "      fill: #174EA6;\n",
              "    }\n",
              "\n",
              "    [theme=dark] .colab-df-convert {\n",
              "      background-color: #3B4455;\n",
              "      fill: #D2E3FC;\n",
              "    }\n",
              "\n",
              "    [theme=dark] .colab-df-convert:hover {\n",
              "      background-color: #434B5C;\n",
              "      box-shadow: 0px 1px 3px 1px rgba(0, 0, 0, 0.15);\n",
              "      filter: drop-shadow(0px 1px 2px rgba(0, 0, 0, 0.3));\n",
              "      fill: #FFFFFF;\n",
              "    }\n",
              "  </style>\n",
              "\n",
              "      <script>\n",
              "        const buttonEl =\n",
              "          document.querySelector('#df-3cbe124e-3f9f-4c3e-a66a-0ac4c13dfe38 button.colab-df-convert');\n",
              "        buttonEl.style.display =\n",
              "          google.colab.kernel.accessAllowed ? 'block' : 'none';\n",
              "\n",
              "        async function convertToInteractive(key) {\n",
              "          const element = document.querySelector('#df-3cbe124e-3f9f-4c3e-a66a-0ac4c13dfe38');\n",
              "          const dataTable =\n",
              "            await google.colab.kernel.invokeFunction('convertToInteractive',\n",
              "                                                     [key], {});\n",
              "          if (!dataTable) return;\n",
              "\n",
              "          const docLinkHtml = 'Like what you see? Visit the ' +\n",
              "            '<a target=\"_blank\" href=https://colab.research.google.com/notebooks/data_table.ipynb>data table notebook</a>'\n",
              "            + ' to learn more about interactive tables.';\n",
              "          element.innerHTML = '';\n",
              "          dataTable['output_type'] = 'display_data';\n",
              "          await google.colab.output.renderOutput(dataTable, element);\n",
              "          const docLink = document.createElement('div');\n",
              "          docLink.innerHTML = docLinkHtml;\n",
              "          element.appendChild(docLink);\n",
              "        }\n",
              "      </script>\n",
              "    </div>\n",
              "  </div>\n",
              "  "
            ]
          },
          "metadata": {},
          "execution_count": 97
        }
      ],
      "source": [
        "grouped_by_user = grouped_by_user.merge(sources, on='user_id')\n",
        "grouped_by_user"
      ]
    },
    {
      "cell_type": "code",
      "execution_count": 98,
      "metadata": {
        "colab": {
          "base_uri": "https://localhost:8080/"
        },
        "id": "6VWk-ehhYMO1",
        "outputId": "aab9faa9-0639-4836-8715-925577a4e40c"
      },
      "outputs": [
        {
          "output_type": "stream",
          "name": "stdout",
          "text": [
            "<class 'pandas.core.frame.DataFrame'>\n",
            "Int64Index: 4293 entries, 0 to 4292\n",
            "Data columns (total 10 columns):\n",
            " #   Column           Non-Null Count  Dtype  \n",
            "---  ------           --------------  -----  \n",
            " 0   user_id          4293 non-null   object \n",
            " 1   duration         4293 non-null   float64\n",
            " 2   n_session        4293 non-null   int64  \n",
            " 3   n_event          4293 non-null   int64  \n",
            " 4   n_contacts_show  4293 non-null   int64  \n",
            " 5   photos_show      4293 non-null   int64  \n",
            " 6   tips_show        4293 non-null   int64  \n",
            " 7   search           4293 non-null   int64  \n",
            " 8   conversion       4293 non-null   float64\n",
            " 9   source           4293 non-null   object \n",
            "dtypes: float64(2), int64(6), object(2)\n",
            "memory usage: 368.9+ KB\n"
          ]
        }
      ],
      "source": [
        "grouped_by_user.info()\n"
      ]
    },
    {
      "cell_type": "markdown",
      "metadata": {
        "id": "98KMaweUYQSy"
      },
      "source": [
        "Разделим пользователей на группы по источнику и визуально их сравним:"
      ]
    },
    {
      "cell_type": "code",
      "execution_count": 99,
      "metadata": {
        "id": "s5Vnfu2fYUfW"
      },
      "outputs": [],
      "source": [
        "source_yandex = grouped_by_user.query('source == \"yandex\"')\n",
        "source_google = grouped_by_user.query('source == \"google\"')"
      ]
    },
    {
      "cell_type": "code",
      "execution_count": 100,
      "metadata": {
        "colab": {
          "base_uri": "https://localhost:8080/",
          "height": 300
        },
        "id": "ARJqlUPvYw_x",
        "outputId": "be5f2de7-631a-49e2-d6ac-2a9ee561cc3a"
      },
      "outputs": [
        {
          "output_type": "execute_result",
          "data": {
            "text/plain": [
              "       duration  n_session  n_event  n_contacts_show  photos_show  tips_show  \\\n",
              "count  1,934.00   1,934.00 1,934.00         1,934.00     1,934.00   1,934.00   \n",
              "mean       3.58      17.73    17.73             1.05         0.23       0.68   \n",
              "std        5.09      30.83    30.83             4.36         0.42       0.47   \n",
              "min        1.00       1.00     1.00             0.00         0.00       0.00   \n",
              "25%        1.00       5.00     5.00             0.00         0.00       0.00   \n",
              "50%        1.00       9.00     9.00             0.00         0.00       1.00   \n",
              "75%        4.00      18.00    18.00             0.00         0.00       1.00   \n",
              "max       28.00     478.00   478.00            86.00         1.00       1.00   \n",
              "\n",
              "        search  conversion  \n",
              "count 1,934.00    1,934.00  \n",
              "mean      0.32        0.06  \n",
              "std       0.47        0.16  \n",
              "min       0.00        0.00  \n",
              "25%       0.00        0.00  \n",
              "50%       0.00        0.00  \n",
              "75%       1.00        0.00  \n",
              "max       1.00        1.00  "
            ],
            "text/html": [
              "\n",
              "  <div id=\"df-6f366270-74cd-483b-a08c-a8bcc6b019b1\">\n",
              "    <div class=\"colab-df-container\">\n",
              "      <div>\n",
              "<style scoped>\n",
              "    .dataframe tbody tr th:only-of-type {\n",
              "        vertical-align: middle;\n",
              "    }\n",
              "\n",
              "    .dataframe tbody tr th {\n",
              "        vertical-align: top;\n",
              "    }\n",
              "\n",
              "    .dataframe thead th {\n",
              "        text-align: right;\n",
              "    }\n",
              "</style>\n",
              "<table border=\"1\" class=\"dataframe\">\n",
              "  <thead>\n",
              "    <tr style=\"text-align: right;\">\n",
              "      <th></th>\n",
              "      <th>duration</th>\n",
              "      <th>n_session</th>\n",
              "      <th>n_event</th>\n",
              "      <th>n_contacts_show</th>\n",
              "      <th>photos_show</th>\n",
              "      <th>tips_show</th>\n",
              "      <th>search</th>\n",
              "      <th>conversion</th>\n",
              "    </tr>\n",
              "  </thead>\n",
              "  <tbody>\n",
              "    <tr>\n",
              "      <th>count</th>\n",
              "      <td>1,934.00</td>\n",
              "      <td>1,934.00</td>\n",
              "      <td>1,934.00</td>\n",
              "      <td>1,934.00</td>\n",
              "      <td>1,934.00</td>\n",
              "      <td>1,934.00</td>\n",
              "      <td>1,934.00</td>\n",
              "      <td>1,934.00</td>\n",
              "    </tr>\n",
              "    <tr>\n",
              "      <th>mean</th>\n",
              "      <td>3.58</td>\n",
              "      <td>17.73</td>\n",
              "      <td>17.73</td>\n",
              "      <td>1.05</td>\n",
              "      <td>0.23</td>\n",
              "      <td>0.68</td>\n",
              "      <td>0.32</td>\n",
              "      <td>0.06</td>\n",
              "    </tr>\n",
              "    <tr>\n",
              "      <th>std</th>\n",
              "      <td>5.09</td>\n",
              "      <td>30.83</td>\n",
              "      <td>30.83</td>\n",
              "      <td>4.36</td>\n",
              "      <td>0.42</td>\n",
              "      <td>0.47</td>\n",
              "      <td>0.47</td>\n",
              "      <td>0.16</td>\n",
              "    </tr>\n",
              "    <tr>\n",
              "      <th>min</th>\n",
              "      <td>1.00</td>\n",
              "      <td>1.00</td>\n",
              "      <td>1.00</td>\n",
              "      <td>0.00</td>\n",
              "      <td>0.00</td>\n",
              "      <td>0.00</td>\n",
              "      <td>0.00</td>\n",
              "      <td>0.00</td>\n",
              "    </tr>\n",
              "    <tr>\n",
              "      <th>25%</th>\n",
              "      <td>1.00</td>\n",
              "      <td>5.00</td>\n",
              "      <td>5.00</td>\n",
              "      <td>0.00</td>\n",
              "      <td>0.00</td>\n",
              "      <td>0.00</td>\n",
              "      <td>0.00</td>\n",
              "      <td>0.00</td>\n",
              "    </tr>\n",
              "    <tr>\n",
              "      <th>50%</th>\n",
              "      <td>1.00</td>\n",
              "      <td>9.00</td>\n",
              "      <td>9.00</td>\n",
              "      <td>0.00</td>\n",
              "      <td>0.00</td>\n",
              "      <td>1.00</td>\n",
              "      <td>0.00</td>\n",
              "      <td>0.00</td>\n",
              "    </tr>\n",
              "    <tr>\n",
              "      <th>75%</th>\n",
              "      <td>4.00</td>\n",
              "      <td>18.00</td>\n",
              "      <td>18.00</td>\n",
              "      <td>0.00</td>\n",
              "      <td>0.00</td>\n",
              "      <td>1.00</td>\n",
              "      <td>1.00</td>\n",
              "      <td>0.00</td>\n",
              "    </tr>\n",
              "    <tr>\n",
              "      <th>max</th>\n",
              "      <td>28.00</td>\n",
              "      <td>478.00</td>\n",
              "      <td>478.00</td>\n",
              "      <td>86.00</td>\n",
              "      <td>1.00</td>\n",
              "      <td>1.00</td>\n",
              "      <td>1.00</td>\n",
              "      <td>1.00</td>\n",
              "    </tr>\n",
              "  </tbody>\n",
              "</table>\n",
              "</div>\n",
              "      <button class=\"colab-df-convert\" onclick=\"convertToInteractive('df-6f366270-74cd-483b-a08c-a8bcc6b019b1')\"\n",
              "              title=\"Convert this dataframe to an interactive table.\"\n",
              "              style=\"display:none;\">\n",
              "        \n",
              "  <svg xmlns=\"http://www.w3.org/2000/svg\" height=\"24px\"viewBox=\"0 0 24 24\"\n",
              "       width=\"24px\">\n",
              "    <path d=\"M0 0h24v24H0V0z\" fill=\"none\"/>\n",
              "    <path d=\"M18.56 5.44l.94 2.06.94-2.06 2.06-.94-2.06-.94-.94-2.06-.94 2.06-2.06.94zm-11 1L8.5 8.5l.94-2.06 2.06-.94-2.06-.94L8.5 2.5l-.94 2.06-2.06.94zm10 10l.94 2.06.94-2.06 2.06-.94-2.06-.94-.94-2.06-.94 2.06-2.06.94z\"/><path d=\"M17.41 7.96l-1.37-1.37c-.4-.4-.92-.59-1.43-.59-.52 0-1.04.2-1.43.59L10.3 9.45l-7.72 7.72c-.78.78-.78 2.05 0 2.83L4 21.41c.39.39.9.59 1.41.59.51 0 1.02-.2 1.41-.59l7.78-7.78 2.81-2.81c.8-.78.8-2.07 0-2.86zM5.41 20L4 18.59l7.72-7.72 1.47 1.35L5.41 20z\"/>\n",
              "  </svg>\n",
              "      </button>\n",
              "      \n",
              "  <style>\n",
              "    .colab-df-container {\n",
              "      display:flex;\n",
              "      flex-wrap:wrap;\n",
              "      gap: 12px;\n",
              "    }\n",
              "\n",
              "    .colab-df-convert {\n",
              "      background-color: #E8F0FE;\n",
              "      border: none;\n",
              "      border-radius: 50%;\n",
              "      cursor: pointer;\n",
              "      display: none;\n",
              "      fill: #1967D2;\n",
              "      height: 32px;\n",
              "      padding: 0 0 0 0;\n",
              "      width: 32px;\n",
              "    }\n",
              "\n",
              "    .colab-df-convert:hover {\n",
              "      background-color: #E2EBFA;\n",
              "      box-shadow: 0px 1px 2px rgba(60, 64, 67, 0.3), 0px 1px 3px 1px rgba(60, 64, 67, 0.15);\n",
              "      fill: #174EA6;\n",
              "    }\n",
              "\n",
              "    [theme=dark] .colab-df-convert {\n",
              "      background-color: #3B4455;\n",
              "      fill: #D2E3FC;\n",
              "    }\n",
              "\n",
              "    [theme=dark] .colab-df-convert:hover {\n",
              "      background-color: #434B5C;\n",
              "      box-shadow: 0px 1px 3px 1px rgba(0, 0, 0, 0.15);\n",
              "      filter: drop-shadow(0px 1px 2px rgba(0, 0, 0, 0.3));\n",
              "      fill: #FFFFFF;\n",
              "    }\n",
              "  </style>\n",
              "\n",
              "      <script>\n",
              "        const buttonEl =\n",
              "          document.querySelector('#df-6f366270-74cd-483b-a08c-a8bcc6b019b1 button.colab-df-convert');\n",
              "        buttonEl.style.display =\n",
              "          google.colab.kernel.accessAllowed ? 'block' : 'none';\n",
              "\n",
              "        async function convertToInteractive(key) {\n",
              "          const element = document.querySelector('#df-6f366270-74cd-483b-a08c-a8bcc6b019b1');\n",
              "          const dataTable =\n",
              "            await google.colab.kernel.invokeFunction('convertToInteractive',\n",
              "                                                     [key], {});\n",
              "          if (!dataTable) return;\n",
              "\n",
              "          const docLinkHtml = 'Like what you see? Visit the ' +\n",
              "            '<a target=\"_blank\" href=https://colab.research.google.com/notebooks/data_table.ipynb>data table notebook</a>'\n",
              "            + ' to learn more about interactive tables.';\n",
              "          element.innerHTML = '';\n",
              "          dataTable['output_type'] = 'display_data';\n",
              "          await google.colab.output.renderOutput(dataTable, element);\n",
              "          const docLink = document.createElement('div');\n",
              "          docLink.innerHTML = docLinkHtml;\n",
              "          element.appendChild(docLink);\n",
              "        }\n",
              "      </script>\n",
              "    </div>\n",
              "  </div>\n",
              "  "
            ]
          },
          "metadata": {},
          "execution_count": 100
        }
      ],
      "source": [
        "source_yandex.describe()"
      ]
    },
    {
      "cell_type": "code",
      "execution_count": 101,
      "metadata": {
        "colab": {
          "base_uri": "https://localhost:8080/",
          "height": 300
        },
        "id": "hq6T9jLfY8gG",
        "outputId": "d3698d1e-5cb0-4c02-f01f-7cd1dd91a22d"
      },
      "outputs": [
        {
          "output_type": "execute_result",
          "data": {
            "text/plain": [
              "       duration  n_session  n_event  n_contacts_show  photos_show  tips_show  \\\n",
              "count  1,129.00   1,129.00 1,129.00         1,129.00     1,129.00   1,129.00   \n",
              "mean       3.48      18.11    18.11             1.28         0.32       0.58   \n",
              "std        5.11      32.09    32.09             6.58         0.47       0.49   \n",
              "min        1.00       1.00     1.00             0.00         0.00       0.00   \n",
              "25%        1.00       5.00     5.00             0.00         0.00       0.00   \n",
              "50%        1.00       9.00     9.00             0.00         0.00       1.00   \n",
              "75%        3.00      18.00    18.00             0.00         1.00       1.00   \n",
              "max       28.00     397.00   397.00           137.00         1.00       1.00   \n",
              "\n",
              "        search  conversion  \n",
              "count 1,129.00    1,129.00  \n",
              "mean      0.43        0.06  \n",
              "std       0.50        0.16  \n",
              "min       0.00        0.00  \n",
              "25%       0.00        0.00  \n",
              "50%       0.00        0.00  \n",
              "75%       1.00        0.00  \n",
              "max       1.00        1.00  "
            ],
            "text/html": [
              "\n",
              "  <div id=\"df-b1ee2144-3e36-436c-93ac-67117645ad85\">\n",
              "    <div class=\"colab-df-container\">\n",
              "      <div>\n",
              "<style scoped>\n",
              "    .dataframe tbody tr th:only-of-type {\n",
              "        vertical-align: middle;\n",
              "    }\n",
              "\n",
              "    .dataframe tbody tr th {\n",
              "        vertical-align: top;\n",
              "    }\n",
              "\n",
              "    .dataframe thead th {\n",
              "        text-align: right;\n",
              "    }\n",
              "</style>\n",
              "<table border=\"1\" class=\"dataframe\">\n",
              "  <thead>\n",
              "    <tr style=\"text-align: right;\">\n",
              "      <th></th>\n",
              "      <th>duration</th>\n",
              "      <th>n_session</th>\n",
              "      <th>n_event</th>\n",
              "      <th>n_contacts_show</th>\n",
              "      <th>photos_show</th>\n",
              "      <th>tips_show</th>\n",
              "      <th>search</th>\n",
              "      <th>conversion</th>\n",
              "    </tr>\n",
              "  </thead>\n",
              "  <tbody>\n",
              "    <tr>\n",
              "      <th>count</th>\n",
              "      <td>1,129.00</td>\n",
              "      <td>1,129.00</td>\n",
              "      <td>1,129.00</td>\n",
              "      <td>1,129.00</td>\n",
              "      <td>1,129.00</td>\n",
              "      <td>1,129.00</td>\n",
              "      <td>1,129.00</td>\n",
              "      <td>1,129.00</td>\n",
              "    </tr>\n",
              "    <tr>\n",
              "      <th>mean</th>\n",
              "      <td>3.48</td>\n",
              "      <td>18.11</td>\n",
              "      <td>18.11</td>\n",
              "      <td>1.28</td>\n",
              "      <td>0.32</td>\n",
              "      <td>0.58</td>\n",
              "      <td>0.43</td>\n",
              "      <td>0.06</td>\n",
              "    </tr>\n",
              "    <tr>\n",
              "      <th>std</th>\n",
              "      <td>5.11</td>\n",
              "      <td>32.09</td>\n",
              "      <td>32.09</td>\n",
              "      <td>6.58</td>\n",
              "      <td>0.47</td>\n",
              "      <td>0.49</td>\n",
              "      <td>0.50</td>\n",
              "      <td>0.16</td>\n",
              "    </tr>\n",
              "    <tr>\n",
              "      <th>min</th>\n",
              "      <td>1.00</td>\n",
              "      <td>1.00</td>\n",
              "      <td>1.00</td>\n",
              "      <td>0.00</td>\n",
              "      <td>0.00</td>\n",
              "      <td>0.00</td>\n",
              "      <td>0.00</td>\n",
              "      <td>0.00</td>\n",
              "    </tr>\n",
              "    <tr>\n",
              "      <th>25%</th>\n",
              "      <td>1.00</td>\n",
              "      <td>5.00</td>\n",
              "      <td>5.00</td>\n",
              "      <td>0.00</td>\n",
              "      <td>0.00</td>\n",
              "      <td>0.00</td>\n",
              "      <td>0.00</td>\n",
              "      <td>0.00</td>\n",
              "    </tr>\n",
              "    <tr>\n",
              "      <th>50%</th>\n",
              "      <td>1.00</td>\n",
              "      <td>9.00</td>\n",
              "      <td>9.00</td>\n",
              "      <td>0.00</td>\n",
              "      <td>0.00</td>\n",
              "      <td>1.00</td>\n",
              "      <td>0.00</td>\n",
              "      <td>0.00</td>\n",
              "    </tr>\n",
              "    <tr>\n",
              "      <th>75%</th>\n",
              "      <td>3.00</td>\n",
              "      <td>18.00</td>\n",
              "      <td>18.00</td>\n",
              "      <td>0.00</td>\n",
              "      <td>1.00</td>\n",
              "      <td>1.00</td>\n",
              "      <td>1.00</td>\n",
              "      <td>0.00</td>\n",
              "    </tr>\n",
              "    <tr>\n",
              "      <th>max</th>\n",
              "      <td>28.00</td>\n",
              "      <td>397.00</td>\n",
              "      <td>397.00</td>\n",
              "      <td>137.00</td>\n",
              "      <td>1.00</td>\n",
              "      <td>1.00</td>\n",
              "      <td>1.00</td>\n",
              "      <td>1.00</td>\n",
              "    </tr>\n",
              "  </tbody>\n",
              "</table>\n",
              "</div>\n",
              "      <button class=\"colab-df-convert\" onclick=\"convertToInteractive('df-b1ee2144-3e36-436c-93ac-67117645ad85')\"\n",
              "              title=\"Convert this dataframe to an interactive table.\"\n",
              "              style=\"display:none;\">\n",
              "        \n",
              "  <svg xmlns=\"http://www.w3.org/2000/svg\" height=\"24px\"viewBox=\"0 0 24 24\"\n",
              "       width=\"24px\">\n",
              "    <path d=\"M0 0h24v24H0V0z\" fill=\"none\"/>\n",
              "    <path d=\"M18.56 5.44l.94 2.06.94-2.06 2.06-.94-2.06-.94-.94-2.06-.94 2.06-2.06.94zm-11 1L8.5 8.5l.94-2.06 2.06-.94-2.06-.94L8.5 2.5l-.94 2.06-2.06.94zm10 10l.94 2.06.94-2.06 2.06-.94-2.06-.94-.94-2.06-.94 2.06-2.06.94z\"/><path d=\"M17.41 7.96l-1.37-1.37c-.4-.4-.92-.59-1.43-.59-.52 0-1.04.2-1.43.59L10.3 9.45l-7.72 7.72c-.78.78-.78 2.05 0 2.83L4 21.41c.39.39.9.59 1.41.59.51 0 1.02-.2 1.41-.59l7.78-7.78 2.81-2.81c.8-.78.8-2.07 0-2.86zM5.41 20L4 18.59l7.72-7.72 1.47 1.35L5.41 20z\"/>\n",
              "  </svg>\n",
              "      </button>\n",
              "      \n",
              "  <style>\n",
              "    .colab-df-container {\n",
              "      display:flex;\n",
              "      flex-wrap:wrap;\n",
              "      gap: 12px;\n",
              "    }\n",
              "\n",
              "    .colab-df-convert {\n",
              "      background-color: #E8F0FE;\n",
              "      border: none;\n",
              "      border-radius: 50%;\n",
              "      cursor: pointer;\n",
              "      display: none;\n",
              "      fill: #1967D2;\n",
              "      height: 32px;\n",
              "      padding: 0 0 0 0;\n",
              "      width: 32px;\n",
              "    }\n",
              "\n",
              "    .colab-df-convert:hover {\n",
              "      background-color: #E2EBFA;\n",
              "      box-shadow: 0px 1px 2px rgba(60, 64, 67, 0.3), 0px 1px 3px 1px rgba(60, 64, 67, 0.15);\n",
              "      fill: #174EA6;\n",
              "    }\n",
              "\n",
              "    [theme=dark] .colab-df-convert {\n",
              "      background-color: #3B4455;\n",
              "      fill: #D2E3FC;\n",
              "    }\n",
              "\n",
              "    [theme=dark] .colab-df-convert:hover {\n",
              "      background-color: #434B5C;\n",
              "      box-shadow: 0px 1px 3px 1px rgba(0, 0, 0, 0.15);\n",
              "      filter: drop-shadow(0px 1px 2px rgba(0, 0, 0, 0.3));\n",
              "      fill: #FFFFFF;\n",
              "    }\n",
              "  </style>\n",
              "\n",
              "      <script>\n",
              "        const buttonEl =\n",
              "          document.querySelector('#df-b1ee2144-3e36-436c-93ac-67117645ad85 button.colab-df-convert');\n",
              "        buttonEl.style.display =\n",
              "          google.colab.kernel.accessAllowed ? 'block' : 'none';\n",
              "\n",
              "        async function convertToInteractive(key) {\n",
              "          const element = document.querySelector('#df-b1ee2144-3e36-436c-93ac-67117645ad85');\n",
              "          const dataTable =\n",
              "            await google.colab.kernel.invokeFunction('convertToInteractive',\n",
              "                                                     [key], {});\n",
              "          if (!dataTable) return;\n",
              "\n",
              "          const docLinkHtml = 'Like what you see? Visit the ' +\n",
              "            '<a target=\"_blank\" href=https://colab.research.google.com/notebooks/data_table.ipynb>data table notebook</a>'\n",
              "            + ' to learn more about interactive tables.';\n",
              "          element.innerHTML = '';\n",
              "          dataTable['output_type'] = 'display_data';\n",
              "          await google.colab.output.renderOutput(dataTable, element);\n",
              "          const docLink = document.createElement('div');\n",
              "          docLink.innerHTML = docLinkHtml;\n",
              "          element.appendChild(docLink);\n",
              "        }\n",
              "      </script>\n",
              "    </div>\n",
              "  </div>\n",
              "  "
            ]
          },
          "metadata": {},
          "execution_count": 101
        }
      ],
      "source": [
        "source_google.describe()"
      ]
    },
    {
      "cell_type": "code",
      "execution_count": 102,
      "metadata": {
        "colab": {
          "base_uri": "https://localhost:8080/",
          "height": 645
        },
        "id": "B1HlVqxWYZHc",
        "outputId": "ac5868a7-b824-4947-cab1-8effcd9b2532"
      },
      "outputs": [
        {
          "output_type": "execute_result",
          "data": {
            "text/plain": [
              "Text(0.5, 0, 'Конверсии в просмотры')"
            ]
          },
          "metadata": {},
          "execution_count": 102
        },
        {
          "output_type": "display_data",
          "data": {
            "text/plain": [
              "<Figure size 720x720 with 4 Axes>"
            ],
            "image/png": "[encoded data removed]"
          },
          "metadata": {}
        }
      ],
      "source": [
        "fig = plt.figure(figsize=(10,10))\n",
        "area = fig.add_subplot(2, 2, 1)\n",
        "ax = sns.distplot(source_yandex['n_event'])\n",
        "ax.set_title(\"Установки из yandex\")\n",
        "ax.set_xlabel(\"Количество событий в течении сессии\")\n",
        "\n",
        "area = fig.add_subplot(2, 2, 2)\n",
        "ax = sns.distplot(source_google['n_event'])\n",
        "ax.set_title(\"Установки из google\")\n",
        "ax.set_xlabel(\"Количество событий в течении сессии\")\n",
        "\n",
        "area = fig.add_subplot(2, 2, 3)\n",
        "ax = sns.distplot(source_yandex['conversion'])\n",
        "ax.set_xlabel(\"Конверсии в просмотры\")\n",
        "\n",
        "\n",
        "area = fig.add_subplot(2, 2, 4)\n",
        "ax=sns.distplot(source_google['conversion'])\n",
        "ax.set_xlabel(\"Конверсии в просмотры\")"
      ]
    },
    {
      "cell_type": "markdown",
      "metadata": {
        "id": "Dbj5Oe_vQqv7",
        "pycharm": {
          "name": "#%% md\n"
        }
      },
      "source": [
        "При рассмотрении по источникам установки видно, пользователи установившие приложение из Googla просматривают контакт более активно"
      ]
    },
    {
      "cell_type": "markdown",
      "metadata": {
        "id": "_B-JBc7GQqwB",
        "pycharm": {
          "name": "#%% md\n"
        }
      },
      "source": [
        "##  4. Проверка статистических гипотез"
      ]
    },
    {
      "cell_type": "markdown",
      "metadata": {
        "id": "UGufDsmWQqwC",
        "pycharm": {
          "name": "#%% md\n"
        }
      },
      "source": [
        "### Группы *yandex_df*  и *google_df*  демонстрируют разную конверсию в просмотры контактов"
      ]
    },
    {
      "cell_type": "code",
      "execution_count": 103,
      "metadata": {
        "id": "GcH2wpYiLiVH"
      },
      "outputs": [],
      "source": [
        "google_df = df.query('source == \"google\"')\n",
        "yandex_df = df.query('source == \"yandex\"')"
      ]
    },
    {
      "cell_type": "markdown",
      "metadata": {
        "id": "oAwnD4a0QqwC",
        "pycharm": {
          "name": "#%% md\n"
        }
      },
      "source": [
        "Для проверки гипотезы мы проведем **z-test**. С помощью метода ***pivot_table*** создадим таблицу **users_events_per_group**, в которой по действиям и источникам посчитаем уникальных пользователей:"
      ]
    },
    {
      "cell_type": "markdown",
      "metadata": {
        "id": "7WE0tE9FQqwC",
        "pycharm": {
          "name": "#%% md\n"
        }
      },
      "source": [
        "**H0** - \"Конверсии групп Google и Яндекс в просмотр контактов равны\"."
      ]
    },
    {
      "cell_type": "markdown",
      "metadata": {
        "id": "1ScH6DpuQqwD",
        "pycharm": {
          "name": "#%% md\n"
        }
      },
      "source": [
        "**H1** - \"Конверсии групп Google и Яндекс в просмотр контактов различаются\"."
      ]
    },
    {
      "cell_type": "markdown",
      "metadata": {
        "id": "aCwK1F1krcWM"
      },
      "source": [
        "Trial"
      ]
    },
    {
      "cell_type": "code",
      "execution_count": 104,
      "metadata": {
        "id": "zh5UxuDvDlhv"
      },
      "outputs": [],
      "source": [
        "trials_yandex = yandex_df.user_id.nunique()\n",
        "trials_google = google_df.user_id.nunique()"
      ]
    },
    {
      "cell_type": "markdown",
      "metadata": {
        "id": "dhzhagJFreoY"
      },
      "source": [
        "Succes"
      ]
    },
    {
      "cell_type": "code",
      "execution_count": 105,
      "metadata": {
        "id": "4O_yPr6UCVSm"
      },
      "outputs": [],
      "source": [
        "successes_yandex = yandex_df.query('event_name==\"contacts_show\" & source == \"yandex\"').user_id.nunique()\n",
        "successes_google = google_df.query('event_name==\"contacts_show\"').user_id.nunique()"
      ]
    },
    {
      "cell_type": "code",
      "execution_count": 106,
      "metadata": {
        "id": "7CQMWKE8EAGK"
      },
      "outputs": [],
      "source": [
        "conversion_yandex = successes_yandex / trials_yandex"
      ]
    },
    {
      "cell_type": "code",
      "execution_count": 107,
      "metadata": {
        "id": "qqUSwXKiFOWF"
      },
      "outputs": [],
      "source": [
        "conversion_google = successes_google / trials_google"
      ]
    },
    {
      "cell_type": "code",
      "execution_count": 108,
      "metadata": {
        "colab": {
          "base_uri": "https://localhost:8080/"
        },
        "id": "ZC6BNkeeQqwD",
        "outputId": "65c3659a-ac56-4388-9f48-71d3cb9d78c2",
        "pycharm": {
          "name": "#%%\n"
        },
        "scrolled": false
      },
      "outputs": [
        {
          "output_type": "stream",
          "name": "stdout",
          "text": [
            "successes: \n",
            "[275 478]\n",
            "trials:\n",
            "[1129 1934]\n",
            "p_values = 0.8244316027993777\n",
            "Не получилось отвергнуть нулевую гипотезу, статистически значимых отличий нет\n",
            "Средняя конверсия в просмотры контактов у пользователей, которые совершили установку приложения, прийдя с источника yandex: 24.72%\n",
            "Средняя конверсия в просмотры контактов у пользователей, которые совершили установку приложения, прийдя с источника google: 24.36%\n"
          ]
        }
      ],
      "source": [
        "alpha = .05 # критический уровень статистической значимости\n",
        "\n",
        "\n",
        "        \n",
        "successes = np.array([successes_google, successes_yandex])\n",
        "trials = np.array([trials_google, trials_yandex]) \n",
        "        \n",
        "print(\"successes: \")\n",
        "print(successes)\n",
        "\n",
        "print(\"trials:\")\n",
        "print(trials)\n",
        "\n",
        "# пропорция успехов в первой группе:\n",
        "p1 = successes[0]/trials[0]\n",
        "\n",
        "# пропорция успехов во второй группе:\n",
        "p2 = successes[1]/trials[1]\n",
        "\n",
        "# пропорция успехов в комбинированном датасете:\n",
        "p_combined = (successes[0] + successes[1]) / (trials[0] + trials[1])\n",
        "\n",
        "# разница пропорций в датасетах\n",
        "difference = p1 - p2 \n",
        "\n",
        "# считаем статистику в ст.отклонениях стандартного нормального распределения\n",
        "z_value = difference / mth.sqrt(p_combined * (1 - p_combined) * (1/trials[0] + 1/trials[1]))\n",
        "\n",
        "# задаем стандартное нормальное распределение (среднее 0, ст.отклонение 1)\n",
        "distr = st.norm(0, 1)  \n",
        "\n",
        "# считаем статистику в ст.отклонениях стандартного нормального распределения\n",
        "z_value = difference / mth.sqrt(p_combined * (1 - p_combined) * (1/trials[0] + 1/trials[1]))\n",
        "\n",
        "# задаем стандартное нормальное распределение (среднее 0, ст.отклонение 1)\n",
        "distr = st.norm(0, 1) \n",
        "\n",
        "p_value = (1 - distr.cdf(abs(z_value))) * 2\n",
        "print(f'p_values = {p_value}')\n",
        "if (p_value < alpha):\n",
        "    print(\"Отвергаем нулевую гипотезу: разница статистически значима\")\n",
        "else:\n",
        "    print(\"Не получилось отвергнуть нулевую гипотезу, статистически значимых отличий нет\") \n",
        "print(f'Средняя конверсия в просмотры контактов у пользователей, которые совершили установку приложения, прийдя с источника yandex: {conversion_yandex:.2%}')\n",
        "print(f'Средняя конверсия в просмотры контактов у пользователей, которые совершили установку приложения, прийдя с источника google: {conversion_google:.2%}')        \n"
      ]
    },
    {
      "cell_type": "markdown",
      "metadata": {
        "id": "MueJAwjiQqwD",
        "pycharm": {
          "name": "#%% md\n"
        }
      },
      "source": [
        "**Вывод**: с помощью **z-test-a** мы  приняли нулевую гипотезу и сделали вывод, что *конверсии групп Google и Яндекс в просмотр контактов не различаются*."
      ]
    },
    {
      "cell_type": "markdown",
      "metadata": {
        "id": "ClJm1rT5QqwD",
        "pycharm": {
          "name": "#%% md\n"
        }
      },
      "source": [
        "### Среднее время,  проведенное в приложении, у групп пользователей ,совершивших целевое действие(просмотр контактов) и не совершивших его, различается"
      ]
    },
    {
      "cell_type": "markdown",
      "metadata": {
        "id": "pMUHMvN-QqwD",
        "pycharm": {
          "name": "#%% md\n"
        }
      },
      "source": [
        "Подготовим данные для проверки гипотезы."
      ]
    },
    {
      "cell_type": "markdown",
      "metadata": {
        "id": "bGub73_jQqwE",
        "pycharm": {
          "name": "#%% md\n"
        }
      },
      "source": [
        "Отфильтруем таблицы по поьзователям, которые совершали целевое действие (**full_contacts_show**) и не совершали (**not_contacts_show**). Преобразуем тип данных столбца *active_session* в *integer* - этот тип данных нужен нам для применения **t-test-a**:"
      ]
    },
    {
      "cell_type": "code",
      "execution_count": 109,
      "metadata": {
        "id": "iK-S8c6fQqwE",
        "pycharm": {
          "name": "#%%\n"
        }
      },
      "outputs": [],
      "source": [
        "df['active_session'] = df['active_session'].astype('timedelta64[m]')"
      ]
    },
    {
      "cell_type": "code",
      "execution_count": 110,
      "metadata": {
        "colab": {
          "base_uri": "https://localhost:8080/",
          "height": 1000
        },
        "id": "8m3oH8vdQqwE",
        "outputId": "75e78266-99d2-43fb-ae5c-57a270196c14",
        "pycharm": {
          "name": "#%%\n"
        }
      },
      "outputs": [
        {
          "output_type": "execute_result",
          "data": {
            "text/plain": [
              "               event_time     event_name  \\\n",
              "121   2019-10-07 00:02:07      tips_show   \n",
              "122   2019-10-07 00:05:16  contacts_show   \n",
              "123   2019-10-07 00:06:01      tips_show   \n",
              "124   2019-10-07 00:06:56      tips_show   \n",
              "125   2019-10-07 00:09:25      tips_show   \n",
              "...                   ...            ...   \n",
              "74187 2019-11-03 23:46:31  contacts_show   \n",
              "74188 2019-11-03 23:48:47     tips_click   \n",
              "74189 2019-11-03 23:50:06     tips_click   \n",
              "74190 2019-11-03 23:51:09     tips_click   \n",
              "74191 2019-11-03 23:52:02     tips_click   \n",
              "\n",
              "                                    user_id  source  event_hour event_week  \\\n",
              "121    8c356c42-3ba9-4cb6-80b8-3f868d0192c3  yandex           0 2019-10-03   \n",
              "122    8c356c42-3ba9-4cb6-80b8-3f868d0192c3  yandex           0 2019-10-03   \n",
              "123    8c356c42-3ba9-4cb6-80b8-3f868d0192c3  yandex           0 2019-10-03   \n",
              "124    8c356c42-3ba9-4cb6-80b8-3f868d0192c3  yandex           0 2019-10-03   \n",
              "125    8c356c42-3ba9-4cb6-80b8-3f868d0192c3  yandex           0 2019-10-03   \n",
              "...                                     ...     ...         ...        ...   \n",
              "74187  c10055f0-0b47-477a-869e-d391b31fdf8f  yandex          23 2019-10-31   \n",
              "74188  c10055f0-0b47-477a-869e-d391b31fdf8f  yandex          23 2019-10-31   \n",
              "74189  c10055f0-0b47-477a-869e-d391b31fdf8f  yandex          23 2019-10-31   \n",
              "74190  c10055f0-0b47-477a-869e-d391b31fdf8f  yandex          23 2019-10-31   \n",
              "74191  c10055f0-0b47-477a-869e-d391b31fdf8f  yandex          23 2019-10-31   \n",
              "\n",
              "      event_month event_year event_date   start_dt  ... cohort_lifetime  \\\n",
              "121    2019-10-01 2019-01-01 2019-10-07 2019-10-07  ...               0   \n",
              "122    2019-10-01 2019-01-01 2019-10-07 2019-10-07  ...               0   \n",
              "123    2019-10-01 2019-01-01 2019-10-07 2019-10-07  ...               0   \n",
              "124    2019-10-01 2019-01-01 2019-10-07 2019-10-07  ...               0   \n",
              "125    2019-10-01 2019-01-01 2019-10-07 2019-10-07  ...               0   \n",
              "...           ...        ...        ...        ...  ...             ...   \n",
              "74187  2019-11-01 2019-01-01 2019-11-03 2019-11-03  ...               0   \n",
              "74188  2019-11-01 2019-01-01 2019-11-03 2019-11-03  ...               0   \n",
              "74189  2019-11-01 2019-01-01 2019-11-03 2019-11-03  ...               0   \n",
              "74190  2019-11-01 2019-01-01 2019-11-03 2019-11-03  ...               0   \n",
              "74191  2019-11-01 2019-01-01 2019-11-03 2019-11-03  ...               0   \n",
              "\n",
              "          pre_action_time  active_session session_num  contacts_show  \\\n",
              "121                   NaT               0           1              0   \n",
              "122   2019-10-07 00:02:07               3           1              1   \n",
              "123   2019-10-07 00:05:16               0           1              0   \n",
              "124   2019-10-07 00:06:01               0           1              0   \n",
              "125   2019-10-07 00:06:56               2           1              0   \n",
              "...                   ...             ...         ...            ...   \n",
              "74187                 NaT               0           1              1   \n",
              "74188 2019-11-03 23:46:31               2           1              0   \n",
              "74189 2019-11-03 23:48:47               1           1              0   \n",
              "74190 2019-11-03 23:50:06               1           1              0   \n",
              "74191 2019-11-03 23:51:09               0           1              0   \n",
              "\n",
              "       photos_show tips_show search    last_dt duration  \n",
              "121              0         1      0 2019-10-29       23  \n",
              "122              0         0      0 2019-10-29       23  \n",
              "123              0         1      0 2019-10-29       23  \n",
              "124              0         1      0 2019-10-29       23  \n",
              "125              0         1      0 2019-10-29       23  \n",
              "...            ...       ...    ...        ...      ...  \n",
              "74187            0         0      0 2019-11-03        1  \n",
              "74188            0         0      0 2019-11-03        1  \n",
              "74189            0         0      0 2019-11-03        1  \n",
              "74190            0         0      0 2019-11-03        1  \n",
              "74191            0         0      0 2019-11-03        1  \n",
              "\n",
              "[27197 rows x 22 columns]"
            ],
            "text/html": [
              "\n",
              "  <div id=\"df-5504fb3b-ef64-4b5d-a4e6-243cca93fc31\">\n",
              "    <div class=\"colab-df-container\">\n",
              "      <div>\n",
              "<style scoped>\n",
              "    .dataframe tbody tr th:only-of-type {\n",
              "        vertical-align: middle;\n",
              "    }\n",
              "\n",
              "    .dataframe tbody tr th {\n",
              "        vertical-align: top;\n",
              "    }\n",
              "\n",
              "    .dataframe thead th {\n",
              "        text-align: right;\n",
              "    }\n",
              "</style>\n",
              "<table border=\"1\" class=\"dataframe\">\n",
              "  <thead>\n",
              "    <tr style=\"text-align: right;\">\n",
              "      <th></th>\n",
              "      <th>event_time</th>\n",
              "      <th>event_name</th>\n",
              "      <th>user_id</th>\n",
              "      <th>source</th>\n",
              "      <th>event_hour</th>\n",
              "      <th>event_week</th>\n",
              "      <th>event_month</th>\n",
              "      <th>event_year</th>\n",
              "      <th>event_date</th>\n",
              "      <th>start_dt</th>\n",
              "      <th>...</th>\n",
              "      <th>cohort_lifetime</th>\n",
              "      <th>pre_action_time</th>\n",
              "      <th>active_session</th>\n",
              "      <th>session_num</th>\n",
              "      <th>contacts_show</th>\n",
              "      <th>photos_show</th>\n",
              "      <th>tips_show</th>\n",
              "      <th>search</th>\n",
              "      <th>last_dt</th>\n",
              "      <th>duration</th>\n",
              "    </tr>\n",
              "  </thead>\n",
              "  <tbody>\n",
              "    <tr>\n",
              "      <th>121</th>\n",
              "      <td>2019-10-07 00:02:07</td>\n",
              "      <td>tips_show</td>\n",
              "      <td>8c356c42-3ba9-4cb6-80b8-3f868d0192c3</td>\n",
              "      <td>yandex</td>\n",
              "      <td>0</td>\n",
              "      <td>2019-10-03</td>\n",
              "      <td>2019-10-01</td>\n",
              "      <td>2019-01-01</td>\n",
              "      <td>2019-10-07</td>\n",
              "      <td>2019-10-07</td>\n",
              "      <td>...</td>\n",
              "      <td>0</td>\n",
              "      <td>NaT</td>\n",
              "      <td>0</td>\n",
              "      <td>1</td>\n",
              "      <td>0</td>\n",
              "      <td>0</td>\n",
              "      <td>1</td>\n",
              "      <td>0</td>\n",
              "      <td>2019-10-29</td>\n",
              "      <td>23</td>\n",
              "    </tr>\n",
              "    <tr>\n",
              "      <th>122</th>\n",
              "      <td>2019-10-07 00:05:16</td>\n",
              "      <td>contacts_show</td>\n",
              "      <td>8c356c42-3ba9-4cb6-80b8-3f868d0192c3</td>\n",
              "      <td>yandex</td>\n",
              "      <td>0</td>\n",
              "      <td>2019-10-03</td>\n",
              "      <td>2019-10-01</td>\n",
              "      <td>2019-01-01</td>\n",
              "      <td>2019-10-07</td>\n",
              "      <td>2019-10-07</td>\n",
              "      <td>...</td>\n",
              "      <td>0</td>\n",
              "      <td>2019-10-07 00:02:07</td>\n",
              "      <td>3</td>\n",
              "      <td>1</td>\n",
              "      <td>1</td>\n",
              "      <td>0</td>\n",
              "      <td>0</td>\n",
              "      <td>0</td>\n",
              "      <td>2019-10-29</td>\n",
              "      <td>23</td>\n",
              "    </tr>\n",
              "    <tr>\n",
              "      <th>123</th>\n",
              "      <td>2019-10-07 00:06:01</td>\n",
              "      <td>tips_show</td>\n",
              "      <td>8c356c42-3ba9-4cb6-80b8-3f868d0192c3</td>\n",
              "      <td>yandex</td>\n",
              "      <td>0</td>\n",
              "      <td>2019-10-03</td>\n",
              "      <td>2019-10-01</td>\n",
              "      <td>2019-01-01</td>\n",
              "      <td>2019-10-07</td>\n",
              "      <td>2019-10-07</td>\n",
              "      <td>...</td>\n",
              "      <td>0</td>\n",
              "      <td>2019-10-07 00:05:16</td>\n",
              "      <td>0</td>\n",
              "      <td>1</td>\n",
              "      <td>0</td>\n",
              "      <td>0</td>\n",
              "      <td>1</td>\n",
              "      <td>0</td>\n",
              "      <td>2019-10-29</td>\n",
              "      <td>23</td>\n",
              "    </tr>\n",
              "    <tr>\n",
              "      <th>124</th>\n",
              "      <td>2019-10-07 00:06:56</td>\n",
              "      <td>tips_show</td>\n",
              "      <td>8c356c42-3ba9-4cb6-80b8-3f868d0192c3</td>\n",
              "      <td>yandex</td>\n",
              "      <td>0</td>\n",
              "      <td>2019-10-03</td>\n",
              "      <td>2019-10-01</td>\n",
              "      <td>2019-01-01</td>\n",
              "      <td>2019-10-07</td>\n",
              "      <td>2019-10-07</td>\n",
              "      <td>...</td>\n",
              "      <td>0</td>\n",
              "      <td>2019-10-07 00:06:01</td>\n",
              "      <td>0</td>\n",
              "      <td>1</td>\n",
              "      <td>0</td>\n",
              "      <td>0</td>\n",
              "      <td>1</td>\n",
              "      <td>0</td>\n",
              "      <td>2019-10-29</td>\n",
              "      <td>23</td>\n",
              "    </tr>\n",
              "    <tr>\n",
              "      <th>125</th>\n",
              "      <td>2019-10-07 00:09:25</td>\n",
              "      <td>tips_show</td>\n",
              "      <td>8c356c42-3ba9-4cb6-80b8-3f868d0192c3</td>\n",
              "      <td>yandex</td>\n",
              "      <td>0</td>\n",
              "      <td>2019-10-03</td>\n",
              "      <td>2019-10-01</td>\n",
              "      <td>2019-01-01</td>\n",
              "      <td>2019-10-07</td>\n",
              "      <td>2019-10-07</td>\n",
              "      <td>...</td>\n",
              "      <td>0</td>\n",
              "      <td>2019-10-07 00:06:56</td>\n",
              "      <td>2</td>\n",
              "      <td>1</td>\n",
              "      <td>0</td>\n",
              "      <td>0</td>\n",
              "      <td>1</td>\n",
              "      <td>0</td>\n",
              "      <td>2019-10-29</td>\n",
              "      <td>23</td>\n",
              "    </tr>\n",
              "    <tr>\n",
              "      <th>...</th>\n",
              "      <td>...</td>\n",
              "      <td>...</td>\n",
              "      <td>...</td>\n",
              "      <td>...</td>\n",
              "      <td>...</td>\n",
              "      <td>...</td>\n",
              "      <td>...</td>\n",
              "      <td>...</td>\n",
              "      <td>...</td>\n",
              "      <td>...</td>\n",
              "      <td>...</td>\n",
              "      <td>...</td>\n",
              "      <td>...</td>\n",
              "      <td>...</td>\n",
              "      <td>...</td>\n",
              "      <td>...</td>\n",
              "      <td>...</td>\n",
              "      <td>...</td>\n",
              "      <td>...</td>\n",
              "      <td>...</td>\n",
              "      <td>...</td>\n",
              "    </tr>\n",
              "    <tr>\n",
              "      <th>74187</th>\n",
              "      <td>2019-11-03 23:46:31</td>\n",
              "      <td>contacts_show</td>\n",
              "      <td>c10055f0-0b47-477a-869e-d391b31fdf8f</td>\n",
              "      <td>yandex</td>\n",
              "      <td>23</td>\n",
              "      <td>2019-10-31</td>\n",
              "      <td>2019-11-01</td>\n",
              "      <td>2019-01-01</td>\n",
              "      <td>2019-11-03</td>\n",
              "      <td>2019-11-03</td>\n",
              "      <td>...</td>\n",
              "      <td>0</td>\n",
              "      <td>NaT</td>\n",
              "      <td>0</td>\n",
              "      <td>1</td>\n",
              "      <td>1</td>\n",
              "      <td>0</td>\n",
              "      <td>0</td>\n",
              "      <td>0</td>\n",
              "      <td>2019-11-03</td>\n",
              "      <td>1</td>\n",
              "    </tr>\n",
              "    <tr>\n",
              "      <th>74188</th>\n",
              "      <td>2019-11-03 23:48:47</td>\n",
              "      <td>tips_click</td>\n",
              "      <td>c10055f0-0b47-477a-869e-d391b31fdf8f</td>\n",
              "      <td>yandex</td>\n",
              "      <td>23</td>\n",
              "      <td>2019-10-31</td>\n",
              "      <td>2019-11-01</td>\n",
              "      <td>2019-01-01</td>\n",
              "      <td>2019-11-03</td>\n",
              "      <td>2019-11-03</td>\n",
              "      <td>...</td>\n",
              "      <td>0</td>\n",
              "      <td>2019-11-03 23:46:31</td>\n",
              "      <td>2</td>\n",
              "      <td>1</td>\n",
              "      <td>0</td>\n",
              "      <td>0</td>\n",
              "      <td>0</td>\n",
              "      <td>0</td>\n",
              "      <td>2019-11-03</td>\n",
              "      <td>1</td>\n",
              "    </tr>\n",
              "    <tr>\n",
              "      <th>74189</th>\n",
              "      <td>2019-11-03 23:50:06</td>\n",
              "      <td>tips_click</td>\n",
              "      <td>c10055f0-0b47-477a-869e-d391b31fdf8f</td>\n",
              "      <td>yandex</td>\n",
              "      <td>23</td>\n",
              "      <td>2019-10-31</td>\n",
              "      <td>2019-11-01</td>\n",
              "      <td>2019-01-01</td>\n",
              "      <td>2019-11-03</td>\n",
              "      <td>2019-11-03</td>\n",
              "      <td>...</td>\n",
              "      <td>0</td>\n",
              "      <td>2019-11-03 23:48:47</td>\n",
              "      <td>1</td>\n",
              "      <td>1</td>\n",
              "      <td>0</td>\n",
              "      <td>0</td>\n",
              "      <td>0</td>\n",
              "      <td>0</td>\n",
              "      <td>2019-11-03</td>\n",
              "      <td>1</td>\n",
              "    </tr>\n",
              "    <tr>\n",
              "      <th>74190</th>\n",
              "      <td>2019-11-03 23:51:09</td>\n",
              "      <td>tips_click</td>\n",
              "      <td>c10055f0-0b47-477a-869e-d391b31fdf8f</td>\n",
              "      <td>yandex</td>\n",
              "      <td>23</td>\n",
              "      <td>2019-10-31</td>\n",
              "      <td>2019-11-01</td>\n",
              "      <td>2019-01-01</td>\n",
              "      <td>2019-11-03</td>\n",
              "      <td>2019-11-03</td>\n",
              "      <td>...</td>\n",
              "      <td>0</td>\n",
              "      <td>2019-11-03 23:50:06</td>\n",
              "      <td>1</td>\n",
              "      <td>1</td>\n",
              "      <td>0</td>\n",
              "      <td>0</td>\n",
              "      <td>0</td>\n",
              "      <td>0</td>\n",
              "      <td>2019-11-03</td>\n",
              "      <td>1</td>\n",
              "    </tr>\n",
              "    <tr>\n",
              "      <th>74191</th>\n",
              "      <td>2019-11-03 23:52:02</td>\n",
              "      <td>tips_click</td>\n",
              "      <td>c10055f0-0b47-477a-869e-d391b31fdf8f</td>\n",
              "      <td>yandex</td>\n",
              "      <td>23</td>\n",
              "      <td>2019-10-31</td>\n",
              "      <td>2019-11-01</td>\n",
              "      <td>2019-01-01</td>\n",
              "      <td>2019-11-03</td>\n",
              "      <td>2019-11-03</td>\n",
              "      <td>...</td>\n",
              "      <td>0</td>\n",
              "      <td>2019-11-03 23:51:09</td>\n",
              "      <td>0</td>\n",
              "      <td>1</td>\n",
              "      <td>0</td>\n",
              "      <td>0</td>\n",
              "      <td>0</td>\n",
              "      <td>0</td>\n",
              "      <td>2019-11-03</td>\n",
              "      <td>1</td>\n",
              "    </tr>\n",
              "  </tbody>\n",
              "</table>\n",
              "<p>27197 rows × 22 columns</p>\n",
              "</div>\n",
              "      <button class=\"colab-df-convert\" onclick=\"convertToInteractive('df-5504fb3b-ef64-4b5d-a4e6-243cca93fc31')\"\n",
              "              title=\"Convert this dataframe to an interactive table.\"\n",
              "              style=\"display:none;\">\n",
              "        \n",
              "  <svg xmlns=\"http://www.w3.org/2000/svg\" height=\"24px\"viewBox=\"0 0 24 24\"\n",
              "       width=\"24px\">\n",
              "    <path d=\"M0 0h24v24H0V0z\" fill=\"none\"/>\n",
              "    <path d=\"M18.56 5.44l.94 2.06.94-2.06 2.06-.94-2.06-.94-.94-2.06-.94 2.06-2.06.94zm-11 1L8.5 8.5l.94-2.06 2.06-.94-2.06-.94L8.5 2.5l-.94 2.06-2.06.94zm10 10l.94 2.06.94-2.06 2.06-.94-2.06-.94-.94-2.06-.94 2.06-2.06.94z\"/><path d=\"M17.41 7.96l-1.37-1.37c-.4-.4-.92-.59-1.43-.59-.52 0-1.04.2-1.43.59L10.3 9.45l-7.72 7.72c-.78.78-.78 2.05 0 2.83L4 21.41c.39.39.9.59 1.41.59.51 0 1.02-.2 1.41-.59l7.78-7.78 2.81-2.81c.8-.78.8-2.07 0-2.86zM5.41 20L4 18.59l7.72-7.72 1.47 1.35L5.41 20z\"/>\n",
              "  </svg>\n",
              "      </button>\n",
              "      \n",
              "  <style>\n",
              "    .colab-df-container {\n",
              "      display:flex;\n",
              "      flex-wrap:wrap;\n",
              "      gap: 12px;\n",
              "    }\n",
              "\n",
              "    .colab-df-convert {\n",
              "      background-color: #E8F0FE;\n",
              "      border: none;\n",
              "      border-radius: 50%;\n",
              "      cursor: pointer;\n",
              "      display: none;\n",
              "      fill: #1967D2;\n",
              "      height: 32px;\n",
              "      padding: 0 0 0 0;\n",
              "      width: 32px;\n",
              "    }\n",
              "\n",
              "    .colab-df-convert:hover {\n",
              "      background-color: #E2EBFA;\n",
              "      box-shadow: 0px 1px 2px rgba(60, 64, 67, 0.3), 0px 1px 3px 1px rgba(60, 64, 67, 0.15);\n",
              "      fill: #174EA6;\n",
              "    }\n",
              "\n",
              "    [theme=dark] .colab-df-convert {\n",
              "      background-color: #3B4455;\n",
              "      fill: #D2E3FC;\n",
              "    }\n",
              "\n",
              "    [theme=dark] .colab-df-convert:hover {\n",
              "      background-color: #434B5C;\n",
              "      box-shadow: 0px 1px 3px 1px rgba(0, 0, 0, 0.15);\n",
              "      filter: drop-shadow(0px 1px 2px rgba(0, 0, 0, 0.3));\n",
              "      fill: #FFFFFF;\n",
              "    }\n",
              "  </style>\n",
              "\n",
              "      <script>\n",
              "        const buttonEl =\n",
              "          document.querySelector('#df-5504fb3b-ef64-4b5d-a4e6-243cca93fc31 button.colab-df-convert');\n",
              "        buttonEl.style.display =\n",
              "          google.colab.kernel.accessAllowed ? 'block' : 'none';\n",
              "\n",
              "        async function convertToInteractive(key) {\n",
              "          const element = document.querySelector('#df-5504fb3b-ef64-4b5d-a4e6-243cca93fc31');\n",
              "          const dataTable =\n",
              "            await google.colab.kernel.invokeFunction('convertToInteractive',\n",
              "                                                     [key], {});\n",
              "          if (!dataTable) return;\n",
              "\n",
              "          const docLinkHtml = 'Like what you see? Visit the ' +\n",
              "            '<a target=\"_blank\" href=https://colab.research.google.com/notebooks/data_table.ipynb>data table notebook</a>'\n",
              "            + ' to learn more about interactive tables.';\n",
              "          element.innerHTML = '';\n",
              "          dataTable['output_type'] = 'display_data';\n",
              "          await google.colab.output.renderOutput(dataTable, element);\n",
              "          const docLink = document.createElement('div');\n",
              "          docLink.innerHTML = docLinkHtml;\n",
              "          element.appendChild(docLink);\n",
              "        }\n",
              "      </script>\n",
              "    </div>\n",
              "  </div>\n",
              "  "
            ]
          },
          "metadata": {},
          "execution_count": 110
        }
      ],
      "source": [
        "contacts_show_df = df.query('event_name == \"contacts_show\"') \n",
        "users_contacts_show = contacts_show_df['user_id'].unique()\n",
        "full_contacts_show = df[df['user_id'].isin(users_contacts_show)]\n",
        "\n",
        "full_contacts_show['active_session'] = full_contacts_show['active_session'].astype('int')\n",
        "    \n",
        "full_contacts_show"
      ]
    },
    {
      "cell_type": "code",
      "execution_count": 111,
      "metadata": {
        "colab": {
          "base_uri": "https://localhost:8080/"
        },
        "id": "wwsavVtpQqwE",
        "outputId": "1bccac10-53f1-4b68-bc3e-ced16a3cc4a4",
        "pycharm": {
          "name": "#%%\n"
        }
      },
      "outputs": [
        {
          "output_type": "stream",
          "name": "stdout",
          "text": [
            "<class 'pandas.core.frame.DataFrame'>\n",
            "Int64Index: 27197 entries, 121 to 74191\n",
            "Data columns (total 22 columns):\n",
            " #   Column           Non-Null Count  Dtype         \n",
            "---  ------           --------------  -----         \n",
            " 0   event_time       27197 non-null  datetime64[ns]\n",
            " 1   event_name       27197 non-null  object        \n",
            " 2   user_id          27197 non-null  object        \n",
            " 3   source           27197 non-null  object        \n",
            " 4   event_hour       27197 non-null  int64         \n",
            " 5   event_week       27197 non-null  datetime64[ns]\n",
            " 6   event_month      27197 non-null  datetime64[ns]\n",
            " 7   event_year       27197 non-null  datetime64[ns]\n",
            " 8   event_date       27197 non-null  datetime64[ns]\n",
            " 9   start_dt         27197 non-null  datetime64[ns]\n",
            " 10  activ_week       27197 non-null  datetime64[ns]\n",
            " 11  start_week       27197 non-null  datetime64[ns]\n",
            " 12  cohort_lifetime  27197 non-null  int64         \n",
            " 13  pre_action_time  26216 non-null  datetime64[ns]\n",
            " 14  active_session   27197 non-null  int64         \n",
            " 15  session_num      27197 non-null  int64         \n",
            " 16  contacts_show    27197 non-null  object        \n",
            " 17  photos_show      27197 non-null  object        \n",
            " 18  tips_show        27197 non-null  object        \n",
            " 19  search           27197 non-null  object        \n",
            " 20  last_dt          27197 non-null  datetime64[ns]\n",
            " 21  duration         27197 non-null  int64         \n",
            "dtypes: datetime64[ns](10), int64(5), object(7)\n",
            "memory usage: 4.8+ MB\n"
          ]
        }
      ],
      "source": [
        "full_contacts_show.info()"
      ]
    },
    {
      "cell_type": "code",
      "execution_count": 112,
      "metadata": {
        "colab": {
          "base_uri": "https://localhost:8080/",
          "height": 1000
        },
        "id": "Sx0GwcY5QqwE",
        "outputId": "d8f7c397-21d3-4858-9848-00b91589ec9b",
        "pycharm": {
          "name": "#%%\n"
        }
      },
      "outputs": [
        {
          "output_type": "execute_result",
          "data": {
            "text/plain": [
              "               event_time   event_name                               user_id  \\\n",
              "0     2019-10-07 00:00:00  advert_open  020292ab-89bc-4156-9acf-68bc2783f894   \n",
              "1     2019-10-07 00:00:01    tips_show  020292ab-89bc-4156-9acf-68bc2783f894   \n",
              "2     2019-10-07 00:00:07    tips_show  020292ab-89bc-4156-9acf-68bc2783f894   \n",
              "3     2019-10-07 00:01:28  advert_open  020292ab-89bc-4156-9acf-68bc2783f894   \n",
              "4     2019-10-07 00:01:35    tips_show  020292ab-89bc-4156-9acf-68bc2783f894   \n",
              "...                   ...          ...                                   ...   \n",
              "74192 2019-11-03 23:46:47          map  d157bffc-264d-4464-8220-1cc0c42f43a9   \n",
              "74193 2019-11-03 23:46:59  advert_open  d157bffc-264d-4464-8220-1cc0c42f43a9   \n",
              "74194 2019-11-03 23:47:01    tips_show  d157bffc-264d-4464-8220-1cc0c42f43a9   \n",
              "74195 2019-11-03 23:47:47  advert_open  d157bffc-264d-4464-8220-1cc0c42f43a9   \n",
              "74196 2019-11-03 23:47:50    tips_show  d157bffc-264d-4464-8220-1cc0c42f43a9   \n",
              "\n",
              "       source  event_hour event_week event_month event_year event_date  \\\n",
              "0       other           0 2019-10-03  2019-10-01 2019-01-01 2019-10-07   \n",
              "1       other           0 2019-10-03  2019-10-01 2019-01-01 2019-10-07   \n",
              "2       other           0 2019-10-03  2019-10-01 2019-01-01 2019-10-07   \n",
              "3       other           0 2019-10-03  2019-10-01 2019-01-01 2019-10-07   \n",
              "4       other           0 2019-10-03  2019-10-01 2019-01-01 2019-10-07   \n",
              "...       ...         ...        ...         ...        ...        ...   \n",
              "74192  google          23 2019-10-31  2019-11-01 2019-01-01 2019-11-03   \n",
              "74193  google          23 2019-10-31  2019-11-01 2019-01-01 2019-11-03   \n",
              "74194  google          23 2019-10-31  2019-11-01 2019-01-01 2019-11-03   \n",
              "74195  google          23 2019-10-31  2019-11-01 2019-01-01 2019-11-03   \n",
              "74196  google          23 2019-10-31  2019-11-01 2019-01-01 2019-11-03   \n",
              "\n",
              "        start_dt  ... cohort_lifetime     pre_action_time  active_session  \\\n",
              "0     2019-10-07  ...               0                 NaT               0   \n",
              "1     2019-10-07  ...               0 2019-10-07 00:00:00               0   \n",
              "2     2019-10-07  ...               0 2019-10-07 00:00:01               0   \n",
              "3     2019-10-07  ...               0 2019-10-07 00:00:07               1   \n",
              "4     2019-10-07  ...               0 2019-10-07 00:01:28               0   \n",
              "...          ...  ...             ...                 ...             ...   \n",
              "74192 2019-11-03  ...               0                 NaT               0   \n",
              "74193 2019-11-03  ...               0 2019-11-03 23:46:47               0   \n",
              "74194 2019-11-03  ...               0 2019-11-03 23:46:59               0   \n",
              "74195 2019-11-03  ...               0 2019-11-03 23:47:01               0   \n",
              "74196 2019-11-03  ...               0 2019-11-03 23:47:47               0   \n",
              "\n",
              "      session_num  contacts_show  photos_show tips_show search    last_dt  \\\n",
              "0               1              0            0         0      0 2019-10-07   \n",
              "1               1              0            0         1      0 2019-10-07   \n",
              "2               1              0            0         1      0 2019-10-07   \n",
              "3               1              0            0         0      0 2019-10-07   \n",
              "4               1              0            0         1      0 2019-10-07   \n",
              "...           ...            ...          ...       ...    ...        ...   \n",
              "74192           1              0            0         0      0 2019-11-03   \n",
              "74193           1              0            0         0      0 2019-11-03   \n",
              "74194           1              0            0         1      0 2019-11-03   \n",
              "74195           1              0            0         0      0 2019-11-03   \n",
              "74196           1              0            0         1      0 2019-11-03   \n",
              "\n",
              "      duration  \n",
              "0            1  \n",
              "1            1  \n",
              "2            1  \n",
              "3            1  \n",
              "4            1  \n",
              "...        ...  \n",
              "74192        1  \n",
              "74193        1  \n",
              "74194        1  \n",
              "74195        1  \n",
              "74196        1  \n",
              "\n",
              "[47000 rows x 22 columns]"
            ],
            "text/html": [
              "\n",
              "  <div id=\"df-c8d9a71b-9173-436a-8a9c-83834f886e63\">\n",
              "    <div class=\"colab-df-container\">\n",
              "      <div>\n",
              "<style scoped>\n",
              "    .dataframe tbody tr th:only-of-type {\n",
              "        vertical-align: middle;\n",
              "    }\n",
              "\n",
              "    .dataframe tbody tr th {\n",
              "        vertical-align: top;\n",
              "    }\n",
              "\n",
              "    .dataframe thead th {\n",
              "        text-align: right;\n",
              "    }\n",
              "</style>\n",
              "<table border=\"1\" class=\"dataframe\">\n",
              "  <thead>\n",
              "    <tr style=\"text-align: right;\">\n",
              "      <th></th>\n",
              "      <th>event_time</th>\n",
              "      <th>event_name</th>\n",
              "      <th>user_id</th>\n",
              "      <th>source</th>\n",
              "      <th>event_hour</th>\n",
              "      <th>event_week</th>\n",
              "      <th>event_month</th>\n",
              "      <th>event_year</th>\n",
              "      <th>event_date</th>\n",
              "      <th>start_dt</th>\n",
              "      <th>...</th>\n",
              "      <th>cohort_lifetime</th>\n",
              "      <th>pre_action_time</th>\n",
              "      <th>active_session</th>\n",
              "      <th>session_num</th>\n",
              "      <th>contacts_show</th>\n",
              "      <th>photos_show</th>\n",
              "      <th>tips_show</th>\n",
              "      <th>search</th>\n",
              "      <th>last_dt</th>\n",
              "      <th>duration</th>\n",
              "    </tr>\n",
              "  </thead>\n",
              "  <tbody>\n",
              "    <tr>\n",
              "      <th>0</th>\n",
              "      <td>2019-10-07 00:00:00</td>\n",
              "      <td>advert_open</td>\n",
              "      <td>020292ab-89bc-4156-9acf-68bc2783f894</td>\n",
              "      <td>other</td>\n",
              "      <td>0</td>\n",
              "      <td>2019-10-03</td>\n",
              "      <td>2019-10-01</td>\n",
              "      <td>2019-01-01</td>\n",
              "      <td>2019-10-07</td>\n",
              "      <td>2019-10-07</td>\n",
              "      <td>...</td>\n",
              "      <td>0</td>\n",
              "      <td>NaT</td>\n",
              "      <td>0</td>\n",
              "      <td>1</td>\n",
              "      <td>0</td>\n",
              "      <td>0</td>\n",
              "      <td>0</td>\n",
              "      <td>0</td>\n",
              "      <td>2019-10-07</td>\n",
              "      <td>1</td>\n",
              "    </tr>\n",
              "    <tr>\n",
              "      <th>1</th>\n",
              "      <td>2019-10-07 00:00:01</td>\n",
              "      <td>tips_show</td>\n",
              "      <td>020292ab-89bc-4156-9acf-68bc2783f894</td>\n",
              "      <td>other</td>\n",
              "      <td>0</td>\n",
              "      <td>2019-10-03</td>\n",
              "      <td>2019-10-01</td>\n",
              "      <td>2019-01-01</td>\n",
              "      <td>2019-10-07</td>\n",
              "      <td>2019-10-07</td>\n",
              "      <td>...</td>\n",
              "      <td>0</td>\n",
              "      <td>2019-10-07 00:00:00</td>\n",
              "      <td>0</td>\n",
              "      <td>1</td>\n",
              "      <td>0</td>\n",
              "      <td>0</td>\n",
              "      <td>1</td>\n",
              "      <td>0</td>\n",
              "      <td>2019-10-07</td>\n",
              "      <td>1</td>\n",
              "    </tr>\n",
              "    <tr>\n",
              "      <th>2</th>\n",
              "      <td>2019-10-07 00:00:07</td>\n",
              "      <td>tips_show</td>\n",
              "      <td>020292ab-89bc-4156-9acf-68bc2783f894</td>\n",
              "      <td>other</td>\n",
              "      <td>0</td>\n",
              "      <td>2019-10-03</td>\n",
              "      <td>2019-10-01</td>\n",
              "      <td>2019-01-01</td>\n",
              "      <td>2019-10-07</td>\n",
              "      <td>2019-10-07</td>\n",
              "      <td>...</td>\n",
              "      <td>0</td>\n",
              "      <td>2019-10-07 00:00:01</td>\n",
              "      <td>0</td>\n",
              "      <td>1</td>\n",
              "      <td>0</td>\n",
              "      <td>0</td>\n",
              "      <td>1</td>\n",
              "      <td>0</td>\n",
              "      <td>2019-10-07</td>\n",
              "      <td>1</td>\n",
              "    </tr>\n",
              "    <tr>\n",
              "      <th>3</th>\n",
              "      <td>2019-10-07 00:01:28</td>\n",
              "      <td>advert_open</td>\n",
              "      <td>020292ab-89bc-4156-9acf-68bc2783f894</td>\n",
              "      <td>other</td>\n",
              "      <td>0</td>\n",
              "      <td>2019-10-03</td>\n",
              "      <td>2019-10-01</td>\n",
              "      <td>2019-01-01</td>\n",
              "      <td>2019-10-07</td>\n",
              "      <td>2019-10-07</td>\n",
              "      <td>...</td>\n",
              "      <td>0</td>\n",
              "      <td>2019-10-07 00:00:07</td>\n",
              "      <td>1</td>\n",
              "      <td>1</td>\n",
              "      <td>0</td>\n",
              "      <td>0</td>\n",
              "      <td>0</td>\n",
              "      <td>0</td>\n",
              "      <td>2019-10-07</td>\n",
              "      <td>1</td>\n",
              "    </tr>\n",
              "    <tr>\n",
              "      <th>4</th>\n",
              "      <td>2019-10-07 00:01:35</td>\n",
              "      <td>tips_show</td>\n",
              "      <td>020292ab-89bc-4156-9acf-68bc2783f894</td>\n",
              "      <td>other</td>\n",
              "      <td>0</td>\n",
              "      <td>2019-10-03</td>\n",
              "      <td>2019-10-01</td>\n",
              "      <td>2019-01-01</td>\n",
              "      <td>2019-10-07</td>\n",
              "      <td>2019-10-07</td>\n",
              "      <td>...</td>\n",
              "      <td>0</td>\n",
              "      <td>2019-10-07 00:01:28</td>\n",
              "      <td>0</td>\n",
              "      <td>1</td>\n",
              "      <td>0</td>\n",
              "      <td>0</td>\n",
              "      <td>1</td>\n",
              "      <td>0</td>\n",
              "      <td>2019-10-07</td>\n",
              "      <td>1</td>\n",
              "    </tr>\n",
              "    <tr>\n",
              "      <th>...</th>\n",
              "      <td>...</td>\n",
              "      <td>...</td>\n",
              "      <td>...</td>\n",
              "      <td>...</td>\n",
              "      <td>...</td>\n",
              "      <td>...</td>\n",
              "      <td>...</td>\n",
              "      <td>...</td>\n",
              "      <td>...</td>\n",
              "      <td>...</td>\n",
              "      <td>...</td>\n",
              "      <td>...</td>\n",
              "      <td>...</td>\n",
              "      <td>...</td>\n",
              "      <td>...</td>\n",
              "      <td>...</td>\n",
              "      <td>...</td>\n",
              "      <td>...</td>\n",
              "      <td>...</td>\n",
              "      <td>...</td>\n",
              "      <td>...</td>\n",
              "    </tr>\n",
              "    <tr>\n",
              "      <th>74192</th>\n",
              "      <td>2019-11-03 23:46:47</td>\n",
              "      <td>map</td>\n",
              "      <td>d157bffc-264d-4464-8220-1cc0c42f43a9</td>\n",
              "      <td>google</td>\n",
              "      <td>23</td>\n",
              "      <td>2019-10-31</td>\n",
              "      <td>2019-11-01</td>\n",
              "      <td>2019-01-01</td>\n",
              "      <td>2019-11-03</td>\n",
              "      <td>2019-11-03</td>\n",
              "      <td>...</td>\n",
              "      <td>0</td>\n",
              "      <td>NaT</td>\n",
              "      <td>0</td>\n",
              "      <td>1</td>\n",
              "      <td>0</td>\n",
              "      <td>0</td>\n",
              "      <td>0</td>\n",
              "      <td>0</td>\n",
              "      <td>2019-11-03</td>\n",
              "      <td>1</td>\n",
              "    </tr>\n",
              "    <tr>\n",
              "      <th>74193</th>\n",
              "      <td>2019-11-03 23:46:59</td>\n",
              "      <td>advert_open</td>\n",
              "      <td>d157bffc-264d-4464-8220-1cc0c42f43a9</td>\n",
              "      <td>google</td>\n",
              "      <td>23</td>\n",
              "      <td>2019-10-31</td>\n",
              "      <td>2019-11-01</td>\n",
              "      <td>2019-01-01</td>\n",
              "      <td>2019-11-03</td>\n",
              "      <td>2019-11-03</td>\n",
              "      <td>...</td>\n",
              "      <td>0</td>\n",
              "      <td>2019-11-03 23:46:47</td>\n",
              "      <td>0</td>\n",
              "      <td>1</td>\n",
              "      <td>0</td>\n",
              "      <td>0</td>\n",
              "      <td>0</td>\n",
              "      <td>0</td>\n",
              "      <td>2019-11-03</td>\n",
              "      <td>1</td>\n",
              "    </tr>\n",
              "    <tr>\n",
              "      <th>74194</th>\n",
              "      <td>2019-11-03 23:47:01</td>\n",
              "      <td>tips_show</td>\n",
              "      <td>d157bffc-264d-4464-8220-1cc0c42f43a9</td>\n",
              "      <td>google</td>\n",
              "      <td>23</td>\n",
              "      <td>2019-10-31</td>\n",
              "      <td>2019-11-01</td>\n",
              "      <td>2019-01-01</td>\n",
              "      <td>2019-11-03</td>\n",
              "      <td>2019-11-03</td>\n",
              "      <td>...</td>\n",
              "      <td>0</td>\n",
              "      <td>2019-11-03 23:46:59</td>\n",
              "      <td>0</td>\n",
              "      <td>1</td>\n",
              "      <td>0</td>\n",
              "      <td>0</td>\n",
              "      <td>1</td>\n",
              "      <td>0</td>\n",
              "      <td>2019-11-03</td>\n",
              "      <td>1</td>\n",
              "    </tr>\n",
              "    <tr>\n",
              "      <th>74195</th>\n",
              "      <td>2019-11-03 23:47:47</td>\n",
              "      <td>advert_open</td>\n",
              "      <td>d157bffc-264d-4464-8220-1cc0c42f43a9</td>\n",
              "      <td>google</td>\n",
              "      <td>23</td>\n",
              "      <td>2019-10-31</td>\n",
              "      <td>2019-11-01</td>\n",
              "      <td>2019-01-01</td>\n",
              "      <td>2019-11-03</td>\n",
              "      <td>2019-11-03</td>\n",
              "      <td>...</td>\n",
              "      <td>0</td>\n",
              "      <td>2019-11-03 23:47:01</td>\n",
              "      <td>0</td>\n",
              "      <td>1</td>\n",
              "      <td>0</td>\n",
              "      <td>0</td>\n",
              "      <td>0</td>\n",
              "      <td>0</td>\n",
              "      <td>2019-11-03</td>\n",
              "      <td>1</td>\n",
              "    </tr>\n",
              "    <tr>\n",
              "      <th>74196</th>\n",
              "      <td>2019-11-03 23:47:50</td>\n",
              "      <td>tips_show</td>\n",
              "      <td>d157bffc-264d-4464-8220-1cc0c42f43a9</td>\n",
              "      <td>google</td>\n",
              "      <td>23</td>\n",
              "      <td>2019-10-31</td>\n",
              "      <td>2019-11-01</td>\n",
              "      <td>2019-01-01</td>\n",
              "      <td>2019-11-03</td>\n",
              "      <td>2019-11-03</td>\n",
              "      <td>...</td>\n",
              "      <td>0</td>\n",
              "      <td>2019-11-03 23:47:47</td>\n",
              "      <td>0</td>\n",
              "      <td>1</td>\n",
              "      <td>0</td>\n",
              "      <td>0</td>\n",
              "      <td>1</td>\n",
              "      <td>0</td>\n",
              "      <td>2019-11-03</td>\n",
              "      <td>1</td>\n",
              "    </tr>\n",
              "  </tbody>\n",
              "</table>\n",
              "<p>47000 rows × 22 columns</p>\n",
              "</div>\n",
              "      <button class=\"colab-df-convert\" onclick=\"convertToInteractive('df-c8d9a71b-9173-436a-8a9c-83834f886e63')\"\n",
              "              title=\"Convert this dataframe to an interactive table.\"\n",
              "              style=\"display:none;\">\n",
              "        \n",
              "  <svg xmlns=\"http://www.w3.org/2000/svg\" height=\"24px\"viewBox=\"0 0 24 24\"\n",
              "       width=\"24px\">\n",
              "    <path d=\"M0 0h24v24H0V0z\" fill=\"none\"/>\n",
              "    <path d=\"M18.56 5.44l.94 2.06.94-2.06 2.06-.94-2.06-.94-.94-2.06-.94 2.06-2.06.94zm-11 1L8.5 8.5l.94-2.06 2.06-.94-2.06-.94L8.5 2.5l-.94 2.06-2.06.94zm10 10l.94 2.06.94-2.06 2.06-.94-2.06-.94-.94-2.06-.94 2.06-2.06.94z\"/><path d=\"M17.41 7.96l-1.37-1.37c-.4-.4-.92-.59-1.43-.59-.52 0-1.04.2-1.43.59L10.3 9.45l-7.72 7.72c-.78.78-.78 2.05 0 2.83L4 21.41c.39.39.9.59 1.41.59.51 0 1.02-.2 1.41-.59l7.78-7.78 2.81-2.81c.8-.78.8-2.07 0-2.86zM5.41 20L4 18.59l7.72-7.72 1.47 1.35L5.41 20z\"/>\n",
              "  </svg>\n",
              "      </button>\n",
              "      \n",
              "  <style>\n",
              "    .colab-df-container {\n",
              "      display:flex;\n",
              "      flex-wrap:wrap;\n",
              "      gap: 12px;\n",
              "    }\n",
              "\n",
              "    .colab-df-convert {\n",
              "      background-color: #E8F0FE;\n",
              "      border: none;\n",
              "      border-radius: 50%;\n",
              "      cursor: pointer;\n",
              "      display: none;\n",
              "      fill: #1967D2;\n",
              "      height: 32px;\n",
              "      padding: 0 0 0 0;\n",
              "      width: 32px;\n",
              "    }\n",
              "\n",
              "    .colab-df-convert:hover {\n",
              "      background-color: #E2EBFA;\n",
              "      box-shadow: 0px 1px 2px rgba(60, 64, 67, 0.3), 0px 1px 3px 1px rgba(60, 64, 67, 0.15);\n",
              "      fill: #174EA6;\n",
              "    }\n",
              "\n",
              "    [theme=dark] .colab-df-convert {\n",
              "      background-color: #3B4455;\n",
              "      fill: #D2E3FC;\n",
              "    }\n",
              "\n",
              "    [theme=dark] .colab-df-convert:hover {\n",
              "      background-color: #434B5C;\n",
              "      box-shadow: 0px 1px 3px 1px rgba(0, 0, 0, 0.15);\n",
              "      filter: drop-shadow(0px 1px 2px rgba(0, 0, 0, 0.3));\n",
              "      fill: #FFFFFF;\n",
              "    }\n",
              "  </style>\n",
              "\n",
              "      <script>\n",
              "        const buttonEl =\n",
              "          document.querySelector('#df-c8d9a71b-9173-436a-8a9c-83834f886e63 button.colab-df-convert');\n",
              "        buttonEl.style.display =\n",
              "          google.colab.kernel.accessAllowed ? 'block' : 'none';\n",
              "\n",
              "        async function convertToInteractive(key) {\n",
              "          const element = document.querySelector('#df-c8d9a71b-9173-436a-8a9c-83834f886e63');\n",
              "          const dataTable =\n",
              "            await google.colab.kernel.invokeFunction('convertToInteractive',\n",
              "                                                     [key], {});\n",
              "          if (!dataTable) return;\n",
              "\n",
              "          const docLinkHtml = 'Like what you see? Visit the ' +\n",
              "            '<a target=\"_blank\" href=https://colab.research.google.com/notebooks/data_table.ipynb>data table notebook</a>'\n",
              "            + ' to learn more about interactive tables.';\n",
              "          element.innerHTML = '';\n",
              "          dataTable['output_type'] = 'display_data';\n",
              "          await google.colab.output.renderOutput(dataTable, element);\n",
              "          const docLink = document.createElement('div');\n",
              "          docLink.innerHTML = docLinkHtml;\n",
              "          element.appendChild(docLink);\n",
              "        }\n",
              "      </script>\n",
              "    </div>\n",
              "  </div>\n",
              "  "
            ]
          },
          "metadata": {},
          "execution_count": 112
        }
      ],
      "source": [
        "not_contacts_show = df[~df['user_id'].isin(users_contacts_show)]\n",
        "not_contacts_show['active_session'] = not_contacts_show['active_session'].astype('int')    \n",
        "not_contacts_show"
      ]
    },
    {
      "cell_type": "markdown",
      "metadata": {
        "id": "wP40fz0pQqwE",
        "pycharm": {
          "name": "#%% md\n"
        }
      },
      "source": [
        "Сформулируем гипотезы:"
      ]
    },
    {
      "cell_type": "markdown",
      "metadata": {
        "id": "oalaehD6QqwE",
        "pycharm": {
          "name": "#%% md\n"
        }
      },
      "source": [
        "**Н0**: \"Среднее время, проведенное в приложении, у групп пользователей ,совершивших целевое действие(просмотр контактов) и не совершивших его, равно\"."
      ]
    },
    {
      "cell_type": "markdown",
      "metadata": {
        "id": "MLqzjVZ3QqwE",
        "pycharm": {
          "name": "#%% md\n"
        }
      },
      "source": [
        "**Н1**: \"Среднее время, проведенное в приложении, у групп пользователей ,совершивших целевое действие(просмотр контактов) и не совершивших его, различается\"."
      ]
    },
    {
      "cell_type": "markdown",
      "metadata": {
        "id": "Ph8tJ5RTQqwE",
        "pycharm": {
          "name": "#%% md\n"
        }
      },
      "source": [
        "Проведем **t-test**:"
      ]
    },
    {
      "cell_type": "code",
      "execution_count": 113,
      "metadata": {
        "colab": {
          "base_uri": "https://localhost:8080/"
        },
        "id": "p-CRNgBRQqwE",
        "outputId": "03fe43ff-f555-421e-c54a-e2b33f9dcbba",
        "pycharm": {
          "name": "#%%\n"
        }
      },
      "outputs": [
        {
          "output_type": "stream",
          "name": "stdout",
          "text": [
            "p-значение: 4.224485656634515e-24\n",
            "Отвергаем нулевую гипотезу, различия статистически значимы\n",
            "Среднее время, проведенное в приложении, у групп пользователей совершивших целевое действие: 1.602566\n",
            "Среднее время, проведенное в приложении, у групп пользователей не совершивших целевое действие: 1.3522340425531916\n"
          ]
        }
      ],
      "source": [
        "alpha = .05\n",
        "\n",
        "results = st.ttest_ind(\n",
        "    full_contacts_show['active_session'], \n",
        "    not_contacts_show['active_session'])\n",
        "\n",
        "print('p-значение:', results.pvalue)\n",
        "\n",
        "if results.pvalue < alpha:\n",
        "    print(\"Отвергаем нулевую гипотезу, различия статистически значимы\")\n",
        "else:\n",
        "    print(\"Не получилось отвергнуть нулевую гипотезу, статистически значимых различий нет\") \n",
        "print(f\"Среднее время, проведенное в приложении, у групп пользователей совершивших целевое действие: {full_contacts_show['active_session'].mean():2f}\")\n",
        "print(f\"Среднее время, проведенное в приложении, у групп пользователей не совершивших целевое действие: {not_contacts_show['active_session'].mean()}\")"
      ]
    },
    {
      "cell_type": "markdown",
      "metadata": {
        "id": "C5bUqshPQqwF",
        "pycharm": {
          "name": "#%% md\n"
        }
      },
      "source": [
        "**Вывод**: по результатам проверки мы отвергаем нулевую гипотезу и делаем предположение, что среднее время, проведенное в приложении, у групп пользователей ,совершивших целевое действие(просмотр контактов) и не совершивших его, различается."
      ]
    },
    {
      "cell_type": "markdown",
      "metadata": {
        "id": "mdHqu79lQqwF",
        "pycharm": {
          "name": "#%% md\n"
        }
      },
      "source": [
        "### Вывод"
      ]
    },
    {
      "cell_type": "markdown",
      "metadata": {
        "id": "rMVBRh5FQqwF",
        "pycharm": {
          "name": "#%% md\n"
        }
      },
      "source": [
        "Гипотезу о различии конверсий у групп пользователей, пришедших с *Google* и *Яндекс*, мы проверяли с помощью **z-test-a**. с помощью **z-test-a** мы  приняли нулевую гипотезу и сделали вывод, что *конверсии групп Google и Яндекс в просмотр контактов не различаются*"
      ]
    },
    {
      "cell_type": "markdown",
      "metadata": {
        "id": "ALmfb4JnQqwF",
        "pycharm": {
          "name": "#%% md\n"
        }
      },
      "source": [
        "Также мы сформулировали гипотезу о различии среднего времени, проведенном в приложении, у групп пользователей ,совершивших целевое действие(просмотр контактов) и не совершивших его. Эту гипотезу мы проверяли с помощью **t-test-a**. По результатам проверки мы отвергли нулевую гипотезу и сделали предположение, что среднее время, проведенное в приложении, у групп пользователей ,совершивших целевое действие(просмотр контактов) и не совершивших его, различается."
      ]
    },
    {
      "cell_type": "markdown",
      "metadata": {
        "id": "ysGzRuvvQqwF",
        "pycharm": {
          "name": "#%% md\n"
        }
      },
      "source": [
        "## Общие выводы и рекомендации"
      ]
    },
    {
      "cell_type": "markdown",
      "metadata": {
        "id": "W3zGWghnQqwF",
        "pycharm": {
          "name": "#%% md\n"
        }
      },
      "source": [
        "### Выводы"
      ]
    },
    {
      "cell_type": "markdown",
      "metadata": {
        "id": "2iiODCW3QqwF",
        "pycharm": {
          "name": "#%% md\n"
        }
      },
      "source": [
        "Мы выгрузили два датафрейма. Первый - **mobile_df** - содержит данные о идентификаторах пользователей, времени совершения событий и типе событий. Второй - **source_df** - также содержит данные об идентификаторах пользователей и об источниках, с которых пользователи устанавливают приложение."
      ]
    },
    {
      "cell_type": "markdown",
      "metadata": {
        "id": "CnH8QQHPQqwF",
        "pycharm": {
          "name": "#%% md\n"
        }
      },
      "source": [
        "Мы проверили таблицы на пропуски и дубликаты - данные оказались чистыми. Мы объединили две таблицы в одну - **df** - и также проверили ее на дубликаты (не обнаружили). Удостоверились, что обладаем данными за период с **7 октября** по **3 ноября 2019 года**."
      ]
    },
    {
      "cell_type": "markdown",
      "metadata": {
        "id": "1g8PyUKJQqwF",
        "pycharm": {
          "name": "#%% md\n"
        }
      },
      "source": [
        "Мы проверили данные на аномальные значения (с помощью сводной таблицы и метода ***describe***) и выяснили, что у нас есть данные о действиях *4293 пользователей* нашего приложения, и в среднем на пользователя приходится *17 событий*. Для наглядности мы построили диаграмму размаха и по ней увидели, что выбросов много и они доходят почти до 500 (если точнее, то до 478). Медиана даже меньше среднего - *~10 событий* приходится в основном на пользователя в месяц. Однако, мы решили,что выбросов очень много и их удаление приведет к большой потере данных. "
      ]
    },
    {
      "cell_type": "markdown",
      "metadata": {
        "id": "x829tnuhQqwF",
        "pycharm": {
          "name": "#%% md\n"
        }
      },
      "source": [
        "Мы расчитали ***Retention Rate*** для всех посетителей приложения, по тепловой карте видим, что за месяц показатель упал с *1 до 0.07*. С каждой новой когортой поведение пользователей меняется."
      ]
    },
    {
      "cell_type": "markdown",
      "metadata": {
        "id": "SwsKahCXQqwF",
        "pycharm": {
          "name": "#%% md\n"
        }
      },
      "source": [
        "Мы расчитали количество сессий и время,проведенное в приложении для каждого пользователя, затем получили медиану и среднее количество сессий на пользотеля: резутаты примерно сходятся - в месяц пользователь проводит в приложении примерно *2 сессии* или 40 минут*. Для специфики нашего приложения это нормальный результат - примерно за это время пользователь может найти то,что его интресует, рассмотрть варианты и принять решение о покупке."
      ]
    },
    {
      "cell_type": "markdown",
      "metadata": {
        "id": "PXHNWSJBQqwG",
        "pycharm": {
          "name": "#%% md\n"
        }
      },
      "source": [
        "По столбчатой диаграмме мы увидели, что самым частоповторяющимся событием является *tips_show* (пользователь увидел рекомендованные объявления) - мы предположили, что рекомендации для пользователя находятся на главной странице, и, открыв приложение, пользователь автоматически попадает на них. "
      ]
    },
    {
      "cell_type": "markdown",
      "metadata": {
        "id": "a4z-b9iyQqwG",
        "pycharm": {
          "name": "#%% md\n"
        }
      },
      "source": [
        "Далее с огромным отрывом идет *photos_show* (просмотр фотографий в объявлении), хотя, следуя логике, на втором месте должен был бы идти поиск. Однако, видно, что *search* совсем не популярное событие. Мы сделали вывод, что кнопка поиска расположена в нашем приложении не совсем очевидно для пользователей (кроме *search_1*). Они гораздо охотнее просто просматривают фото. "
      ]
    },
    {
      "cell_type": "markdown",
      "metadata": {
        "id": "kYvqUIXCQqwG",
        "pycharm": {
          "name": "#%% md\n"
        }
      },
      "source": [
        "Далее с примерно одинаковыми показателями идут события *advert_open* (открытие карточки объявления), *contacts_show* (пользователь нажал на кнопку \"посмотреть номер телефона\" на карточке объявления), *map* (пользователь открыл карту размещенных объявлений) и *search_1*. Здесь мы отметили, что гораздо чаще пользователи просматривают контакты, а не совершают звонки через приложение(у события *contacts_call* совсем небольшие показатели - очевидно, пользователи либо звонят \"по-старинке\", либо (как больше принято в последнее время) используют мессенджеры)."
      ]
    },
    {
      "cell_type": "markdown",
      "metadata": {
        "id": "qituoYyMQqwG",
        "pycharm": {
          "name": "#%% md\n"
        }
      },
      "source": [
        "Мы расчитали конверсию в целевое действие(просмотр контактов): по нашим расчетам до этого события доходят *~23%* пользователей. *77%* -  достаточно большой отток от общего количества пришедших к нам пользователей. Этому может быть несколько причин:\n",
        "\n",
        "*  *пользователь \"теряется\" в большом количестве рекомендаций* - в длинной ленте объявлений пользователь может надолго \"зависнуть\" и отложить целенаправленный поиск и, соответственно, отклик на объявление;\n",
        "\n",
        "*  *управление приложением не достаточно интуитивно* - возможно, путь пользователя в приложении более \"тернист\", чем кажется, и стоит подумать над его упрощением."
      ]
    },
    {
      "cell_type": "markdown",
      "metadata": {
        "id": "DveMp2GmQqwG",
        "pycharm": {
          "name": "#%% md\n"
        }
      },
      "source": [
        "По расчитанным выше метрикам рассмотрели их поведение."
      ]
    },
    {
      "cell_type": "markdown",
      "metadata": {
        "id": "ZqRoyeJHQqwG",
        "pycharm": {
          "name": "#%% md\n"
        }
      },
      "source": [
        "Пользователей разделили на 4 группы - в зависимости от активности и целевому действию. Самая многочисленная группа - почти не пользуются приложением. \"Поставил и забыл\". Необходимо напомнить им о приложении - Пушсообщения, рассылка?\n",
        "\n",
        "Вторая по численности группа: активны, но не интересуются контактами. Возможно им либо чего то не хватает в функционале либо просто смотрят для ориентации по ценам.\n",
        "\n",
        "Третья по численности групп - наш клиент.\n",
        "\n",
        "Четвертая группа - зашла, нашла что хотела и ушла. Нужно напомнить, что в приложении еще много вещей которые их могут заинтересовать."
      ]
    },
    {
      "cell_type": "markdown",
      "metadata": {
        "id": "MtxHzyxAQqwH",
        "pycharm": {
          "name": "#%% md\n"
        }
      },
      "source": [
        "Юзеры чаще смотря рекомендации, но конверсий у них меньше (Залипают и в итоге просто перебирают). Стоит посмотреть, как работает система подбора рекомендуемых объявлений. Найти какие изменения можно реализовать и протестировать. Поиск также можно отдельно дорабатывать, работая над релевантностью выдачи, добавляя фильтры и проч."
      ]
    },
    {
      "cell_type": "markdown",
      "metadata": {
        "id": "ATOzMh0wQqwH",
        "pycharm": {
          "name": "#%% md\n"
        }
      },
      "source": [
        "Анализируя результаты расчетов групп, можно отметить следующее:\n",
        "\n",
        "*  *нужно привлекать больше пользователей с таких источников, как **Яндекс** и **Google** - эти группы показывают неплохую(по сравнению с другими группами) конверсию в просмотр контактов;*\n",
        "\n",
        "*  *группа, используящая поиск по приложению, довольно стабильна, однако следует поработать над   упрощением этой функции - сама по себе группа не очень многочислена*;\n"
      ]
    },
    {
      "cell_type": "markdown",
      "metadata": {
        "id": "GczHhxG3QqwH",
        "pycharm": {
          "name": "#%% md\n"
        }
      },
      "source": [
        "Также мы проверили гипотезы следующие гипотезы:\n",
        "\n",
        "**Н0: \"Конверсии групп Google и Яндекс в просмотр контактов равны\".**\n",
        "\n",
        "**Н0: \"Среднее время, проведенное в приложении, у групп пользователей ,совершивших целевое действие(просмотр контактов) и не совершивших его, равно\".**"
      ]
    },
    {
      "cell_type": "markdown",
      "metadata": {
        "id": "SjnDbf5qQqwH",
        "pycharm": {
          "name": "#%% md\n"
        }
      },
      "source": [
        "Гипотезу о различии конверсий у групп пользователей, пришедших с *Google* и *Яндекс*, мы проверяли с помощью **z-test-a**. Мы приняли нулевую гипотезу и сделали вывод, что *конверсии групп Google и Яндекс в просмотр контактов не различаются*."
      ]
    },
    {
      "cell_type": "markdown",
      "metadata": {
        "id": "KAwuSYHZQqwH",
        "pycharm": {
          "name": "#%% md\n"
        }
      },
      "source": [
        "Также мы сформулировали гипотезу о различии среднего времени, проведенном в приложении, у групп пользователей ,совершивших целевое действие(просмотр контактов) и не совершивших его. Эту гипотезу мы проверяли с помощью **t-test-a**. По результатам проверки мы отвергли нулевую гипотезу и сделали предположение, что среднее время, проведенное в приложении, у групп пользователей ,совершивших целевое действие(просмотр контактов) и не совершивших его, различается."
      ]
    },
    {
      "cell_type": "markdown",
      "metadata": {
        "id": "GvQ6PIwbQqwI",
        "pycharm": {
          "name": "#%% md\n"
        }
      },
      "source": [
        "### Рекомендации"
      ]
    },
    {
      "cell_type": "markdown",
      "metadata": {
        "id": "_drl7NRqQqwI",
        "pycharm": {
          "name": "#%% md\n"
        }
      },
      "source": [
        "1. *Следует обратить внимание на кнопку поиска, возможно, сделать ее рядом с рекомендациями, более заметной для пользователя* - оказывась на главной странице приложения, автоматически попадает в рекомендации. Однако, среди тех, кто использует поиск, довольная большая (по сравнению с другими группами) конверсия в просмотр контактов - то есть, используя поиск, людям важно достичь цели - найти нужную им вещь и связаться с продавцом. У пользователей, просто листающих рекомендации, может не быть цели что-то купить."
      ]
    },
    {
      "cell_type": "markdown",
      "metadata": {
        "id": "ArLSBXZ0QqwI",
        "pycharm": {
          "name": "#%% md\n"
        }
      },
      "source": [
        "2. *Поработать над привлечением большего количества пользователей* - по специфике нашего приложения можно сделать предположение, что чем быстрее пользователь нашел то,что ему нужно - тем лучше, значит мы смогли сделать его максимально удобным для поиска. Поэтому следует работать не над увеличением времени, проведенного пользователем в приложении, а над увеличением количества пользователей."
      ]
    },
    {
      "cell_type": "markdown",
      "metadata": {
        "id": "J97wsvAoQqwI",
        "pycharm": {
          "name": "#%% md\n"
        }
      },
      "source": [
        "3. *Поработать над привлечением большего количества пользователей с источника \"Google\"* - эта группа пользователей показала лучший показатель ***Retention Rate*** (коэффициент удержания), чем группа, установивших приложение через *Яндекс*. "
      ]
    },
    {
      "cell_type": "markdown",
      "metadata": {
        "id": "9p23YERfQqwI",
        "pycharm": {
          "name": "#%% md\n"
        }
      },
      "source": [
        "4. *Подумать над способами удержания старых пользователей* - например, разработать премиум - подписку, которое будет повышать в рейтинге размещенные пользователями объявления (пробный бесплатный период - 7 дней). "
      ]
    }
  ],
  "metadata": {
    "ExecuteTimeLog": [
      {
        "duration": 1555,
        "start_time": "2022-06-12T05:25:54.057Z"
      },
      {
        "duration": 282,
        "start_time": "2022-06-12T05:25:55.613Z"
      },
      {
        "duration": 473,
        "start_time": "2022-06-12T05:25:55.896Z"
      },
      {
        "duration": 28,
        "start_time": "2022-06-12T05:25:56.372Z"
      },
      {
        "duration": 17,
        "start_time": "2022-06-12T05:25:56.401Z"
      },
      {
        "duration": 56,
        "start_time": "2022-06-12T05:25:56.419Z"
      },
      {
        "duration": 13,
        "start_time": "2022-06-12T05:25:56.477Z"
      },
      {
        "duration": 107,
        "start_time": "2022-06-12T05:25:56.491Z"
      },
      {
        "duration": 4,
        "start_time": "2022-06-12T05:25:56.600Z"
      },
      {
        "duration": 10,
        "start_time": "2022-06-12T05:25:56.606Z"
      },
      {
        "duration": 7,
        "start_time": "2022-06-12T05:25:56.617Z"
      },
      {
        "duration": 19,
        "start_time": "2022-06-12T05:25:56.625Z"
      },
      {
        "duration": 38,
        "start_time": "2022-06-12T05:25:56.646Z"
      },
      {
        "duration": 11,
        "start_time": "2022-06-12T05:25:56.685Z"
      },
      {
        "duration": 21,
        "start_time": "2022-06-12T05:25:56.697Z"
      },
      {
        "duration": 5,
        "start_time": "2022-06-12T05:25:56.720Z"
      },
      {
        "duration": 23,
        "start_time": "2022-06-12T05:25:56.726Z"
      },
      {
        "duration": 23,
        "start_time": "2022-06-12T05:25:56.750Z"
      },
      {
        "duration": 15,
        "start_time": "2022-06-12T05:25:56.775Z"
      },
      {
        "duration": 26,
        "start_time": "2022-06-12T05:25:56.791Z"
      },
      {
        "duration": 16,
        "start_time": "2022-06-12T05:25:56.819Z"
      },
      {
        "duration": 9,
        "start_time": "2022-06-12T05:25:56.837Z"
      },
      {
        "duration": 12,
        "start_time": "2022-06-12T05:25:56.865Z"
      },
      {
        "duration": 19,
        "start_time": "2022-06-12T05:25:56.879Z"
      },
      {
        "duration": 9,
        "start_time": "2022-06-12T05:25:56.900Z"
      },
      {
        "duration": 12,
        "start_time": "2022-06-12T05:25:56.911Z"
      },
      {
        "duration": 10,
        "start_time": "2022-06-12T05:25:56.924Z"
      },
      {
        "duration": 50,
        "start_time": "2022-06-12T05:25:56.938Z"
      },
      {
        "duration": 12,
        "start_time": "2022-06-12T05:25:56.990Z"
      },
      {
        "duration": 19,
        "start_time": "2022-06-12T05:25:57.004Z"
      },
      {
        "duration": 19,
        "start_time": "2022-06-12T05:25:57.024Z"
      },
      {
        "duration": 20,
        "start_time": "2022-06-12T05:25:57.064Z"
      },
      {
        "duration": 10,
        "start_time": "2022-06-12T05:25:57.086Z"
      },
      {
        "duration": 23,
        "start_time": "2022-06-12T05:25:57.097Z"
      },
      {
        "duration": 44,
        "start_time": "2022-06-12T05:25:57.121Z"
      },
      {
        "duration": 38,
        "start_time": "2022-06-12T05:25:57.167Z"
      },
      {
        "duration": 19,
        "start_time": "2022-06-12T05:25:57.206Z"
      },
      {
        "duration": 6,
        "start_time": "2022-06-12T05:25:57.226Z"
      },
      {
        "duration": 39,
        "start_time": "2022-06-12T05:25:57.233Z"
      },
      {
        "duration": 5,
        "start_time": "2022-06-12T05:25:57.273Z"
      },
      {
        "duration": 12,
        "start_time": "2022-06-12T05:25:57.279Z"
      },
      {
        "duration": 7,
        "start_time": "2022-06-12T05:25:57.292Z"
      },
      {
        "duration": 7,
        "start_time": "2022-06-12T05:25:57.300Z"
      },
      {
        "duration": 20,
        "start_time": "2022-06-12T05:25:57.308Z"
      },
      {
        "duration": 411,
        "start_time": "2022-06-12T05:25:57.330Z"
      },
      {
        "duration": 39,
        "start_time": "2022-06-12T05:25:57.744Z"
      },
      {
        "duration": 19,
        "start_time": "2022-06-12T05:25:57.785Z"
      },
      {
        "duration": 1813,
        "start_time": "2022-06-12T05:25:57.805Z"
      },
      {
        "duration": 16,
        "start_time": "2022-06-12T05:25:59.619Z"
      },
      {
        "duration": 28,
        "start_time": "2022-06-12T05:25:59.637Z"
      },
      {
        "duration": 397,
        "start_time": "2022-06-12T05:25:59.667Z"
      },
      {
        "duration": 1332,
        "start_time": "2022-06-12T05:26:00.066Z"
      },
      {
        "duration": 8,
        "start_time": "2022-06-12T05:26:01.400Z"
      },
      {
        "duration": 26,
        "start_time": "2022-06-12T05:26:01.410Z"
      },
      {
        "duration": 25,
        "start_time": "2022-06-12T05:26:01.437Z"
      },
      {
        "duration": 23,
        "start_time": "2022-06-12T05:26:01.464Z"
      },
      {
        "duration": 19,
        "start_time": "2022-06-12T05:26:01.488Z"
      },
      {
        "duration": 226,
        "start_time": "2022-06-12T05:26:01.509Z"
      },
      {
        "duration": 18,
        "start_time": "2022-06-12T05:26:01.736Z"
      },
      {
        "duration": 877,
        "start_time": "2022-06-12T05:26:01.765Z"
      },
      {
        "duration": 8,
        "start_time": "2022-06-12T05:26:02.644Z"
      },
      {
        "duration": 17,
        "start_time": "2022-06-12T05:26:02.664Z"
      },
      {
        "duration": 7,
        "start_time": "2022-06-12T05:26:02.683Z"
      },
      {
        "duration": 4,
        "start_time": "2022-06-12T05:26:02.692Z"
      },
      {
        "duration": 11,
        "start_time": "2022-06-12T05:26:02.698Z"
      },
      {
        "duration": 335,
        "start_time": "2022-06-12T05:26:02.711Z"
      },
      {
        "duration": 20,
        "start_time": "2022-06-12T05:26:03.048Z"
      },
      {
        "duration": 6,
        "start_time": "2022-06-12T05:26:03.070Z"
      },
      {
        "duration": 16,
        "start_time": "2022-06-12T05:26:03.078Z"
      },
      {
        "duration": 12,
        "start_time": "2022-06-12T05:26:03.095Z"
      },
      {
        "duration": 81,
        "start_time": "2022-06-12T05:26:03.109Z"
      },
      {
        "duration": 304,
        "start_time": "2022-06-12T05:26:03.192Z"
      },
      {
        "duration": 67,
        "start_time": "2022-06-12T05:26:03.498Z"
      },
      {
        "duration": 5,
        "start_time": "2022-06-12T05:26:03.567Z"
      },
      {
        "duration": 13,
        "start_time": "2022-06-12T05:26:03.574Z"
      },
      {
        "duration": 28,
        "start_time": "2022-06-12T05:26:03.589Z"
      },
      {
        "duration": 50,
        "start_time": "2022-06-12T05:26:03.619Z"
      },
      {
        "duration": 14,
        "start_time": "2022-06-12T05:26:03.670Z"
      },
      {
        "duration": 9,
        "start_time": "2022-06-12T05:26:03.686Z"
      },
      {
        "duration": 13,
        "start_time": "2022-06-12T05:26:03.697Z"
      },
      {
        "duration": 1073,
        "start_time": "2022-06-12T05:26:03.711Z"
      },
      {
        "duration": 800,
        "start_time": "2022-06-12T05:26:04.792Z"
      },
      {
        "duration": 11,
        "start_time": "2022-06-12T05:26:05.593Z"
      },
      {
        "duration": 789,
        "start_time": "2022-06-12T05:26:05.605Z"
      },
      {
        "duration": 6,
        "start_time": "2022-06-12T05:26:06.395Z"
      },
      {
        "duration": 6,
        "start_time": "2022-06-12T05:26:06.403Z"
      },
      {
        "duration": 7,
        "start_time": "2022-06-12T05:26:06.410Z"
      },
      {
        "duration": 466,
        "start_time": "2022-06-12T05:26:06.419Z"
      },
      {
        "duration": 8,
        "start_time": "2022-06-12T05:26:06.887Z"
      },
      {
        "duration": 5,
        "start_time": "2022-06-12T05:26:06.897Z"
      },
      {
        "duration": 13,
        "start_time": "2022-06-12T05:26:06.903Z"
      },
      {
        "duration": 1090,
        "start_time": "2022-06-12T05:26:06.918Z"
      },
      {
        "duration": 7,
        "start_time": "2022-06-12T05:26:08.009Z"
      },
      {
        "duration": 6,
        "start_time": "2022-06-12T05:26:08.017Z"
      },
      {
        "duration": 10,
        "start_time": "2022-06-12T05:26:08.025Z"
      },
      {
        "duration": 557,
        "start_time": "2022-06-12T05:26:08.037Z"
      },
      {
        "duration": 9,
        "start_time": "2022-06-12T05:26:08.601Z"
      },
      {
        "duration": 4,
        "start_time": "2022-06-12T05:26:08.612Z"
      },
      {
        "duration": 12,
        "start_time": "2022-06-12T05:26:08.618Z"
      },
      {
        "duration": 870,
        "start_time": "2022-06-12T05:26:08.632Z"
      },
      {
        "duration": 12,
        "start_time": "2022-06-12T05:26:09.504Z"
      },
      {
        "duration": 8,
        "start_time": "2022-06-12T05:26:09.517Z"
      },
      {
        "duration": 13,
        "start_time": "2022-06-12T05:26:09.526Z"
      },
      {
        "duration": 1441,
        "start_time": "2022-06-12T05:26:09.540Z"
      },
      {
        "duration": 7,
        "start_time": "2022-06-12T05:26:10.983Z"
      },
      {
        "duration": 5,
        "start_time": "2022-06-12T05:26:10.992Z"
      },
      {
        "duration": 13,
        "start_time": "2022-06-12T05:26:10.999Z"
      },
      {
        "duration": 1068,
        "start_time": "2022-06-12T05:26:11.014Z"
      },
      {
        "duration": 44,
        "start_time": "2022-06-12T05:26:12.083Z"
      },
      {
        "duration": 7,
        "start_time": "2022-06-12T05:26:12.128Z"
      },
      {
        "duration": 10,
        "start_time": "2022-06-12T05:26:12.136Z"
      },
      {
        "duration": 32,
        "start_time": "2022-06-12T05:26:12.147Z"
      },
      {
        "duration": 11,
        "start_time": "2022-06-12T05:26:12.181Z"
      },
      {
        "duration": 131,
        "start_time": "2022-06-12T05:26:12.194Z"
      },
      {
        "duration": 196,
        "start_time": "2022-06-12T05:26:12.328Z"
      },
      {
        "duration": 41,
        "start_time": "2022-06-12T05:26:12.525Z"
      },
      {
        "duration": 22,
        "start_time": "2022-06-12T05:26:12.568Z"
      },
      {
        "duration": 26,
        "start_time": "2022-06-12T05:26:12.591Z"
      },
      {
        "duration": 5,
        "start_time": "2022-06-12T05:26:12.619Z"
      },
      {
        "duration": 1525,
        "start_time": "2022-06-12T19:30:24.191Z"
      },
      {
        "duration": 201,
        "start_time": "2022-06-12T19:30:25.718Z"
      },
      {
        "duration": 69,
        "start_time": "2022-06-12T19:30:25.921Z"
      },
      {
        "duration": 29,
        "start_time": "2022-06-12T19:30:25.993Z"
      },
      {
        "duration": 17,
        "start_time": "2022-06-12T19:30:26.024Z"
      },
      {
        "duration": 38,
        "start_time": "2022-06-12T19:30:26.042Z"
      },
      {
        "duration": 13,
        "start_time": "2022-06-12T19:30:26.082Z"
      },
      {
        "duration": 99,
        "start_time": "2022-06-12T19:30:26.096Z"
      },
      {
        "duration": 3,
        "start_time": "2022-06-12T19:30:26.196Z"
      },
      {
        "duration": 9,
        "start_time": "2022-06-12T19:30:26.201Z"
      },
      {
        "duration": 5,
        "start_time": "2022-06-12T19:30:26.211Z"
      },
      {
        "duration": 11,
        "start_time": "2022-06-12T19:30:26.217Z"
      },
      {
        "duration": 37,
        "start_time": "2022-06-12T19:30:26.230Z"
      },
      {
        "duration": 7,
        "start_time": "2022-06-12T19:30:26.269Z"
      },
      {
        "duration": 14,
        "start_time": "2022-06-12T19:30:26.278Z"
      },
      {
        "duration": 4,
        "start_time": "2022-06-12T19:30:26.294Z"
      },
      {
        "duration": 11,
        "start_time": "2022-06-12T19:30:26.299Z"
      },
      {
        "duration": 22,
        "start_time": "2022-06-12T19:30:26.311Z"
      },
      {
        "duration": 40,
        "start_time": "2022-06-12T19:30:26.335Z"
      },
      {
        "duration": 27,
        "start_time": "2022-06-12T19:30:26.377Z"
      },
      {
        "duration": 18,
        "start_time": "2022-06-12T19:30:26.405Z"
      },
      {
        "duration": 10,
        "start_time": "2022-06-12T19:30:26.424Z"
      },
      {
        "duration": 33,
        "start_time": "2022-06-12T19:30:26.435Z"
      },
      {
        "duration": 29,
        "start_time": "2022-06-12T19:30:26.470Z"
      },
      {
        "duration": 10,
        "start_time": "2022-06-12T19:30:26.500Z"
      },
      {
        "duration": 12,
        "start_time": "2022-06-12T19:30:26.512Z"
      },
      {
        "duration": 13,
        "start_time": "2022-06-12T19:30:26.525Z"
      },
      {
        "duration": 39,
        "start_time": "2022-06-12T19:30:26.542Z"
      },
      {
        "duration": 11,
        "start_time": "2022-06-12T19:30:26.584Z"
      },
      {
        "duration": 9,
        "start_time": "2022-06-12T19:30:26.597Z"
      },
      {
        "duration": 20,
        "start_time": "2022-06-12T19:30:26.608Z"
      },
      {
        "duration": 53,
        "start_time": "2022-06-12T19:30:26.629Z"
      },
      {
        "duration": 11,
        "start_time": "2022-06-12T19:30:26.684Z"
      },
      {
        "duration": 35,
        "start_time": "2022-06-12T19:30:26.696Z"
      },
      {
        "duration": 38,
        "start_time": "2022-06-12T19:30:26.733Z"
      },
      {
        "duration": 39,
        "start_time": "2022-06-12T19:30:26.773Z"
      },
      {
        "duration": 19,
        "start_time": "2022-06-12T19:30:26.813Z"
      },
      {
        "duration": 33,
        "start_time": "2022-06-12T19:30:26.834Z"
      },
      {
        "duration": 17,
        "start_time": "2022-06-12T19:30:26.869Z"
      },
      {
        "duration": 5,
        "start_time": "2022-06-12T19:30:26.887Z"
      },
      {
        "duration": 10,
        "start_time": "2022-06-12T19:30:26.893Z"
      },
      {
        "duration": 11,
        "start_time": "2022-06-12T19:30:26.904Z"
      },
      {
        "duration": 5,
        "start_time": "2022-06-12T19:30:26.916Z"
      },
      {
        "duration": 14,
        "start_time": "2022-06-12T19:30:26.923Z"
      },
      {
        "duration": 408,
        "start_time": "2022-06-12T19:30:26.939Z"
      },
      {
        "duration": 43,
        "start_time": "2022-06-12T19:30:27.349Z"
      },
      {
        "duration": 22,
        "start_time": "2022-06-12T19:30:27.395Z"
      },
      {
        "duration": 1821,
        "start_time": "2022-06-12T19:30:27.419Z"
      },
      {
        "duration": 23,
        "start_time": "2022-06-12T19:30:29.242Z"
      },
      {
        "duration": 23,
        "start_time": "2022-06-12T19:30:29.267Z"
      },
      {
        "duration": 390,
        "start_time": "2022-06-12T19:30:29.291Z"
      },
      {
        "duration": 1385,
        "start_time": "2022-06-12T19:30:29.683Z"
      },
      {
        "duration": 8,
        "start_time": "2022-06-12T19:30:31.070Z"
      },
      {
        "duration": 23,
        "start_time": "2022-06-12T19:30:31.080Z"
      },
      {
        "duration": 20,
        "start_time": "2022-06-12T19:30:31.105Z"
      },
      {
        "duration": 24,
        "start_time": "2022-06-12T19:30:31.127Z"
      },
      {
        "duration": 25,
        "start_time": "2022-06-12T19:30:31.153Z"
      },
      {
        "duration": 237,
        "start_time": "2022-06-12T19:30:31.180Z"
      },
      {
        "duration": 3,
        "start_time": "2022-06-12T19:30:31.418Z"
      },
      {
        "duration": 167,
        "start_time": "2022-06-12T19:30:31.423Z"
      },
      {
        "duration": 886,
        "start_time": "2022-06-12T19:30:31.592Z"
      },
      {
        "duration": 10,
        "start_time": "2022-06-12T19:30:32.480Z"
      },
      {
        "duration": 21,
        "start_time": "2022-06-12T19:30:32.492Z"
      },
      {
        "duration": 11,
        "start_time": "2022-06-12T19:30:32.515Z"
      },
      {
        "duration": 9,
        "start_time": "2022-06-12T19:30:32.527Z"
      },
      {
        "duration": 28,
        "start_time": "2022-06-12T19:30:32.537Z"
      },
      {
        "duration": 10,
        "start_time": "2022-06-12T19:30:32.567Z"
      },
      {
        "duration": 325,
        "start_time": "2022-06-12T19:30:32.579Z"
      },
      {
        "duration": 9,
        "start_time": "2022-06-12T19:30:32.906Z"
      },
      {
        "duration": 9,
        "start_time": "2022-06-12T19:30:32.916Z"
      },
      {
        "duration": 17,
        "start_time": "2022-06-12T19:30:32.927Z"
      },
      {
        "duration": 54,
        "start_time": "2022-06-12T19:30:32.946Z"
      },
      {
        "duration": 15,
        "start_time": "2022-06-12T19:30:33.002Z"
      },
      {
        "duration": 14,
        "start_time": "2022-06-12T19:30:33.019Z"
      },
      {
        "duration": 307,
        "start_time": "2022-06-12T19:30:33.035Z"
      },
      {
        "duration": 13,
        "start_time": "2022-06-12T19:30:33.346Z"
      },
      {
        "duration": 11,
        "start_time": "2022-06-12T19:30:33.361Z"
      },
      {
        "duration": 3,
        "start_time": "2022-06-12T19:30:33.374Z"
      },
      {
        "duration": 44476,
        "start_time": "2022-06-12T19:30:33.378Z"
      },
      {
        "duration": 43860,
        "start_time": "2022-06-12T19:31:17.855Z"
      },
      {
        "duration": 43253,
        "start_time": "2022-06-12T19:32:01.717Z"
      },
      {
        "duration": 45631,
        "start_time": "2022-06-12T19:32:44.976Z"
      },
      {
        "duration": 42,
        "start_time": "2022-06-12T19:33:30.609Z"
      },
      {
        "duration": 23,
        "start_time": "2022-06-12T19:33:30.653Z"
      },
      {
        "duration": 47,
        "start_time": "2022-06-12T19:33:30.678Z"
      },
      {
        "duration": 6,
        "start_time": "2022-06-12T19:33:30.727Z"
      },
      {
        "duration": 1271,
        "start_time": "2022-06-12T19:33:30.735Z"
      },
      {
        "duration": 12,
        "start_time": "2022-06-12T19:33:32.007Z"
      },
      {
        "duration": 28,
        "start_time": "2022-06-12T19:33:32.021Z"
      },
      {
        "duration": 13,
        "start_time": "2022-06-12T19:33:32.064Z"
      },
      {
        "duration": 27,
        "start_time": "2022-06-12T19:33:32.079Z"
      },
      {
        "duration": 25,
        "start_time": "2022-06-12T19:33:32.107Z"
      },
      {
        "duration": 53,
        "start_time": "2022-06-12T19:33:32.134Z"
      },
      {
        "duration": 25,
        "start_time": "2022-06-12T19:33:32.188Z"
      },
      {
        "duration": 7,
        "start_time": "2022-06-12T19:33:32.214Z"
      },
      {
        "duration": 791,
        "start_time": "2022-06-12T19:33:32.223Z"
      },
      {
        "duration": 19,
        "start_time": "2022-06-12T19:33:33.016Z"
      },
      {
        "duration": 28,
        "start_time": "2022-06-12T19:33:33.037Z"
      },
      {
        "duration": 9,
        "start_time": "2022-06-12T19:33:33.066Z"
      },
      {
        "duration": 35,
        "start_time": "2022-06-12T19:33:33.076Z"
      },
      {
        "duration": 26,
        "start_time": "2022-06-12T19:33:33.113Z"
      },
      {
        "duration": 767,
        "start_time": "2022-06-12T19:33:33.140Z"
      },
      {
        "duration": 41,
        "start_time": "2022-06-12T19:33:33.909Z"
      },
      {
        "duration": 19,
        "start_time": "2022-06-12T19:33:33.952Z"
      },
      {
        "duration": 13,
        "start_time": "2022-06-12T19:33:33.973Z"
      },
      {
        "duration": 2,
        "start_time": "2022-06-12T19:33:33.988Z"
      },
      {
        "duration": 4,
        "start_time": "2022-06-12T19:33:33.992Z"
      },
      {
        "duration": 16,
        "start_time": "2022-06-12T19:33:33.997Z"
      },
      {
        "duration": 81,
        "start_time": "2022-06-12T19:33:34.015Z"
      },
      {
        "duration": 50,
        "start_time": "2022-06-12T19:33:34.098Z"
      },
      {
        "duration": 25,
        "start_time": "2022-06-12T19:33:34.149Z"
      },
      {
        "duration": 68,
        "start_time": "2022-06-12T19:33:34.175Z"
      },
      {
        "duration": 26,
        "start_time": "2022-06-12T19:33:34.244Z"
      },
      {
        "duration": 21,
        "start_time": "2022-06-12T19:35:57.010Z"
      },
      {
        "duration": 6,
        "start_time": "2022-06-12T19:36:51.627Z"
      },
      {
        "duration": 1708,
        "start_time": "2022-06-13T13:09:50.809Z"
      },
      {
        "duration": 311,
        "start_time": "2022-06-13T13:09:52.520Z"
      },
      {
        "duration": 156,
        "start_time": "2022-06-13T13:09:52.833Z"
      },
      {
        "duration": 47,
        "start_time": "2022-06-13T13:09:52.992Z"
      },
      {
        "duration": 18,
        "start_time": "2022-06-13T13:09:53.040Z"
      },
      {
        "duration": 52,
        "start_time": "2022-06-13T13:09:53.060Z"
      },
      {
        "duration": 14,
        "start_time": "2022-06-13T13:09:53.114Z"
      },
      {
        "duration": 103,
        "start_time": "2022-06-13T13:09:53.130Z"
      },
      {
        "duration": 3,
        "start_time": "2022-06-13T13:09:53.235Z"
      },
      {
        "duration": 12,
        "start_time": "2022-06-13T13:09:53.260Z"
      },
      {
        "duration": 13,
        "start_time": "2022-06-13T13:09:53.274Z"
      },
      {
        "duration": 9,
        "start_time": "2022-06-13T13:09:53.289Z"
      },
      {
        "duration": 23,
        "start_time": "2022-06-13T13:09:53.300Z"
      },
      {
        "duration": 8,
        "start_time": "2022-06-13T13:09:53.325Z"
      },
      {
        "duration": 50,
        "start_time": "2022-06-13T13:09:53.334Z"
      },
      {
        "duration": 5,
        "start_time": "2022-06-13T13:09:53.385Z"
      },
      {
        "duration": 12,
        "start_time": "2022-06-13T13:09:53.392Z"
      },
      {
        "duration": 19,
        "start_time": "2022-06-13T13:09:53.405Z"
      },
      {
        "duration": 20,
        "start_time": "2022-06-13T13:09:53.426Z"
      },
      {
        "duration": 37,
        "start_time": "2022-06-13T13:09:53.460Z"
      },
      {
        "duration": 19,
        "start_time": "2022-06-13T13:09:53.499Z"
      },
      {
        "duration": 17,
        "start_time": "2022-06-13T13:09:53.520Z"
      },
      {
        "duration": 31,
        "start_time": "2022-06-13T13:09:53.560Z"
      },
      {
        "duration": 20,
        "start_time": "2022-06-13T13:09:53.592Z"
      },
      {
        "duration": 14,
        "start_time": "2022-06-13T13:09:53.614Z"
      },
      {
        "duration": 20,
        "start_time": "2022-06-13T13:09:53.630Z"
      },
      {
        "duration": 35,
        "start_time": "2022-06-13T13:09:53.651Z"
      },
      {
        "duration": 30,
        "start_time": "2022-06-13T13:09:53.690Z"
      },
      {
        "duration": 16,
        "start_time": "2022-06-13T13:09:53.722Z"
      },
      {
        "duration": 24,
        "start_time": "2022-06-13T13:09:53.740Z"
      },
      {
        "duration": 35,
        "start_time": "2022-06-13T13:09:53.766Z"
      },
      {
        "duration": 33,
        "start_time": "2022-06-13T13:09:53.803Z"
      },
      {
        "duration": 17,
        "start_time": "2022-06-13T13:09:53.858Z"
      },
      {
        "duration": 41,
        "start_time": "2022-06-13T13:09:53.877Z"
      },
      {
        "duration": 20,
        "start_time": "2022-06-13T13:09:53.920Z"
      },
      {
        "duration": 46,
        "start_time": "2022-06-13T13:09:53.959Z"
      },
      {
        "duration": 27,
        "start_time": "2022-06-13T13:09:54.006Z"
      },
      {
        "duration": 39,
        "start_time": "2022-06-13T13:09:54.035Z"
      },
      {
        "duration": 26,
        "start_time": "2022-06-13T13:09:54.086Z"
      },
      {
        "duration": 6,
        "start_time": "2022-06-13T13:09:54.115Z"
      },
      {
        "duration": 12,
        "start_time": "2022-06-13T13:09:54.123Z"
      },
      {
        "duration": 5,
        "start_time": "2022-06-13T13:09:54.137Z"
      },
      {
        "duration": 7,
        "start_time": "2022-06-13T13:09:54.144Z"
      },
      {
        "duration": 23,
        "start_time": "2022-06-13T13:09:54.153Z"
      },
      {
        "duration": 373,
        "start_time": "2022-06-13T13:09:54.178Z"
      },
      {
        "duration": 45,
        "start_time": "2022-06-13T13:09:54.553Z"
      },
      {
        "duration": 22,
        "start_time": "2022-06-13T13:09:54.599Z"
      },
      {
        "duration": 1983,
        "start_time": "2022-06-13T13:09:54.622Z"
      },
      {
        "duration": 19,
        "start_time": "2022-06-13T13:09:56.607Z"
      },
      {
        "duration": 37,
        "start_time": "2022-06-13T13:09:56.628Z"
      },
      {
        "duration": 479,
        "start_time": "2022-06-13T13:09:56.667Z"
      },
      {
        "duration": 1550,
        "start_time": "2022-06-13T13:09:57.148Z"
      },
      {
        "duration": 8,
        "start_time": "2022-06-13T13:09:58.700Z"
      },
      {
        "duration": 11,
        "start_time": "2022-06-13T13:09:58.710Z"
      },
      {
        "duration": 5,
        "start_time": "2022-06-13T13:09:58.723Z"
      },
      {
        "duration": 30,
        "start_time": "2022-06-13T13:09:58.729Z"
      },
      {
        "duration": 35,
        "start_time": "2022-06-13T13:09:58.762Z"
      },
      {
        "duration": 282,
        "start_time": "2022-06-13T13:09:58.798Z"
      },
      {
        "duration": 3,
        "start_time": "2022-06-13T13:09:59.081Z"
      },
      {
        "duration": 193,
        "start_time": "2022-06-13T13:09:59.086Z"
      },
      {
        "duration": 924,
        "start_time": "2022-06-13T13:09:59.281Z"
      },
      {
        "duration": 8,
        "start_time": "2022-06-13T13:10:00.207Z"
      },
      {
        "duration": 24,
        "start_time": "2022-06-13T13:10:00.217Z"
      },
      {
        "duration": 21,
        "start_time": "2022-06-13T13:10:00.243Z"
      },
      {
        "duration": 22,
        "start_time": "2022-06-13T13:10:00.266Z"
      },
      {
        "duration": 13,
        "start_time": "2022-06-13T13:10:00.290Z"
      },
      {
        "duration": 17,
        "start_time": "2022-06-13T13:10:00.305Z"
      },
      {
        "duration": 388,
        "start_time": "2022-06-13T13:10:00.324Z"
      },
      {
        "duration": 7,
        "start_time": "2022-06-13T13:10:00.714Z"
      },
      {
        "duration": 16,
        "start_time": "2022-06-13T13:10:00.723Z"
      },
      {
        "duration": 37,
        "start_time": "2022-06-13T13:10:00.741Z"
      },
      {
        "duration": 54,
        "start_time": "2022-06-13T13:10:00.780Z"
      },
      {
        "duration": 27,
        "start_time": "2022-06-13T13:10:00.836Z"
      },
      {
        "duration": 25,
        "start_time": "2022-06-13T13:10:00.866Z"
      },
      {
        "duration": 374,
        "start_time": "2022-06-13T13:10:00.893Z"
      },
      {
        "duration": 18,
        "start_time": "2022-06-13T13:10:01.269Z"
      },
      {
        "duration": 157,
        "start_time": "2022-06-13T13:10:01.289Z"
      },
      {
        "duration": 40,
        "start_time": "2022-06-13T13:10:01.448Z"
      },
      {
        "duration": 50255,
        "start_time": "2022-06-13T13:10:01.490Z"
      },
      {
        "duration": 49130,
        "start_time": "2022-06-13T13:10:51.746Z"
      },
      {
        "duration": 47463,
        "start_time": "2022-06-13T13:11:40.878Z"
      },
      {
        "duration": 50071,
        "start_time": "2022-06-13T13:12:28.348Z"
      },
      {
        "duration": 54,
        "start_time": "2022-06-13T13:13:18.421Z"
      },
      {
        "duration": 16,
        "start_time": "2022-06-13T13:13:18.477Z"
      },
      {
        "duration": 49,
        "start_time": "2022-06-13T13:13:18.495Z"
      },
      {
        "duration": 19,
        "start_time": "2022-06-13T13:13:18.546Z"
      },
      {
        "duration": 1448,
        "start_time": "2022-06-13T13:13:18.567Z"
      },
      {
        "duration": 13,
        "start_time": "2022-06-13T13:13:20.017Z"
      },
      {
        "duration": 45,
        "start_time": "2022-06-13T13:13:20.032Z"
      },
      {
        "duration": 14,
        "start_time": "2022-06-13T13:13:20.079Z"
      },
      {
        "duration": 27,
        "start_time": "2022-06-13T13:13:20.094Z"
      },
      {
        "duration": 56,
        "start_time": "2022-06-13T13:13:20.123Z"
      },
      {
        "duration": 26,
        "start_time": "2022-06-13T13:13:20.181Z"
      },
      {
        "duration": 27,
        "start_time": "2022-06-13T13:13:20.209Z"
      },
      {
        "duration": 31,
        "start_time": "2022-06-13T13:13:20.238Z"
      },
      {
        "duration": 954,
        "start_time": "2022-06-13T13:13:20.271Z"
      },
      {
        "duration": 31,
        "start_time": "2022-06-13T13:13:21.227Z"
      },
      {
        "duration": 18,
        "start_time": "2022-06-13T13:13:21.261Z"
      },
      {
        "duration": 16,
        "start_time": "2022-06-13T13:13:21.281Z"
      },
      {
        "duration": 56,
        "start_time": "2022-06-13T13:13:21.299Z"
      },
      {
        "duration": 36,
        "start_time": "2022-06-13T13:13:21.357Z"
      },
      {
        "duration": 1037,
        "start_time": "2022-06-13T13:13:21.394Z"
      },
      {
        "duration": 56,
        "start_time": "2022-06-13T13:13:22.433Z"
      },
      {
        "duration": 12,
        "start_time": "2022-06-13T13:13:22.490Z"
      },
      {
        "duration": 40,
        "start_time": "2022-06-13T13:13:22.503Z"
      },
      {
        "duration": 4,
        "start_time": "2022-06-13T13:13:22.544Z"
      },
      {
        "duration": 11,
        "start_time": "2022-06-13T13:13:22.550Z"
      },
      {
        "duration": 29,
        "start_time": "2022-06-13T13:13:22.563Z"
      },
      {
        "duration": 81,
        "start_time": "2022-06-13T13:13:22.594Z"
      },
      {
        "duration": 65,
        "start_time": "2022-06-13T13:13:22.677Z"
      },
      {
        "duration": 33,
        "start_time": "2022-06-13T13:13:22.744Z"
      },
      {
        "duration": 84,
        "start_time": "2022-06-13T13:13:22.779Z"
      },
      {
        "duration": 10,
        "start_time": "2022-06-13T13:13:22.865Z"
      }
    ],
    "colab": {
      "collapsed_sections": [],
      "name": "mobil_app.ipynb",
      "provenance": [],
      "toc_visible": true,
      "include_colab_link": true
    },
    "kernelspec": {
      "display_name": "Python 3 (ipykernel)",
      "language": "python",
      "name": "python3"
    },
    "language_info": {
      "codemirror_mode": {
        "name": "ipython",
        "version": 3
      },
      "file_extension": ".py",
      "mimetype": "text/x-python",
      "name": "python",
      "nbconvert_exporter": "python",
      "pygments_lexer": "ipython3",
      "version": "3.9.5"
    },
    "toc": {
      "base_numbering": 1,
      "nav_menu": {},
      "number_sections": true,
      "sideBar": true,
      "skip_h1_title": true,
      "title_cell": "Table of Contents",
      "title_sidebar": "Contents",
      "toc_cell": false,
      "toc_position": {},
      "toc_section_display": true,
      "toc_window_display": false
    }
  },
  "nbformat": 4,
  "nbformat_minor": 0
}